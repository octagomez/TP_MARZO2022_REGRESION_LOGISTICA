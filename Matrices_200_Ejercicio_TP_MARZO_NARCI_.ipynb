{
  "nbformat": 4,
  "nbformat_minor": 0,
  "metadata": {
    "colab": {
      "name": "Matrices_200_Ejercicio_TP_MARZO_NARCI_.ipynb",
      "provenance": [],
      "collapsed_sections": [],
      "authorship_tag": "ABX9TyNLuwRUGvxrR26sbn86wnrA",
      "include_colab_link": true
    },
    "kernelspec": {
      "name": "python3",
      "display_name": "Python 3"
    },
    "language_info": {
      "name": "python"
    }
  },
  "cells": [
    {
      "cell_type": "markdown",
      "metadata": {
        "id": "view-in-github",
        "colab_type": "text"
      },
      "source": [
        "<a href=\"https://colab.research.google.com/github/octagomez/TP_MARZO2022_REGRESION_LOGISTICA/blob/main/Matrices_200_Ejercicio_TP_MARZO_NARCI_.ipynb\" target=\"_parent\"><img src=\"https://colab.research.google.com/assets/colab-badge.svg\" alt=\"Open In Colab\"/></a>"
      ]
    },
    {
      "cell_type": "code",
      "source": [
        "!pip install category_encoders"
      ],
      "metadata": {
        "id": "pz2fcSp7i2Uz",
        "colab": {
          "base_uri": "https://localhost:8080/"
        },
        "outputId": "b491073c-9dad-4d4a-c86a-22332f071224"
      },
      "execution_count": 1,
      "outputs": [
        {
          "output_type": "stream",
          "name": "stdout",
          "text": [
            "Collecting category_encoders\n",
            "  Downloading category_encoders-2.4.0-py2.py3-none-any.whl (86 kB)\n",
            "\u001b[?25l\r\u001b[K     |███▉                            | 10 kB 19.6 MB/s eta 0:00:01\r\u001b[K     |███████▋                        | 20 kB 19.3 MB/s eta 0:00:01\r\u001b[K     |███████████▍                    | 30 kB 11.2 MB/s eta 0:00:01\r\u001b[K     |███████████████▏                | 40 kB 10.0 MB/s eta 0:00:01\r\u001b[K     |███████████████████             | 51 kB 7.1 MB/s eta 0:00:01\r\u001b[K     |██████████████████████▊         | 61 kB 8.1 MB/s eta 0:00:01\r\u001b[K     |██████████████████████████▌     | 71 kB 8.0 MB/s eta 0:00:01\r\u001b[K     |██████████████████████████████▎ | 81 kB 8.7 MB/s eta 0:00:01\r\u001b[K     |████████████████████████████████| 86 kB 2.5 MB/s \n",
            "\u001b[?25hRequirement already satisfied: patsy>=0.5.1 in /usr/local/lib/python3.7/dist-packages (from category_encoders) (0.5.2)\n",
            "Requirement already satisfied: scikit-learn>=0.20.0 in /usr/local/lib/python3.7/dist-packages (from category_encoders) (1.0.2)\n",
            "Requirement already satisfied: numpy>=1.14.0 in /usr/local/lib/python3.7/dist-packages (from category_encoders) (1.21.6)\n",
            "Requirement already satisfied: scipy>=1.0.0 in /usr/local/lib/python3.7/dist-packages (from category_encoders) (1.4.1)\n",
            "Requirement already satisfied: statsmodels>=0.9.0 in /usr/local/lib/python3.7/dist-packages (from category_encoders) (0.10.2)\n",
            "Requirement already satisfied: pandas>=0.21.1 in /usr/local/lib/python3.7/dist-packages (from category_encoders) (1.3.5)\n",
            "Requirement already satisfied: pytz>=2017.3 in /usr/local/lib/python3.7/dist-packages (from pandas>=0.21.1->category_encoders) (2022.1)\n",
            "Requirement already satisfied: python-dateutil>=2.7.3 in /usr/local/lib/python3.7/dist-packages (from pandas>=0.21.1->category_encoders) (2.8.2)\n",
            "Requirement already satisfied: six in /usr/local/lib/python3.7/dist-packages (from patsy>=0.5.1->category_encoders) (1.15.0)\n",
            "Requirement already satisfied: joblib>=0.11 in /usr/local/lib/python3.7/dist-packages (from scikit-learn>=0.20.0->category_encoders) (1.1.0)\n",
            "Requirement already satisfied: threadpoolctl>=2.0.0 in /usr/local/lib/python3.7/dist-packages (from scikit-learn>=0.20.0->category_encoders) (3.1.0)\n",
            "Installing collected packages: category-encoders\n",
            "Successfully installed category-encoders-2.4.0\n"
          ]
        }
      ]
    },
    {
      "cell_type": "code",
      "execution_count": 2,
      "metadata": {
        "id": "dUC-por0hFcS",
        "colab": {
          "base_uri": "https://localhost:8080/"
        },
        "outputId": "f79fc974-521f-498c-8edc-5369280ce2c1"
      },
      "outputs": [
        {
          "output_type": "stream",
          "name": "stderr",
          "text": [
            "/usr/local/lib/python3.7/dist-packages/statsmodels/tools/_testing.py:19: FutureWarning: pandas.util.testing is deprecated. Use the functions in the public API at pandas.testing instead.\n",
            "  import pandas.util.testing as tm\n"
          ]
        }
      ],
      "source": [
        "import numpy as np # linear algebra\n",
        "import pandas as pd # data processing, CSV file I/O (e.g. pd.read_csv)\n",
        "import matplotlib.pyplot as plt # data visualization\n",
        "import seaborn as sns # statistical data visualization\n",
        "%matplotlib inline\n",
        "import category_encoders as ce\n"
      ]
    },
    {
      "cell_type": "markdown",
      "source": [
        "MATRIZ 200x3"
      ],
      "metadata": {
        "id": "FCWGE7p5ABaH"
      }
    },
    {
      "cell_type": "code",
      "source": [
        "# CREO UN VECTOR DE DISTRIBUCION NORMAL 20\n",
        "da = np.random.normal(loc=0, scale=1, size=100).reshape(100,1)\n",
        "da2 = np.random.normal(loc=10, scale=15, size=100).reshape(100,1)\n",
        "da = np.append(da, da2 , axis=0)\n",
        "da\n",
        "# CREO UN VECTOR DE DISTRIBUCION UNIFORME\n",
        "rd = np.random.uniform(low=0, high=1.5, size=100).reshape(100,1)\n",
        "rd2 = np.random.uniform(low=1.6, high=3, size=100).reshape(100,1)\n",
        "rd = np.append(rd, rd2 , axis=0)\n",
        "# CREO UN VECTOR DE DISTRIBUCION SESGADA\n",
        "rs =np.random.lognormal(2,3,100).reshape(100,1)\n",
        "rs2 =np.random.lognormal(0,3,100).reshape(100,1)\n",
        "rs = np.append(rs, rs2 , axis=0)"
      ],
      "metadata": {
        "id": "jILFjMipjAOK"
      },
      "execution_count": 3,
      "outputs": []
    },
    {
      "cell_type": "code",
      "source": [
        "# INCORPORO LOS DATOS A UNA MATRIZ\n",
        "# https://www.delftstack.com/es/howto/numpy/numpy-add-column/#:~:text=append()-,La%20funci%C3%B3n%20numpy.,valores%20a%20el%20array%20preexistente.\n",
        "XU = np.append(da, rd , axis=1)\n",
        "# VEO LA MATRIZ\n",
        "#print(\"VECTOR NORMAL\", da)\n",
        "#print(\"VECTOR UNIFORME\",rd)\n",
        "#print(\"MATRIZ_1\", XU)\n",
        "# INCORPORP LA TERCERA COLUMNA A LA MATRIZ\n",
        "XU_s = np.append(XU, rs , axis=1)\n",
        "#print(\"MATRIZ_2\", XU)\n",
        "XU.shape\n",
        "\n",
        "print(\"DISTRIBUCION NORMAL \\nMEDIA: \", da.mean(), \" // VARIANZA :\", da.var()  )"
      ],
      "metadata": {
        "colab": {
          "base_uri": "https://localhost:8080/"
        },
        "id": "dB2NyfqEpT0U",
        "outputId": "75e40457-be88-4170-f0c9-cae673ee8c09"
      },
      "execution_count": 4,
      "outputs": [
        {
          "output_type": "stream",
          "name": "stdout",
          "text": [
            "DISTRIBUCION NORMAL \n",
            "MEDIA:  4.730124658390332  // VARIANZA : 134.93996789061768\n"
          ]
        }
      ]
    },
    {
      "cell_type": "markdown",
      "source": [
        "## DEFINO EL VECTOR Y"
      ],
      "metadata": {
        "id": "ADxkW5n6LeN6"
      }
    },
    {
      "cell_type": "code",
      "source": [
        "# XU_s_t = XU_s.transpose()\n",
        "# XU_s_t.shape\n",
        "# y_test_t = pd.DataFrame(XU_s_t)\n",
        "# y_test_DNORMAL = pd.DataFrame(XU_s ,columns=[0])\n",
        "# print(XU_x)\n",
        "print(XU_s)"
      ],
      "metadata": {
        "id": "1lmG9m0SMnzV",
        "colab": {
          "base_uri": "https://localhost:8080/"
        },
        "outputId": "3f53de7f-1e9e-4ccd-b747-0a1c9342f30e"
      },
      "execution_count": 5,
      "outputs": [
        {
          "output_type": "stream",
          "name": "stdout",
          "text": [
            "[[ 3.92550652e-01  9.71986377e-01  3.28460435e+01]\n",
            " [ 1.40371887e-01  3.68631543e-02  7.33360380e+02]\n",
            " [-8.88887203e-01  5.05516939e-01  1.23242691e+03]\n",
            " [ 1.35946280e+00  8.07849388e-02  2.38605897e-01]\n",
            " [-3.16574132e-01  4.04905067e-01  4.42255500e-01]\n",
            " [-4.37651047e-01  8.91771943e-01  5.88196647e+01]\n",
            " [-6.03674196e-01  4.57282615e-01  4.14432586e-02]\n",
            " [-6.67940549e-02  6.90531424e-02  3.69984026e-02]\n",
            " [-9.33311947e-01  7.44089340e-01  1.37945084e+00]\n",
            " [ 3.59107120e+00  3.67642449e-01  1.30094071e-01]\n",
            " [-3.30191835e-01  7.41615356e-01  3.98289524e+01]\n",
            " [-1.01344122e+00  5.01347210e-01  1.49171244e+01]\n",
            " [ 1.14268343e+00  6.28110324e-01  1.06206515e+01]\n",
            " [-6.83632803e-01  5.13129740e-01  1.03685533e+02]\n",
            " [-3.89253624e-01  9.16578122e-01  7.39247961e-01]\n",
            " [ 7.80558511e-01  1.47194925e-01  1.23898488e+01]\n",
            " [ 3.63034595e-01  1.30935576e+00  3.25778462e+01]\n",
            " [-1.59753524e-01  1.29884189e+00  3.10263151e+00]\n",
            " [ 3.87700918e-01  1.09412855e-01  6.23736826e+01]\n",
            " [-7.63409291e-01  1.22297738e+00  2.90773694e+02]\n",
            " [-7.27360557e-01  7.22997665e-01  9.82834971e-01]\n",
            " [-8.05548024e-01  1.32020791e-01  1.30679240e+01]\n",
            " [-1.30672061e+00  9.95593261e-01  3.39581225e-02]\n",
            " [-1.27895282e+00  6.77754580e-01  1.31914785e-01]\n",
            " [-1.29898904e-01  4.12603207e-01  5.21816097e-01]\n",
            " [ 7.19098918e-01  1.42551160e+00  1.34572618e+00]\n",
            " [-7.39286069e-01  6.13506762e-01  2.40068338e+03]\n",
            " [ 4.89063695e-01  1.19930835e+00  2.05221151e+01]\n",
            " [-1.71608676e+00  1.29222599e+00  6.28070664e-02]\n",
            " [ 8.71391237e-01  3.87516446e-01  5.10417982e+01]\n",
            " [ 8.48024076e-02  3.84008322e-01  2.93906840e+00]\n",
            " [ 1.11954695e+00  1.30906347e+00  1.59525323e+03]\n",
            " [-3.09335265e-02  1.15450331e+00  3.35707441e+00]\n",
            " [ 1.85090895e+00  9.50927145e-01  5.99087728e+00]\n",
            " [-2.64489742e-01  1.35613137e+00  8.55215480e-01]\n",
            " [ 7.15458786e-01  1.25490785e+00  6.69610592e-01]\n",
            " [ 1.13870275e-02  1.00949855e+00  7.84929550e+01]\n",
            " [ 1.81419796e-01  1.09169235e+00  8.65606757e+00]\n",
            " [-6.16381257e-01  2.30044615e-01  5.33484102e-01]\n",
            " [ 8.87874692e-02  4.41689841e-01  3.09333488e-01]\n",
            " [-1.62437111e+00  9.61430542e-01  1.16284553e-02]\n",
            " [-1.26682741e+00  1.09413754e+00  1.41006099e+01]\n",
            " [-5.05944695e-01  1.41480548e+00  1.63377737e+00]\n",
            " [-9.00033088e-01  1.15584705e+00  1.59142810e+00]\n",
            " [-9.12702877e-01  1.29401176e+00  2.94806110e-02]\n",
            " [-7.96314935e-01  4.01520287e-01  6.91177618e-01]\n",
            " [ 6.95544072e-01  8.58259362e-01  8.45428144e+01]\n",
            " [ 1.40011203e+00  1.12133689e+00  3.08956307e+01]\n",
            " [-1.22414273e+00  6.47939906e-01  1.94822788e-01]\n",
            " [-3.97134681e-01  7.17075481e-01  6.37181124e+01]\n",
            " [ 5.00238104e-01  4.15501414e-01  4.66902297e+00]\n",
            " [-9.11675053e-01  5.46510225e-01  6.66882014e-02]\n",
            " [-5.34146619e-01  7.18750295e-01  1.06680527e+02]\n",
            " [ 1.77023483e-01  2.62221757e-01  5.92227026e+00]\n",
            " [ 6.44184630e-01  3.40814408e-02  4.32895440e-01]\n",
            " [ 3.81565459e-01  1.03531403e+00  7.34902214e-02]\n",
            " [-5.13692960e-01  1.88764754e-01  4.98209929e+00]\n",
            " [ 2.44556031e-01  9.84426132e-01  2.23772381e+01]\n",
            " [ 7.51403993e-01  7.70123274e-01  5.47390540e+00]\n",
            " [-1.11782548e+00  9.68926837e-01  5.96381153e+02]\n",
            " [ 1.31018299e-01  1.07720816e-01  9.90995876e-01]\n",
            " [-1.63314510e+00  1.25012643e+00  2.15951640e+01]\n",
            " [ 2.33113744e+00  5.94470870e-01  3.50123061e+01]\n",
            " [-6.55490711e-01  8.81611469e-01  7.36574075e-01]\n",
            " [-2.41857167e-02  1.03637509e+00  5.18697115e+01]\n",
            " [-1.66914682e-02  1.07747378e+00  3.60134664e+01]\n",
            " [ 7.68365633e-01  1.08140682e-01  2.27771708e+02]\n",
            " [ 4.28585960e-01  3.76666078e-01  1.58476948e+00]\n",
            " [-8.76261234e-01  1.04150586e+00  7.88811072e+00]\n",
            " [ 7.09759512e-01  5.97393055e-01  5.02367754e-01]\n",
            " [-1.61797044e+00  1.20200336e+00  6.11489675e+03]\n",
            " [-1.52356003e+00  6.46141877e-01  2.24760047e+00]\n",
            " [-7.85628850e-01  1.01285287e+00  1.16515308e+01]\n",
            " [ 3.34883558e-01  3.35260081e-01  4.18156758e+01]\n",
            " [-8.05710249e-01  9.60227544e-01  5.87086601e+00]\n",
            " [-9.60738160e-02  1.30193414e+00  1.59168638e+01]\n",
            " [-9.90388064e-03  1.10503036e+00  1.61428685e+01]\n",
            " [-3.75132564e-01  1.24364667e+00  8.50554532e+01]\n",
            " [-1.76991528e+00  1.04630592e+00  4.02385358e+02]\n",
            " [-3.18494680e-02  1.09412167e+00  3.11562315e+01]\n",
            " [ 2.13378651e+00  1.31650572e+00  4.66875420e+00]\n",
            " [ 4.61940106e-02  7.89073379e-01  3.36595815e+02]\n",
            " [ 1.37590490e+00  1.36295630e+00  6.53379669e+00]\n",
            " [ 8.31033175e-01  7.02608544e-01  1.13483483e-01]\n",
            " [-1.98435375e+00  3.33007226e-02  1.34425941e+01]\n",
            " [ 6.82754774e-01  1.00625994e+00  1.71437216e+00]\n",
            " [-9.52901316e-01  7.13794623e-01  2.14238869e+01]\n",
            " [ 1.52275578e+00  2.10605403e-01  5.72477833e+00]\n",
            " [ 3.68427640e-01  1.43792908e+00  6.40366799e-01]\n",
            " [ 7.17781545e-01  1.04061817e+00  2.90378338e+02]\n",
            " [ 1.49413886e+00  1.33454269e+00  1.30392765e+03]\n",
            " [ 2.24096024e-01  1.43449170e-01  1.07860318e+00]\n",
            " [-1.18300610e-01  1.01719254e+00  1.67557348e+02]\n",
            " [ 5.32706605e-01  9.33078515e-02  2.67085415e+01]\n",
            " [ 2.45226878e-01  2.16544966e-02  1.33609666e+02]\n",
            " [ 8.35409113e-01  7.53686726e-02  1.04184862e+01]\n",
            " [ 9.00258384e-03  1.26509914e+00  2.21924900e+01]\n",
            " [-6.00792935e-01  2.03296129e-01  9.71122605e+00]\n",
            " [-5.56399935e-01  5.57216614e-01  1.28489912e+00]\n",
            " [ 6.42185819e-01  4.56379460e-01  1.75937481e+01]\n",
            " [ 4.02844026e+01  1.70193641e+00  1.49554143e+02]\n",
            " [-1.74181488e+01  1.87524064e+00  1.17039448e+01]\n",
            " [ 1.85517581e+01  2.59548106e+00  2.13815162e+02]\n",
            " [-2.26161101e+00  2.76449358e+00  3.61922227e-01]\n",
            " [ 1.91087114e+01  2.01348238e+00  6.38199411e-01]\n",
            " [ 1.00459570e+01  2.24744999e+00  1.26397392e-02]\n",
            " [ 2.18996423e+01  2.86740128e+00  1.68942020e-02]\n",
            " [ 8.96135168e+00  2.60109930e+00  4.28421380e+00]\n",
            " [ 9.95232416e+00  2.46801039e+00  5.07866775e-02]\n",
            " [ 6.76424731e-01  1.88098525e+00  1.14508947e+01]\n",
            " [-1.12970497e+00  2.40525107e+00  5.44901716e-01]\n",
            " [ 6.45348513e+00  2.51668820e+00  1.68055278e+01]\n",
            " [ 9.39782863e+00  2.08997502e+00  7.29534549e-01]\n",
            " [ 2.11730055e+01  2.49057188e+00  1.98374256e+01]\n",
            " [ 1.78359476e+01  2.06252953e+00  3.74049898e-01]\n",
            " [ 4.47293873e+01  2.51251948e+00  2.26989504e+00]\n",
            " [ 3.06613540e+01  2.95664052e+00  1.40431183e+01]\n",
            " [ 4.09404829e+01  2.09698906e+00  1.97295315e+00]\n",
            " [ 2.64750933e+01  2.63610004e+00  1.28404303e-02]\n",
            " [ 5.14955597e+00  2.00270778e+00  5.53129509e-01]\n",
            " [ 2.92919116e+00  2.64507450e+00  6.49662062e-01]\n",
            " [-5.76720986e+00  2.63452662e+00  2.04022346e+00]\n",
            " [-2.10630121e+00  2.59083535e+00  1.00552799e-01]\n",
            " [-2.28773044e+01  2.17987942e+00  1.20521605e+02]\n",
            " [ 2.72761082e+01  1.79075467e+00  2.66274339e+02]\n",
            " [-6.07469687e+00  1.80270149e+00  8.71260366e-01]\n",
            " [-2.71692701e+00  2.47110225e+00  1.90965227e-01]\n",
            " [-8.60987238e+00  1.72598788e+00  9.85370105e+00]\n",
            " [ 8.97077709e+00  2.71835348e+00  6.35355431e-02]\n",
            " [ 1.61754250e+01  2.36777880e+00  2.49258177e+01]\n",
            " [-7.33439348e+00  2.21194930e+00  3.13602590e+00]\n",
            " [ 9.52492556e+00  2.42232803e+00  4.62980316e+00]\n",
            " [ 5.12249868e+00  1.74519045e+00  2.05515593e+01]\n",
            " [ 1.39482950e+01  1.82940970e+00  2.92385693e+00]\n",
            " [-1.56142462e+01  2.81045744e+00  4.43552217e-01]\n",
            " [-5.79644363e+00  2.12255905e+00  4.61560706e-01]\n",
            " [ 3.71470882e-01  2.98716250e+00  1.44528441e+02]\n",
            " [ 1.03858494e+01  2.51115939e+00  2.74237276e+00]\n",
            " [ 3.64925779e+00  2.41818656e+00  2.00277211e+00]\n",
            " [-3.14404427e+00  2.06346314e+00  7.06256569e-01]\n",
            " [ 2.05485783e+01  2.71107868e+00  6.27709531e+01]\n",
            " [ 4.02735116e+00  1.88506544e+00  7.67083534e+00]\n",
            " [ 7.40426653e-01  1.66326223e+00  4.52139622e-02]\n",
            " [ 3.06217577e+01  2.13879068e+00  2.14097245e-01]\n",
            " [ 2.39831892e+00  1.92562611e+00  8.81504713e+01]\n",
            " [-1.37655547e+01  2.00932450e+00  4.91274601e-02]\n",
            " [-2.90161632e+00  2.96048827e+00  6.78020781e-02]\n",
            " [ 1.83876694e+01  1.84920324e+00  1.62061608e+00]\n",
            " [ 1.00180562e+01  2.21313128e+00  1.99922029e-01]\n",
            " [ 1.87344556e+01  2.93447770e+00  3.33084163e-02]\n",
            " [ 1.04537757e+01  2.66858029e+00  4.20978851e+00]\n",
            " [ 6.90782380e+00  2.55717539e+00  4.68084169e-02]\n",
            " [-9.26867764e+00  2.22535124e+00  6.06996705e-02]\n",
            " [-2.57774567e+01  2.98689486e+00  4.99195624e-02]\n",
            " [ 1.90220373e+00  2.46345343e+00  1.71347416e-01]\n",
            " [ 6.01098984e+00  2.80758656e+00  4.87459520e+02]\n",
            " [ 7.58094390e+00  2.85148636e+00  2.82266153e-04]\n",
            " [ 2.66087345e+01  1.84716809e+00  1.36884059e+00]\n",
            " [ 6.17288655e+00  2.78119207e+00  8.02128012e-01]\n",
            " [-1.87003666e+01  1.67791721e+00  1.13929031e+01]\n",
            " [ 4.01103789e+01  2.72311603e+00  4.48527852e+00]\n",
            " [ 5.11893577e-01  1.76063555e+00  1.16252145e+00]\n",
            " [ 3.79177012e+00  2.80462697e+00  1.31771413e+00]\n",
            " [ 3.05139905e+01  2.25931514e+00  2.38692913e-02]\n",
            " [ 1.41340951e+01  2.92610916e+00  6.69855308e-02]\n",
            " [ 2.31874152e+01  2.60330269e+00  6.81864704e+00]\n",
            " [ 3.02491512e+01  2.41861121e+00  3.41267168e-01]\n",
            " [ 3.91911697e+00  1.88082788e+00  4.21627998e+02]\n",
            " [ 1.33210271e+01  2.99029056e+00  2.54777548e+00]\n",
            " [ 2.01505620e+01  2.15845683e+00  1.06055825e+01]\n",
            " [ 5.42407015e+00  1.95387903e+00  3.36509517e+01]\n",
            " [ 2.97578471e+01  2.72287576e+00  3.55164843e-04]\n",
            " [ 1.81052219e+01  2.64419622e+00  9.42122833e+00]\n",
            " [ 3.09991148e+01  1.78879297e+00  3.95310589e+00]\n",
            " [-1.32490456e+01  1.96008508e+00  9.62490138e+01]\n",
            " [-2.59248308e+01  2.98248913e+00  2.63912196e+00]\n",
            " [ 2.20908522e+01  2.44900300e+00  1.44607247e+01]\n",
            " [ 1.49093862e+01  2.94309900e+00  6.46879542e-01]\n",
            " [ 5.34229176e+00  2.03348388e+00  3.10679230e+02]\n",
            " [ 1.11450307e+01  2.53846813e+00  1.07839381e+02]\n",
            " [ 1.21094018e+01  1.80259194e+00  1.62354428e+00]\n",
            " [ 2.52909598e+00  2.73245914e+00  1.14925242e+01]\n",
            " [ 2.55874134e+01  2.41645876e+00  2.27020931e+00]\n",
            " [ 1.44518208e+01  1.82721075e+00  6.79480659e+00]\n",
            " [ 2.53957987e+01  2.96320055e+00  6.72594215e-01]\n",
            " [-2.54338636e-01  2.77088415e+00  2.31734762e-01]\n",
            " [-4.41835701e+00  2.00464088e+00  4.49285743e-02]\n",
            " [ 1.00336844e+01  2.57114822e+00  2.23591681e+01]\n",
            " [ 4.19905342e+01  1.71549882e+00  3.30736414e-01]\n",
            " [ 2.40723472e+01  2.46819118e+00  7.82483583e+01]\n",
            " [ 3.29440921e+00  2.76715287e+00  2.91600507e-01]\n",
            " [-1.37627142e+00  2.07564475e+00  2.00691333e+00]\n",
            " [ 2.46022778e+01  1.90233342e+00  1.50608105e+00]\n",
            " [ 1.53637519e+01  2.88338347e+00  1.29004014e+01]\n",
            " [-6.38048692e+00  2.04580397e+00  9.63322906e-01]\n",
            " [ 1.95650196e+01  2.67902057e+00  9.83995767e-02]\n",
            " [-2.71876342e+00  2.19815418e+00  1.58519094e+00]\n",
            " [ 1.87924612e+01  2.61439840e+00  1.64078748e-01]\n",
            " [ 3.69967646e+00  2.17481672e+00  9.27914386e-02]\n",
            " [ 1.45884409e+01  2.13459814e+00  2.10059379e+00]]\n"
          ]
        }
      ]
    },
    {
      "cell_type": "code",
      "source": [
        "y_20 =np.array([0,0,0,0,0,0,0,0,0,0,\n",
        "                0,0,0,0,0,0,0,0,0,0,\n",
        "                0,0,0,0,0,0,0,0,0,0,\n",
        "                0,0,0,0,0,0,0,0,0,0,\n",
        "                0,0,0,0,0,0,0,0,0,0,\n",
        "                0,0,0,0,0,0,0,0,0,0,\n",
        "                0,0,0,0,0,0,0,0,0,0,\n",
        "                0,0,0,0,0,0,0,0,0,0,\n",
        "                0,0,0,0,0,0,0,0,0,0,\n",
        "                0,0,0,0,0,0,0,0,0,0,\n",
        "                1,1,1,1,1,1,1,1,1,1,\n",
        "                1,1,1,1,1,1,1,1,1,1,\n",
        "                1,1,1,1,1,1,1,1,1,1,\n",
        "                1,1,1,1,1,1,1,1,1,1,\n",
        "                1,1,1,1,1,1,1,1,1,1,\n",
        "                1,1,1,1,1,1,1,1,1,1,\n",
        "                1,1,1,1,1,1,1,1,1,1,\n",
        "                1,1,1,1,1,1,1,1,1,1,\n",
        "                1,1,1,1,1,1,1,1,1,1,\n",
        "                1,1,1,1,1,1,1,1,1,1\n",
        "                ])"
      ],
      "metadata": {
        "id": "_YPbKz-Wt5SK"
      },
      "execution_count": 6,
      "outputs": []
    },
    {
      "cell_type": "code",
      "source": [
        "print(da.shape)\n",
        "print(y_20.shape)"
      ],
      "metadata": {
        "colab": {
          "base_uri": "https://localhost:8080/"
        },
        "id": "lbkteFKquNjq",
        "outputId": "f9489ae3-65bb-4e4b-d6cb-a48ebc868120"
      },
      "execution_count": 7,
      "outputs": [
        {
          "output_type": "stream",
          "name": "stdout",
          "text": [
            "(200, 1)\n",
            "(200,)\n"
          ]
        }
      ]
    },
    {
      "cell_type": "code",
      "source": [
        "# Asi veremos información estadística básica de nuestro set de datos. La Media, el desvío estándar, \n",
        "# valores mínimo y máximo de cada característica:\n",
        "# VAMOS A CONVERTIR LA MATRIZ DE NP a UN DF \n",
        "df = pd.DataFrame(XU_s)\n",
        "df.describe()"
      ],
      "metadata": {
        "colab": {
          "base_uri": "https://localhost:8080/",
          "height": 300
        },
        "id": "pasQQJkv-4Rq",
        "outputId": "de0d5b94-a53c-4189-9198-11cdaeb83bee"
      },
      "execution_count": 8,
      "outputs": [
        {
          "output_type": "execute_result",
          "data": {
            "text/plain": [
              "                0           1            2\n",
              "count  200.000000  200.000000   200.000000\n",
              "mean     4.730125    1.553160   100.722122\n",
              "std     11.645517    0.901088   496.878304\n",
              "min    -25.924831    0.021654     0.000282\n",
              "25%     -0.730342    0.763615     0.516954\n",
              "50%      0.506066    1.550596     3.119329\n",
              "75%      9.077540    2.418293    22.234160\n",
              "max     44.729387    2.990291  6114.896754"
            ],
            "text/html": [
              "\n",
              "  <div id=\"df-bf154196-ace5-463f-a184-9ad5bf567bab\">\n",
              "    <div class=\"colab-df-container\">\n",
              "      <div>\n",
              "<style scoped>\n",
              "    .dataframe tbody tr th:only-of-type {\n",
              "        vertical-align: middle;\n",
              "    }\n",
              "\n",
              "    .dataframe tbody tr th {\n",
              "        vertical-align: top;\n",
              "    }\n",
              "\n",
              "    .dataframe thead th {\n",
              "        text-align: right;\n",
              "    }\n",
              "</style>\n",
              "<table border=\"1\" class=\"dataframe\">\n",
              "  <thead>\n",
              "    <tr style=\"text-align: right;\">\n",
              "      <th></th>\n",
              "      <th>0</th>\n",
              "      <th>1</th>\n",
              "      <th>2</th>\n",
              "    </tr>\n",
              "  </thead>\n",
              "  <tbody>\n",
              "    <tr>\n",
              "      <th>count</th>\n",
              "      <td>200.000000</td>\n",
              "      <td>200.000000</td>\n",
              "      <td>200.000000</td>\n",
              "    </tr>\n",
              "    <tr>\n",
              "      <th>mean</th>\n",
              "      <td>4.730125</td>\n",
              "      <td>1.553160</td>\n",
              "      <td>100.722122</td>\n",
              "    </tr>\n",
              "    <tr>\n",
              "      <th>std</th>\n",
              "      <td>11.645517</td>\n",
              "      <td>0.901088</td>\n",
              "      <td>496.878304</td>\n",
              "    </tr>\n",
              "    <tr>\n",
              "      <th>min</th>\n",
              "      <td>-25.924831</td>\n",
              "      <td>0.021654</td>\n",
              "      <td>0.000282</td>\n",
              "    </tr>\n",
              "    <tr>\n",
              "      <th>25%</th>\n",
              "      <td>-0.730342</td>\n",
              "      <td>0.763615</td>\n",
              "      <td>0.516954</td>\n",
              "    </tr>\n",
              "    <tr>\n",
              "      <th>50%</th>\n",
              "      <td>0.506066</td>\n",
              "      <td>1.550596</td>\n",
              "      <td>3.119329</td>\n",
              "    </tr>\n",
              "    <tr>\n",
              "      <th>75%</th>\n",
              "      <td>9.077540</td>\n",
              "      <td>2.418293</td>\n",
              "      <td>22.234160</td>\n",
              "    </tr>\n",
              "    <tr>\n",
              "      <th>max</th>\n",
              "      <td>44.729387</td>\n",
              "      <td>2.990291</td>\n",
              "      <td>6114.896754</td>\n",
              "    </tr>\n",
              "  </tbody>\n",
              "</table>\n",
              "</div>\n",
              "      <button class=\"colab-df-convert\" onclick=\"convertToInteractive('df-bf154196-ace5-463f-a184-9ad5bf567bab')\"\n",
              "              title=\"Convert this dataframe to an interactive table.\"\n",
              "              style=\"display:none;\">\n",
              "        \n",
              "  <svg xmlns=\"http://www.w3.org/2000/svg\" height=\"24px\"viewBox=\"0 0 24 24\"\n",
              "       width=\"24px\">\n",
              "    <path d=\"M0 0h24v24H0V0z\" fill=\"none\"/>\n",
              "    <path d=\"M18.56 5.44l.94 2.06.94-2.06 2.06-.94-2.06-.94-.94-2.06-.94 2.06-2.06.94zm-11 1L8.5 8.5l.94-2.06 2.06-.94-2.06-.94L8.5 2.5l-.94 2.06-2.06.94zm10 10l.94 2.06.94-2.06 2.06-.94-2.06-.94-.94-2.06-.94 2.06-2.06.94z\"/><path d=\"M17.41 7.96l-1.37-1.37c-.4-.4-.92-.59-1.43-.59-.52 0-1.04.2-1.43.59L10.3 9.45l-7.72 7.72c-.78.78-.78 2.05 0 2.83L4 21.41c.39.39.9.59 1.41.59.51 0 1.02-.2 1.41-.59l7.78-7.78 2.81-2.81c.8-.78.8-2.07 0-2.86zM5.41 20L4 18.59l7.72-7.72 1.47 1.35L5.41 20z\"/>\n",
              "  </svg>\n",
              "      </button>\n",
              "      \n",
              "  <style>\n",
              "    .colab-df-container {\n",
              "      display:flex;\n",
              "      flex-wrap:wrap;\n",
              "      gap: 12px;\n",
              "    }\n",
              "\n",
              "    .colab-df-convert {\n",
              "      background-color: #E8F0FE;\n",
              "      border: none;\n",
              "      border-radius: 50%;\n",
              "      cursor: pointer;\n",
              "      display: none;\n",
              "      fill: #1967D2;\n",
              "      height: 32px;\n",
              "      padding: 0 0 0 0;\n",
              "      width: 32px;\n",
              "    }\n",
              "\n",
              "    .colab-df-convert:hover {\n",
              "      background-color: #E2EBFA;\n",
              "      box-shadow: 0px 1px 2px rgba(60, 64, 67, 0.3), 0px 1px 3px 1px rgba(60, 64, 67, 0.15);\n",
              "      fill: #174EA6;\n",
              "    }\n",
              "\n",
              "    [theme=dark] .colab-df-convert {\n",
              "      background-color: #3B4455;\n",
              "      fill: #D2E3FC;\n",
              "    }\n",
              "\n",
              "    [theme=dark] .colab-df-convert:hover {\n",
              "      background-color: #434B5C;\n",
              "      box-shadow: 0px 1px 3px 1px rgba(0, 0, 0, 0.15);\n",
              "      filter: drop-shadow(0px 1px 2px rgba(0, 0, 0, 0.3));\n",
              "      fill: #FFFFFF;\n",
              "    }\n",
              "  </style>\n",
              "\n",
              "      <script>\n",
              "        const buttonEl =\n",
              "          document.querySelector('#df-bf154196-ace5-463f-a184-9ad5bf567bab button.colab-df-convert');\n",
              "        buttonEl.style.display =\n",
              "          google.colab.kernel.accessAllowed ? 'block' : 'none';\n",
              "\n",
              "        async function convertToInteractive(key) {\n",
              "          const element = document.querySelector('#df-bf154196-ace5-463f-a184-9ad5bf567bab');\n",
              "          const dataTable =\n",
              "            await google.colab.kernel.invokeFunction('convertToInteractive',\n",
              "                                                     [key], {});\n",
              "          if (!dataTable) return;\n",
              "\n",
              "          const docLinkHtml = 'Like what you see? Visit the ' +\n",
              "            '<a target=\"_blank\" href=https://colab.research.google.com/notebooks/data_table.ipynb>data table notebook</a>'\n",
              "            + ' to learn more about interactive tables.';\n",
              "          element.innerHTML = '';\n",
              "          dataTable['output_type'] = 'display_data';\n",
              "          await google.colab.output.renderOutput(dataTable, element);\n",
              "          const docLink = document.createElement('div');\n",
              "          docLink.innerHTML = docLinkHtml;\n",
              "          element.appendChild(docLink);\n",
              "        }\n",
              "      </script>\n",
              "    </div>\n",
              "  </div>\n",
              "  "
            ]
          },
          "metadata": {},
          "execution_count": 8
        }
      ]
    },
    {
      "cell_type": "code",
      "source": [
        "# Dibujamos los histogramas para checkear la distribución de las variables usando el dataframe df20:\n",
        "plt.figure(figsize = (10,15))\n",
        "\n",
        "plt.subplot(2,2,1)\n",
        "fig =df[0].hist(bins=30)\n",
        "fig.set_xlabel('Dist. Normal')\n",
        "fig.set_ylabel('Dist. Normal')\n",
        "\n",
        "plt.subplot(2,2,2)\n",
        "fig =df[1].hist(bins=30)\n",
        "fig.set_xlabel('Dist. Uniforme')\n",
        "fig.set_ylabel('Dist. Uniforme')\n",
        "\n",
        "plt.subplot(2,2,3)\n",
        "fig =df[2].hist(bins=30)\n",
        "fig.set_xlabel('Dist. Sesgada')\n",
        "fig.set_ylabel('Dist. Sesgada')\n"
      ],
      "metadata": {
        "colab": {
          "base_uri": "https://localhost:8080/",
          "height": 895
        },
        "id": "UJmqybYX_jI_",
        "outputId": "e724d583-ec4c-46f3-b06d-83029a94be48"
      },
      "execution_count": 9,
      "outputs": [
        {
          "output_type": "execute_result",
          "data": {
            "text/plain": [
              "Text(0, 0.5, 'Dist. Sesgada')"
            ]
          },
          "metadata": {},
          "execution_count": 9
        },
        {
          "output_type": "display_data",
          "data": {
            "text/plain": [
              "<Figure size 720x1080 with 3 Axes>"
            ],
            "image/png": "[encoded data removed]"
          },
          "metadata": {
            "needs_background": "light"
          }
        }
      ]
    },
    {
      "cell_type": "code",
      "source": [
        "# Hacemos gráficos de cajas y bigotes de cada columna:\n",
        "plt.figure(figsize = (10,15))\n",
        "plt.subplot(2,2,1)\n",
        "fig = df.boxplot(column = 0)\n",
        "fig.set_title('Dist. Normal:')\n",
        "fig.set_ylabel('')\n",
        "\n",
        "# plt.figure(figsize = (8,10))\n",
        "plt.subplot(2,2,2)\n",
        "fig = df.boxplot(column = 1) \n",
        "fig.set_title('Dist. Uniforme:')\n",
        "fig.set_ylabel('')\n",
        "\n",
        "# plt.figure(figsize = (8,10))\n",
        "plt.subplot(2,2,3)\n",
        "fig = df.boxplot(column = 2)\n",
        "fig.set_title('Dist. Sesgada:')\n",
        "fig.set_ylabel('')\n"
      ],
      "metadata": {
        "colab": {
          "base_uri": "https://localhost:8080/",
          "height": 897
        },
        "id": "izgE7HIz5bbR",
        "outputId": "7618ea6e-6c47-425b-9fed-3ebe76a8620d"
      },
      "execution_count": 14,
      "outputs": [
        {
          "output_type": "execute_result",
          "data": {
            "text/plain": [
              "Text(0, 0.5, '')"
            ]
          },
          "metadata": {},
          "execution_count": 14
        },
        {
          "output_type": "display_data",
          "data": {
            "text/plain": [
              "<Figure size 720x1080 with 3 Axes>"
            ],
            "image/png": "[encoded data removed]"
          },
          "metadata": {
            "needs_background": "light"
          }
        }
      ]
    },
    {
      "cell_type": "code",
      "source": [
        "# train a logistic regression model on the training set\n",
        "\n",
        "from sklearn.linear_model import LogisticRegression\n",
        "from sklearn.model_selection import train_test_split \n",
        "X_train, X_test, y_train, y_test = train_test_split(XU_s,y_20,test_size=0.2)\n"
      ],
      "metadata": {
        "id": "EDAFpYNTB4YM"
      },
      "execution_count": 15,
      "outputs": []
    },
    {
      "cell_type": "code",
      "source": [
        "# instantiate the model\n",
        "logreg = LogisticRegression(solver='liblinear', random_state=0) # OBTENGO Model accuracy score: 0.9500 Confusion matrix\n",
        "                                                                                                          # [[10  0]\n",
        "                                                                                                          # [ 1  9]]\n",
        "#logreg = LogisticRegression(solver='newton-cg', random_state=0) # Model accuracy score: 1.0000 Confusion matrix\n",
        "                                                                                                # [[10  0]\n",
        "                                                                                                # [ 0 10]]\n",
        "#logreg = LogisticRegression(solver='sag', random_state=0) # Model accuracy score: 0.9500 Confusion matrix\n",
        "                                                                                          # [[ 9  1]\n",
        "                                                                                          # [ 0 10]]\n",
        "#logreg = LogisticRegression(solver='saga', random_state=0) # Model accuracy score: 0.9000 Confusion matrix\n",
        "                                                                                          # [[9 1]\n",
        "                                                                                          # [1 9]]\n",
        "#logreg = LogisticRegression(solver='lbfgs',random_state=0) # Model accuracy score: 1.0000 Confusion matrix\n",
        "                                                                                          # [[10  0]\n",
        "                                                                                          # [ 0 10]]\n",
        "# fit the model\n",
        "logreg.fit(X_train, y_train)\n",
        "\n",
        "# Reviso la influencia de cada columna:\n",
        "print(logreg.coef_)\n"
      ],
      "metadata": {
        "colab": {
          "base_uri": "https://localhost:8080/"
        },
        "id": "MIqWcZk5IeWl",
        "outputId": "a1d6656f-f710-423e-ecb6-2cf25908cabb"
      },
      "execution_count": 32,
      "outputs": [
        {
          "output_type": "stream",
          "name": "stdout",
          "text": [
            "[[ 5.35090395e-02  2.78729590e+00 -2.11484056e-03]]\n"
          ]
        }
      ]
    },
    {
      "cell_type": "code",
      "source": [
        "# ESTA ES LA PREDICCION\n",
        "y_pred_test = logreg.predict(X_test)\n",
        "\n",
        "y_pred_test"
      ],
      "metadata": {
        "colab": {
          "base_uri": "https://localhost:8080/"
        },
        "id": "TgNeLMoIvAia",
        "outputId": "12922945-0414-446c-d106-39ce71ddb977"
      },
      "execution_count": 17,
      "outputs": [
        {
          "output_type": "execute_result",
          "data": {
            "text/plain": [
              "array([0, 1, 0, 0, 1, 1, 0, 1, 1, 0, 0, 0, 1, 0, 0, 1, 1, 1, 1, 1, 0, 0,\n",
              "       1, 1, 1, 1, 0, 1, 0, 0, 0, 0, 1, 0, 0, 0, 1, 1, 0, 0])"
            ]
          },
          "metadata": {},
          "execution_count": 17
        }
      ]
    },
    {
      "cell_type": "code",
      "source": [
        "# CALCULO LA PRESICION DEL ALGORITMO DE PREDICCION COMPARANDO EL Y DE SALIDA REAL VS LA PREDICCION\n",
        "# La métrica accuracy representa el porcentaje total de valores correctamente\n",
        "from sklearn.metrics import accuracy_score\n",
        "\n",
        "# FUNCION DE CALCULO DE SCORE\n",
        "# accuracy_score(y_test, y_pred_test)\n",
        "\n",
        "print('Model accuracy score: {0:0.4f}'. format(accuracy_score(y_test, y_pred_test)))\n",
        "# Vemos las puntuaciones en el conjunto de entrenamiento y prueba: desde el modelo\n",
        "print('Training set score: {:.4f}'.format(logreg.score(X_train, y_train)))\n",
        "print('Test set score:     {:.4f}'.format(logreg.score(X_test, y_test)))"
      ],
      "metadata": {
        "colab": {
          "base_uri": "https://localhost:8080/"
        },
        "id": "TwYwo6K9Mpj1",
        "outputId": "013cbafb-914c-4231-a750-d1a5450273f9"
      },
      "execution_count": 34,
      "outputs": [
        {
          "output_type": "stream",
          "name": "stdout",
          "text": [
            "Model accuracy score: 1.0000\n",
            "Training set score: 0.9938\n",
            "Test set score:     1.0000\n"
          ]
        }
      ]
    },
    {
      "cell_type": "code",
      "source": [
        "# Creamos nuestra Matriz de Confusión:\n",
        "# COMPARANDO EL Y DE SALIDA REAL VS LA PREDICCION\n",
        "\n",
        "from sklearn.metrics import confusion_matrix\n",
        "\n",
        "cm = confusion_matrix(y_test, y_pred_test)\n",
        "print('Confusion matrix\\n\\n', cm)\n",
        "print('\\nTrue Positives(TP) = ', cm[0,0])\n",
        "print('\\nTrue Negatives(TN) = ', cm[1,1])\n",
        "print('\\nFalse Positives(FP) = ', cm[0,1])\n",
        "print('\\nFalse Negatives(FN) = ', cm[1,0])"
      ],
      "metadata": {
        "id": "I3ugYxj-PhGR",
        "colab": {
          "base_uri": "https://localhost:8080/"
        },
        "outputId": "a2049c4b-f61a-43a8-9322-31992effde21"
      },
      "execution_count": 19,
      "outputs": [
        {
          "output_type": "stream",
          "name": "stdout",
          "text": [
            "Confusion matrix\n",
            "\n",
            " [[21  0]\n",
            " [ 0 19]]\n",
            "\n",
            "True Positives(TP) =  21\n",
            "\n",
            "True Negatives(TN) =  19\n",
            "\n",
            "False Positives(FP) =  0\n",
            "\n",
            "False Negatives(FN) =  0\n"
          ]
        }
      ]
    },
    {
      "cell_type": "code",
      "source": [
        "# Visualizamos la Matriz de Confusión:\n",
        "cm_matrix = pd.DataFrame(data=cm, columns=['Actual Positive:1', 'Actual Negative:0'], \n",
        "                                 index=['Predict Positive:1', 'Predict Negative:0'])\n",
        "sns.heatmap(cm_matrix, annot=True, fmt='d', cmap='YlGnBu')"
      ],
      "metadata": {
        "colab": {
          "base_uri": "https://localhost:8080/",
          "height": 284
        },
        "id": "m4uvJQg_9iPG",
        "outputId": "58705600-6360-47bb-fb37-cac37a7ada70"
      },
      "execution_count": 20,
      "outputs": [
        {
          "output_type": "execute_result",
          "data": {
            "text/plain": [
              "<matplotlib.axes._subplots.AxesSubplot at 0x7f89d4c34b90>"
            ]
          },
          "metadata": {},
          "execution_count": 20
        },
        {
          "output_type": "display_data",
          "data": {
            "text/plain": [
              "<Figure size 432x288 with 2 Axes>"
            ],
            "image/png": "[encoded data removed]"
          },
          "metadata": {
            "needs_background": "light"
          }
        }
      ]
    },
    {
      "cell_type": "code",
      "source": [
        "# El Informe de Clasificación es otra forma de evaluar el rendimiento del modelo de clasificación.\n",
        "# Muestra las puntuaciones de precisión, recuperación, f1 y soporte para el modelo:\n",
        "from sklearn.metrics import classification_report\n",
        "\n",
        "print(classification_report(y_test, y_pred_test))"
      ],
      "metadata": {
        "colab": {
          "base_uri": "https://localhost:8080/"
        },
        "id": "PuhENg-F-cIv",
        "outputId": "6d9cd717-8074-4c6c-a9dd-e0f12109a4a5"
      },
      "execution_count": 21,
      "outputs": [
        {
          "output_type": "stream",
          "name": "stdout",
          "text": [
            "              precision    recall  f1-score   support\n",
            "\n",
            "           0       1.00      1.00      1.00        21\n",
            "           1       1.00      1.00      1.00        19\n",
            "\n",
            "    accuracy                           1.00        40\n",
            "   macro avg       1.00      1.00      1.00        40\n",
            "weighted avg       1.00      1.00      1.00        40\n",
            "\n"
          ]
        }
      ]
    },
    {
      "cell_type": "code",
      "source": [
        "# aqui se observa que variable tiene mayor influencia\n",
        "logreg.coef_"
      ],
      "metadata": {
        "colab": {
          "base_uri": "https://localhost:8080/"
        },
        "id": "uS-6VGlsQsZw",
        "outputId": "f7d861b3-47e6-4161-b52c-caa018e080e4"
      },
      "execution_count": 35,
      "outputs": [
        {
          "output_type": "execute_result",
          "data": {
            "text/plain": [
              "array([[ 5.35090395e-02,  2.78729590e+00, -2.11484056e-03]])"
            ]
          },
          "metadata": {},
          "execution_count": 35
        }
      ]
    },
    {
      "cell_type": "markdown",
      "source": [
        "## SUPUESTOS DE LA REGRESION LOGISTICA"
      ],
      "metadata": {
        "id": "P_Ju1ooaqPk5"
      }
    },
    {
      "cell_type": "markdown",
      "source": [
        "## SUPUESTO 1 - Tipo de resultado apropiado\n",
        "REGRESION LOGISTICA: la variable de respuesta es binaria [0,1]\n",
        "\n"
      ],
      "metadata": {
        "id": "ehrq0mLXqWxo"
      }
    },
    {
      "cell_type": "code",
      "source": [
        "# EVALUO LA SALIDA (OUTPUT) DEBE TENER  2 VALORES\n",
        "# la funcion unique de la libreria numpy nos permite leer un array de numpy y su salida son valores unicos\n",
        "# https://numpy.org/doc/stable/reference/generated/numpy.unique.html\n",
        "print(np.unique(y_20))"
      ],
      "metadata": {
        "colab": {
          "base_uri": "https://localhost:8080/"
        },
        "id": "uKdBcDJCqOj3",
        "outputId": "d5e25de3-be26-4b3b-d669-41a42f973483"
      },
      "execution_count": 23,
      "outputs": [
        {
          "output_type": "stream",
          "name": "stdout",
          "text": [
            "[0 1]\n"
          ]
        }
      ]
    },
    {
      "cell_type": "code",
      "source": [
        "# EVALUO LA CANTIDAD DE VALORES QUE HAY PARA CADA UNO\n",
        "df_y = pd.DataFrame(y_20)\n",
        "df_y.groupby([0]).size()"
      ],
      "metadata": {
        "colab": {
          "base_uri": "https://localhost:8080/"
        },
        "id": "4QP1kZOrstJD",
        "outputId": "6e5132d4-da9b-4e86-d6bd-07c2ed41d7ee"
      },
      "execution_count": 24,
      "outputs": [
        {
          "output_type": "execute_result",
          "data": {
            "text/plain": [
              "0\n",
              "0    100\n",
              "1    100\n",
              "dtype: int64"
            ]
          },
          "metadata": {},
          "execution_count": 24
        }
      ]
    },
    {
      "cell_type": "markdown",
      "source": [
        "## SUPUESTO 2 - Linealidad de variables independientes y probabilidades logarítmicas\n",
        "\n",
        "REGRESION LOGISTICA: Existe una relación lineal entre las variables explicativas y el logit de la variable de respuesta\n",
        "\n",
        "## **FUNCION LOGIT**\n",
        "\n",
        "* La función logit es una parte importante de la regresión logística\n",
        "**En matemáticas, especialmente aquellas aplicadas en estadística, el logit de un número p entre 0 y 1 es**\n",
        "\n",
        "La base de la función logaritmo usada aquí es de poca importancia, siempre y cuando **sea mayor que 1**, aunque se usa a menudo el logaritmo natural con base e.\n",
        "\n",
        "**La función logit es la inversa del \"sigmoide\", o función \"logística\".**\n",
        "\n",
        "* Si p es una probabilidad entonces p/(1 − p) es la razón de momios, y el logit de la probabilidad es el logaritmo de la razón de momios; \n",
        "* **La diferencia entre los logits de dos probabilidades es el logaritmo del odds ratio (OR), obteniéndose así un mecanismo aditivo para combinar odds-ratios.**\n",
        "\n",
        "# Prueba de caja-Tidwell\n",
        "\n",
        "Uno de los supuestos importantes de la regresión logística es la linealidad del logit sobre las covariables continuas. Esta suposición significa que las relaciones entre los predictores continuos y el logit (logaritmo de probabilidades) son lineales.\n",
        "* La transformación de Box-Tidwell (prueba) se puede utilizar para probar la \n",
        "linealidad en el supuesto logit cuando se realiza una regresión logística.\n",
        "* **Comprueba si la transformada logit es una función lineal del predictor, agregando efectivamente la transformada no lineal del predictor original como un término de interacción para probar si esta adición no mejoró la predicción.** \n",
        "* Un valor **p estadísticamente significativo** del término de interacción en la transformación de Box-Tidwell **significa que se viola la suposición de linealidad**\n",
        "* **Si se encuentra que una variable no es lineal**, podemos resolverla incorporando términos polinómicos de orden superior para esa variable en el análisis de regresión para capturar la no linealidad (por ejemplo, x^2). **Otra solución a este problema es la categorización de las variables independientes. Eso es transformar variables métricas a nivel ordinal y luego incluirlas en el modelo.**"
      ],
      "metadata": {
        "id": "DxPBs5IJwRe-"
      }
    },
    {
      "cell_type": "markdown",
      "source": [
        "### LOGARITMO DE ODD"
      ],
      "metadata": {
        "id": "V3VrojWspgM6"
      }
    },
    {
      "cell_type": "code",
      "source": [
        "# VAMOS A CONVERTIR LA MATRIZ DE NP a UN DF \n",
        "df = pd.DataFrame(XU_s)\n",
        "\n",
        "# CREAMOS UNA COPIA DEL DF ORIGINAL PARA NO ALTERAR EL ORIGINAL\n",
        "df_lt = df.copy()  # lt = logit transform\n",
        "\n",
        "# Add logit transform interaction terms (natural log) for continuous variables e.g. Age * Log(Age)\n",
        "for var in df_lt.columns:\n",
        "    df_lt[f'{var}:Log_{var}'] = df_lt[var].apply(lambda x: x * np.log(x)) #np.log = natural log\n",
        "\n",
        "df_lt.head()\n",
        "# ESTA FUNCION GENERA COLUMNAS NUEVAS POR CADA UNA DE LAS VARIABLES SU LOGARITMO DE OD PARA PODER VER SU LINEALIDAD\n",
        "# DEBE SER LINEAL LA VARIABLE DE INTERES (INDEPENDIENTE) CON RESPECTO A SU LOGARITMO DE ODD ( se calcula la variable * logaritmo de si mismo)"
      ],
      "metadata": {
        "colab": {
          "base_uri": "https://localhost:8080/",
          "height": 206
        },
        "id": "uiyng2C0ggsd",
        "outputId": "f08b540e-bacb-4c80-d4ea-b529022a3007"
      },
      "execution_count": 25,
      "outputs": [
        {
          "output_type": "execute_result",
          "data": {
            "text/plain": [
              "          0         1            2   0:Log_0   1:Log_1      2:Log_2\n",
              "0  0.392551  0.971986    32.846044 -0.367070 -0.027618   114.692843\n",
              "1  0.140372  0.036863   733.360380 -0.275615 -0.121668  4838.445747\n",
              "2 -0.888887  0.505517  1232.426913       NaN -0.344850  8770.862654\n",
              "3  1.359463  0.080785     0.238606  0.417477 -0.203252    -0.341908\n",
              "4 -0.316574  0.404905     0.442256       NaN -0.366076    -0.360822"
            ],
            "text/html": [
              "\n",
              "  <div id=\"df-768a5338-6f37-40af-8693-fe83db269e49\">\n",
              "    <div class=\"colab-df-container\">\n",
              "      <div>\n",
              "<style scoped>\n",
              "    .dataframe tbody tr th:only-of-type {\n",
              "        vertical-align: middle;\n",
              "    }\n",
              "\n",
              "    .dataframe tbody tr th {\n",
              "        vertical-align: top;\n",
              "    }\n",
              "\n",
              "    .dataframe thead th {\n",
              "        text-align: right;\n",
              "    }\n",
              "</style>\n",
              "<table border=\"1\" class=\"dataframe\">\n",
              "  <thead>\n",
              "    <tr style=\"text-align: right;\">\n",
              "      <th></th>\n",
              "      <th>0</th>\n",
              "      <th>1</th>\n",
              "      <th>2</th>\n",
              "      <th>0:Log_0</th>\n",
              "      <th>1:Log_1</th>\n",
              "      <th>2:Log_2</th>\n",
              "    </tr>\n",
              "  </thead>\n",
              "  <tbody>\n",
              "    <tr>\n",
              "      <th>0</th>\n",
              "      <td>0.392551</td>\n",
              "      <td>0.971986</td>\n",
              "      <td>32.846044</td>\n",
              "      <td>-0.367070</td>\n",
              "      <td>-0.027618</td>\n",
              "      <td>114.692843</td>\n",
              "    </tr>\n",
              "    <tr>\n",
              "      <th>1</th>\n",
              "      <td>0.140372</td>\n",
              "      <td>0.036863</td>\n",
              "      <td>733.360380</td>\n",
              "      <td>-0.275615</td>\n",
              "      <td>-0.121668</td>\n",
              "      <td>4838.445747</td>\n",
              "    </tr>\n",
              "    <tr>\n",
              "      <th>2</th>\n",
              "      <td>-0.888887</td>\n",
              "      <td>0.505517</td>\n",
              "      <td>1232.426913</td>\n",
              "      <td>NaN</td>\n",
              "      <td>-0.344850</td>\n",
              "      <td>8770.862654</td>\n",
              "    </tr>\n",
              "    <tr>\n",
              "      <th>3</th>\n",
              "      <td>1.359463</td>\n",
              "      <td>0.080785</td>\n",
              "      <td>0.238606</td>\n",
              "      <td>0.417477</td>\n",
              "      <td>-0.203252</td>\n",
              "      <td>-0.341908</td>\n",
              "    </tr>\n",
              "    <tr>\n",
              "      <th>4</th>\n",
              "      <td>-0.316574</td>\n",
              "      <td>0.404905</td>\n",
              "      <td>0.442256</td>\n",
              "      <td>NaN</td>\n",
              "      <td>-0.366076</td>\n",
              "      <td>-0.360822</td>\n",
              "    </tr>\n",
              "  </tbody>\n",
              "</table>\n",
              "</div>\n",
              "      <button class=\"colab-df-convert\" onclick=\"convertToInteractive('df-768a5338-6f37-40af-8693-fe83db269e49')\"\n",
              "              title=\"Convert this dataframe to an interactive table.\"\n",
              "              style=\"display:none;\">\n",
              "        \n",
              "  <svg xmlns=\"http://www.w3.org/2000/svg\" height=\"24px\"viewBox=\"0 0 24 24\"\n",
              "       width=\"24px\">\n",
              "    <path d=\"M0 0h24v24H0V0z\" fill=\"none\"/>\n",
              "    <path d=\"M18.56 5.44l.94 2.06.94-2.06 2.06-.94-2.06-.94-.94-2.06-.94 2.06-2.06.94zm-11 1L8.5 8.5l.94-2.06 2.06-.94-2.06-.94L8.5 2.5l-.94 2.06-2.06.94zm10 10l.94 2.06.94-2.06 2.06-.94-2.06-.94-.94-2.06-.94 2.06-2.06.94z\"/><path d=\"M17.41 7.96l-1.37-1.37c-.4-.4-.92-.59-1.43-.59-.52 0-1.04.2-1.43.59L10.3 9.45l-7.72 7.72c-.78.78-.78 2.05 0 2.83L4 21.41c.39.39.9.59 1.41.59.51 0 1.02-.2 1.41-.59l7.78-7.78 2.81-2.81c.8-.78.8-2.07 0-2.86zM5.41 20L4 18.59l7.72-7.72 1.47 1.35L5.41 20z\"/>\n",
              "  </svg>\n",
              "      </button>\n",
              "      \n",
              "  <style>\n",
              "    .colab-df-container {\n",
              "      display:flex;\n",
              "      flex-wrap:wrap;\n",
              "      gap: 12px;\n",
              "    }\n",
              "\n",
              "    .colab-df-convert {\n",
              "      background-color: #E8F0FE;\n",
              "      border: none;\n",
              "      border-radius: 50%;\n",
              "      cursor: pointer;\n",
              "      display: none;\n",
              "      fill: #1967D2;\n",
              "      height: 32px;\n",
              "      padding: 0 0 0 0;\n",
              "      width: 32px;\n",
              "    }\n",
              "\n",
              "    .colab-df-convert:hover {\n",
              "      background-color: #E2EBFA;\n",
              "      box-shadow: 0px 1px 2px rgba(60, 64, 67, 0.3), 0px 1px 3px 1px rgba(60, 64, 67, 0.15);\n",
              "      fill: #174EA6;\n",
              "    }\n",
              "\n",
              "    [theme=dark] .colab-df-convert {\n",
              "      background-color: #3B4455;\n",
              "      fill: #D2E3FC;\n",
              "    }\n",
              "\n",
              "    [theme=dark] .colab-df-convert:hover {\n",
              "      background-color: #434B5C;\n",
              "      box-shadow: 0px 1px 3px 1px rgba(0, 0, 0, 0.15);\n",
              "      filter: drop-shadow(0px 1px 2px rgba(0, 0, 0, 0.3));\n",
              "      fill: #FFFFFF;\n",
              "    }\n",
              "  </style>\n",
              "\n",
              "      <script>\n",
              "        const buttonEl =\n",
              "          document.querySelector('#df-768a5338-6f37-40af-8693-fe83db269e49 button.colab-df-convert');\n",
              "        buttonEl.style.display =\n",
              "          google.colab.kernel.accessAllowed ? 'block' : 'none';\n",
              "\n",
              "        async function convertToInteractive(key) {\n",
              "          const element = document.querySelector('#df-768a5338-6f37-40af-8693-fe83db269e49');\n",
              "          const dataTable =\n",
              "            await google.colab.kernel.invokeFunction('convertToInteractive',\n",
              "                                                     [key], {});\n",
              "          if (!dataTable) return;\n",
              "\n",
              "          const docLinkHtml = 'Like what you see? Visit the ' +\n",
              "            '<a target=\"_blank\" href=https://colab.research.google.com/notebooks/data_table.ipynb>data table notebook</a>'\n",
              "            + ' to learn more about interactive tables.';\n",
              "          element.innerHTML = '';\n",
              "          dataTable['output_type'] = 'display_data';\n",
              "          await google.colab.output.renderOutput(dataTable, element);\n",
              "          const docLink = document.createElement('div');\n",
              "          docLink.innerHTML = docLinkHtml;\n",
              "          element.appendChild(docLink);\n",
              "        }\n",
              "      </script>\n",
              "    </div>\n",
              "  </div>\n",
              "  "
            ]
          },
          "metadata": {},
          "execution_count": 25
        }
      ]
    },
    {
      "cell_type": "code",
      "source": [
        "# GRAFICO LAS COLUMNAS PARA OBSERVAR SU LINEALIDAD\n",
        "plt.figure(figsize = (10,15))\n",
        "\n",
        "plt.subplot(2,2,1)\n",
        "\n",
        "plt.title ('Dist. NORMAL')\n",
        "plt.scatter(df_lt[0],df_lt['0:Log_0'])\n",
        "# plt.figure(figsize=(10,15))\n",
        "plt.subplot(2,2,2)\n",
        "plt.title ('Dist. UNIFORME')\n",
        "plt.scatter(df_lt[1],df_lt['1:Log_1'])\n",
        "# plt.figure(figsize=(10,15))\n",
        "plt.subplot(2,2,3)\n",
        "plt.title ('Dist. SESGADA')\n",
        "plt.scatter(df_lt[2],df_lt['2:Log_2'])"
      ],
      "metadata": {
        "colab": {
          "base_uri": "https://localhost:8080/",
          "height": 897
        },
        "id": "JwF9nv1vm6Gt",
        "outputId": "1bd454a8-12cd-4443-a8cb-a9bd85ffdfe2"
      },
      "execution_count": 27,
      "outputs": [
        {
          "output_type": "execute_result",
          "data": {
            "text/plain": [
              "<matplotlib.collections.PathCollection at 0x7f89d2003710>"
            ]
          },
          "metadata": {},
          "execution_count": 27
        },
        {
          "output_type": "display_data",
          "data": {
            "text/plain": [
              "<Figure size 720x1080 with 3 Axes>"
            ],
            "image/png": "[encoded data removed]"
          },
          "metadata": {
            "needs_background": "light"
          }
        }
      ]
    },
    {
      "cell_type": "code",
      "source": [
        "df_lt.head()\n",
        "print(df_lt.columns.tolist())\n",
        "df_lt['0:Log_0']\n"
      ],
      "metadata": {
        "colab": {
          "base_uri": "https://localhost:8080/"
        },
        "id": "RydbxgxewXHe",
        "outputId": "4a2e18c9-2ae4-4589-d6cc-28b1001e8a5b"
      },
      "execution_count": 30,
      "outputs": [
        {
          "output_type": "stream",
          "name": "stdout",
          "text": [
            "[0, 1, 2, '0:Log_0', '1:Log_1', '2:Log_2']\n"
          ]
        },
        {
          "output_type": "execute_result",
          "data": {
            "text/plain": [
              "0      -0.367070\n",
              "1      -0.275615\n",
              "2            NaN\n",
              "3       0.417477\n",
              "4            NaN\n",
              "         ...    \n",
              "195    58.181345\n",
              "196          NaN\n",
              "197    55.126854\n",
              "198     4.840085\n",
              "199    39.100370\n",
              "Name: 0:Log_0, Length: 200, dtype: float64"
            ]
          },
          "metadata": {},
          "execution_count": 30
        }
      ]
    },
    {
      "cell_type": "markdown",
      "source": [
        "HACER EL CODIGO DONDE AL DF ANTES DE EJECUTAR EL GLM \n",
        "* Incorportar el vector Y_lt a X_lt \n",
        "* Eliminar los valores nan de X_lt (de cada columna, crear nuevos df para no afectar el df original.\n",
        "\n",
        "SEDEBEN MANTENER LOS RESULTADOS DE Y ANTES DE ELIMINAR LOS NAN"
      ],
      "metadata": {
        "id": "bLS3VvXNFViq"
      }
    },
    {
      "cell_type": "code",
      "source": [
        "# DEFINO LIBRERIAS DE STATSMODELS\n",
        "import statsmodels.api as sm\n",
        "from statsmodels.genmod.generalized_linear_model import GLM\n",
        "from statsmodels.genmod import families\n",
        "from statsmodels.stats.outliers_influence import variance_inflation_factor\n",
        "\n",
        "# Redefine independent variables to include interaction terms\n",
        "# Keep columns related to continuous variables\n",
        "#selecciono las variables continuas del DF\n",
        "continuous_var = df_lt.columns.tolist()\n",
        "print(continuous_var)\n",
        "cols_to_keep = continuous_var + df_lt.columns.tolist()[-len(continuous_var):]\n",
        "print(cols_to_keep)\n",
        "\n",
        "###\n",
        "  # AYUDA!! NO SE XQ DA ERROR AL CREAR EL NUEVO DF X_lt\n",
        "###\n",
        "\n",
        "X_lt = df_lt['1:Log_1'] # no me deja crear ese DF xq dice que la key pasada no existe ??\n",
        "y_lt = pd.DataFrame(y_20)\n",
        "print(y_lt) \n",
        "\n",
        "# Add constant\n",
        "X_lt_constant = sm.add_constant(X_lt, prepend=False)\n",
        "  \n",
        "# Build model and fit the data (using statsmodel's Logit)\n",
        "logit_results = GLM(y_lt, X_lt_constant, family=families.Binomial()).fit()\n",
        "# logit_results = GLM(y_lt, X_lt, family=families.Binomial()).fit()\n",
        "\n",
        "# Display summary results\n",
        "print(logit_results.summary())"
      ],
      "metadata": {
        "id": "hhmL3b0cutwu",
        "colab": {
          "base_uri": "https://localhost:8080/",
          "height": 800
        },
        "outputId": "0da0ca2d-0f5c-46fb-8748-87d787e7bce5"
      },
      "execution_count": 44,
      "outputs": [
        {
          "output_type": "stream",
          "name": "stdout",
          "text": [
            "[0, 1, 2, '0:Log_0', '1:Log_1', '2:Log_2']\n",
            "[0, 1, 2, '0:Log_0', '1:Log_1', '2:Log_2', 0, 1, 2, '0:Log_0', '1:Log_1', '2:Log_2']\n",
            "     0\n",
            "0    0\n",
            "1    0\n",
            "2    0\n",
            "3    0\n",
            "4    0\n",
            "..  ..\n",
            "195  1\n",
            "196  1\n",
            "197  1\n",
            "198  1\n",
            "199  1\n",
            "\n",
            "[200 rows x 1 columns]\n"
          ]
        },
        {
          "output_type": "stream",
          "name": "stderr",
          "text": [
            "/usr/local/lib/python3.7/dist-packages/statsmodels/tsa/tsatools.py:117: FutureWarning: In a future version of pandas all arguments of concat except for the argument 'objs' will be keyword-only\n",
            "  x = pd.concat(x[::order], 1)\n",
            "/usr/local/lib/python3.7/dist-packages/statsmodels/genmod/families/family.py:890: RuntimeWarning: invalid value encountered in true_divide\n",
            "  n_endog_mu = self._clean((1. - endog) / (1. - mu))\n"
          ]
        },
        {
          "output_type": "error",
          "ename": "PerfectSeparationError",
          "evalue": "ignored",
          "traceback": [
            "\u001b[0;31m---------------------------------------------------------------------------\u001b[0m",
            "\u001b[0;31mPerfectSeparationError\u001b[0m                    Traceback (most recent call last)",
            "\u001b[0;32m<ipython-input-44-c1c789341411>\u001b[0m in \u001b[0;36m<module>\u001b[0;34m()\u001b[0m\n\u001b[1;32m     24\u001b[0m \u001b[0;34m\u001b[0m\u001b[0m\n\u001b[1;32m     25\u001b[0m \u001b[0;31m# Build model and fit the data (using statsmodel's Logit)\u001b[0m\u001b[0;34m\u001b[0m\u001b[0;34m\u001b[0m\u001b[0;34m\u001b[0m\u001b[0m\n\u001b[0;32m---> 26\u001b[0;31m \u001b[0mlogit_results\u001b[0m \u001b[0;34m=\u001b[0m \u001b[0mGLM\u001b[0m\u001b[0;34m(\u001b[0m\u001b[0my_lt\u001b[0m\u001b[0;34m,\u001b[0m \u001b[0mX_lt_constant\u001b[0m\u001b[0;34m,\u001b[0m \u001b[0mfamily\u001b[0m\u001b[0;34m=\u001b[0m\u001b[0mfamilies\u001b[0m\u001b[0;34m.\u001b[0m\u001b[0mBinomial\u001b[0m\u001b[0;34m(\u001b[0m\u001b[0;34m)\u001b[0m\u001b[0;34m)\u001b[0m\u001b[0;34m.\u001b[0m\u001b[0mfit\u001b[0m\u001b[0;34m(\u001b[0m\u001b[0;34m)\u001b[0m\u001b[0;34m\u001b[0m\u001b[0;34m\u001b[0m\u001b[0m\n\u001b[0m\u001b[1;32m     27\u001b[0m \u001b[0;31m# logit_results = GLM(y_lt, X_lt, family=families.Binomial()).fit()\u001b[0m\u001b[0;34m\u001b[0m\u001b[0;34m\u001b[0m\u001b[0;34m\u001b[0m\u001b[0m\n\u001b[1;32m     28\u001b[0m \u001b[0;34m\u001b[0m\u001b[0m\n",
            "\u001b[0;32m/usr/local/lib/python3.7/dist-packages/statsmodels/genmod/generalized_linear_model.py\u001b[0m in \u001b[0;36mfit\u001b[0;34m(self, start_params, maxiter, method, tol, scale, cov_type, cov_kwds, use_t, full_output, disp, max_start_irls, **kwargs)\u001b[0m\n\u001b[1;32m   1026\u001b[0m             return self._fit_irls(start_params=start_params, maxiter=maxiter,\n\u001b[1;32m   1027\u001b[0m                                   \u001b[0mtol\u001b[0m\u001b[0;34m=\u001b[0m\u001b[0mtol\u001b[0m\u001b[0;34m,\u001b[0m \u001b[0mscale\u001b[0m\u001b[0;34m=\u001b[0m\u001b[0mscale\u001b[0m\u001b[0;34m,\u001b[0m \u001b[0mcov_type\u001b[0m\u001b[0;34m=\u001b[0m\u001b[0mcov_type\u001b[0m\u001b[0;34m,\u001b[0m\u001b[0;34m\u001b[0m\u001b[0;34m\u001b[0m\u001b[0m\n\u001b[0;32m-> 1028\u001b[0;31m                                   cov_kwds=cov_kwds, use_t=use_t, **kwargs)\n\u001b[0m\u001b[1;32m   1029\u001b[0m         \u001b[0;32melse\u001b[0m\u001b[0;34m:\u001b[0m\u001b[0;34m\u001b[0m\u001b[0;34m\u001b[0m\u001b[0m\n\u001b[1;32m   1030\u001b[0m             \u001b[0mself\u001b[0m\u001b[0;34m.\u001b[0m\u001b[0m_optim_hessian\u001b[0m \u001b[0;34m=\u001b[0m \u001b[0mkwargs\u001b[0m\u001b[0;34m.\u001b[0m\u001b[0mget\u001b[0m\u001b[0;34m(\u001b[0m\u001b[0;34m'optim_hessian'\u001b[0m\u001b[0;34m)\u001b[0m\u001b[0;34m\u001b[0m\u001b[0;34m\u001b[0m\u001b[0m\n",
            "\u001b[0;32m/usr/local/lib/python3.7/dist-packages/statsmodels/genmod/generalized_linear_model.py\u001b[0m in \u001b[0;36m_fit_irls\u001b[0;34m(self, start_params, maxiter, tol, scale, cov_type, cov_kwds, use_t, **kwargs)\u001b[0m\n\u001b[1;32m   1173\u001b[0m             \u001b[0;32mif\u001b[0m \u001b[0mendog\u001b[0m\u001b[0;34m.\u001b[0m\u001b[0msqueeze\u001b[0m\u001b[0;34m(\u001b[0m\u001b[0;34m)\u001b[0m\u001b[0;34m.\u001b[0m\u001b[0mndim\u001b[0m \u001b[0;34m==\u001b[0m \u001b[0;36m1\u001b[0m \u001b[0;32mand\u001b[0m \u001b[0mnp\u001b[0m\u001b[0;34m.\u001b[0m\u001b[0mallclose\u001b[0m\u001b[0;34m(\u001b[0m\u001b[0mmu\u001b[0m \u001b[0;34m-\u001b[0m \u001b[0mendog\u001b[0m\u001b[0;34m,\u001b[0m \u001b[0;36m0\u001b[0m\u001b[0;34m)\u001b[0m\u001b[0;34m:\u001b[0m\u001b[0;34m\u001b[0m\u001b[0;34m\u001b[0m\u001b[0m\n\u001b[1;32m   1174\u001b[0m                 \u001b[0mmsg\u001b[0m \u001b[0;34m=\u001b[0m \u001b[0;34m\"Perfect separation detected, results not available\"\u001b[0m\u001b[0;34m\u001b[0m\u001b[0;34m\u001b[0m\u001b[0m\n\u001b[0;32m-> 1175\u001b[0;31m                 \u001b[0;32mraise\u001b[0m \u001b[0mPerfectSeparationError\u001b[0m\u001b[0;34m(\u001b[0m\u001b[0mmsg\u001b[0m\u001b[0;34m)\u001b[0m\u001b[0;34m\u001b[0m\u001b[0;34m\u001b[0m\u001b[0m\n\u001b[0m\u001b[1;32m   1176\u001b[0m             converged = _check_convergence(criterion, iteration + 1, atol,\n\u001b[1;32m   1177\u001b[0m                                            rtol)\n",
            "\u001b[0;31mPerfectSeparationError\u001b[0m: Perfect separation detected, results not available"
          ]
        }
      ]
    },
    {
      "cell_type": "code",
      "source": [
        "predicted = logit_results.predict(X_lt_constant)\n",
        "\n",
        "# Get log odds values\n",
        "log_odds = np.log(predicted / (1 - predicted))\n",
        "\n",
        "# Visualize predictor continuous variable vs logit values (Age)\n",
        "plt.scatter(x=X_lt.values, y=log_odds);\n",
        "plt.show()"
      ],
      "metadata": {
        "colab": {
          "base_uri": "https://localhost:8080/",
          "height": 265
        },
        "id": "H0ZBhfQWy2oR",
        "outputId": "59ada582-8a60-44df-ed12-9b6037b16297"
      },
      "execution_count": null,
      "outputs": [
        {
          "output_type": "display_data",
          "data": {
            "text/plain": [
              "<Figure size 432x288 with 1 Axes>"
            ],
            "image/png": "[encoded data removed]"
          },
          "metadata": {
            "needs_background": "light"
          }
        }
      ]
    },
    {
      "cell_type": "markdown",
      "source": [
        "## SUPUESTO 3 - No hay valores atípicos fuertemente influyentes\n",
        "* Los valores influyentes son puntos de datos individuales extremos que pueden alterar la calidad del modelo de regresión logística.\n",
        "* La distancia de Cook es una estimación de la influencia de un punto de datos. Tiene en cuenta tanto el apalancamiento como el residual de cada observación. * La distancia de Cook es un resumen de cuánto cambia un modelo de regresión cuando se elimina la i -ésima observación.\n",
        "* Una regla general es que cualquier observación con una distancia de Cook superior a 4/n (donde n = observaciones totales) se considera influyente ( https://www.statology.org/cooks-distance-python/ y https: //www.scikit-yb.org/en/latest/api/regressor/influence.html?highlight=cook#module-yellowbrick.regressor.influence ), aunque hay valores de corte aún más genéricos de >0.5-1.0.\n",
        "* Para valores atípicos, podemos usar los residuos estandarizados absolutos para identificarlos (std resid > 3)\n",
        "Referencia: https://www.statsmodels.org/dev/examples/notebooks/generated/influence_glm_logit.html"
      ],
      "metadata": {
        "id": "uctfI1PtGGhl"
      }
    },
    {
      "cell_type": "code",
      "source": [
        "import statsmodels.api as sm\n",
        "from statsmodels.genmod.generalized_linear_model import GLM\n",
        "from statsmodels.genmod import families\n",
        "from statsmodels.stats.outliers_influence import variance_inflation_factor"
      ],
      "metadata": {
        "id": "s8KMHHFrGg6_"
      },
      "execution_count": null,
      "outputs": []
    },
    {
      "cell_type": "code",
      "source": [
        "# Use GLM method for logreg here so that we can retrieve the influence measures\n",
        "# USO LAS MATRICES DE POBLACION\n",
        "logit_model = GLM(y_20, XU_s, family=families.Binomial())\n",
        "logit_results = logit_model.fit()\n",
        "print(logit_results.summary())"
      ],
      "metadata": {
        "colab": {
          "base_uri": "https://localhost:8080/"
        },
        "id": "4mzHsKF0GseO",
        "outputId": "bf5ef960-875c-422a-8798-67d10fa0e1d5"
      },
      "execution_count": null,
      "outputs": [
        {
          "output_type": "stream",
          "name": "stdout",
          "text": [
            "                 Generalized Linear Model Regression Results                  \n",
            "==============================================================================\n",
            "Dep. Variable:                      y   No. Observations:                  200\n",
            "Model:                            GLM   Df Residuals:                      197\n",
            "Model Family:                Binomial   Df Model:                            2\n",
            "Link Function:                  logit   Scale:                          1.0000\n",
            "Method:                          IRLS   Log-Likelihood:                -100.27\n",
            "Date:                Wed, 13 Apr 2022   Deviance:                       200.54\n",
            "Time:                        17:35:46   Pearson chi2:                     264.\n",
            "No. Iterations:                     7                                         \n",
            "Covariance Type:            nonrobust                                         \n",
            "==============================================================================\n",
            "                 coef    std err          z      P>|z|      [0.025      0.975]\n",
            "------------------------------------------------------------------------------\n",
            "x1             0.0568      0.020      2.828      0.005       0.017       0.096\n",
            "x2             0.5520      0.119      4.629      0.000       0.318       0.786\n",
            "x3            -0.0021      0.001     -2.840      0.005      -0.004      -0.001\n",
            "==============================================================================\n"
          ]
        }
      ]
    },
    {
      "cell_type": "code",
      "source": [
        "# Use GLM method for logreg here so that we can retrieve the influence measures\n",
        "# USO LAS MATRICES DE POBLACION\n",
        "# logit_model = GLM(y_train, X_train, family=families.Binomial())\n",
        "# logit_results = logit_model.fit()\n",
        "# print(logit_results.summary())"
      ],
      "metadata": {
        "id": "lD4EypgSJ-9j"
      },
      "execution_count": null,
      "outputs": []
    },
    {
      "cell_type": "code",
      "source": [
        "# Use GLM method for logreg here so that we can retrieve the influence measures\n",
        "# USO LAS MATRICES DE POBLACION\n",
        "# logit_model = GLM(y_train, X_train, family=families.Binomial())\n",
        "# logit_results = logit_model.fit()\n",
        "# print(logit_results.summary())"
      ],
      "metadata": {
        "id": "78IC2d97LcTp"
      },
      "execution_count": null,
      "outputs": []
    },
    {
      "cell_type": "code",
      "source": [
        "from scipy import stats\n",
        "# Get influence measures\n",
        "influence = logit_results.get_influence()\n",
        "\n",
        "# Obtain summary df of influence measures\n",
        "summ_df = influence.summary_frame()\n",
        "\n",
        "# Filter summary df to Cook distance\n",
        "diagnosis_df = summ_df.loc[:,['cooks_d']]\n",
        "\n",
        "# Append absolute standardized residual values\n",
        "diagnosis_df['std_resid'] = stats.zscore(logit_results.resid_pearson)\n",
        "diagnosis_df['std_resid'] = diagnosis_df.loc[:,'std_resid'].apply(lambda x: np.abs(x))\n",
        "\n",
        "# Sort by Cook's Distance\n",
        "diagnosis_df.sort_values(\"cooks_d\", ascending=False)\n",
        "diagnosis_df"
      ],
      "metadata": {
        "colab": {
          "base_uri": "https://localhost:8080/",
          "height": 424
        },
        "id": "UzphJHMwN3aE",
        "outputId": "8e6794b8-96a2-484b-d4ba-1ed0318a9838"
      },
      "execution_count": null,
      "outputs": [
        {
          "output_type": "execute_result",
          "data": {
            "text/plain": [
              "          cooks_d  std_resid\n",
              "0    7.823770e-13   0.224869\n",
              "1    8.657494e-04   0.832654\n",
              "2    2.298890e-03   1.015075\n",
              "3    3.068296e-05   0.655351\n",
              "4    4.721934e-05   0.669238\n",
              "..            ...        ...\n",
              "195  2.034917e-04   0.404977\n",
              "196  1.723450e-02   0.978889\n",
              "197  8.359217e-03   0.847453\n",
              "198  8.925918e-03   0.856785\n",
              "199  6.667562e-04   0.619426\n",
              "\n",
              "[200 rows x 2 columns]"
            ],
            "text/html": [
              "\n",
              "  <div id=\"df-e5e86c67-93d7-4127-8214-c444ec9bf445\">\n",
              "    <div class=\"colab-df-container\">\n",
              "      <div>\n",
              "<style scoped>\n",
              "    .dataframe tbody tr th:only-of-type {\n",
              "        vertical-align: middle;\n",
              "    }\n",
              "\n",
              "    .dataframe tbody tr th {\n",
              "        vertical-align: top;\n",
              "    }\n",
              "\n",
              "    .dataframe thead th {\n",
              "        text-align: right;\n",
              "    }\n",
              "</style>\n",
              "<table border=\"1\" class=\"dataframe\">\n",
              "  <thead>\n",
              "    <tr style=\"text-align: right;\">\n",
              "      <th></th>\n",
              "      <th>cooks_d</th>\n",
              "      <th>std_resid</th>\n",
              "    </tr>\n",
              "  </thead>\n",
              "  <tbody>\n",
              "    <tr>\n",
              "      <th>0</th>\n",
              "      <td>7.823770e-13</td>\n",
              "      <td>0.224869</td>\n",
              "    </tr>\n",
              "    <tr>\n",
              "      <th>1</th>\n",
              "      <td>8.657494e-04</td>\n",
              "      <td>0.832654</td>\n",
              "    </tr>\n",
              "    <tr>\n",
              "      <th>2</th>\n",
              "      <td>2.298890e-03</td>\n",
              "      <td>1.015075</td>\n",
              "    </tr>\n",
              "    <tr>\n",
              "      <th>3</th>\n",
              "      <td>3.068296e-05</td>\n",
              "      <td>0.655351</td>\n",
              "    </tr>\n",
              "    <tr>\n",
              "      <th>4</th>\n",
              "      <td>4.721934e-05</td>\n",
              "      <td>0.669238</td>\n",
              "    </tr>\n",
              "    <tr>\n",
              "      <th>...</th>\n",
              "      <td>...</td>\n",
              "      <td>...</td>\n",
              "    </tr>\n",
              "    <tr>\n",
              "      <th>195</th>\n",
              "      <td>2.034917e-04</td>\n",
              "      <td>0.404977</td>\n",
              "    </tr>\n",
              "    <tr>\n",
              "      <th>196</th>\n",
              "      <td>1.723450e-02</td>\n",
              "      <td>0.978889</td>\n",
              "    </tr>\n",
              "    <tr>\n",
              "      <th>197</th>\n",
              "      <td>8.359217e-03</td>\n",
              "      <td>0.847453</td>\n",
              "    </tr>\n",
              "    <tr>\n",
              "      <th>198</th>\n",
              "      <td>8.925918e-03</td>\n",
              "      <td>0.856785</td>\n",
              "    </tr>\n",
              "    <tr>\n",
              "      <th>199</th>\n",
              "      <td>6.667562e-04</td>\n",
              "      <td>0.619426</td>\n",
              "    </tr>\n",
              "  </tbody>\n",
              "</table>\n",
              "<p>200 rows × 2 columns</p>\n",
              "</div>\n",
              "      <button class=\"colab-df-convert\" onclick=\"convertToInteractive('df-e5e86c67-93d7-4127-8214-c444ec9bf445')\"\n",
              "              title=\"Convert this dataframe to an interactive table.\"\n",
              "              style=\"display:none;\">\n",
              "        \n",
              "  <svg xmlns=\"http://www.w3.org/2000/svg\" height=\"24px\"viewBox=\"0 0 24 24\"\n",
              "       width=\"24px\">\n",
              "    <path d=\"M0 0h24v24H0V0z\" fill=\"none\"/>\n",
              "    <path d=\"M18.56 5.44l.94 2.06.94-2.06 2.06-.94-2.06-.94-.94-2.06-.94 2.06-2.06.94zm-11 1L8.5 8.5l.94-2.06 2.06-.94-2.06-.94L8.5 2.5l-.94 2.06-2.06.94zm10 10l.94 2.06.94-2.06 2.06-.94-2.06-.94-.94-2.06-.94 2.06-2.06.94z\"/><path d=\"M17.41 7.96l-1.37-1.37c-.4-.4-.92-.59-1.43-.59-.52 0-1.04.2-1.43.59L10.3 9.45l-7.72 7.72c-.78.78-.78 2.05 0 2.83L4 21.41c.39.39.9.59 1.41.59.51 0 1.02-.2 1.41-.59l7.78-7.78 2.81-2.81c.8-.78.8-2.07 0-2.86zM5.41 20L4 18.59l7.72-7.72 1.47 1.35L5.41 20z\"/>\n",
              "  </svg>\n",
              "      </button>\n",
              "      \n",
              "  <style>\n",
              "    .colab-df-container {\n",
              "      display:flex;\n",
              "      flex-wrap:wrap;\n",
              "      gap: 12px;\n",
              "    }\n",
              "\n",
              "    .colab-df-convert {\n",
              "      background-color: #E8F0FE;\n",
              "      border: none;\n",
              "      border-radius: 50%;\n",
              "      cursor: pointer;\n",
              "      display: none;\n",
              "      fill: #1967D2;\n",
              "      height: 32px;\n",
              "      padding: 0 0 0 0;\n",
              "      width: 32px;\n",
              "    }\n",
              "\n",
              "    .colab-df-convert:hover {\n",
              "      background-color: #E2EBFA;\n",
              "      box-shadow: 0px 1px 2px rgba(60, 64, 67, 0.3), 0px 1px 3px 1px rgba(60, 64, 67, 0.15);\n",
              "      fill: #174EA6;\n",
              "    }\n",
              "\n",
              "    [theme=dark] .colab-df-convert {\n",
              "      background-color: #3B4455;\n",
              "      fill: #D2E3FC;\n",
              "    }\n",
              "\n",
              "    [theme=dark] .colab-df-convert:hover {\n",
              "      background-color: #434B5C;\n",
              "      box-shadow: 0px 1px 3px 1px rgba(0, 0, 0, 0.15);\n",
              "      filter: drop-shadow(0px 1px 2px rgba(0, 0, 0, 0.3));\n",
              "      fill: #FFFFFF;\n",
              "    }\n",
              "  </style>\n",
              "\n",
              "      <script>\n",
              "        const buttonEl =\n",
              "          document.querySelector('#df-e5e86c67-93d7-4127-8214-c444ec9bf445 button.colab-df-convert');\n",
              "        buttonEl.style.display =\n",
              "          google.colab.kernel.accessAllowed ? 'block' : 'none';\n",
              "\n",
              "        async function convertToInteractive(key) {\n",
              "          const element = document.querySelector('#df-e5e86c67-93d7-4127-8214-c444ec9bf445');\n",
              "          const dataTable =\n",
              "            await google.colab.kernel.invokeFunction('convertToInteractive',\n",
              "                                                     [key], {});\n",
              "          if (!dataTable) return;\n",
              "\n",
              "          const docLinkHtml = 'Like what you see? Visit the ' +\n",
              "            '<a target=\"_blank\" href=https://colab.research.google.com/notebooks/data_table.ipynb>data table notebook</a>'\n",
              "            + ' to learn more about interactive tables.';\n",
              "          element.innerHTML = '';\n",
              "          dataTable['output_type'] = 'display_data';\n",
              "          await google.colab.output.renderOutput(dataTable, element);\n",
              "          const docLink = document.createElement('div');\n",
              "          docLink.innerHTML = docLinkHtml;\n",
              "          element.appendChild(docLink);\n",
              "        }\n",
              "      </script>\n",
              "    </div>\n",
              "  </div>\n",
              "  "
            ]
          },
          "metadata": {},
          "execution_count": 24
        }
      ]
    },
    {
      "cell_type": "code",
      "source": [
        "# Set Cook's distance threshold\n",
        "cook_threshold = 4 / len(XU_s)\n",
        "print(f\"Threshold for Cook Distance = {cook_threshold}\")"
      ],
      "metadata": {
        "colab": {
          "base_uri": "https://localhost:8080/"
        },
        "id": "CoOiLWKxOY-V",
        "outputId": "889753ec-4dba-4308-aab9-78c752d8fded"
      },
      "execution_count": null,
      "outputs": [
        {
          "output_type": "stream",
          "name": "stdout",
          "text": [
            "Threshold for Cook Distance = 0.02\n"
          ]
        }
      ]
    },
    {
      "cell_type": "code",
      "source": [
        "# Plot influence measures (Cook's distance)\n",
        "fig = influence.plot_index(y_var=\"cooks\", threshold=cook_threshold)\n",
        "plt.axhline(y=cook_threshold, ls=\"--\", color='red')\n",
        "fig.tight_layout(pad=2)"
      ],
      "metadata": {
        "colab": {
          "base_uri": "https://localhost:8080/",
          "height": 279
        },
        "id": "sWJ8sMO9PD7z",
        "outputId": "091a035d-95ac-4c59-b810-aa4c4391b1a0"
      },
      "execution_count": null,
      "outputs": [
        {
          "output_type": "display_data",
          "data": {
            "text/plain": [
              "<Figure size 432x288 with 1 Axes>"
            ],
            "image/png": "[encoded data removed]"
          },
          "metadata": {
            "needs_background": "light"
          }
        }
      ]
    },
    {
      "cell_type": "code",
      "execution_count": null,
      "metadata": {
        "id": "eApWouT_48Kw",
        "outputId": "6ed4987e-67c1-45f7-b5ef-8e0ce7169efe",
        "colab": {
          "base_uri": "https://localhost:8080/"
        }
      },
      "outputs": [
        {
          "output_type": "stream",
          "name": "stdout",
          "text": [
            "Proportion of data points that are highly influential = 2.0%\n"
          ]
        }
      ],
      "source": [
        "# Find number of observations that exceed Cook's distance threshold\n",
        "outliers = diagnosis_df[diagnosis_df['cooks_d'] > cook_threshold]\n",
        "prop_outliers = round(100*(len(outliers) / len(XU_s)),1)\n",
        "print(f'Proportion of data points that are highly influential = {prop_outliers}%')"
      ]
    },
    {
      "cell_type": "code",
      "execution_count": null,
      "metadata": {
        "outputId": "8289d859-6cd7-4184-eab6-1cbe4f19ca09",
        "colab": {
          "base_uri": "https://localhost:8080/"
        },
        "id": "SfTkfNv4Tqkr"
      },
      "outputs": [
        {
          "output_type": "stream",
          "name": "stdout",
          "text": [
            "Proportion of highly influential outliers = 0.5%\n"
          ]
        }
      ],
      "source": [
        "# Find number of observations which are BOTH outlier (std dev > 3) and highly influential\n",
        "extreme = diagnosis_df[(diagnosis_df['cooks_d'] > cook_threshold) & \n",
        "                       (diagnosis_df['std_resid'] > 3)]\n",
        "prop_extreme = round(100*(len(extreme) / len(XU_s)),1)\n",
        "print(f'Proportion of highly influential outliers = {prop_extreme}%')"
      ]
    },
    {
      "cell_type": "code",
      "source": [
        "# Display top 5 most influential outliers\n",
        "extreme.sort_values(\"cooks_d\", ascending=False).head()\n",
        "extreme"
      ],
      "metadata": {
        "colab": {
          "base_uri": "https://localhost:8080/",
          "height": 81
        },
        "id": "PH7HixdBT39B",
        "outputId": "f3d37d3a-62ea-4ccd-b61e-f8465eb22f51"
      },
      "execution_count": null,
      "outputs": [
        {
          "output_type": "execute_result",
          "data": {
            "text/plain": [
              "      cooks_d  std_resid\n",
              "133  1.147087   9.816247"
            ],
            "text/html": [
              "\n",
              "  <div id=\"df-9692e305-d2f8-46f2-8e2a-fe080a85c630\">\n",
              "    <div class=\"colab-df-container\">\n",
              "      <div>\n",
              "<style scoped>\n",
              "    .dataframe tbody tr th:only-of-type {\n",
              "        vertical-align: middle;\n",
              "    }\n",
              "\n",
              "    .dataframe tbody tr th {\n",
              "        vertical-align: top;\n",
              "    }\n",
              "\n",
              "    .dataframe thead th {\n",
              "        text-align: right;\n",
              "    }\n",
              "</style>\n",
              "<table border=\"1\" class=\"dataframe\">\n",
              "  <thead>\n",
              "    <tr style=\"text-align: right;\">\n",
              "      <th></th>\n",
              "      <th>cooks_d</th>\n",
              "      <th>std_resid</th>\n",
              "    </tr>\n",
              "  </thead>\n",
              "  <tbody>\n",
              "    <tr>\n",
              "      <th>133</th>\n",
              "      <td>1.147087</td>\n",
              "      <td>9.816247</td>\n",
              "    </tr>\n",
              "  </tbody>\n",
              "</table>\n",
              "</div>\n",
              "      <button class=\"colab-df-convert\" onclick=\"convertToInteractive('df-9692e305-d2f8-46f2-8e2a-fe080a85c630')\"\n",
              "              title=\"Convert this dataframe to an interactive table.\"\n",
              "              style=\"display:none;\">\n",
              "        \n",
              "  <svg xmlns=\"http://www.w3.org/2000/svg\" height=\"24px\"viewBox=\"0 0 24 24\"\n",
              "       width=\"24px\">\n",
              "    <path d=\"M0 0h24v24H0V0z\" fill=\"none\"/>\n",
              "    <path d=\"M18.56 5.44l.94 2.06.94-2.06 2.06-.94-2.06-.94-.94-2.06-.94 2.06-2.06.94zm-11 1L8.5 8.5l.94-2.06 2.06-.94-2.06-.94L8.5 2.5l-.94 2.06-2.06.94zm10 10l.94 2.06.94-2.06 2.06-.94-2.06-.94-.94-2.06-.94 2.06-2.06.94z\"/><path d=\"M17.41 7.96l-1.37-1.37c-.4-.4-.92-.59-1.43-.59-.52 0-1.04.2-1.43.59L10.3 9.45l-7.72 7.72c-.78.78-.78 2.05 0 2.83L4 21.41c.39.39.9.59 1.41.59.51 0 1.02-.2 1.41-.59l7.78-7.78 2.81-2.81c.8-.78.8-2.07 0-2.86zM5.41 20L4 18.59l7.72-7.72 1.47 1.35L5.41 20z\"/>\n",
              "  </svg>\n",
              "      </button>\n",
              "      \n",
              "  <style>\n",
              "    .colab-df-container {\n",
              "      display:flex;\n",
              "      flex-wrap:wrap;\n",
              "      gap: 12px;\n",
              "    }\n",
              "\n",
              "    .colab-df-convert {\n",
              "      background-color: #E8F0FE;\n",
              "      border: none;\n",
              "      border-radius: 50%;\n",
              "      cursor: pointer;\n",
              "      display: none;\n",
              "      fill: #1967D2;\n",
              "      height: 32px;\n",
              "      padding: 0 0 0 0;\n",
              "      width: 32px;\n",
              "    }\n",
              "\n",
              "    .colab-df-convert:hover {\n",
              "      background-color: #E2EBFA;\n",
              "      box-shadow: 0px 1px 2px rgba(60, 64, 67, 0.3), 0px 1px 3px 1px rgba(60, 64, 67, 0.15);\n",
              "      fill: #174EA6;\n",
              "    }\n",
              "\n",
              "    [theme=dark] .colab-df-convert {\n",
              "      background-color: #3B4455;\n",
              "      fill: #D2E3FC;\n",
              "    }\n",
              "\n",
              "    [theme=dark] .colab-df-convert:hover {\n",
              "      background-color: #434B5C;\n",
              "      box-shadow: 0px 1px 3px 1px rgba(0, 0, 0, 0.15);\n",
              "      filter: drop-shadow(0px 1px 2px rgba(0, 0, 0, 0.3));\n",
              "      fill: #FFFFFF;\n",
              "    }\n",
              "  </style>\n",
              "\n",
              "      <script>\n",
              "        const buttonEl =\n",
              "          document.querySelector('#df-9692e305-d2f8-46f2-8e2a-fe080a85c630 button.colab-df-convert');\n",
              "        buttonEl.style.display =\n",
              "          google.colab.kernel.accessAllowed ? 'block' : 'none';\n",
              "\n",
              "        async function convertToInteractive(key) {\n",
              "          const element = document.querySelector('#df-9692e305-d2f8-46f2-8e2a-fe080a85c630');\n",
              "          const dataTable =\n",
              "            await google.colab.kernel.invokeFunction('convertToInteractive',\n",
              "                                                     [key], {});\n",
              "          if (!dataTable) return;\n",
              "\n",
              "          const docLinkHtml = 'Like what you see? Visit the ' +\n",
              "            '<a target=\"_blank\" href=https://colab.research.google.com/notebooks/data_table.ipynb>data table notebook</a>'\n",
              "            + ' to learn more about interactive tables.';\n",
              "          element.innerHTML = '';\n",
              "          dataTable['output_type'] = 'display_data';\n",
              "          await google.colab.output.renderOutput(dataTable, element);\n",
              "          const docLink = document.createElement('div');\n",
              "          docLink.innerHTML = docLinkHtml;\n",
              "          element.appendChild(docLink);\n",
              "        }\n",
              "      </script>\n",
              "    </div>\n",
              "  </div>\n",
              "  "
            ]
          },
          "metadata": {},
          "execution_count": 29
        }
      ]
    },
    {
      "cell_type": "code",
      "source": [
        "# Deep dive into index 297 (extreme outlier)\n",
        "# lo paso de numpy a pandas\n",
        "df_x = pd.DataFrame(XU_s)\n",
        "# corro el balance\n",
        "df_x.iloc[109]  # 0 = Did not survive\n"
      ],
      "metadata": {
        "colab": {
          "base_uri": "https://localhost:8080/"
        },
        "id": "hOQDV0VST6DK",
        "outputId": "09f089d5-a36a-4eab-bd21-4baccdb605ca"
      },
      "execution_count": null,
      "outputs": [
        {
          "output_type": "execute_result",
          "data": {
            "text/plain": [
              "0   -16.798897\n",
              "1     1.860059\n",
              "2     0.189975\n",
              "Name: 109, dtype: float64"
            ]
          },
          "metadata": {},
          "execution_count": 32
        }
      ]
    },
    {
      "cell_type": "code",
      "source": [
        "df_y = pd.DataFrame(y_20)\n",
        "df_y.iloc[109]  # 0 = Did not survive"
      ],
      "metadata": {
        "colab": {
          "base_uri": "https://localhost:8080/"
        },
        "id": "DXc1IkuRawNc",
        "outputId": "04d64230-da64-4151-9783-47e6b68edb64"
      },
      "execution_count": null,
      "outputs": [
        {
          "output_type": "execute_result",
          "data": {
            "text/plain": [
              "0    1\n",
              "Name: 109, dtype: int64"
            ]
          },
          "metadata": {},
          "execution_count": 85
        }
      ]
    },
    {
      "cell_type": "markdown",
      "source": [
        "* Es importante tener en cuenta que para los puntos de datos con distancias de Cook relativamente altas, no significa automáticamente que deba eliminarse inmediatamente del conjunto de datos. Es esencialmente un indicador para resaltar qué puntos de datos vale la pena analizar más a fondo, para comprender si son anomalías reales o no.\n",
        "* En la práctica, una evaluación de valores \"grandes\" es un juicio basado en la experiencia y el conjunto particular de datos que se analiza.\n",
        "* Además, según nuestro umbral predefinido (4/N), solo el 5 % (51/891) de los puntos se encuentran en la zona de valores atípicos, que también es pequeña. El problema surge cuando hay una cantidad significativa de puntos de datos clasificados como valores atípicos.\n",
        "* La gestión de valores atípicos está fuera del alcance de esta demostración."
      ],
      "metadata": {
        "id": "0ydwaR70UHvU"
      }
    },
    {
      "cell_type": "markdown",
      "source": [
        "## Supuesto 4 - Ausencia de multicolinealidad\n"
      ],
      "metadata": {
        "id": "GVL8JD1D99wo"
      }
    },
    {
      "cell_type": "code",
      "source": [
        "# CREO LA MATRIZ DE CORRELACION\n",
        "# uso la matriz XU_s convertida en DF de pandas\n",
        "# df_x = pd.DataFrame(XU_s)\n",
        "\n",
        "corrMatrix = df_x.corr()\n",
        "plt.subplots(figsize=(10, 6))\n",
        "sns.heatmap(corrMatrix, annot=True, cmap=\"RdYlGn\")\n",
        "plt.show()"
      ],
      "metadata": {
        "colab": {
          "base_uri": "https://localhost:8080/",
          "height": 378
        },
        "id": "FXg3y0GH_HC-",
        "outputId": "6c5baa2a-177e-4926-b75a-037dde85940f"
      },
      "execution_count": null,
      "outputs": [
        {
          "output_type": "display_data",
          "data": {
            "text/plain": [
              "<Figure size 720x432 with 2 Axes>"
            ],
            "image/png": "[encoded data removed]"
          },
          "metadata": {
            "needs_background": "light"
          }
        }
      ]
    },
    {
      "cell_type": "markdown",
      "source": [
        "* La matriz de correlación puede ser difícil de interpretar cuando hay muchas variables independientes\n",
        "* Además, no todos los problemas de colinealidad pueden detectarse mediante la inspección de la matriz de correlación: es posible que exista colinealidad entre tres o más variables incluso si ningún par de variables tiene una correlación particularmente alta.\n",
        "* Como tal, usamos el factor de inflación de varianza (VIF) en su lugar"
      ],
      "metadata": {
        "id": "Iwf0DaD6AsAc"
      }
    },
    {
      "cell_type": "markdown",
      "source": [
        "#### Factor de inflación de varianza (VIF)\n",
        "* Incluir constante en el cálculo de VIF. Referencia: https://stackoverflow.com/questions/42658379/variance-inflation-factor-in-python"
      ],
      "metadata": {
        "id": "OtUXjvMyA2MN"
      }
    },
    {
      "cell_type": "code",
      "source": [
        "# Use variance inflation factor to identify any significant multi-collinearity\n",
        "\n",
        "def calc_vif(df):\n",
        "    vif = pd.DataFrame()\n",
        "    vif[\"variables\"] = df.columns\n",
        "    vif[\"VIF\"] = [variance_inflation_factor(df.values, i) for i in range(df.shape[1])]\n",
        "    return(vif)\n",
        "\n",
        "# CREA CONSTANTE\n",
        "X_constant = sm.add_constant(XU_s, prepend=False)\n",
        "# CONVIERTO A UN DF\n",
        "X_constant = pd.DataFrame(X_constant)\n",
        "calc_vif(X_constant) # Include constant in VIF calculation in Python"
      ],
      "metadata": {
        "colab": {
          "base_uri": "https://localhost:8080/",
          "height": 175
        },
        "id": "2YEXp1I1AlfU",
        "outputId": "e9279129-edfd-4163-84fa-ca94d9c8a08c"
      },
      "execution_count": null,
      "outputs": [
        {
          "output_type": "execute_result",
          "data": {
            "text/plain": [
              "   variables       VIF\n",
              "0          0  1.145421\n",
              "1          1  1.145541\n",
              "2          2  1.021761\n",
              "3          3  4.245463"
            ],
            "text/html": [
              "\n",
              "  <div id=\"df-4a94f8c5-cf9d-4a7e-abf8-4faa943d1ed7\">\n",
              "    <div class=\"colab-df-container\">\n",
              "      <div>\n",
              "<style scoped>\n",
              "    .dataframe tbody tr th:only-of-type {\n",
              "        vertical-align: middle;\n",
              "    }\n",
              "\n",
              "    .dataframe tbody tr th {\n",
              "        vertical-align: top;\n",
              "    }\n",
              "\n",
              "    .dataframe thead th {\n",
              "        text-align: right;\n",
              "    }\n",
              "</style>\n",
              "<table border=\"1\" class=\"dataframe\">\n",
              "  <thead>\n",
              "    <tr style=\"text-align: right;\">\n",
              "      <th></th>\n",
              "      <th>variables</th>\n",
              "      <th>VIF</th>\n",
              "    </tr>\n",
              "  </thead>\n",
              "  <tbody>\n",
              "    <tr>\n",
              "      <th>0</th>\n",
              "      <td>0</td>\n",
              "      <td>1.145421</td>\n",
              "    </tr>\n",
              "    <tr>\n",
              "      <th>1</th>\n",
              "      <td>1</td>\n",
              "      <td>1.145541</td>\n",
              "    </tr>\n",
              "    <tr>\n",
              "      <th>2</th>\n",
              "      <td>2</td>\n",
              "      <td>1.021761</td>\n",
              "    </tr>\n",
              "    <tr>\n",
              "      <th>3</th>\n",
              "      <td>3</td>\n",
              "      <td>4.245463</td>\n",
              "    </tr>\n",
              "  </tbody>\n",
              "</table>\n",
              "</div>\n",
              "      <button class=\"colab-df-convert\" onclick=\"convertToInteractive('df-4a94f8c5-cf9d-4a7e-abf8-4faa943d1ed7')\"\n",
              "              title=\"Convert this dataframe to an interactive table.\"\n",
              "              style=\"display:none;\">\n",
              "        \n",
              "  <svg xmlns=\"http://www.w3.org/2000/svg\" height=\"24px\"viewBox=\"0 0 24 24\"\n",
              "       width=\"24px\">\n",
              "    <path d=\"M0 0h24v24H0V0z\" fill=\"none\"/>\n",
              "    <path d=\"M18.56 5.44l.94 2.06.94-2.06 2.06-.94-2.06-.94-.94-2.06-.94 2.06-2.06.94zm-11 1L8.5 8.5l.94-2.06 2.06-.94-2.06-.94L8.5 2.5l-.94 2.06-2.06.94zm10 10l.94 2.06.94-2.06 2.06-.94-2.06-.94-.94-2.06-.94 2.06-2.06.94z\"/><path d=\"M17.41 7.96l-1.37-1.37c-.4-.4-.92-.59-1.43-.59-.52 0-1.04.2-1.43.59L10.3 9.45l-7.72 7.72c-.78.78-.78 2.05 0 2.83L4 21.41c.39.39.9.59 1.41.59.51 0 1.02-.2 1.41-.59l7.78-7.78 2.81-2.81c.8-.78.8-2.07 0-2.86zM5.41 20L4 18.59l7.72-7.72 1.47 1.35L5.41 20z\"/>\n",
              "  </svg>\n",
              "      </button>\n",
              "      \n",
              "  <style>\n",
              "    .colab-df-container {\n",
              "      display:flex;\n",
              "      flex-wrap:wrap;\n",
              "      gap: 12px;\n",
              "    }\n",
              "\n",
              "    .colab-df-convert {\n",
              "      background-color: #E8F0FE;\n",
              "      border: none;\n",
              "      border-radius: 50%;\n",
              "      cursor: pointer;\n",
              "      display: none;\n",
              "      fill: #1967D2;\n",
              "      height: 32px;\n",
              "      padding: 0 0 0 0;\n",
              "      width: 32px;\n",
              "    }\n",
              "\n",
              "    .colab-df-convert:hover {\n",
              "      background-color: #E2EBFA;\n",
              "      box-shadow: 0px 1px 2px rgba(60, 64, 67, 0.3), 0px 1px 3px 1px rgba(60, 64, 67, 0.15);\n",
              "      fill: #174EA6;\n",
              "    }\n",
              "\n",
              "    [theme=dark] .colab-df-convert {\n",
              "      background-color: #3B4455;\n",
              "      fill: #D2E3FC;\n",
              "    }\n",
              "\n",
              "    [theme=dark] .colab-df-convert:hover {\n",
              "      background-color: #434B5C;\n",
              "      box-shadow: 0px 1px 3px 1px rgba(0, 0, 0, 0.15);\n",
              "      filter: drop-shadow(0px 1px 2px rgba(0, 0, 0, 0.3));\n",
              "      fill: #FFFFFF;\n",
              "    }\n",
              "  </style>\n",
              "\n",
              "      <script>\n",
              "        const buttonEl =\n",
              "          document.querySelector('#df-4a94f8c5-cf9d-4a7e-abf8-4faa943d1ed7 button.colab-df-convert');\n",
              "        buttonEl.style.display =\n",
              "          google.colab.kernel.accessAllowed ? 'block' : 'none';\n",
              "\n",
              "        async function convertToInteractive(key) {\n",
              "          const element = document.querySelector('#df-4a94f8c5-cf9d-4a7e-abf8-4faa943d1ed7');\n",
              "          const dataTable =\n",
              "            await google.colab.kernel.invokeFunction('convertToInteractive',\n",
              "                                                     [key], {});\n",
              "          if (!dataTable) return;\n",
              "\n",
              "          const docLinkHtml = 'Like what you see? Visit the ' +\n",
              "            '<a target=\"_blank\" href=https://colab.research.google.com/notebooks/data_table.ipynb>data table notebook</a>'\n",
              "            + ' to learn more about interactive tables.';\n",
              "          element.innerHTML = '';\n",
              "          dataTable['output_type'] = 'display_data';\n",
              "          await google.colab.output.renderOutput(dataTable, element);\n",
              "          const docLink = document.createElement('div');\n",
              "          docLink.innerHTML = docLinkHtml;\n",
              "          element.appendChild(docLink);\n",
              "        }\n",
              "      </script>\n",
              "    </div>\n",
              "  </div>\n",
              "  "
            ]
          },
          "metadata": {},
          "execution_count": 38
        }
      ]
    },
    {
      "cell_type": "markdown",
      "source": [
        "* El umbral para VIF suele ser 5 (es decir, los valores superiores a 5 significan que hay presencia de multicolinealidad)\n",
        "* Como todas las variables tienen VIF <5, significa que no hay multicolinealidad, y se cumple este supuesto\n",
        "* Echemos un vistazo a la situación en la que no soltamos la primera variable al obtener maniquíes:"
      ],
      "metadata": {
        "id": "RWLHtm2bCrg1"
      }
    },
    {
      "cell_type": "markdown",
      "source": [
        "## Supuesto 5 - Independencia de las observaciones\n",
        "\n",
        "* Los términos de error deben ser independientes. Es decir, los puntos de datos no deben ser de ningún diseño de muestras dependientes, por ejemplo, mediciones de antes y después o emparejamientos."
      ],
      "metadata": {
        "id": "mql0EA_hEsrZ"
      }
    },
    {
      "cell_type": "code",
      "source": [
        "# Setup logistic regression model (using GLM method so that we can retrieve residuals)\n",
        "X_constant = sm.add_constant(XU_s, prepend=False)\n",
        "logit_model = GLM(y_20, X_constant, family=families.Binomial())\n",
        "logit_results = logit_model.fit()\n",
        "print(logit_results.summary())"
      ],
      "metadata": {
        "colab": {
          "base_uri": "https://localhost:8080/",
          "height": 433
        },
        "id": "gjazC-pmFaHg",
        "outputId": "6890253c-fba9-48db-9867-e4940fccebf0"
      },
      "execution_count": null,
      "outputs": [
        {
          "output_type": "stream",
          "name": "stderr",
          "text": [
            "/usr/local/lib/python3.7/dist-packages/statsmodels/genmod/families/family.py:890: RuntimeWarning: invalid value encountered in true_divide\n",
            "  n_endog_mu = self._clean((1. - endog) / (1. - mu))\n"
          ]
        },
        {
          "output_type": "error",
          "ename": "PerfectSeparationError",
          "evalue": "ignored",
          "traceback": [
            "\u001b[0;31m---------------------------------------------------------------------------\u001b[0m",
            "\u001b[0;31mPerfectSeparationError\u001b[0m                    Traceback (most recent call last)",
            "\u001b[0;32m<ipython-input-41-39395c5b1bae>\u001b[0m in \u001b[0;36m<module>\u001b[0;34m()\u001b[0m\n\u001b[1;32m      2\u001b[0m \u001b[0mX_constant\u001b[0m \u001b[0;34m=\u001b[0m \u001b[0msm\u001b[0m\u001b[0;34m.\u001b[0m\u001b[0madd_constant\u001b[0m\u001b[0;34m(\u001b[0m\u001b[0mXU_s\u001b[0m\u001b[0;34m,\u001b[0m \u001b[0mprepend\u001b[0m\u001b[0;34m=\u001b[0m\u001b[0;32mFalse\u001b[0m\u001b[0;34m)\u001b[0m\u001b[0;34m\u001b[0m\u001b[0;34m\u001b[0m\u001b[0m\n\u001b[1;32m      3\u001b[0m \u001b[0mlogit_model\u001b[0m \u001b[0;34m=\u001b[0m \u001b[0mGLM\u001b[0m\u001b[0;34m(\u001b[0m\u001b[0my_20\u001b[0m\u001b[0;34m,\u001b[0m \u001b[0mX_constant\u001b[0m\u001b[0;34m,\u001b[0m \u001b[0mfamily\u001b[0m\u001b[0;34m=\u001b[0m\u001b[0mfamilies\u001b[0m\u001b[0;34m.\u001b[0m\u001b[0mBinomial\u001b[0m\u001b[0;34m(\u001b[0m\u001b[0;34m)\u001b[0m\u001b[0;34m)\u001b[0m\u001b[0;34m\u001b[0m\u001b[0;34m\u001b[0m\u001b[0m\n\u001b[0;32m----> 4\u001b[0;31m \u001b[0mlogit_results\u001b[0m \u001b[0;34m=\u001b[0m \u001b[0mlogit_model\u001b[0m\u001b[0;34m.\u001b[0m\u001b[0mfit\u001b[0m\u001b[0;34m(\u001b[0m\u001b[0;34m)\u001b[0m\u001b[0;34m\u001b[0m\u001b[0;34m\u001b[0m\u001b[0m\n\u001b[0m\u001b[1;32m      5\u001b[0m \u001b[0mprint\u001b[0m\u001b[0;34m(\u001b[0m\u001b[0mlogit_results\u001b[0m\u001b[0;34m.\u001b[0m\u001b[0msummary\u001b[0m\u001b[0;34m(\u001b[0m\u001b[0;34m)\u001b[0m\u001b[0;34m)\u001b[0m\u001b[0;34m\u001b[0m\u001b[0;34m\u001b[0m\u001b[0m\n",
            "\u001b[0;32m/usr/local/lib/python3.7/dist-packages/statsmodels/genmod/generalized_linear_model.py\u001b[0m in \u001b[0;36mfit\u001b[0;34m(self, start_params, maxiter, method, tol, scale, cov_type, cov_kwds, use_t, full_output, disp, max_start_irls, **kwargs)\u001b[0m\n\u001b[1;32m   1026\u001b[0m             return self._fit_irls(start_params=start_params, maxiter=maxiter,\n\u001b[1;32m   1027\u001b[0m                                   \u001b[0mtol\u001b[0m\u001b[0;34m=\u001b[0m\u001b[0mtol\u001b[0m\u001b[0;34m,\u001b[0m \u001b[0mscale\u001b[0m\u001b[0;34m=\u001b[0m\u001b[0mscale\u001b[0m\u001b[0;34m,\u001b[0m \u001b[0mcov_type\u001b[0m\u001b[0;34m=\u001b[0m\u001b[0mcov_type\u001b[0m\u001b[0;34m,\u001b[0m\u001b[0;34m\u001b[0m\u001b[0;34m\u001b[0m\u001b[0m\n\u001b[0;32m-> 1028\u001b[0;31m                                   cov_kwds=cov_kwds, use_t=use_t, **kwargs)\n\u001b[0m\u001b[1;32m   1029\u001b[0m         \u001b[0;32melse\u001b[0m\u001b[0;34m:\u001b[0m\u001b[0;34m\u001b[0m\u001b[0;34m\u001b[0m\u001b[0m\n\u001b[1;32m   1030\u001b[0m             \u001b[0mself\u001b[0m\u001b[0;34m.\u001b[0m\u001b[0m_optim_hessian\u001b[0m \u001b[0;34m=\u001b[0m \u001b[0mkwargs\u001b[0m\u001b[0;34m.\u001b[0m\u001b[0mget\u001b[0m\u001b[0;34m(\u001b[0m\u001b[0;34m'optim_hessian'\u001b[0m\u001b[0;34m)\u001b[0m\u001b[0;34m\u001b[0m\u001b[0;34m\u001b[0m\u001b[0m\n",
            "\u001b[0;32m/usr/local/lib/python3.7/dist-packages/statsmodels/genmod/generalized_linear_model.py\u001b[0m in \u001b[0;36m_fit_irls\u001b[0;34m(self, start_params, maxiter, tol, scale, cov_type, cov_kwds, use_t, **kwargs)\u001b[0m\n\u001b[1;32m   1173\u001b[0m             \u001b[0;32mif\u001b[0m \u001b[0mendog\u001b[0m\u001b[0;34m.\u001b[0m\u001b[0msqueeze\u001b[0m\u001b[0;34m(\u001b[0m\u001b[0;34m)\u001b[0m\u001b[0;34m.\u001b[0m\u001b[0mndim\u001b[0m \u001b[0;34m==\u001b[0m \u001b[0;36m1\u001b[0m \u001b[0;32mand\u001b[0m \u001b[0mnp\u001b[0m\u001b[0;34m.\u001b[0m\u001b[0mallclose\u001b[0m\u001b[0;34m(\u001b[0m\u001b[0mmu\u001b[0m \u001b[0;34m-\u001b[0m \u001b[0mendog\u001b[0m\u001b[0;34m,\u001b[0m \u001b[0;36m0\u001b[0m\u001b[0;34m)\u001b[0m\u001b[0;34m:\u001b[0m\u001b[0;34m\u001b[0m\u001b[0;34m\u001b[0m\u001b[0m\n\u001b[1;32m   1174\u001b[0m                 \u001b[0mmsg\u001b[0m \u001b[0;34m=\u001b[0m \u001b[0;34m\"Perfect separation detected, results not available\"\u001b[0m\u001b[0;34m\u001b[0m\u001b[0;34m\u001b[0m\u001b[0m\n\u001b[0;32m-> 1175\u001b[0;31m                 \u001b[0;32mraise\u001b[0m \u001b[0mPerfectSeparationError\u001b[0m\u001b[0;34m(\u001b[0m\u001b[0mmsg\u001b[0m\u001b[0;34m)\u001b[0m\u001b[0;34m\u001b[0m\u001b[0;34m\u001b[0m\u001b[0m\n\u001b[0m\u001b[1;32m   1176\u001b[0m             converged = _check_convergence(criterion, iteration + 1, atol,\n\u001b[1;32m   1177\u001b[0m                                            rtol)\n",
            "\u001b[0;31mPerfectSeparationError\u001b[0m: Perfect separation detected, results not available"
          ]
        }
      ]
    },
    {
      "cell_type": "markdown",
      "source": [
        "ERROR: PerfectSeparationError: Perfect separation detected, results not available\n",
        "\n",
        "DESCRIPCION: Python ha detectado una separación completa o casi completa en uno o más de sus predictores y la variable de resultado.\n",
        "\n",
        "* Esto sucede cuando todos o casi todos los valores en una de las categorías de predictores (o una combinación de predictores) están asociados con solo uno de los valores de resultado binarios. (Supongo que está intentando una regresión logística). Cuando esto sucede, no se puede encontrar una solución para el coeficiente predictor.\n",
        "\n",
        "* Hay varias soluciones posibles. Dependiendo de cuántas variables haya en su análisis, puede intentar ejecutar tabulaciones cruzadas bidireccionales en su resultado y cada una de las variables predictoras para ubicar las celdas con cero observaciones y luego eliminar esa variable del análisis o usar menos categorías. Otra opción es ejecutar una regresión logística de Firth o una regresión penalizada."
      ],
      "metadata": {
        "id": "0B6jSnyiHFlu"
      }
    },
    {
      "cell_type": "markdown",
      "source": [
        "### Comprobar series de residuos"
      ],
      "metadata": {
        "id": "OzV_BIMBHiYd"
      }
    },
    {
      "cell_type": "code",
      "source": [
        "# Generate residual series plot\n",
        "# paso XU_s a DF\n",
        "df_x = pd.DataFrame(XU_s)\n",
        "# SCRIPT\n",
        "fig = plt.figure(figsize=(8,5))\n",
        "ax = fig.add_subplot(111, title=\"Residual Series Plot\",\n",
        "                    xlabel=\"Index Number\", ylabel=\"Deviance Residuals\")\n",
        "\n",
        "# ax.plot(X.index.tolist(), stats.zscore(logit_results.resid_pearson))\n",
        "ax.plot(df_x.index.tolist(), stats.zscore(logit_results.resid_deviance))\n",
        "plt.axhline(y=0, ls=\"--\", color='red');"
      ],
      "metadata": {
        "colab": {
          "base_uri": "https://localhost:8080/",
          "height": 350
        },
        "id": "DYhv7nD5Hg32",
        "outputId": "bb50eba1-c8f5-4175-9d6e-15b9c7872807"
      },
      "execution_count": null,
      "outputs": [
        {
          "output_type": "display_data",
          "data": {
            "text/plain": [
              "<Figure size 576x360 with 1 Axes>"
            ],
            "image/png": "[encoded data removed]"
          },
          "metadata": {
            "needs_background": "light"
          }
        }
      ]
    },
    {
      "cell_type": "markdown",
      "source": [
        "* A partir de la gráfica anterior de Desviación residual versus número índice, podemos ver que se cumple la suposición de independencia de los errores."
      ],
      "metadata": {
        "id": "cx6TK967H9yq"
      }
    },
    {
      "cell_type": "markdown",
      "source": [
        "### Investigación adicional sobre parcelas de dependencia residual (Opcional)\n",
        "* Esta es una investigación adicional. La verificación anterior de las series de residuos (basadas en números índice) es suficiente\n",
        "Referencia: https://freakonometrics.hypotheses.org/8210"
      ],
      "metadata": {
        "id": "TRSOL44CIoKp"
      }
    },
    {
      "cell_type": "code",
      "source": [
        "# BASADO EN EL SCRIPT ANTERIOR, UTILIZAMOS ax COMO \n",
        "fig = plt.figure(figsize=(8, 5))\n",
        "ax = fig.add_subplot(\n",
        "            111,\n",
        "            title=\"Residual Dependence Plot\",\n",
        "            xlabel=\"Fitted Values\",\n",
        "            ylabel=\"Pearson Residuals\")\n",
        "\n",
        "# ax.scatter(logit_results.mu, stats.zscore(logit_results.resid_pearson))\n",
        "ax.scatter(logit_results.mu, stats.zscore(logit_results.resid_deviance))\n",
        "ax.axis(\"tight\")\n",
        "ax.plot([0.0, 1.0], [0.0, 0.0], \"k-\");"
      ],
      "metadata": {
        "colab": {
          "base_uri": "https://localhost:8080/",
          "height": 350
        },
        "id": "xh9BHZCdI0r3",
        "outputId": "9dcf0e69-e674-482e-e027-a219d28ed9fe"
      },
      "execution_count": null,
      "outputs": [
        {
          "output_type": "display_data",
          "data": {
            "text/plain": [
              "<Figure size 576x360 with 1 Axes>"
            ],
            "image/png": "[encoded data removed]"
          },
          "metadata": {
            "needs_background": "light"
          }
        }
      ]
    },
    {
      "cell_type": "markdown",
      "source": [
        "* Agregue una línea de suavizado de diagrama de dispersión ponderado localmente (LOWESS) para visualizar mejor la independencia"
      ],
      "metadata": {
        "id": "5C-W0_k0JQ8f"
      }
    },
    {
      "cell_type": "code",
      "source": [
        "# Setup LOWESS function\n",
        "lowess = sm.nonparametric.lowess\n",
        "\n",
        "# Get y-values from LOWESS (set return_sorted=False)\n",
        "y_hat_lowess = lowess(logit_results.resid_pearson, logit_results.mu, \n",
        "                      return_sorted = False,\n",
        "                      frac=2/3)\n",
        "\n",
        "fig = plt.figure(figsize=(8, 5))\n",
        "ax = fig.add_subplot(111,\n",
        "    title=\"Residual Dependence Plot\",\n",
        "    xlabel=\"Fitted Values\",\n",
        "    ylabel=\"Pearson Residuals\")\n",
        "\n",
        "# ax.scatter(logit_results.mu, stats.zscore(logit_results.resid_pearson))\n",
        "ax.scatter(logit_results.mu, stats.zscore(logit_results.resid_deviance))\n",
        "ax.scatter(logit_results.mu, y_hat_lowess)\n",
        "ax.axis(\"tight\")\n",
        "ax.plot([0.0, 1.0], [0.0, 0.0], \"k-\");"
      ],
      "metadata": {
        "colab": {
          "base_uri": "https://localhost:8080/",
          "height": 350
        },
        "id": "FyDcWFlmJV06",
        "outputId": "dc7790a5-0dc8-481c-d023-e0b16eb5a5ae"
      },
      "execution_count": null,
      "outputs": [
        {
          "output_type": "display_data",
          "data": {
            "text/plain": [
              "<Figure size 576x360 with 1 Axes>"
            ],
            "image/png": "[encoded data removed]"
          },
          "metadata": {
            "needs_background": "light"
          }
        }
      ]
    },
    {
      "cell_type": "markdown",
      "source": [
        "## Supuesto 6 - Tamaño de muestra suficientemente grande\n",
        "* La regla de oro es tener por lo menos 10-20 instancias del resultado menos frecuente para cada variable predictora en su modelo\n",
        "\n",
        "* A partir de los recuentos de valores (proximo script), podemos ver que esta suposición se cumple\n",
        "\n",
        "* Otra regla general es tener al menos 500 observaciones en todo el conjunto de datos.\n",
        "\n",
        "En general, tenemos 891 observaciones, que es un tamaño de conjunto de datos decente para trabajar"
      ],
      "metadata": {
        "id": "-R4aQ2yNJffI"
      }
    },
    {
      "cell_type": "code",
      "source": [
        "# Find total number of observations\n",
        "print(\"Total number of observations:\", len(XU_s))"
      ],
      "metadata": {
        "colab": {
          "base_uri": "https://localhost:8080/"
        },
        "id": "09Er6cIcJ9sR",
        "outputId": "43c6a81b-89ab-42ac-e947-f39aab9ed5cb"
      },
      "execution_count": null,
      "outputs": [
        {
          "output_type": "stream",
          "name": "stdout",
          "text": [
            "Total number of observations 200\n"
          ]
        }
      ]
    },
    {
      "cell_type": "code",
      "source": [
        "# Get value counts for independent variables (mainly focus on categorical)\n",
        "# paso XU_s a DF\n",
        "df_x = pd.DataFrame(XU_s)\n",
        "\n",
        "for col in df_x.columns.to_list()[0:]:\n",
        "    if df_x.dtypes[col] == 'uint8': # Keep categorical variables only\n",
        "        print(df_x[col].value_counts())"
      ],
      "metadata": {
        "colab": {
          "base_uri": "https://localhost:8080/"
        },
        "id": "jJdHP8ovKQjI",
        "outputId": "d05e81ff-f740-40b0-988c-e07090f56e46"
      },
      "execution_count": null,
      "outputs": [
        {
          "output_type": "stream",
          "name": "stdout",
          "text": [
            "-0.007544     1\n",
            "-9.529795     1\n",
            " 29.790291    1\n",
            " 13.308687    1\n",
            " 44.844507    1\n",
            "             ..\n",
            " 0.156350     1\n",
            "-0.614033     1\n",
            " 1.134480     1\n",
            "-0.416485     1\n",
            " 8.664314     1\n",
            "Name: 0, Length: 200, dtype: int64\n",
            "0.520566    1\n",
            "2.762575    1\n",
            "2.172481    1\n",
            "2.151612    1\n",
            "2.772176    1\n",
            "           ..\n",
            "0.973663    1\n",
            "1.271625    1\n",
            "0.404716    1\n",
            "1.422110    1\n",
            "2.134057    1\n",
            "Name: 1, Length: 200, dtype: int64\n",
            "7311.389933     1\n",
            "1095.105956     1\n",
            "27.866091       1\n",
            "16.515117       1\n",
            "1.872707        1\n",
            "               ..\n",
            "262.473780      1\n",
            "10528.265959    1\n",
            "11.843263       1\n",
            "2.606269        1\n",
            "16.383355       1\n",
            "Name: 2, Length: 200, dtype: int64\n"
          ]
        }
      ]
    },
    {
      "cell_type": "code",
      "source": [
        "df_x.dtypes"
      ],
      "metadata": {
        "colab": {
          "base_uri": "https://localhost:8080/"
        },
        "id": "ogTWRHLoK1Xt",
        "outputId": "6d00bcd1-3e65-486d-9f1b-f7601e7ff65a"
      },
      "execution_count": null,
      "outputs": [
        {
          "output_type": "execute_result",
          "data": {
            "text/plain": [
              "0    float64\n",
              "1    float64\n",
              "2    float64\n",
              "dtype: object"
            ]
          },
          "metadata": {},
          "execution_count": 58
        }
      ]
    },
    {
      "cell_type": "markdown",
      "source": [
        "EN ESTE CASO LA SALIDA ES NULA YA QUE LOS DATOS EN EL DF SON FLOAT64"
      ],
      "metadata": {
        "id": "Gc4NfAhvL4Cm"
      }
    }
  ]
}