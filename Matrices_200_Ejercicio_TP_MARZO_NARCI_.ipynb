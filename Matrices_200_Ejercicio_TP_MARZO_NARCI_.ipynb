{
  "nbformat": 4,
  "nbformat_minor": 0,
  "metadata": {
    "colab": {
      "name": "Matrices_200_Ejercicio_TP_MARZO_NARCI_.ipynb",
      "provenance": [],
      "collapsed_sections": [],
      "authorship_tag": "ABX9TyNFEmEAr1v3NRpZ6zTnk82X",
      "include_colab_link": true
    },
    "kernelspec": {
      "name": "python3",
      "display_name": "Python 3"
    },
    "language_info": {
      "name": "python"
    }
  },
  "cells": [
    {
      "cell_type": "markdown",
      "metadata": {
        "id": "view-in-github",
        "colab_type": "text"
      },
      "source": [
        "<a href=\"https://colab.research.google.com/github/octagomez/TP_MARZO2022_REGRESION_LOGISTICA/blob/main/Matrices_200_Ejercicio_TP_MARZO_NARCI_.ipynb\" target=\"_parent\"><img src=\"https://colab.research.google.com/assets/colab-badge.svg\" alt=\"Open In Colab\"/></a>"
      ]
    },
    {
      "cell_type": "code",
      "source": [
        "!pip install category_encoders"
      ],
      "metadata": {
        "id": "pz2fcSp7i2Uz",
        "colab": {
          "base_uri": "https://localhost:8080/"
        },
        "outputId": "ed9bc5a2-0889-48ee-c239-1c3d5bd26071"
      },
      "execution_count": 1,
      "outputs": [
        {
          "output_type": "stream",
          "name": "stdout",
          "text": [
            "Collecting category_encoders\n",
            "  Downloading category_encoders-2.4.0-py2.py3-none-any.whl (86 kB)\n",
            "\u001b[?25l\r\u001b[K     |███▉                            | 10 kB 13.3 MB/s eta 0:00:01\r\u001b[K     |███████▋                        | 20 kB 10.1 MB/s eta 0:00:01\r\u001b[K     |███████████▍                    | 30 kB 8.6 MB/s eta 0:00:01\r\u001b[K     |███████████████▏                | 40 kB 7.9 MB/s eta 0:00:01\r\u001b[K     |███████████████████             | 51 kB 5.8 MB/s eta 0:00:01\r\u001b[K     |██████████████████████▊         | 61 kB 6.7 MB/s eta 0:00:01\r\u001b[K     |██████████████████████████▌     | 71 kB 6.6 MB/s eta 0:00:01\r\u001b[K     |██████████████████████████████▎ | 81 kB 7.1 MB/s eta 0:00:01\r\u001b[K     |████████████████████████████████| 86 kB 2.3 MB/s \n",
            "\u001b[?25hRequirement already satisfied: patsy>=0.5.1 in /usr/local/lib/python3.7/dist-packages (from category_encoders) (0.5.2)\n",
            "Requirement already satisfied: pandas>=0.21.1 in /usr/local/lib/python3.7/dist-packages (from category_encoders) (1.3.5)\n",
            "Requirement already satisfied: numpy>=1.14.0 in /usr/local/lib/python3.7/dist-packages (from category_encoders) (1.21.5)\n",
            "Requirement already satisfied: scipy>=1.0.0 in /usr/local/lib/python3.7/dist-packages (from category_encoders) (1.4.1)\n",
            "Requirement already satisfied: scikit-learn>=0.20.0 in /usr/local/lib/python3.7/dist-packages (from category_encoders) (1.0.2)\n",
            "Requirement already satisfied: statsmodels>=0.9.0 in /usr/local/lib/python3.7/dist-packages (from category_encoders) (0.10.2)\n",
            "Requirement already satisfied: python-dateutil>=2.7.3 in /usr/local/lib/python3.7/dist-packages (from pandas>=0.21.1->category_encoders) (2.8.2)\n",
            "Requirement already satisfied: pytz>=2017.3 in /usr/local/lib/python3.7/dist-packages (from pandas>=0.21.1->category_encoders) (2018.9)\n",
            "Requirement already satisfied: six in /usr/local/lib/python3.7/dist-packages (from patsy>=0.5.1->category_encoders) (1.15.0)\n",
            "Requirement already satisfied: threadpoolctl>=2.0.0 in /usr/local/lib/python3.7/dist-packages (from scikit-learn>=0.20.0->category_encoders) (3.1.0)\n",
            "Requirement already satisfied: joblib>=0.11 in /usr/local/lib/python3.7/dist-packages (from scikit-learn>=0.20.0->category_encoders) (1.1.0)\n",
            "Installing collected packages: category-encoders\n",
            "Successfully installed category-encoders-2.4.0\n"
          ]
        }
      ]
    },
    {
      "cell_type": "code",
      "execution_count": 3,
      "metadata": {
        "id": "dUC-por0hFcS"
      },
      "outputs": [],
      "source": [
        "import numpy as np # linear algebra\n",
        "import pandas as pd # data processing, CSV file I/O (e.g. pd.read_csv)\n",
        "import matplotlib.pyplot as plt # data visualization\n",
        "import seaborn as sns # statistical data visualization\n",
        "%matplotlib inline\n",
        "import category_encoders as ce\n"
      ]
    },
    {
      "cell_type": "markdown",
      "source": [
        "MATRIZ 200x3"
      ],
      "metadata": {
        "id": "FCWGE7p5ABaH"
      }
    },
    {
      "cell_type": "code",
      "source": [
        "# CREO UN VECTOR DE DISTRIBUCION NORMAL 20\n",
        "da = np.random.normal(loc=0, scale=1, size=100).reshape(100,1)\n",
        "da2 = np.random.normal(loc=10, scale=15, size=100).reshape(100,1)\n",
        "da = np.append(da, da2 , axis=0)\n",
        "da\n",
        "# CREO UN VECTOR DE DISTRIBUCION UNIFORME\n",
        "rd = np.random.uniform(low=0, high=1.5, size=100).reshape(100,1)\n",
        "rd2 = np.random.uniform(low=1.6, high=3, size=100).reshape(100,1)\n",
        "rd = np.append(rd, rd2 , axis=0)\n",
        "# CREO UN VECTOR DE DISTRIBUCION SESGADA\n",
        "rs =np.random.lognormal(2,3,100).reshape(100,1)\n",
        "rs2 =np.random.lognormal(0,3,100).reshape(100,1)\n",
        "rs = np.append(rs, rs2 , axis=0)"
      ],
      "metadata": {
        "id": "jILFjMipjAOK"
      },
      "execution_count": 4,
      "outputs": []
    },
    {
      "cell_type": "code",
      "source": [
        "# INCORPORO LOS DATOS A UNA MATRIZ\n",
        "# https://www.delftstack.com/es/howto/numpy/numpy-add-column/#:~:text=append()-,La%20funci%C3%B3n%20numpy.,valores%20a%20el%20array%20preexistente.\n",
        "XU = np.append(da, rd , axis=1)\n",
        "# VEO LA MATRIZ\n",
        "#print(\"VECTOR NORMAL\", da)\n",
        "#print(\"VECTOR UNIFORME\",rd)\n",
        "#print(\"MATRIZ_1\", XU)\n",
        "# INCORPORP LA TERCERA COLUMNA A LA MATRIZ\n",
        "XU_s = np.append(XU, rs , axis=1)\n",
        "#print(\"MATRIZ_2\", XU)\n",
        "XU.shape\n",
        "\n",
        "print(\"DISTRIBUCION NORMAL \\nMEDIA: \", da.mean(), \" // VARIANZA :\", da.var()  )"
      ],
      "metadata": {
        "colab": {
          "base_uri": "https://localhost:8080/"
        },
        "id": "dB2NyfqEpT0U",
        "outputId": "d8f8bc60-313d-48ef-d6f6-8aad18dab7a0"
      },
      "execution_count": 5,
      "outputs": [
        {
          "output_type": "stream",
          "name": "stdout",
          "text": [
            "DISTRIBUCION NORMAL \n",
            "MEDIA:  5.723962627292752  // VARIANZA : 131.6228215048612\n"
          ]
        }
      ]
    },
    {
      "cell_type": "markdown",
      "source": [
        "## DEFINO EL VECTOR Y"
      ],
      "metadata": {
        "id": "ADxkW5n6LeN6"
      }
    },
    {
      "cell_type": "code",
      "source": [
        "# XU_s_t = XU_s.transpose()\n",
        "# XU_s_t.shape\n",
        "# y_test_t = pd.DataFrame(XU_s_t)\n",
        "# y_test_DNORMAL = pd.DataFrame(XU_s ,columns=[0])\n",
        "# print(XU_x)\n",
        "print(XU_s)"
      ],
      "metadata": {
        "id": "1lmG9m0SMnzV"
      },
      "execution_count": null,
      "outputs": []
    },
    {
      "cell_type": "code",
      "source": [
        "y_20 =np.array([0,0,0,0,0,0,0,0,0,0,\n",
        "                0,0,0,0,0,0,0,0,0,0,\n",
        "                0,0,0,0,0,0,0,0,0,0,\n",
        "                0,0,0,0,0,0,0,0,0,0,\n",
        "                0,0,0,0,0,0,0,0,0,0,\n",
        "                0,0,0,0,0,0,0,0,0,0,\n",
        "                0,0,0,0,0,0,0,0,0,0,\n",
        "                0,0,0,0,0,0,0,0,0,0,\n",
        "                0,0,0,0,0,0,0,0,0,0,\n",
        "                0,0,0,0,0,0,0,0,0,0,\n",
        "                1,1,1,1,1,1,1,1,1,1,\n",
        "                1,1,1,1,1,1,1,1,1,1,\n",
        "                1,1,1,1,1,1,1,1,1,1,\n",
        "                1,1,1,1,1,1,1,1,1,1,\n",
        "                1,1,1,1,1,1,1,1,1,1,\n",
        "                1,1,1,1,1,1,1,1,1,1,\n",
        "                1,1,1,1,1,1,1,1,1,1,\n",
        "                1,1,1,1,1,1,1,1,1,1,\n",
        "                1,1,1,1,1,1,1,1,1,1,\n",
        "                1,1,1,1,1,1,1,1,1,1\n",
        "                ])"
      ],
      "metadata": {
        "id": "_YPbKz-Wt5SK"
      },
      "execution_count": 7,
      "outputs": []
    },
    {
      "cell_type": "code",
      "source": [
        "print(da.shape)\n",
        "print(y_20.shape)"
      ],
      "metadata": {
        "colab": {
          "base_uri": "https://localhost:8080/"
        },
        "id": "lbkteFKquNjq",
        "outputId": "eb3a284a-a4bf-468f-9b15-09f978af3579"
      },
      "execution_count": 8,
      "outputs": [
        {
          "output_type": "stream",
          "name": "stdout",
          "text": [
            "(200, 1)\n",
            "(200,)\n"
          ]
        }
      ]
    },
    {
      "cell_type": "code",
      "source": [
        "# Asi veremos información estadística básica de nuestro set de datos. La Media, el desvío estándar, \n",
        "# valores mínimo y máximo de cada característica:\n",
        "# VAMOS A CONVERTIR LA MATRIZ DE NP a UN DF \n",
        "df = pd.DataFrame(XU_s)\n",
        "df.describe()"
      ],
      "metadata": {
        "colab": {
          "base_uri": "https://localhost:8080/",
          "height": 300
        },
        "id": "pasQQJkv-4Rq",
        "outputId": "694d965c-b66f-4c71-88b2-3c5d717d3c5b"
      },
      "execution_count": 9,
      "outputs": [
        {
          "output_type": "execute_result",
          "data": {
            "text/plain": [
              "                0           1             2\n",
              "count  200.000000  200.000000    200.000000\n",
              "mean     5.723963    1.499971    219.037845\n",
              "std     11.501489    0.877573   1477.827866\n",
              "min    -17.322665    0.020281      0.001637\n",
              "25%     -0.603190    0.733597      0.332502\n",
              "50%      0.718802    1.559210      3.898875\n",
              "75%     10.470604    2.258964     23.364923\n",
              "max     50.021304    2.987791  18663.086075"
            ],
            "text/html": [
              "\n",
              "  <div id=\"df-7c7b175f-a761-469f-8373-fd556c41a4f0\">\n",
              "    <div class=\"colab-df-container\">\n",
              "      <div>\n",
              "<style scoped>\n",
              "    .dataframe tbody tr th:only-of-type {\n",
              "        vertical-align: middle;\n",
              "    }\n",
              "\n",
              "    .dataframe tbody tr th {\n",
              "        vertical-align: top;\n",
              "    }\n",
              "\n",
              "    .dataframe thead th {\n",
              "        text-align: right;\n",
              "    }\n",
              "</style>\n",
              "<table border=\"1\" class=\"dataframe\">\n",
              "  <thead>\n",
              "    <tr style=\"text-align: right;\">\n",
              "      <th></th>\n",
              "      <th>0</th>\n",
              "      <th>1</th>\n",
              "      <th>2</th>\n",
              "    </tr>\n",
              "  </thead>\n",
              "  <tbody>\n",
              "    <tr>\n",
              "      <th>count</th>\n",
              "      <td>200.000000</td>\n",
              "      <td>200.000000</td>\n",
              "      <td>200.000000</td>\n",
              "    </tr>\n",
              "    <tr>\n",
              "      <th>mean</th>\n",
              "      <td>5.723963</td>\n",
              "      <td>1.499971</td>\n",
              "      <td>219.037845</td>\n",
              "    </tr>\n",
              "    <tr>\n",
              "      <th>std</th>\n",
              "      <td>11.501489</td>\n",
              "      <td>0.877573</td>\n",
              "      <td>1477.827866</td>\n",
              "    </tr>\n",
              "    <tr>\n",
              "      <th>min</th>\n",
              "      <td>-17.322665</td>\n",
              "      <td>0.020281</td>\n",
              "      <td>0.001637</td>\n",
              "    </tr>\n",
              "    <tr>\n",
              "      <th>25%</th>\n",
              "      <td>-0.603190</td>\n",
              "      <td>0.733597</td>\n",
              "      <td>0.332502</td>\n",
              "    </tr>\n",
              "    <tr>\n",
              "      <th>50%</th>\n",
              "      <td>0.718802</td>\n",
              "      <td>1.559210</td>\n",
              "      <td>3.898875</td>\n",
              "    </tr>\n",
              "    <tr>\n",
              "      <th>75%</th>\n",
              "      <td>10.470604</td>\n",
              "      <td>2.258964</td>\n",
              "      <td>23.364923</td>\n",
              "    </tr>\n",
              "    <tr>\n",
              "      <th>max</th>\n",
              "      <td>50.021304</td>\n",
              "      <td>2.987791</td>\n",
              "      <td>18663.086075</td>\n",
              "    </tr>\n",
              "  </tbody>\n",
              "</table>\n",
              "</div>\n",
              "      <button class=\"colab-df-convert\" onclick=\"convertToInteractive('df-7c7b175f-a761-469f-8373-fd556c41a4f0')\"\n",
              "              title=\"Convert this dataframe to an interactive table.\"\n",
              "              style=\"display:none;\">\n",
              "        \n",
              "  <svg xmlns=\"http://www.w3.org/2000/svg\" height=\"24px\"viewBox=\"0 0 24 24\"\n",
              "       width=\"24px\">\n",
              "    <path d=\"M0 0h24v24H0V0z\" fill=\"none\"/>\n",
              "    <path d=\"M18.56 5.44l.94 2.06.94-2.06 2.06-.94-2.06-.94-.94-2.06-.94 2.06-2.06.94zm-11 1L8.5 8.5l.94-2.06 2.06-.94-2.06-.94L8.5 2.5l-.94 2.06-2.06.94zm10 10l.94 2.06.94-2.06 2.06-.94-2.06-.94-.94-2.06-.94 2.06-2.06.94z\"/><path d=\"M17.41 7.96l-1.37-1.37c-.4-.4-.92-.59-1.43-.59-.52 0-1.04.2-1.43.59L10.3 9.45l-7.72 7.72c-.78.78-.78 2.05 0 2.83L4 21.41c.39.39.9.59 1.41.59.51 0 1.02-.2 1.41-.59l7.78-7.78 2.81-2.81c.8-.78.8-2.07 0-2.86zM5.41 20L4 18.59l7.72-7.72 1.47 1.35L5.41 20z\"/>\n",
              "  </svg>\n",
              "      </button>\n",
              "      \n",
              "  <style>\n",
              "    .colab-df-container {\n",
              "      display:flex;\n",
              "      flex-wrap:wrap;\n",
              "      gap: 12px;\n",
              "    }\n",
              "\n",
              "    .colab-df-convert {\n",
              "      background-color: #E8F0FE;\n",
              "      border: none;\n",
              "      border-radius: 50%;\n",
              "      cursor: pointer;\n",
              "      display: none;\n",
              "      fill: #1967D2;\n",
              "      height: 32px;\n",
              "      padding: 0 0 0 0;\n",
              "      width: 32px;\n",
              "    }\n",
              "\n",
              "    .colab-df-convert:hover {\n",
              "      background-color: #E2EBFA;\n",
              "      box-shadow: 0px 1px 2px rgba(60, 64, 67, 0.3), 0px 1px 3px 1px rgba(60, 64, 67, 0.15);\n",
              "      fill: #174EA6;\n",
              "    }\n",
              "\n",
              "    [theme=dark] .colab-df-convert {\n",
              "      background-color: #3B4455;\n",
              "      fill: #D2E3FC;\n",
              "    }\n",
              "\n",
              "    [theme=dark] .colab-df-convert:hover {\n",
              "      background-color: #434B5C;\n",
              "      box-shadow: 0px 1px 3px 1px rgba(0, 0, 0, 0.15);\n",
              "      filter: drop-shadow(0px 1px 2px rgba(0, 0, 0, 0.3));\n",
              "      fill: #FFFFFF;\n",
              "    }\n",
              "  </style>\n",
              "\n",
              "      <script>\n",
              "        const buttonEl =\n",
              "          document.querySelector('#df-7c7b175f-a761-469f-8373-fd556c41a4f0 button.colab-df-convert');\n",
              "        buttonEl.style.display =\n",
              "          google.colab.kernel.accessAllowed ? 'block' : 'none';\n",
              "\n",
              "        async function convertToInteractive(key) {\n",
              "          const element = document.querySelector('#df-7c7b175f-a761-469f-8373-fd556c41a4f0');\n",
              "          const dataTable =\n",
              "            await google.colab.kernel.invokeFunction('convertToInteractive',\n",
              "                                                     [key], {});\n",
              "          if (!dataTable) return;\n",
              "\n",
              "          const docLinkHtml = 'Like what you see? Visit the ' +\n",
              "            '<a target=\"_blank\" href=https://colab.research.google.com/notebooks/data_table.ipynb>data table notebook</a>'\n",
              "            + ' to learn more about interactive tables.';\n",
              "          element.innerHTML = '';\n",
              "          dataTable['output_type'] = 'display_data';\n",
              "          await google.colab.output.renderOutput(dataTable, element);\n",
              "          const docLink = document.createElement('div');\n",
              "          docLink.innerHTML = docLinkHtml;\n",
              "          element.appendChild(docLink);\n",
              "        }\n",
              "      </script>\n",
              "    </div>\n",
              "  </div>\n",
              "  "
            ]
          },
          "metadata": {},
          "execution_count": 9
        }
      ]
    },
    {
      "cell_type": "code",
      "source": [
        "# Dibujamos los histogramas para checkear la distribución de las variables usando el dataframe df20:\n",
        "plt.figure(figsize = (10,15))\n",
        "\n",
        "plt.subplot(2,2,1)\n",
        "fig =df[0].hist(bins=30)\n",
        "fig.set_xlabel('Dist. Normal')\n",
        "fig.set_ylabel('Dist. Normal')\n",
        "\n",
        "plt.subplot(2,2,2)\n",
        "fig =df[1].hist(bins=30)\n",
        "fig.set_xlabel('Dist. Uniforme')\n",
        "fig.set_ylabel('Dist. Uniforme')\n",
        "\n",
        "plt.subplot(2,2,3)\n",
        "fig =df[2].hist(bins=30)\n",
        "fig.set_xlabel('Dist. Sesgada')\n",
        "fig.set_ylabel('Dist. Sesgada')\n"
      ],
      "metadata": {
        "colab": {
          "base_uri": "https://localhost:8080/",
          "height": 895
        },
        "id": "UJmqybYX_jI_",
        "outputId": "50c8a81f-7b7c-4bac-e307-ce705ec889c9"
      },
      "execution_count": 10,
      "outputs": [
        {
          "output_type": "execute_result",
          "data": {
            "text/plain": [
              "Text(0, 0.5, 'Dist. Sesgada')"
            ]
          },
          "metadata": {},
          "execution_count": 10
        },
        {
          "output_type": "display_data",
          "data": {
            "text/plain": [
              "<Figure size 720x1080 with 3 Axes>"
            ],
            "image/png": "[encoded data removed]"
          },
          "metadata": {
            "needs_background": "light"
          }
        }
      ]
    },
    {
      "cell_type": "code",
      "source": [
        "# train a logistic regression model on the training set\n",
        "\n",
        "from sklearn.linear_model import LogisticRegression\n",
        "from sklearn.model_selection import train_test_split \n",
        "X_train, X_test, y_train, y_test = train_test_split(XU_s,y_20,test_size=0.2)\n"
      ],
      "metadata": {
        "id": "EDAFpYNTB4YM"
      },
      "execution_count": 11,
      "outputs": []
    },
    {
      "cell_type": "code",
      "source": [
        "# instantiate the model\n",
        "logreg = LogisticRegression(solver='liblinear', random_state=0) # OBTENGO Model accuracy score: 0.9500 Confusion matrix\n",
        "                                                                                                          # [[10  0]\n",
        "                                                                                                          # [ 1  9]]\n",
        "#logreg = LogisticRegression(solver='newton-cg', random_state=0) # Model accuracy score: 1.0000 Confusion matrix\n",
        "                                                                                                # [[10  0]\n",
        "                                                                                                # [ 0 10]]\n",
        "#logreg = LogisticRegression(solver='sag', random_state=0) # Model accuracy score: 0.9500 Confusion matrix\n",
        "                                                                                          # [[ 9  1]\n",
        "                                                                                          # [ 0 10]]\n",
        "#logreg = LogisticRegression(solver='saga', random_state=0) # Model accuracy score: 0.9000 Confusion matrix\n",
        "                                                                                          # [[9 1]\n",
        "                                                                                          # [1 9]]\n",
        "#logreg = LogisticRegression(solver='lbfgs',random_state=0) # Model accuracy score: 1.0000 Confusion matrix\n",
        "                                                                                          # [[10  0]\n",
        "                                                                                          # [ 0 10]]\n",
        "\n",
        "# fit the model\n",
        "logreg.fit(X_train, y_train)\n"
      ],
      "metadata": {
        "colab": {
          "base_uri": "https://localhost:8080/"
        },
        "id": "MIqWcZk5IeWl",
        "outputId": "0421a474-8b56-43d4-dac7-d895208c9e55"
      },
      "execution_count": 12,
      "outputs": [
        {
          "output_type": "execute_result",
          "data": {
            "text/plain": [
              "LogisticRegression(random_state=0, solver='liblinear')"
            ]
          },
          "metadata": {},
          "execution_count": 12
        }
      ]
    },
    {
      "cell_type": "code",
      "source": [
        "# ESTA ES LA PREDICCION\n",
        "y_pred_test = logreg.predict(X_test)\n",
        "\n",
        "y_pred_test"
      ],
      "metadata": {
        "colab": {
          "base_uri": "https://localhost:8080/"
        },
        "id": "TgNeLMoIvAia",
        "outputId": "08da1514-368c-46fb-b7db-bcfa14788309"
      },
      "execution_count": 13,
      "outputs": [
        {
          "output_type": "execute_result",
          "data": {
            "text/plain": [
              "array([0, 0, 1, 0, 1, 0, 0, 1, 0, 1, 1, 0, 1, 1, 1, 0, 0, 0, 0, 0, 0, 0,\n",
              "       0, 1, 0, 1, 0, 0, 1, 1, 0, 0, 0, 1, 1, 0, 0, 0, 1, 0])"
            ]
          },
          "metadata": {},
          "execution_count": 13
        }
      ]
    },
    {
      "cell_type": "code",
      "source": [
        "# CALCULO LA PRESICION DEL ALGORITMO DE PREDICCION COMPARANDO EL Y DE SALIDA REAL VS LA PREDICCION\n",
        "from sklearn.metrics import accuracy_score\n",
        "\n",
        "print('Model accuracy score: {0:0.4f}'. format(accuracy_score(y_test, y_pred_test)))"
      ],
      "metadata": {
        "colab": {
          "base_uri": "https://localhost:8080/"
        },
        "id": "TwYwo6K9Mpj1",
        "outputId": "9a8e2a12-7dc0-4457-c400-521ea9d59b1e"
      },
      "execution_count": 14,
      "outputs": [
        {
          "output_type": "stream",
          "name": "stdout",
          "text": [
            "Model accuracy score: 0.9500\n"
          ]
        }
      ]
    },
    {
      "cell_type": "code",
      "source": [
        "# Creamos nuestra Matriz de Confusión:\n",
        "# COMPARANDO EL Y DE SALIDA REAL VS LA PREDICCION\n",
        "\n",
        "from sklearn.metrics import confusion_matrix\n",
        "\n",
        "cm = confusion_matrix(y_test, y_pred_test)\n",
        "print('Confusion matrix\\n\\n', cm)\n",
        "print('\\nTrue Positives(TP) = ', cm[0,0])\n",
        "print('\\nTrue Negatives(TN) = ', cm[1,1])\n",
        "print('\\nFalse Positives(FP) = ', cm[0,1])\n",
        "print('\\nFalse Negatives(FN) = ', cm[1,0])"
      ],
      "metadata": {
        "id": "I3ugYxj-PhGR",
        "colab": {
          "base_uri": "https://localhost:8080/"
        },
        "outputId": "fafe02a7-0523-4d1c-d903-50e51ec4f48e"
      },
      "execution_count": 15,
      "outputs": [
        {
          "output_type": "stream",
          "name": "stdout",
          "text": [
            "Confusion matrix\n",
            "\n",
            " [[23  0]\n",
            " [ 2 15]]\n",
            "\n",
            "True Positives(TP) =  23\n",
            "\n",
            "True Negatives(TN) =  15\n",
            "\n",
            "False Positives(FP) =  0\n",
            "\n",
            "False Negatives(FN) =  2\n"
          ]
        }
      ]
    },
    {
      "cell_type": "code",
      "source": [
        "# Visualizamos la Matriz de Confusión:\n",
        "cm_matrix = pd.DataFrame(data=cm, columns=['Actual Positive:1', 'Actual Negative:0'], \n",
        "                                 index=['Predict Positive:1', 'Predict Negative:0'])\n",
        "sns.heatmap(cm_matrix, annot=True, fmt='d', cmap='YlGnBu')"
      ],
      "metadata": {
        "colab": {
          "base_uri": "https://localhost:8080/",
          "height": 284
        },
        "id": "m4uvJQg_9iPG",
        "outputId": "f11f41dc-ddba-4327-cfbe-a96decd02ecf"
      },
      "execution_count": 16,
      "outputs": [
        {
          "output_type": "execute_result",
          "data": {
            "text/plain": [
              "<matplotlib.axes._subplots.AxesSubplot at 0x7fa746646c10>"
            ]
          },
          "metadata": {},
          "execution_count": 16
        },
        {
          "output_type": "display_data",
          "data": {
            "text/plain": [
              "<Figure size 432x288 with 2 Axes>"
            ],
            "image/png": "[encoded data removed]"
          },
          "metadata": {
            "needs_background": "light"
          }
        }
      ]
    },
    {
      "cell_type": "code",
      "source": [
        "# El Informe de Clasificación es otra forma de evaluar el rendimiento del modelo de clasificación.\n",
        "# Muestra las puntuaciones de precisión, recuperación, f1 y soporte para el modelo:\n",
        "from sklearn.metrics import classification_report\n",
        "\n",
        "print(classification_report(y_test, y_pred_test))"
      ],
      "metadata": {
        "colab": {
          "base_uri": "https://localhost:8080/"
        },
        "id": "PuhENg-F-cIv",
        "outputId": "1a350130-b88a-4ac0-c683-7afb9c96b0a9"
      },
      "execution_count": 17,
      "outputs": [
        {
          "output_type": "stream",
          "name": "stdout",
          "text": [
            "              precision    recall  f1-score   support\n",
            "\n",
            "           0       0.92      1.00      0.96        23\n",
            "           1       1.00      0.88      0.94        17\n",
            "\n",
            "    accuracy                           0.95        40\n",
            "   macro avg       0.96      0.94      0.95        40\n",
            "weighted avg       0.95      0.95      0.95        40\n",
            "\n"
          ]
        }
      ]
    },
    {
      "cell_type": "code",
      "source": [
        "# aqui se observa que variable tiene mayor influencia\n",
        "logreg.coef_"
      ],
      "metadata": {
        "colab": {
          "base_uri": "https://localhost:8080/"
        },
        "id": "uS-6VGlsQsZw",
        "outputId": "15f02d7f-cec5-42eb-9195-102f4c99628a"
      },
      "execution_count": 18,
      "outputs": [
        {
          "output_type": "execute_result",
          "data": {
            "text/plain": [
              "array([[ 8.68222863e-02,  2.69291551e+00, -5.94049120e-04]])"
            ]
          },
          "metadata": {},
          "execution_count": 18
        }
      ]
    },
    {
      "cell_type": "markdown",
      "source": [
        "## SUPUESTOS DE LA REGRESION LOGISTICA"
      ],
      "metadata": {
        "id": "P_Ju1ooaqPk5"
      }
    },
    {
      "cell_type": "markdown",
      "source": [
        "## SUPUESTO 1 - Tipo de resultado apropiado\n",
        "REGRESION LOGISTICA: la variable de respuesta es binaria [0,1]\n",
        "\n"
      ],
      "metadata": {
        "id": "ehrq0mLXqWxo"
      }
    },
    {
      "cell_type": "code",
      "source": [
        "# EVALUO LA SALIDA (OUTPUT) DEBE TENER  2 VALORES\n",
        "# la funcion unique de la libreria numpy nos permite leer un array de numpy y su salida son valores unicos\n",
        "# https://numpy.org/doc/stable/reference/generated/numpy.unique.html\n",
        "print(np.unique(y_20))"
      ],
      "metadata": {
        "colab": {
          "base_uri": "https://localhost:8080/"
        },
        "id": "uKdBcDJCqOj3",
        "outputId": "c89b0dbf-87f7-46b6-bd1e-03b23f3a9ece"
      },
      "execution_count": 19,
      "outputs": [
        {
          "output_type": "stream",
          "name": "stdout",
          "text": [
            "[0 1]\n"
          ]
        }
      ]
    },
    {
      "cell_type": "code",
      "source": [
        "# EVALUO LA CANTIDAD DE VALORES QUE HAY PARA CADA UNO\n",
        "df_y = pd.DataFrame(y_20)\n",
        "df_y.groupby([0]).size()"
      ],
      "metadata": {
        "colab": {
          "base_uri": "https://localhost:8080/"
        },
        "id": "4QP1kZOrstJD",
        "outputId": "82477b1e-04dc-45ec-9871-e185a838f217"
      },
      "execution_count": 20,
      "outputs": [
        {
          "output_type": "execute_result",
          "data": {
            "text/plain": [
              "0\n",
              "0    100\n",
              "1    100\n",
              "dtype: int64"
            ]
          },
          "metadata": {},
          "execution_count": 20
        }
      ]
    },
    {
      "cell_type": "markdown",
      "source": [
        "## SUPUESTO 2 - Linealidad de variables independientes y probabilidades logarítmicas\n",
        "\n",
        "REGRESION LOGISTICA: Existe una relación lineal entre las variables explicativas y el logit de la variable de respuesta\n",
        "\n",
        "## **FUNCION LOGIT**\n",
        "\n",
        "* La función logit es una parte importante de la regresión logística\n",
        "**En matemáticas, especialmente aquellas aplicadas en estadística, el logit de un número p entre 0 y 1 es**\n",
        "\n",
        "La base de la función logaritmo usada aquí es de poca importancia, siempre y cuando **sea mayor que 1**, aunque se usa a menudo el logaritmo natural con base e.\n",
        "\n",
        "**La función logit es la inversa del \"sigmoide\", o función \"logística\".**\n",
        "\n",
        "* Si p es una probabilidad entonces p/(1 − p) es la razón de momios, y el logit de la probabilidad es el logaritmo de la razón de momios; \n",
        "* **La diferencia entre los logits de dos probabilidades es el logaritmo del odds ratio (OR), obteniéndose así un mecanismo aditivo para combinar odds-ratios.**\n",
        "\n",
        "# Prueba de caja-Tidwell\n",
        "\n",
        "Uno de los supuestos importantes de la regresión logística es la linealidad del logit sobre las covariables continuas. Esta suposición significa que las relaciones entre los predictores continuos y el logit (logaritmo de probabilidades) son lineales.\n",
        "* La transformación de Box-Tidwell (prueba) se puede utilizar para probar la \n",
        "linealidad en el supuesto logit cuando se realiza una regresión logística.\n",
        "* **Comprueba si la transformada logit es una función lineal del predictor, agregando efectivamente la transformada no lineal del predictor original como un término de interacción para probar si esta adición no mejoró la predicción.** \n",
        "* Un valor **p estadísticamente significativo** del término de interacción en la transformación de Box-Tidwell **significa que se viola la suposición de linealidad**\n",
        "* **Si se encuentra que una variable no es lineal**, podemos resolverla incorporando términos polinómicos de orden superior para esa variable en el análisis de regresión para capturar la no linealidad (por ejemplo, x^2). **Otra solución a este problema es la categorización de las variables independientes. Eso es transformar variables métricas a nivel ordinal y luego incluirlas en el modelo.**"
      ],
      "metadata": {
        "id": "DxPBs5IJwRe-"
      }
    },
    {
      "cell_type": "markdown",
      "source": [
        "### LOGARITMO DE ODD"
      ],
      "metadata": {
        "id": "V3VrojWspgM6"
      }
    },
    {
      "cell_type": "code",
      "source": [
        "# VAMOS A CONVERTIR LA MATRIZ DE NP a UN DF \n",
        "df = pd.DataFrame(XU_s)\n",
        "\n",
        "# CREAMOS UNA COPIA DEL DF ORIGINAL PARA NO ALTERAR EL ORIGINAL\n",
        "df_lt = df.copy()  # lt = logit transform\n",
        "\n",
        "# Add logit transform interaction terms (natural log) for continuous variables e.g. Age * Log(Age)\n",
        "for var in df_lt.columns:\n",
        "    df_lt[f'{var}:Log_{var}'] = df_lt[var].apply(lambda x: x * np.log(x)) #np.log = natural log\n",
        "\n",
        "df_lt.head()\n",
        "# ESTA FUNCION GENERA COLUMNAS NUEVAS POR CADA UNA DE LAS VARIABLES SU LOGARITMO DE OD PARA PODER VER SU LINEALIDAD\n",
        "# DEBE SER LINEAL LA VARIABLE DE INTERES (INDEPENDIENTE) CON RESPECTO A SU LOGARITMO DE ODD ( se calcula la variable * logaritmo de si mismo)"
      ],
      "metadata": {
        "colab": {
          "base_uri": "https://localhost:8080/",
          "height": 206
        },
        "id": "uiyng2C0ggsd",
        "outputId": "2bee0e89-9e64-4817-a82d-a788db8f79fb"
      },
      "execution_count": 81,
      "outputs": [
        {
          "output_type": "execute_result",
          "data": {
            "text/plain": [
              "          0         1           2   0:Log_0   1:Log_1      2:Log_2\n",
              "0  0.537882  0.099344   26.293503 -0.333549 -0.229402    85.961923\n",
              "1 -0.813969  1.331739  225.907185       NaN  0.381524  1224.445004\n",
              "2  0.338798  0.481390  462.812931 -0.366698 -0.351934  2840.432416\n",
              "3 -0.815003  0.102035   17.998015       NaN -0.232889    52.018970\n",
              "4  0.757602  0.289399    4.055500 -0.210308 -0.358840     5.677999"
            ],
            "text/html": [
              "\n",
              "  <div id=\"df-29658450-3c08-4e37-b2e3-613aced731ec\">\n",
              "    <div class=\"colab-df-container\">\n",
              "      <div>\n",
              "<style scoped>\n",
              "    .dataframe tbody tr th:only-of-type {\n",
              "        vertical-align: middle;\n",
              "    }\n",
              "\n",
              "    .dataframe tbody tr th {\n",
              "        vertical-align: top;\n",
              "    }\n",
              "\n",
              "    .dataframe thead th {\n",
              "        text-align: right;\n",
              "    }\n",
              "</style>\n",
              "<table border=\"1\" class=\"dataframe\">\n",
              "  <thead>\n",
              "    <tr style=\"text-align: right;\">\n",
              "      <th></th>\n",
              "      <th>0</th>\n",
              "      <th>1</th>\n",
              "      <th>2</th>\n",
              "      <th>0:Log_0</th>\n",
              "      <th>1:Log_1</th>\n",
              "      <th>2:Log_2</th>\n",
              "    </tr>\n",
              "  </thead>\n",
              "  <tbody>\n",
              "    <tr>\n",
              "      <th>0</th>\n",
              "      <td>0.537882</td>\n",
              "      <td>0.099344</td>\n",
              "      <td>26.293503</td>\n",
              "      <td>-0.333549</td>\n",
              "      <td>-0.229402</td>\n",
              "      <td>85.961923</td>\n",
              "    </tr>\n",
              "    <tr>\n",
              "      <th>1</th>\n",
              "      <td>-0.813969</td>\n",
              "      <td>1.331739</td>\n",
              "      <td>225.907185</td>\n",
              "      <td>NaN</td>\n",
              "      <td>0.381524</td>\n",
              "      <td>1224.445004</td>\n",
              "    </tr>\n",
              "    <tr>\n",
              "      <th>2</th>\n",
              "      <td>0.338798</td>\n",
              "      <td>0.481390</td>\n",
              "      <td>462.812931</td>\n",
              "      <td>-0.366698</td>\n",
              "      <td>-0.351934</td>\n",
              "      <td>2840.432416</td>\n",
              "    </tr>\n",
              "    <tr>\n",
              "      <th>3</th>\n",
              "      <td>-0.815003</td>\n",
              "      <td>0.102035</td>\n",
              "      <td>17.998015</td>\n",
              "      <td>NaN</td>\n",
              "      <td>-0.232889</td>\n",
              "      <td>52.018970</td>\n",
              "    </tr>\n",
              "    <tr>\n",
              "      <th>4</th>\n",
              "      <td>0.757602</td>\n",
              "      <td>0.289399</td>\n",
              "      <td>4.055500</td>\n",
              "      <td>-0.210308</td>\n",
              "      <td>-0.358840</td>\n",
              "      <td>5.677999</td>\n",
              "    </tr>\n",
              "  </tbody>\n",
              "</table>\n",
              "</div>\n",
              "      <button class=\"colab-df-convert\" onclick=\"convertToInteractive('df-29658450-3c08-4e37-b2e3-613aced731ec')\"\n",
              "              title=\"Convert this dataframe to an interactive table.\"\n",
              "              style=\"display:none;\">\n",
              "        \n",
              "  <svg xmlns=\"http://www.w3.org/2000/svg\" height=\"24px\"viewBox=\"0 0 24 24\"\n",
              "       width=\"24px\">\n",
              "    <path d=\"M0 0h24v24H0V0z\" fill=\"none\"/>\n",
              "    <path d=\"M18.56 5.44l.94 2.06.94-2.06 2.06-.94-2.06-.94-.94-2.06-.94 2.06-2.06.94zm-11 1L8.5 8.5l.94-2.06 2.06-.94-2.06-.94L8.5 2.5l-.94 2.06-2.06.94zm10 10l.94 2.06.94-2.06 2.06-.94-2.06-.94-.94-2.06-.94 2.06-2.06.94z\"/><path d=\"M17.41 7.96l-1.37-1.37c-.4-.4-.92-.59-1.43-.59-.52 0-1.04.2-1.43.59L10.3 9.45l-7.72 7.72c-.78.78-.78 2.05 0 2.83L4 21.41c.39.39.9.59 1.41.59.51 0 1.02-.2 1.41-.59l7.78-7.78 2.81-2.81c.8-.78.8-2.07 0-2.86zM5.41 20L4 18.59l7.72-7.72 1.47 1.35L5.41 20z\"/>\n",
              "  </svg>\n",
              "      </button>\n",
              "      \n",
              "  <style>\n",
              "    .colab-df-container {\n",
              "      display:flex;\n",
              "      flex-wrap:wrap;\n",
              "      gap: 12px;\n",
              "    }\n",
              "\n",
              "    .colab-df-convert {\n",
              "      background-color: #E8F0FE;\n",
              "      border: none;\n",
              "      border-radius: 50%;\n",
              "      cursor: pointer;\n",
              "      display: none;\n",
              "      fill: #1967D2;\n",
              "      height: 32px;\n",
              "      padding: 0 0 0 0;\n",
              "      width: 32px;\n",
              "    }\n",
              "\n",
              "    .colab-df-convert:hover {\n",
              "      background-color: #E2EBFA;\n",
              "      box-shadow: 0px 1px 2px rgba(60, 64, 67, 0.3), 0px 1px 3px 1px rgba(60, 64, 67, 0.15);\n",
              "      fill: #174EA6;\n",
              "    }\n",
              "\n",
              "    [theme=dark] .colab-df-convert {\n",
              "      background-color: #3B4455;\n",
              "      fill: #D2E3FC;\n",
              "    }\n",
              "\n",
              "    [theme=dark] .colab-df-convert:hover {\n",
              "      background-color: #434B5C;\n",
              "      box-shadow: 0px 1px 3px 1px rgba(0, 0, 0, 0.15);\n",
              "      filter: drop-shadow(0px 1px 2px rgba(0, 0, 0, 0.3));\n",
              "      fill: #FFFFFF;\n",
              "    }\n",
              "  </style>\n",
              "\n",
              "      <script>\n",
              "        const buttonEl =\n",
              "          document.querySelector('#df-29658450-3c08-4e37-b2e3-613aced731ec button.colab-df-convert');\n",
              "        buttonEl.style.display =\n",
              "          google.colab.kernel.accessAllowed ? 'block' : 'none';\n",
              "\n",
              "        async function convertToInteractive(key) {\n",
              "          const element = document.querySelector('#df-29658450-3c08-4e37-b2e3-613aced731ec');\n",
              "          const dataTable =\n",
              "            await google.colab.kernel.invokeFunction('convertToInteractive',\n",
              "                                                     [key], {});\n",
              "          if (!dataTable) return;\n",
              "\n",
              "          const docLinkHtml = 'Like what you see? Visit the ' +\n",
              "            '<a target=\"_blank\" href=https://colab.research.google.com/notebooks/data_table.ipynb>data table notebook</a>'\n",
              "            + ' to learn more about interactive tables.';\n",
              "          element.innerHTML = '';\n",
              "          dataTable['output_type'] = 'display_data';\n",
              "          await google.colab.output.renderOutput(dataTable, element);\n",
              "          const docLink = document.createElement('div');\n",
              "          docLink.innerHTML = docLinkHtml;\n",
              "          element.appendChild(docLink);\n",
              "        }\n",
              "      </script>\n",
              "    </div>\n",
              "  </div>\n",
              "  "
            ]
          },
          "metadata": {},
          "execution_count": 81
        }
      ]
    },
    {
      "cell_type": "code",
      "source": [
        "# GRAFICO LAS COLUMNAS PARA OBSERVAR SU LINEALIDAD\n",
        "plt.figure(figsize = (10,15))\n",
        "\n",
        "plt.subplot(2,2,1)\n",
        "\n",
        "plt.title ('Dist. NORMAL')\n",
        "plt.scatter(df_lt[0],df_lt['0:Log_0'])\n",
        "plt.figure(figsize=(10,15))\n",
        "plt.subplot(2,2,2)\n",
        "plt.title ('Dist. UNIFORME')\n",
        "plt.scatter(df_lt[1],df_lt['1:Log_1'])\n",
        "plt.figure(figsize=(10,15))\n",
        "plt.subplot(2,2,3)\n",
        "plt.title ('Dist. SESGADA')\n",
        "plt.scatter(df_lt[2],df_lt['2:Log_2'])"
      ],
      "metadata": {
        "colab": {
          "base_uri": "https://localhost:8080/",
          "height": 1000
        },
        "id": "JwF9nv1vm6Gt",
        "outputId": "afc3f4cd-8592-4608-ff66-9ff70d02f092"
      },
      "execution_count": 38,
      "outputs": [
        {
          "output_type": "execute_result",
          "data": {
            "text/plain": [
              "<matplotlib.collections.PathCollection at 0x7fa7411257d0>"
            ]
          },
          "metadata": {},
          "execution_count": 38
        },
        {
          "output_type": "display_data",
          "data": {
            "text/plain": [
              "<Figure size 720x1080 with 1 Axes>"
            ],
            "image/png": "[encoded data removed]"
          },
          "metadata": {
            "needs_background": "light"
          }
        },
        {
          "output_type": "display_data",
          "data": {
            "text/plain": [
              "<Figure size 720x1080 with 1 Axes>"
            ],
            "image/png": "[encoded data removed]"
          },
          "metadata": {
            "needs_background": "light"
          }
        },
        {
          "output_type": "display_data",
          "data": {
            "text/plain": [
              "<Figure size 720x1080 with 1 Axes>"
            ],
            "image/png": "[encoded data removed]"
          },
          "metadata": {
            "needs_background": "light"
          }
        }
      ]
    },
    {
      "cell_type": "code",
      "source": [
        "df_lt.head()\n",
        "print(df_lt.columns.tolist())\n",
        "df_lt['0:Log_0']\n"
      ],
      "metadata": {
        "colab": {
          "base_uri": "https://localhost:8080/"
        },
        "id": "RydbxgxewXHe",
        "outputId": "a111e95f-8678-4dc2-8a66-a9e769efa8fd"
      },
      "execution_count": 95,
      "outputs": [
        {
          "output_type": "stream",
          "name": "stdout",
          "text": [
            "[0, 1, 2, '0:Log_0', '1:Log_1', '2:Log_2']\n"
          ]
        },
        {
          "output_type": "execute_result",
          "data": {
            "text/plain": [
              "0       -0.333549\n",
              "1             NaN\n",
              "2       -0.366698\n",
              "3             NaN\n",
              "4       -0.210308\n",
              "          ...    \n",
              "195     16.042531\n",
              "196     43.486823\n",
              "197      1.795672\n",
              "198      6.067549\n",
              "199    134.152130\n",
              "Name: 0:Log_0, Length: 200, dtype: float64"
            ]
          },
          "metadata": {},
          "execution_count": 95
        }
      ]
    },
    {
      "cell_type": "code",
      "source": [
        "# DEFINO LIBRERIAS DE STATSMODELS\n",
        "import statsmodels.api as sm\n",
        "from statsmodels.genmod.generalized_linear_model import GLM\n",
        "from statsmodels.genmod import families\n",
        "from statsmodels.stats.outliers_influence import variance_inflation_factor\n",
        "\n",
        "# Redefine independent variables to include interaction terms\n",
        "\n",
        "###\n",
        "  # AYUDA!! NO SE XQ DA ERROR AL CREAR EL NUEVO DF X_lt\n",
        "###\n",
        "# X_lt = df_lt[0,1,'0:Log_0','1:Log_1'] # no me deja crear ese DF xq dice que la key pasada no existe ??\n",
        "y_lt = pd.DataFrame(y_20)\n",
        "print(y_lt) \n",
        "\n",
        "\n",
        "# Add constant\n",
        "X_lt_constant = sm.add_constant(X_lt, prepend=False)\n",
        "  \n",
        "# Build model and fit the data (using statsmodel's Logit)\n",
        "logit_results = GLM(y_lt, X_lt_constant, family=families.Binomial()).fit()\n",
        "# logit_results = GLM(y_lt, X_lt, family=families.Binomial()).fit()\n",
        "\n",
        "# Display summary results\n",
        "print(logit_results.summary())"
      ],
      "metadata": {
        "id": "hhmL3b0cutwu",
        "colab": {
          "base_uri": "https://localhost:8080/"
        },
        "outputId": "0aa89dfa-7bc2-4b11-aac9-2ad3acd3e16f"
      },
      "execution_count": 108,
      "outputs": [
        {
          "output_type": "stream",
          "name": "stdout",
          "text": [
            "     0\n",
            "0    0\n",
            "1    0\n",
            "2    0\n",
            "3    0\n",
            "4    0\n",
            "..  ..\n",
            "195  1\n",
            "196  1\n",
            "197  1\n",
            "198  1\n",
            "199  1\n",
            "\n",
            "[200 rows x 1 columns]\n",
            "                 Generalized Linear Model Regression Results                  \n",
            "==============================================================================\n",
            "Dep. Variable:                      0   No. Observations:                  200\n",
            "Model:                            GLM   Df Residuals:                      198\n",
            "Model Family:                Binomial   Df Model:                            1\n",
            "Link Function:                  logit   Scale:                          1.0000\n",
            "Method:                          IRLS   Log-Likelihood:                -137.27\n",
            "Date:                Mon, 18 Apr 2022   Deviance:                       274.54\n",
            "Time:                        18:53:57   Pearson chi2:                     199.\n",
            "No. Iterations:                     6                                         \n",
            "Covariance Type:            nonrobust                                         \n",
            "==============================================================================\n",
            "                 coef    std err          z      P>|z|      [0.025      0.975]\n",
            "------------------------------------------------------------------------------\n",
            "2:Log_2    -3.379e-05   3.35e-05     -1.009      0.313   -9.94e-05    3.18e-05\n",
            "const          0.0376      0.144      0.261      0.794      -0.244       0.319\n",
            "==============================================================================\n"
          ]
        },
        {
          "output_type": "stream",
          "name": "stderr",
          "text": [
            "/usr/local/lib/python3.7/dist-packages/statsmodels/tsa/tsatools.py:117: FutureWarning: In a future version of pandas all arguments of concat except for the argument 'objs' will be keyword-only\n",
            "  x = pd.concat(x[::order], 1)\n"
          ]
        }
      ]
    },
    {
      "cell_type": "code",
      "source": [
        "predicted = logit_results.predict(X_lt_constant)\n",
        "\n",
        "# Get log odds values\n",
        "log_odds = np.log(predicted / (1 - predicted))\n",
        "\n",
        "# Visualize predictor continuous variable vs logit values (Age)\n",
        "plt.scatter(x=X_lt.values, y=log_odds);\n",
        "plt.show()"
      ],
      "metadata": {
        "colab": {
          "base_uri": "https://localhost:8080/",
          "height": 265
        },
        "id": "H0ZBhfQWy2oR",
        "outputId": "59ada582-8a60-44df-ed12-9b6037b16297"
      },
      "execution_count": 113,
      "outputs": [
        {
          "output_type": "display_data",
          "data": {
            "text/plain": [
              "<Figure size 432x288 with 1 Axes>"
            ],
            "image/png": "[encoded data removed]"
          },
          "metadata": {
            "needs_background": "light"
          }
        }
      ]
    },
    {
      "cell_type": "markdown",
      "source": [
        "## SUPUESTO 3 - No hay valores atípicos fuertemente influyentes\n",
        "* Los valores influyentes son puntos de datos individuales extremos que pueden alterar la calidad del modelo de regresión logística.\n",
        "* La distancia de Cook es una estimación de la influencia de un punto de datos. Tiene en cuenta tanto el apalancamiento como el residual de cada observación. * La distancia de Cook es un resumen de cuánto cambia un modelo de regresión cuando se elimina la i -ésima observación.\n",
        "* Una regla general es que cualquier observación con una distancia de Cook superior a 4/n (donde n = observaciones totales) se considera influyente ( https://www.statology.org/cooks-distance-python/ y https: //www.scikit-yb.org/en/latest/api/regressor/influence.html?highlight=cook#module-yellowbrick.regressor.influence ), aunque hay valores de corte aún más genéricos de >0.5-1.0.\n",
        "* Para valores atípicos, podemos usar los residuos estandarizados absolutos para identificarlos (std resid > 3)\n",
        "Referencia: https://www.statsmodels.org/dev/examples/notebooks/generated/influence_glm_logit.html"
      ],
      "metadata": {
        "id": "uctfI1PtGGhl"
      }
    },
    {
      "cell_type": "code",
      "source": [
        "import statsmodels.api as sm\n",
        "from statsmodels.genmod.generalized_linear_model import GLM\n",
        "from statsmodels.genmod import families\n",
        "from statsmodels.stats.outliers_influence import variance_inflation_factor"
      ],
      "metadata": {
        "id": "s8KMHHFrGg6_"
      },
      "execution_count": null,
      "outputs": []
    },
    {
      "cell_type": "code",
      "source": [
        "# Use GLM method for logreg here so that we can retrieve the influence measures\n",
        "# USO LAS MATRICES DE POBLACION\n",
        "logit_model = GLM(y_20, XU_s, family=families.Binomial())\n",
        "logit_results = logit_model.fit()\n",
        "print(logit_results.summary())"
      ],
      "metadata": {
        "colab": {
          "base_uri": "https://localhost:8080/"
        },
        "id": "4mzHsKF0GseO",
        "outputId": "bf5ef960-875c-422a-8798-67d10fa0e1d5"
      },
      "execution_count": null,
      "outputs": [
        {
          "output_type": "stream",
          "name": "stdout",
          "text": [
            "                 Generalized Linear Model Regression Results                  \n",
            "==============================================================================\n",
            "Dep. Variable:                      y   No. Observations:                  200\n",
            "Model:                            GLM   Df Residuals:                      197\n",
            "Model Family:                Binomial   Df Model:                            2\n",
            "Link Function:                  logit   Scale:                          1.0000\n",
            "Method:                          IRLS   Log-Likelihood:                -100.27\n",
            "Date:                Wed, 13 Apr 2022   Deviance:                       200.54\n",
            "Time:                        17:35:46   Pearson chi2:                     264.\n",
            "No. Iterations:                     7                                         \n",
            "Covariance Type:            nonrobust                                         \n",
            "==============================================================================\n",
            "                 coef    std err          z      P>|z|      [0.025      0.975]\n",
            "------------------------------------------------------------------------------\n",
            "x1             0.0568      0.020      2.828      0.005       0.017       0.096\n",
            "x2             0.5520      0.119      4.629      0.000       0.318       0.786\n",
            "x3            -0.0021      0.001     -2.840      0.005      -0.004      -0.001\n",
            "==============================================================================\n"
          ]
        }
      ]
    },
    {
      "cell_type": "code",
      "source": [
        "# Use GLM method for logreg here so that we can retrieve the influence measures\n",
        "# USO LAS MATRICES DE POBLACION\n",
        "# logit_model = GLM(y_train, X_train, family=families.Binomial())\n",
        "# logit_results = logit_model.fit()\n",
        "# print(logit_results.summary())"
      ],
      "metadata": {
        "id": "lD4EypgSJ-9j"
      },
      "execution_count": null,
      "outputs": []
    },
    {
      "cell_type": "code",
      "source": [
        "# Use GLM method for logreg here so that we can retrieve the influence measures\n",
        "# USO LAS MATRICES DE POBLACION\n",
        "# logit_model = GLM(y_train, X_train, family=families.Binomial())\n",
        "# logit_results = logit_model.fit()\n",
        "# print(logit_results.summary())"
      ],
      "metadata": {
        "id": "78IC2d97LcTp"
      },
      "execution_count": null,
      "outputs": []
    },
    {
      "cell_type": "code",
      "source": [
        "from scipy import stats\n",
        "# Get influence measures\n",
        "influence = logit_results.get_influence()\n",
        "\n",
        "# Obtain summary df of influence measures\n",
        "summ_df = influence.summary_frame()\n",
        "\n",
        "# Filter summary df to Cook distance\n",
        "diagnosis_df = summ_df.loc[:,['cooks_d']]\n",
        "\n",
        "# Append absolute standardized residual values\n",
        "diagnosis_df['std_resid'] = stats.zscore(logit_results.resid_pearson)\n",
        "diagnosis_df['std_resid'] = diagnosis_df.loc[:,'std_resid'].apply(lambda x: np.abs(x))\n",
        "\n",
        "# Sort by Cook's Distance\n",
        "diagnosis_df.sort_values(\"cooks_d\", ascending=False)\n",
        "diagnosis_df"
      ],
      "metadata": {
        "colab": {
          "base_uri": "https://localhost:8080/",
          "height": 424
        },
        "id": "UzphJHMwN3aE",
        "outputId": "8e6794b8-96a2-484b-d4ba-1ed0318a9838"
      },
      "execution_count": null,
      "outputs": [
        {
          "output_type": "execute_result",
          "data": {
            "text/plain": [
              "          cooks_d  std_resid\n",
              "0    7.823770e-13   0.224869\n",
              "1    8.657494e-04   0.832654\n",
              "2    2.298890e-03   1.015075\n",
              "3    3.068296e-05   0.655351\n",
              "4    4.721934e-05   0.669238\n",
              "..            ...        ...\n",
              "195  2.034917e-04   0.404977\n",
              "196  1.723450e-02   0.978889\n",
              "197  8.359217e-03   0.847453\n",
              "198  8.925918e-03   0.856785\n",
              "199  6.667562e-04   0.619426\n",
              "\n",
              "[200 rows x 2 columns]"
            ],
            "text/html": [
              "\n",
              "  <div id=\"df-e5e86c67-93d7-4127-8214-c444ec9bf445\">\n",
              "    <div class=\"colab-df-container\">\n",
              "      <div>\n",
              "<style scoped>\n",
              "    .dataframe tbody tr th:only-of-type {\n",
              "        vertical-align: middle;\n",
              "    }\n",
              "\n",
              "    .dataframe tbody tr th {\n",
              "        vertical-align: top;\n",
              "    }\n",
              "\n",
              "    .dataframe thead th {\n",
              "        text-align: right;\n",
              "    }\n",
              "</style>\n",
              "<table border=\"1\" class=\"dataframe\">\n",
              "  <thead>\n",
              "    <tr style=\"text-align: right;\">\n",
              "      <th></th>\n",
              "      <th>cooks_d</th>\n",
              "      <th>std_resid</th>\n",
              "    </tr>\n",
              "  </thead>\n",
              "  <tbody>\n",
              "    <tr>\n",
              "      <th>0</th>\n",
              "      <td>7.823770e-13</td>\n",
              "      <td>0.224869</td>\n",
              "    </tr>\n",
              "    <tr>\n",
              "      <th>1</th>\n",
              "      <td>8.657494e-04</td>\n",
              "      <td>0.832654</td>\n",
              "    </tr>\n",
              "    <tr>\n",
              "      <th>2</th>\n",
              "      <td>2.298890e-03</td>\n",
              "      <td>1.015075</td>\n",
              "    </tr>\n",
              "    <tr>\n",
              "      <th>3</th>\n",
              "      <td>3.068296e-05</td>\n",
              "      <td>0.655351</td>\n",
              "    </tr>\n",
              "    <tr>\n",
              "      <th>4</th>\n",
              "      <td>4.721934e-05</td>\n",
              "      <td>0.669238</td>\n",
              "    </tr>\n",
              "    <tr>\n",
              "      <th>...</th>\n",
              "      <td>...</td>\n",
              "      <td>...</td>\n",
              "    </tr>\n",
              "    <tr>\n",
              "      <th>195</th>\n",
              "      <td>2.034917e-04</td>\n",
              "      <td>0.404977</td>\n",
              "    </tr>\n",
              "    <tr>\n",
              "      <th>196</th>\n",
              "      <td>1.723450e-02</td>\n",
              "      <td>0.978889</td>\n",
              "    </tr>\n",
              "    <tr>\n",
              "      <th>197</th>\n",
              "      <td>8.359217e-03</td>\n",
              "      <td>0.847453</td>\n",
              "    </tr>\n",
              "    <tr>\n",
              "      <th>198</th>\n",
              "      <td>8.925918e-03</td>\n",
              "      <td>0.856785</td>\n",
              "    </tr>\n",
              "    <tr>\n",
              "      <th>199</th>\n",
              "      <td>6.667562e-04</td>\n",
              "      <td>0.619426</td>\n",
              "    </tr>\n",
              "  </tbody>\n",
              "</table>\n",
              "<p>200 rows × 2 columns</p>\n",
              "</div>\n",
              "      <button class=\"colab-df-convert\" onclick=\"convertToInteractive('df-e5e86c67-93d7-4127-8214-c444ec9bf445')\"\n",
              "              title=\"Convert this dataframe to an interactive table.\"\n",
              "              style=\"display:none;\">\n",
              "        \n",
              "  <svg xmlns=\"http://www.w3.org/2000/svg\" height=\"24px\"viewBox=\"0 0 24 24\"\n",
              "       width=\"24px\">\n",
              "    <path d=\"M0 0h24v24H0V0z\" fill=\"none\"/>\n",
              "    <path d=\"M18.56 5.44l.94 2.06.94-2.06 2.06-.94-2.06-.94-.94-2.06-.94 2.06-2.06.94zm-11 1L8.5 8.5l.94-2.06 2.06-.94-2.06-.94L8.5 2.5l-.94 2.06-2.06.94zm10 10l.94 2.06.94-2.06 2.06-.94-2.06-.94-.94-2.06-.94 2.06-2.06.94z\"/><path d=\"M17.41 7.96l-1.37-1.37c-.4-.4-.92-.59-1.43-.59-.52 0-1.04.2-1.43.59L10.3 9.45l-7.72 7.72c-.78.78-.78 2.05 0 2.83L4 21.41c.39.39.9.59 1.41.59.51 0 1.02-.2 1.41-.59l7.78-7.78 2.81-2.81c.8-.78.8-2.07 0-2.86zM5.41 20L4 18.59l7.72-7.72 1.47 1.35L5.41 20z\"/>\n",
              "  </svg>\n",
              "      </button>\n",
              "      \n",
              "  <style>\n",
              "    .colab-df-container {\n",
              "      display:flex;\n",
              "      flex-wrap:wrap;\n",
              "      gap: 12px;\n",
              "    }\n",
              "\n",
              "    .colab-df-convert {\n",
              "      background-color: #E8F0FE;\n",
              "      border: none;\n",
              "      border-radius: 50%;\n",
              "      cursor: pointer;\n",
              "      display: none;\n",
              "      fill: #1967D2;\n",
              "      height: 32px;\n",
              "      padding: 0 0 0 0;\n",
              "      width: 32px;\n",
              "    }\n",
              "\n",
              "    .colab-df-convert:hover {\n",
              "      background-color: #E2EBFA;\n",
              "      box-shadow: 0px 1px 2px rgba(60, 64, 67, 0.3), 0px 1px 3px 1px rgba(60, 64, 67, 0.15);\n",
              "      fill: #174EA6;\n",
              "    }\n",
              "\n",
              "    [theme=dark] .colab-df-convert {\n",
              "      background-color: #3B4455;\n",
              "      fill: #D2E3FC;\n",
              "    }\n",
              "\n",
              "    [theme=dark] .colab-df-convert:hover {\n",
              "      background-color: #434B5C;\n",
              "      box-shadow: 0px 1px 3px 1px rgba(0, 0, 0, 0.15);\n",
              "      filter: drop-shadow(0px 1px 2px rgba(0, 0, 0, 0.3));\n",
              "      fill: #FFFFFF;\n",
              "    }\n",
              "  </style>\n",
              "\n",
              "      <script>\n",
              "        const buttonEl =\n",
              "          document.querySelector('#df-e5e86c67-93d7-4127-8214-c444ec9bf445 button.colab-df-convert');\n",
              "        buttonEl.style.display =\n",
              "          google.colab.kernel.accessAllowed ? 'block' : 'none';\n",
              "\n",
              "        async function convertToInteractive(key) {\n",
              "          const element = document.querySelector('#df-e5e86c67-93d7-4127-8214-c444ec9bf445');\n",
              "          const dataTable =\n",
              "            await google.colab.kernel.invokeFunction('convertToInteractive',\n",
              "                                                     [key], {});\n",
              "          if (!dataTable) return;\n",
              "\n",
              "          const docLinkHtml = 'Like what you see? Visit the ' +\n",
              "            '<a target=\"_blank\" href=https://colab.research.google.com/notebooks/data_table.ipynb>data table notebook</a>'\n",
              "            + ' to learn more about interactive tables.';\n",
              "          element.innerHTML = '';\n",
              "          dataTable['output_type'] = 'display_data';\n",
              "          await google.colab.output.renderOutput(dataTable, element);\n",
              "          const docLink = document.createElement('div');\n",
              "          docLink.innerHTML = docLinkHtml;\n",
              "          element.appendChild(docLink);\n",
              "        }\n",
              "      </script>\n",
              "    </div>\n",
              "  </div>\n",
              "  "
            ]
          },
          "metadata": {},
          "execution_count": 24
        }
      ]
    },
    {
      "cell_type": "code",
      "source": [
        "# Set Cook's distance threshold\n",
        "cook_threshold = 4 / len(XU_s)\n",
        "print(f\"Threshold for Cook Distance = {cook_threshold}\")"
      ],
      "metadata": {
        "colab": {
          "base_uri": "https://localhost:8080/"
        },
        "id": "CoOiLWKxOY-V",
        "outputId": "889753ec-4dba-4308-aab9-78c752d8fded"
      },
      "execution_count": null,
      "outputs": [
        {
          "output_type": "stream",
          "name": "stdout",
          "text": [
            "Threshold for Cook Distance = 0.02\n"
          ]
        }
      ]
    },
    {
      "cell_type": "code",
      "source": [
        "# Plot influence measures (Cook's distance)\n",
        "fig = influence.plot_index(y_var=\"cooks\", threshold=cook_threshold)\n",
        "plt.axhline(y=cook_threshold, ls=\"--\", color='red')\n",
        "fig.tight_layout(pad=2)"
      ],
      "metadata": {
        "colab": {
          "base_uri": "https://localhost:8080/",
          "height": 279
        },
        "id": "sWJ8sMO9PD7z",
        "outputId": "091a035d-95ac-4c59-b810-aa4c4391b1a0"
      },
      "execution_count": null,
      "outputs": [
        {
          "output_type": "display_data",
          "data": {
            "text/plain": [
              "<Figure size 432x288 with 1 Axes>"
            ],
            "image/png": "[encoded data removed]"
          },
          "metadata": {
            "needs_background": "light"
          }
        }
      ]
    },
    {
      "cell_type": "code",
      "execution_count": null,
      "metadata": {
        "id": "eApWouT_48Kw",
        "outputId": "6ed4987e-67c1-45f7-b5ef-8e0ce7169efe",
        "colab": {
          "base_uri": "https://localhost:8080/"
        }
      },
      "outputs": [
        {
          "output_type": "stream",
          "name": "stdout",
          "text": [
            "Proportion of data points that are highly influential = 2.0%\n"
          ]
        }
      ],
      "source": [
        "# Find number of observations that exceed Cook's distance threshold\n",
        "outliers = diagnosis_df[diagnosis_df['cooks_d'] > cook_threshold]\n",
        "prop_outliers = round(100*(len(outliers) / len(XU_s)),1)\n",
        "print(f'Proportion of data points that are highly influential = {prop_outliers}%')"
      ]
    },
    {
      "cell_type": "code",
      "execution_count": null,
      "metadata": {
        "outputId": "8289d859-6cd7-4184-eab6-1cbe4f19ca09",
        "colab": {
          "base_uri": "https://localhost:8080/"
        },
        "id": "SfTkfNv4Tqkr"
      },
      "outputs": [
        {
          "output_type": "stream",
          "name": "stdout",
          "text": [
            "Proportion of highly influential outliers = 0.5%\n"
          ]
        }
      ],
      "source": [
        "# Find number of observations which are BOTH outlier (std dev > 3) and highly influential\n",
        "extreme = diagnosis_df[(diagnosis_df['cooks_d'] > cook_threshold) & \n",
        "                       (diagnosis_df['std_resid'] > 3)]\n",
        "prop_extreme = round(100*(len(extreme) / len(XU_s)),1)\n",
        "print(f'Proportion of highly influential outliers = {prop_extreme}%')"
      ]
    },
    {
      "cell_type": "code",
      "source": [
        "# Display top 5 most influential outliers\n",
        "extreme.sort_values(\"cooks_d\", ascending=False).head()\n",
        "extreme"
      ],
      "metadata": {
        "colab": {
          "base_uri": "https://localhost:8080/",
          "height": 81
        },
        "id": "PH7HixdBT39B",
        "outputId": "f3d37d3a-62ea-4ccd-b61e-f8465eb22f51"
      },
      "execution_count": null,
      "outputs": [
        {
          "output_type": "execute_result",
          "data": {
            "text/plain": [
              "      cooks_d  std_resid\n",
              "133  1.147087   9.816247"
            ],
            "text/html": [
              "\n",
              "  <div id=\"df-9692e305-d2f8-46f2-8e2a-fe080a85c630\">\n",
              "    <div class=\"colab-df-container\">\n",
              "      <div>\n",
              "<style scoped>\n",
              "    .dataframe tbody tr th:only-of-type {\n",
              "        vertical-align: middle;\n",
              "    }\n",
              "\n",
              "    .dataframe tbody tr th {\n",
              "        vertical-align: top;\n",
              "    }\n",
              "\n",
              "    .dataframe thead th {\n",
              "        text-align: right;\n",
              "    }\n",
              "</style>\n",
              "<table border=\"1\" class=\"dataframe\">\n",
              "  <thead>\n",
              "    <tr style=\"text-align: right;\">\n",
              "      <th></th>\n",
              "      <th>cooks_d</th>\n",
              "      <th>std_resid</th>\n",
              "    </tr>\n",
              "  </thead>\n",
              "  <tbody>\n",
              "    <tr>\n",
              "      <th>133</th>\n",
              "      <td>1.147087</td>\n",
              "      <td>9.816247</td>\n",
              "    </tr>\n",
              "  </tbody>\n",
              "</table>\n",
              "</div>\n",
              "      <button class=\"colab-df-convert\" onclick=\"convertToInteractive('df-9692e305-d2f8-46f2-8e2a-fe080a85c630')\"\n",
              "              title=\"Convert this dataframe to an interactive table.\"\n",
              "              style=\"display:none;\">\n",
              "        \n",
              "  <svg xmlns=\"http://www.w3.org/2000/svg\" height=\"24px\"viewBox=\"0 0 24 24\"\n",
              "       width=\"24px\">\n",
              "    <path d=\"M0 0h24v24H0V0z\" fill=\"none\"/>\n",
              "    <path d=\"M18.56 5.44l.94 2.06.94-2.06 2.06-.94-2.06-.94-.94-2.06-.94 2.06-2.06.94zm-11 1L8.5 8.5l.94-2.06 2.06-.94-2.06-.94L8.5 2.5l-.94 2.06-2.06.94zm10 10l.94 2.06.94-2.06 2.06-.94-2.06-.94-.94-2.06-.94 2.06-2.06.94z\"/><path d=\"M17.41 7.96l-1.37-1.37c-.4-.4-.92-.59-1.43-.59-.52 0-1.04.2-1.43.59L10.3 9.45l-7.72 7.72c-.78.78-.78 2.05 0 2.83L4 21.41c.39.39.9.59 1.41.59.51 0 1.02-.2 1.41-.59l7.78-7.78 2.81-2.81c.8-.78.8-2.07 0-2.86zM5.41 20L4 18.59l7.72-7.72 1.47 1.35L5.41 20z\"/>\n",
              "  </svg>\n",
              "      </button>\n",
              "      \n",
              "  <style>\n",
              "    .colab-df-container {\n",
              "      display:flex;\n",
              "      flex-wrap:wrap;\n",
              "      gap: 12px;\n",
              "    }\n",
              "\n",
              "    .colab-df-convert {\n",
              "      background-color: #E8F0FE;\n",
              "      border: none;\n",
              "      border-radius: 50%;\n",
              "      cursor: pointer;\n",
              "      display: none;\n",
              "      fill: #1967D2;\n",
              "      height: 32px;\n",
              "      padding: 0 0 0 0;\n",
              "      width: 32px;\n",
              "    }\n",
              "\n",
              "    .colab-df-convert:hover {\n",
              "      background-color: #E2EBFA;\n",
              "      box-shadow: 0px 1px 2px rgba(60, 64, 67, 0.3), 0px 1px 3px 1px rgba(60, 64, 67, 0.15);\n",
              "      fill: #174EA6;\n",
              "    }\n",
              "\n",
              "    [theme=dark] .colab-df-convert {\n",
              "      background-color: #3B4455;\n",
              "      fill: #D2E3FC;\n",
              "    }\n",
              "\n",
              "    [theme=dark] .colab-df-convert:hover {\n",
              "      background-color: #434B5C;\n",
              "      box-shadow: 0px 1px 3px 1px rgba(0, 0, 0, 0.15);\n",
              "      filter: drop-shadow(0px 1px 2px rgba(0, 0, 0, 0.3));\n",
              "      fill: #FFFFFF;\n",
              "    }\n",
              "  </style>\n",
              "\n",
              "      <script>\n",
              "        const buttonEl =\n",
              "          document.querySelector('#df-9692e305-d2f8-46f2-8e2a-fe080a85c630 button.colab-df-convert');\n",
              "        buttonEl.style.display =\n",
              "          google.colab.kernel.accessAllowed ? 'block' : 'none';\n",
              "\n",
              "        async function convertToInteractive(key) {\n",
              "          const element = document.querySelector('#df-9692e305-d2f8-46f2-8e2a-fe080a85c630');\n",
              "          const dataTable =\n",
              "            await google.colab.kernel.invokeFunction('convertToInteractive',\n",
              "                                                     [key], {});\n",
              "          if (!dataTable) return;\n",
              "\n",
              "          const docLinkHtml = 'Like what you see? Visit the ' +\n",
              "            '<a target=\"_blank\" href=https://colab.research.google.com/notebooks/data_table.ipynb>data table notebook</a>'\n",
              "            + ' to learn more about interactive tables.';\n",
              "          element.innerHTML = '';\n",
              "          dataTable['output_type'] = 'display_data';\n",
              "          await google.colab.output.renderOutput(dataTable, element);\n",
              "          const docLink = document.createElement('div');\n",
              "          docLink.innerHTML = docLinkHtml;\n",
              "          element.appendChild(docLink);\n",
              "        }\n",
              "      </script>\n",
              "    </div>\n",
              "  </div>\n",
              "  "
            ]
          },
          "metadata": {},
          "execution_count": 29
        }
      ]
    },
    {
      "cell_type": "code",
      "source": [
        "# Deep dive into index 297 (extreme outlier)\n",
        "# lo paso de numpy a pandas\n",
        "df_x = pd.DataFrame(XU_s)\n",
        "# corro el balance\n",
        "df_x.iloc[109]  # 0 = Did not survive\n"
      ],
      "metadata": {
        "colab": {
          "base_uri": "https://localhost:8080/"
        },
        "id": "hOQDV0VST6DK",
        "outputId": "09f089d5-a36a-4eab-bd21-4baccdb605ca"
      },
      "execution_count": null,
      "outputs": [
        {
          "output_type": "execute_result",
          "data": {
            "text/plain": [
              "0   -16.798897\n",
              "1     1.860059\n",
              "2     0.189975\n",
              "Name: 109, dtype: float64"
            ]
          },
          "metadata": {},
          "execution_count": 32
        }
      ]
    },
    {
      "cell_type": "code",
      "source": [
        "df_y = pd.DataFrame(y_20)\n",
        "df_y.iloc[109]  # 0 = Did not survive"
      ],
      "metadata": {
        "colab": {
          "base_uri": "https://localhost:8080/"
        },
        "id": "DXc1IkuRawNc",
        "outputId": "04d64230-da64-4151-9783-47e6b68edb64"
      },
      "execution_count": null,
      "outputs": [
        {
          "output_type": "execute_result",
          "data": {
            "text/plain": [
              "0    1\n",
              "Name: 109, dtype: int64"
            ]
          },
          "metadata": {},
          "execution_count": 85
        }
      ]
    },
    {
      "cell_type": "markdown",
      "source": [
        "* Es importante tener en cuenta que para los puntos de datos con distancias de Cook relativamente altas, no significa automáticamente que deba eliminarse inmediatamente del conjunto de datos. Es esencialmente un indicador para resaltar qué puntos de datos vale la pena analizar más a fondo, para comprender si son anomalías reales o no.\n",
        "* En la práctica, una evaluación de valores \"grandes\" es un juicio basado en la experiencia y el conjunto particular de datos que se analiza.\n",
        "* Además, según nuestro umbral predefinido (4/N), solo el 5 % (51/891) de los puntos se encuentran en la zona de valores atípicos, que también es pequeña. El problema surge cuando hay una cantidad significativa de puntos de datos clasificados como valores atípicos.\n",
        "* La gestión de valores atípicos está fuera del alcance de esta demostración."
      ],
      "metadata": {
        "id": "0ydwaR70UHvU"
      }
    },
    {
      "cell_type": "markdown",
      "source": [
        "## Supuesto 4 - Ausencia de multicolinealidad\n"
      ],
      "metadata": {
        "id": "GVL8JD1D99wo"
      }
    },
    {
      "cell_type": "code",
      "source": [
        "# CREO LA MATRIZ DE CORRELACION\n",
        "# uso la matriz XU_s convertida en DF de pandas\n",
        "# df_x = pd.DataFrame(XU_s)\n",
        "\n",
        "corrMatrix = df_x.corr()\n",
        "plt.subplots(figsize=(10, 6))\n",
        "sns.heatmap(corrMatrix, annot=True, cmap=\"RdYlGn\")\n",
        "plt.show()"
      ],
      "metadata": {
        "colab": {
          "base_uri": "https://localhost:8080/",
          "height": 378
        },
        "id": "FXg3y0GH_HC-",
        "outputId": "6c5baa2a-177e-4926-b75a-037dde85940f"
      },
      "execution_count": null,
      "outputs": [
        {
          "output_type": "display_data",
          "data": {
            "text/plain": [
              "<Figure size 720x432 with 2 Axes>"
            ],
            "image/png": "[encoded data removed]"
          },
          "metadata": {
            "needs_background": "light"
          }
        }
      ]
    },
    {
      "cell_type": "markdown",
      "source": [
        "* La matriz de correlación puede ser difícil de interpretar cuando hay muchas variables independientes\n",
        "* Además, no todos los problemas de colinealidad pueden detectarse mediante la inspección de la matriz de correlación: es posible que exista colinealidad entre tres o más variables incluso si ningún par de variables tiene una correlación particularmente alta.\n",
        "* Como tal, usamos el factor de inflación de varianza (VIF) en su lugar"
      ],
      "metadata": {
        "id": "Iwf0DaD6AsAc"
      }
    },
    {
      "cell_type": "markdown",
      "source": [
        "#### Factor de inflación de varianza (VIF)\n",
        "* Incluir constante en el cálculo de VIF. Referencia: https://stackoverflow.com/questions/42658379/variance-inflation-factor-in-python"
      ],
      "metadata": {
        "id": "OtUXjvMyA2MN"
      }
    },
    {
      "cell_type": "code",
      "source": [
        "# Use variance inflation factor to identify any significant multi-collinearity\n",
        "\n",
        "def calc_vif(df):\n",
        "    vif = pd.DataFrame()\n",
        "    vif[\"variables\"] = df.columns\n",
        "    vif[\"VIF\"] = [variance_inflation_factor(df.values, i) for i in range(df.shape[1])]\n",
        "    return(vif)\n",
        "\n",
        "# CREA CONSTANTE\n",
        "X_constant = sm.add_constant(XU_s, prepend=False)\n",
        "# CONVIERTO A UN DF\n",
        "X_constant = pd.DataFrame(X_constant)\n",
        "calc_vif(X_constant) # Include constant in VIF calculation in Python"
      ],
      "metadata": {
        "colab": {
          "base_uri": "https://localhost:8080/",
          "height": 175
        },
        "id": "2YEXp1I1AlfU",
        "outputId": "e9279129-edfd-4163-84fa-ca94d9c8a08c"
      },
      "execution_count": null,
      "outputs": [
        {
          "output_type": "execute_result",
          "data": {
            "text/plain": [
              "   variables       VIF\n",
              "0          0  1.145421\n",
              "1          1  1.145541\n",
              "2          2  1.021761\n",
              "3          3  4.245463"
            ],
            "text/html": [
              "\n",
              "  <div id=\"df-4a94f8c5-cf9d-4a7e-abf8-4faa943d1ed7\">\n",
              "    <div class=\"colab-df-container\">\n",
              "      <div>\n",
              "<style scoped>\n",
              "    .dataframe tbody tr th:only-of-type {\n",
              "        vertical-align: middle;\n",
              "    }\n",
              "\n",
              "    .dataframe tbody tr th {\n",
              "        vertical-align: top;\n",
              "    }\n",
              "\n",
              "    .dataframe thead th {\n",
              "        text-align: right;\n",
              "    }\n",
              "</style>\n",
              "<table border=\"1\" class=\"dataframe\">\n",
              "  <thead>\n",
              "    <tr style=\"text-align: right;\">\n",
              "      <th></th>\n",
              "      <th>variables</th>\n",
              "      <th>VIF</th>\n",
              "    </tr>\n",
              "  </thead>\n",
              "  <tbody>\n",
              "    <tr>\n",
              "      <th>0</th>\n",
              "      <td>0</td>\n",
              "      <td>1.145421</td>\n",
              "    </tr>\n",
              "    <tr>\n",
              "      <th>1</th>\n",
              "      <td>1</td>\n",
              "      <td>1.145541</td>\n",
              "    </tr>\n",
              "    <tr>\n",
              "      <th>2</th>\n",
              "      <td>2</td>\n",
              "      <td>1.021761</td>\n",
              "    </tr>\n",
              "    <tr>\n",
              "      <th>3</th>\n",
              "      <td>3</td>\n",
              "      <td>4.245463</td>\n",
              "    </tr>\n",
              "  </tbody>\n",
              "</table>\n",
              "</div>\n",
              "      <button class=\"colab-df-convert\" onclick=\"convertToInteractive('df-4a94f8c5-cf9d-4a7e-abf8-4faa943d1ed7')\"\n",
              "              title=\"Convert this dataframe to an interactive table.\"\n",
              "              style=\"display:none;\">\n",
              "        \n",
              "  <svg xmlns=\"http://www.w3.org/2000/svg\" height=\"24px\"viewBox=\"0 0 24 24\"\n",
              "       width=\"24px\">\n",
              "    <path d=\"M0 0h24v24H0V0z\" fill=\"none\"/>\n",
              "    <path d=\"M18.56 5.44l.94 2.06.94-2.06 2.06-.94-2.06-.94-.94-2.06-.94 2.06-2.06.94zm-11 1L8.5 8.5l.94-2.06 2.06-.94-2.06-.94L8.5 2.5l-.94 2.06-2.06.94zm10 10l.94 2.06.94-2.06 2.06-.94-2.06-.94-.94-2.06-.94 2.06-2.06.94z\"/><path d=\"M17.41 7.96l-1.37-1.37c-.4-.4-.92-.59-1.43-.59-.52 0-1.04.2-1.43.59L10.3 9.45l-7.72 7.72c-.78.78-.78 2.05 0 2.83L4 21.41c.39.39.9.59 1.41.59.51 0 1.02-.2 1.41-.59l7.78-7.78 2.81-2.81c.8-.78.8-2.07 0-2.86zM5.41 20L4 18.59l7.72-7.72 1.47 1.35L5.41 20z\"/>\n",
              "  </svg>\n",
              "      </button>\n",
              "      \n",
              "  <style>\n",
              "    .colab-df-container {\n",
              "      display:flex;\n",
              "      flex-wrap:wrap;\n",
              "      gap: 12px;\n",
              "    }\n",
              "\n",
              "    .colab-df-convert {\n",
              "      background-color: #E8F0FE;\n",
              "      border: none;\n",
              "      border-radius: 50%;\n",
              "      cursor: pointer;\n",
              "      display: none;\n",
              "      fill: #1967D2;\n",
              "      height: 32px;\n",
              "      padding: 0 0 0 0;\n",
              "      width: 32px;\n",
              "    }\n",
              "\n",
              "    .colab-df-convert:hover {\n",
              "      background-color: #E2EBFA;\n",
              "      box-shadow: 0px 1px 2px rgba(60, 64, 67, 0.3), 0px 1px 3px 1px rgba(60, 64, 67, 0.15);\n",
              "      fill: #174EA6;\n",
              "    }\n",
              "\n",
              "    [theme=dark] .colab-df-convert {\n",
              "      background-color: #3B4455;\n",
              "      fill: #D2E3FC;\n",
              "    }\n",
              "\n",
              "    [theme=dark] .colab-df-convert:hover {\n",
              "      background-color: #434B5C;\n",
              "      box-shadow: 0px 1px 3px 1px rgba(0, 0, 0, 0.15);\n",
              "      filter: drop-shadow(0px 1px 2px rgba(0, 0, 0, 0.3));\n",
              "      fill: #FFFFFF;\n",
              "    }\n",
              "  </style>\n",
              "\n",
              "      <script>\n",
              "        const buttonEl =\n",
              "          document.querySelector('#df-4a94f8c5-cf9d-4a7e-abf8-4faa943d1ed7 button.colab-df-convert');\n",
              "        buttonEl.style.display =\n",
              "          google.colab.kernel.accessAllowed ? 'block' : 'none';\n",
              "\n",
              "        async function convertToInteractive(key) {\n",
              "          const element = document.querySelector('#df-4a94f8c5-cf9d-4a7e-abf8-4faa943d1ed7');\n",
              "          const dataTable =\n",
              "            await google.colab.kernel.invokeFunction('convertToInteractive',\n",
              "                                                     [key], {});\n",
              "          if (!dataTable) return;\n",
              "\n",
              "          const docLinkHtml = 'Like what you see? Visit the ' +\n",
              "            '<a target=\"_blank\" href=https://colab.research.google.com/notebooks/data_table.ipynb>data table notebook</a>'\n",
              "            + ' to learn more about interactive tables.';\n",
              "          element.innerHTML = '';\n",
              "          dataTable['output_type'] = 'display_data';\n",
              "          await google.colab.output.renderOutput(dataTable, element);\n",
              "          const docLink = document.createElement('div');\n",
              "          docLink.innerHTML = docLinkHtml;\n",
              "          element.appendChild(docLink);\n",
              "        }\n",
              "      </script>\n",
              "    </div>\n",
              "  </div>\n",
              "  "
            ]
          },
          "metadata": {},
          "execution_count": 38
        }
      ]
    },
    {
      "cell_type": "markdown",
      "source": [
        "* El umbral para VIF suele ser 5 (es decir, los valores superiores a 5 significan que hay presencia de multicolinealidad)\n",
        "* Como todas las variables tienen VIF <5, significa que no hay multicolinealidad, y se cumple este supuesto\n",
        "* Echemos un vistazo a la situación en la que no soltamos la primera variable al obtener maniquíes:"
      ],
      "metadata": {
        "id": "RWLHtm2bCrg1"
      }
    },
    {
      "cell_type": "markdown",
      "source": [
        "## Supuesto 5 - Independencia de las observaciones\n",
        "\n",
        "* Los términos de error deben ser independientes. Es decir, los puntos de datos no deben ser de ningún diseño de muestras dependientes, por ejemplo, mediciones de antes y después o emparejamientos."
      ],
      "metadata": {
        "id": "mql0EA_hEsrZ"
      }
    },
    {
      "cell_type": "code",
      "source": [
        "# Setup logistic regression model (using GLM method so that we can retrieve residuals)\n",
        "X_constant = sm.add_constant(XU_s, prepend=False)\n",
        "logit_model = GLM(y_20, X_constant, family=families.Binomial())\n",
        "logit_results = logit_model.fit()\n",
        "print(logit_results.summary())"
      ],
      "metadata": {
        "colab": {
          "base_uri": "https://localhost:8080/",
          "height": 433
        },
        "id": "gjazC-pmFaHg",
        "outputId": "6890253c-fba9-48db-9867-e4940fccebf0"
      },
      "execution_count": null,
      "outputs": [
        {
          "output_type": "stream",
          "name": "stderr",
          "text": [
            "/usr/local/lib/python3.7/dist-packages/statsmodels/genmod/families/family.py:890: RuntimeWarning: invalid value encountered in true_divide\n",
            "  n_endog_mu = self._clean((1. - endog) / (1. - mu))\n"
          ]
        },
        {
          "output_type": "error",
          "ename": "PerfectSeparationError",
          "evalue": "ignored",
          "traceback": [
            "\u001b[0;31m---------------------------------------------------------------------------\u001b[0m",
            "\u001b[0;31mPerfectSeparationError\u001b[0m                    Traceback (most recent call last)",
            "\u001b[0;32m<ipython-input-41-39395c5b1bae>\u001b[0m in \u001b[0;36m<module>\u001b[0;34m()\u001b[0m\n\u001b[1;32m      2\u001b[0m \u001b[0mX_constant\u001b[0m \u001b[0;34m=\u001b[0m \u001b[0msm\u001b[0m\u001b[0;34m.\u001b[0m\u001b[0madd_constant\u001b[0m\u001b[0;34m(\u001b[0m\u001b[0mXU_s\u001b[0m\u001b[0;34m,\u001b[0m \u001b[0mprepend\u001b[0m\u001b[0;34m=\u001b[0m\u001b[0;32mFalse\u001b[0m\u001b[0;34m)\u001b[0m\u001b[0;34m\u001b[0m\u001b[0;34m\u001b[0m\u001b[0m\n\u001b[1;32m      3\u001b[0m \u001b[0mlogit_model\u001b[0m \u001b[0;34m=\u001b[0m \u001b[0mGLM\u001b[0m\u001b[0;34m(\u001b[0m\u001b[0my_20\u001b[0m\u001b[0;34m,\u001b[0m \u001b[0mX_constant\u001b[0m\u001b[0;34m,\u001b[0m \u001b[0mfamily\u001b[0m\u001b[0;34m=\u001b[0m\u001b[0mfamilies\u001b[0m\u001b[0;34m.\u001b[0m\u001b[0mBinomial\u001b[0m\u001b[0;34m(\u001b[0m\u001b[0;34m)\u001b[0m\u001b[0;34m)\u001b[0m\u001b[0;34m\u001b[0m\u001b[0;34m\u001b[0m\u001b[0m\n\u001b[0;32m----> 4\u001b[0;31m \u001b[0mlogit_results\u001b[0m \u001b[0;34m=\u001b[0m \u001b[0mlogit_model\u001b[0m\u001b[0;34m.\u001b[0m\u001b[0mfit\u001b[0m\u001b[0;34m(\u001b[0m\u001b[0;34m)\u001b[0m\u001b[0;34m\u001b[0m\u001b[0;34m\u001b[0m\u001b[0m\n\u001b[0m\u001b[1;32m      5\u001b[0m \u001b[0mprint\u001b[0m\u001b[0;34m(\u001b[0m\u001b[0mlogit_results\u001b[0m\u001b[0;34m.\u001b[0m\u001b[0msummary\u001b[0m\u001b[0;34m(\u001b[0m\u001b[0;34m)\u001b[0m\u001b[0;34m)\u001b[0m\u001b[0;34m\u001b[0m\u001b[0;34m\u001b[0m\u001b[0m\n",
            "\u001b[0;32m/usr/local/lib/python3.7/dist-packages/statsmodels/genmod/generalized_linear_model.py\u001b[0m in \u001b[0;36mfit\u001b[0;34m(self, start_params, maxiter, method, tol, scale, cov_type, cov_kwds, use_t, full_output, disp, max_start_irls, **kwargs)\u001b[0m\n\u001b[1;32m   1026\u001b[0m             return self._fit_irls(start_params=start_params, maxiter=maxiter,\n\u001b[1;32m   1027\u001b[0m                                   \u001b[0mtol\u001b[0m\u001b[0;34m=\u001b[0m\u001b[0mtol\u001b[0m\u001b[0;34m,\u001b[0m \u001b[0mscale\u001b[0m\u001b[0;34m=\u001b[0m\u001b[0mscale\u001b[0m\u001b[0;34m,\u001b[0m \u001b[0mcov_type\u001b[0m\u001b[0;34m=\u001b[0m\u001b[0mcov_type\u001b[0m\u001b[0;34m,\u001b[0m\u001b[0;34m\u001b[0m\u001b[0;34m\u001b[0m\u001b[0m\n\u001b[0;32m-> 1028\u001b[0;31m                                   cov_kwds=cov_kwds, use_t=use_t, **kwargs)\n\u001b[0m\u001b[1;32m   1029\u001b[0m         \u001b[0;32melse\u001b[0m\u001b[0;34m:\u001b[0m\u001b[0;34m\u001b[0m\u001b[0;34m\u001b[0m\u001b[0m\n\u001b[1;32m   1030\u001b[0m             \u001b[0mself\u001b[0m\u001b[0;34m.\u001b[0m\u001b[0m_optim_hessian\u001b[0m \u001b[0;34m=\u001b[0m \u001b[0mkwargs\u001b[0m\u001b[0;34m.\u001b[0m\u001b[0mget\u001b[0m\u001b[0;34m(\u001b[0m\u001b[0;34m'optim_hessian'\u001b[0m\u001b[0;34m)\u001b[0m\u001b[0;34m\u001b[0m\u001b[0;34m\u001b[0m\u001b[0m\n",
            "\u001b[0;32m/usr/local/lib/python3.7/dist-packages/statsmodels/genmod/generalized_linear_model.py\u001b[0m in \u001b[0;36m_fit_irls\u001b[0;34m(self, start_params, maxiter, tol, scale, cov_type, cov_kwds, use_t, **kwargs)\u001b[0m\n\u001b[1;32m   1173\u001b[0m             \u001b[0;32mif\u001b[0m \u001b[0mendog\u001b[0m\u001b[0;34m.\u001b[0m\u001b[0msqueeze\u001b[0m\u001b[0;34m(\u001b[0m\u001b[0;34m)\u001b[0m\u001b[0;34m.\u001b[0m\u001b[0mndim\u001b[0m \u001b[0;34m==\u001b[0m \u001b[0;36m1\u001b[0m \u001b[0;32mand\u001b[0m \u001b[0mnp\u001b[0m\u001b[0;34m.\u001b[0m\u001b[0mallclose\u001b[0m\u001b[0;34m(\u001b[0m\u001b[0mmu\u001b[0m \u001b[0;34m-\u001b[0m \u001b[0mendog\u001b[0m\u001b[0;34m,\u001b[0m \u001b[0;36m0\u001b[0m\u001b[0;34m)\u001b[0m\u001b[0;34m:\u001b[0m\u001b[0;34m\u001b[0m\u001b[0;34m\u001b[0m\u001b[0m\n\u001b[1;32m   1174\u001b[0m                 \u001b[0mmsg\u001b[0m \u001b[0;34m=\u001b[0m \u001b[0;34m\"Perfect separation detected, results not available\"\u001b[0m\u001b[0;34m\u001b[0m\u001b[0;34m\u001b[0m\u001b[0m\n\u001b[0;32m-> 1175\u001b[0;31m                 \u001b[0;32mraise\u001b[0m \u001b[0mPerfectSeparationError\u001b[0m\u001b[0;34m(\u001b[0m\u001b[0mmsg\u001b[0m\u001b[0;34m)\u001b[0m\u001b[0;34m\u001b[0m\u001b[0;34m\u001b[0m\u001b[0m\n\u001b[0m\u001b[1;32m   1176\u001b[0m             converged = _check_convergence(criterion, iteration + 1, atol,\n\u001b[1;32m   1177\u001b[0m                                            rtol)\n",
            "\u001b[0;31mPerfectSeparationError\u001b[0m: Perfect separation detected, results not available"
          ]
        }
      ]
    },
    {
      "cell_type": "markdown",
      "source": [
        "ERROR: PerfectSeparationError: Perfect separation detected, results not available\n",
        "\n",
        "DESCRIPCION: Python ha detectado una separación completa o casi completa en uno o más de sus predictores y la variable de resultado.\n",
        "\n",
        "* Esto sucede cuando todos o casi todos los valores en una de las categorías de predictores (o una combinación de predictores) están asociados con solo uno de los valores de resultado binarios. (Supongo que está intentando una regresión logística). Cuando esto sucede, no se puede encontrar una solución para el coeficiente predictor.\n",
        "\n",
        "* Hay varias soluciones posibles. Dependiendo de cuántas variables haya en su análisis, puede intentar ejecutar tabulaciones cruzadas bidireccionales en su resultado y cada una de las variables predictoras para ubicar las celdas con cero observaciones y luego eliminar esa variable del análisis o usar menos categorías. Otra opción es ejecutar una regresión logística de Firth o una regresión penalizada."
      ],
      "metadata": {
        "id": "0B6jSnyiHFlu"
      }
    },
    {
      "cell_type": "markdown",
      "source": [
        "### Comprobar series de residuos"
      ],
      "metadata": {
        "id": "OzV_BIMBHiYd"
      }
    },
    {
      "cell_type": "code",
      "source": [
        "# Generate residual series plot\n",
        "# paso XU_s a DF\n",
        "df_x = pd.DataFrame(XU_s)\n",
        "# SCRIPT\n",
        "fig = plt.figure(figsize=(8,5))\n",
        "ax = fig.add_subplot(111, title=\"Residual Series Plot\",\n",
        "                    xlabel=\"Index Number\", ylabel=\"Deviance Residuals\")\n",
        "\n",
        "# ax.plot(X.index.tolist(), stats.zscore(logit_results.resid_pearson))\n",
        "ax.plot(df_x.index.tolist(), stats.zscore(logit_results.resid_deviance))\n",
        "plt.axhline(y=0, ls=\"--\", color='red');"
      ],
      "metadata": {
        "colab": {
          "base_uri": "https://localhost:8080/",
          "height": 350
        },
        "id": "DYhv7nD5Hg32",
        "outputId": "bb50eba1-c8f5-4175-9d6e-15b9c7872807"
      },
      "execution_count": null,
      "outputs": [
        {
          "output_type": "display_data",
          "data": {
            "text/plain": [
              "<Figure size 576x360 with 1 Axes>"
            ],
            "image/png": "[encoded data removed]"
          },
          "metadata": {
            "needs_background": "light"
          }
        }
      ]
    },
    {
      "cell_type": "markdown",
      "source": [
        "* A partir de la gráfica anterior de Desviación residual versus número índice, podemos ver que se cumple la suposición de independencia de los errores."
      ],
      "metadata": {
        "id": "cx6TK967H9yq"
      }
    },
    {
      "cell_type": "markdown",
      "source": [
        "### Investigación adicional sobre parcelas de dependencia residual (Opcional)\n",
        "* Esta es una investigación adicional. La verificación anterior de las series de residuos (basadas en números índice) es suficiente\n",
        "Referencia: https://freakonometrics.hypotheses.org/8210"
      ],
      "metadata": {
        "id": "TRSOL44CIoKp"
      }
    },
    {
      "cell_type": "code",
      "source": [
        "# BASADO EN EL SCRIPT ANTERIOR, UTILIZAMOS ax COMO \n",
        "fig = plt.figure(figsize=(8, 5))\n",
        "ax = fig.add_subplot(\n",
        "            111,\n",
        "            title=\"Residual Dependence Plot\",\n",
        "            xlabel=\"Fitted Values\",\n",
        "            ylabel=\"Pearson Residuals\")\n",
        "\n",
        "# ax.scatter(logit_results.mu, stats.zscore(logit_results.resid_pearson))\n",
        "ax.scatter(logit_results.mu, stats.zscore(logit_results.resid_deviance))\n",
        "ax.axis(\"tight\")\n",
        "ax.plot([0.0, 1.0], [0.0, 0.0], \"k-\");"
      ],
      "metadata": {
        "colab": {
          "base_uri": "https://localhost:8080/",
          "height": 350
        },
        "id": "xh9BHZCdI0r3",
        "outputId": "9dcf0e69-e674-482e-e027-a219d28ed9fe"
      },
      "execution_count": null,
      "outputs": [
        {
          "output_type": "display_data",
          "data": {
            "text/plain": [
              "<Figure size 576x360 with 1 Axes>"
            ],
            "image/png": "[encoded data removed]"
          },
          "metadata": {
            "needs_background": "light"
          }
        }
      ]
    },
    {
      "cell_type": "markdown",
      "source": [
        "* Agregue una línea de suavizado de diagrama de dispersión ponderado localmente (LOWESS) para visualizar mejor la independencia"
      ],
      "metadata": {
        "id": "5C-W0_k0JQ8f"
      }
    },
    {
      "cell_type": "code",
      "source": [
        "# Setup LOWESS function\n",
        "lowess = sm.nonparametric.lowess\n",
        "\n",
        "# Get y-values from LOWESS (set return_sorted=False)\n",
        "y_hat_lowess = lowess(logit_results.resid_pearson, logit_results.mu, \n",
        "                      return_sorted = False,\n",
        "                      frac=2/3)\n",
        "\n",
        "fig = plt.figure(figsize=(8, 5))\n",
        "ax = fig.add_subplot(111,\n",
        "    title=\"Residual Dependence Plot\",\n",
        "    xlabel=\"Fitted Values\",\n",
        "    ylabel=\"Pearson Residuals\")\n",
        "\n",
        "# ax.scatter(logit_results.mu, stats.zscore(logit_results.resid_pearson))\n",
        "ax.scatter(logit_results.mu, stats.zscore(logit_results.resid_deviance))\n",
        "ax.scatter(logit_results.mu, y_hat_lowess)\n",
        "ax.axis(\"tight\")\n",
        "ax.plot([0.0, 1.0], [0.0, 0.0], \"k-\");"
      ],
      "metadata": {
        "colab": {
          "base_uri": "https://localhost:8080/",
          "height": 350
        },
        "id": "FyDcWFlmJV06",
        "outputId": "dc7790a5-0dc8-481c-d023-e0b16eb5a5ae"
      },
      "execution_count": null,
      "outputs": [
        {
          "output_type": "display_data",
          "data": {
            "text/plain": [
              "<Figure size 576x360 with 1 Axes>"
            ],
            "image/png": "[encoded data removed]"
          },
          "metadata": {
            "needs_background": "light"
          }
        }
      ]
    },
    {
      "cell_type": "markdown",
      "source": [
        "## Supuesto 6 - Tamaño de muestra suficientemente grande\n",
        "* La regla de oro es tener por lo menos 10-20 instancias del resultado menos frecuente para cada variable predictora en su modelo\n",
        "\n",
        "* A partir de los recuentos de valores (proximo script), podemos ver que esta suposición se cumple\n",
        "\n",
        "* Otra regla general es tener al menos 500 observaciones en todo el conjunto de datos.\n",
        "\n",
        "En general, tenemos 891 observaciones, que es un tamaño de conjunto de datos decente para trabajar"
      ],
      "metadata": {
        "id": "-R4aQ2yNJffI"
      }
    },
    {
      "cell_type": "code",
      "source": [
        "# Find total number of observations\n",
        "print(\"Total number of observations:\", len(XU_s))"
      ],
      "metadata": {
        "colab": {
          "base_uri": "https://localhost:8080/"
        },
        "id": "09Er6cIcJ9sR",
        "outputId": "43c6a81b-89ab-42ac-e947-f39aab9ed5cb"
      },
      "execution_count": null,
      "outputs": [
        {
          "output_type": "stream",
          "name": "stdout",
          "text": [
            "Total number of observations 200\n"
          ]
        }
      ]
    },
    {
      "cell_type": "code",
      "source": [
        "# Get value counts for independent variables (mainly focus on categorical)\n",
        "# paso XU_s a DF\n",
        "df_x = pd.DataFrame(XU_s)\n",
        "\n",
        "for col in df_x.columns.to_list()[0:]:\n",
        "    if df_x.dtypes[col] == 'uint8': # Keep categorical variables only\n",
        "        print(df_x[col].value_counts())"
      ],
      "metadata": {
        "colab": {
          "base_uri": "https://localhost:8080/"
        },
        "id": "jJdHP8ovKQjI",
        "outputId": "d05e81ff-f740-40b0-988c-e07090f56e46"
      },
      "execution_count": null,
      "outputs": [
        {
          "output_type": "stream",
          "name": "stdout",
          "text": [
            "-0.007544     1\n",
            "-9.529795     1\n",
            " 29.790291    1\n",
            " 13.308687    1\n",
            " 44.844507    1\n",
            "             ..\n",
            " 0.156350     1\n",
            "-0.614033     1\n",
            " 1.134480     1\n",
            "-0.416485     1\n",
            " 8.664314     1\n",
            "Name: 0, Length: 200, dtype: int64\n",
            "0.520566    1\n",
            "2.762575    1\n",
            "2.172481    1\n",
            "2.151612    1\n",
            "2.772176    1\n",
            "           ..\n",
            "0.973663    1\n",
            "1.271625    1\n",
            "0.404716    1\n",
            "1.422110    1\n",
            "2.134057    1\n",
            "Name: 1, Length: 200, dtype: int64\n",
            "7311.389933     1\n",
            "1095.105956     1\n",
            "27.866091       1\n",
            "16.515117       1\n",
            "1.872707        1\n",
            "               ..\n",
            "262.473780      1\n",
            "10528.265959    1\n",
            "11.843263       1\n",
            "2.606269        1\n",
            "16.383355       1\n",
            "Name: 2, Length: 200, dtype: int64\n"
          ]
        }
      ]
    },
    {
      "cell_type": "code",
      "source": [
        "df_x.dtypes"
      ],
      "metadata": {
        "colab": {
          "base_uri": "https://localhost:8080/"
        },
        "id": "ogTWRHLoK1Xt",
        "outputId": "6d00bcd1-3e65-486d-9f1b-f7601e7ff65a"
      },
      "execution_count": null,
      "outputs": [
        {
          "output_type": "execute_result",
          "data": {
            "text/plain": [
              "0    float64\n",
              "1    float64\n",
              "2    float64\n",
              "dtype: object"
            ]
          },
          "metadata": {},
          "execution_count": 58
        }
      ]
    },
    {
      "cell_type": "markdown",
      "source": [
        "EN ESTE CASO LA SALIDA ES NULA YA QUE LOS DATOS EN EL DF SON FLOAT64"
      ],
      "metadata": {
        "id": "Gc4NfAhvL4Cm"
      }
    }
  ]
}