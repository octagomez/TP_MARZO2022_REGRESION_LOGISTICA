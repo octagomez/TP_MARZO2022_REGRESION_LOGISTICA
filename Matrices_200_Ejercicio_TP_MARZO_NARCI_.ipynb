{
  "nbformat": 4,
  "nbformat_minor": 0,
  "metadata": {
    "colab": {
      "name": "Matrices_200_Ejercicio_TP_MARZO_NARCI_.ipynb",
      "provenance": [],
      "collapsed_sections": [],
      "authorship_tag": "ABX9TyN3Au6Z0PWO2iHcWNRI4X6O",
      "include_colab_link": true
    },
    "kernelspec": {
      "name": "python3",
      "display_name": "Python 3"
    },
    "language_info": {
      "name": "python"
    }
  },
  "cells": [
    {
      "cell_type": "markdown",
      "metadata": {
        "id": "view-in-github",
        "colab_type": "text"
      },
      "source": [
        "<a href=\"https://colab.research.google.com/github/octagomez/TP_MARZO2022_REGRESION_LOGISTICA/blob/main/Matrices_200_Ejercicio_TP_MARZO_NARCI_.ipynb\" target=\"_parent\"><img src=\"https://colab.research.google.com/assets/colab-badge.svg\" alt=\"Open In Colab\"/></a>"
      ]
    },
    {
      "cell_type": "code",
      "source": [
        "!pip install category_encoders"
      ],
      "metadata": {
        "id": "pz2fcSp7i2Uz",
        "colab": {
          "base_uri": "https://localhost:8080/"
        },
        "outputId": "f6c9d461-abe0-4ab4-b3cc-06202423ce31"
      },
      "execution_count": 2,
      "outputs": [
        {
          "output_type": "stream",
          "name": "stdout",
          "text": [
            "Collecting category_encoders\n",
            "  Downloading category_encoders-2.4.0-py2.py3-none-any.whl (86 kB)\n",
            "\u001b[?25l\r\u001b[K     |███▉                            | 10 kB 5.5 MB/s eta 0:00:01\r\u001b[K     |███████▋                        | 20 kB 7.6 MB/s eta 0:00:01\r\u001b[K     |███████████▍                    | 30 kB 5.6 MB/s eta 0:00:01\r\u001b[K     |███████████████▏                | 40 kB 2.5 MB/s eta 0:00:01\r\u001b[K     |███████████████████             | 51 kB 3.0 MB/s eta 0:00:01\r\u001b[K     |██████████████████████▊         | 61 kB 2.7 MB/s eta 0:00:01\r\u001b[K     |██████████████████████████▌     | 71 kB 3.0 MB/s eta 0:00:01\r\u001b[K     |██████████████████████████████▎ | 81 kB 3.3 MB/s eta 0:00:01\r\u001b[K     |████████████████████████████████| 86 kB 1.5 MB/s \n",
            "\u001b[?25hRequirement already satisfied: numpy>=1.14.0 in /usr/local/lib/python3.7/dist-packages (from category_encoders) (1.21.5)\n",
            "Requirement already satisfied: statsmodels>=0.9.0 in /usr/local/lib/python3.7/dist-packages (from category_encoders) (0.10.2)\n",
            "Requirement already satisfied: pandas>=0.21.1 in /usr/local/lib/python3.7/dist-packages (from category_encoders) (1.3.5)\n",
            "Requirement already satisfied: patsy>=0.5.1 in /usr/local/lib/python3.7/dist-packages (from category_encoders) (0.5.2)\n",
            "Requirement already satisfied: scipy>=1.0.0 in /usr/local/lib/python3.7/dist-packages (from category_encoders) (1.4.1)\n",
            "Requirement already satisfied: scikit-learn>=0.20.0 in /usr/local/lib/python3.7/dist-packages (from category_encoders) (1.0.2)\n",
            "Requirement already satisfied: python-dateutil>=2.7.3 in /usr/local/lib/python3.7/dist-packages (from pandas>=0.21.1->category_encoders) (2.8.2)\n",
            "Requirement already satisfied: pytz>=2017.3 in /usr/local/lib/python3.7/dist-packages (from pandas>=0.21.1->category_encoders) (2018.9)\n",
            "Requirement already satisfied: six in /usr/local/lib/python3.7/dist-packages (from patsy>=0.5.1->category_encoders) (1.15.0)\n",
            "Requirement already satisfied: threadpoolctl>=2.0.0 in /usr/local/lib/python3.7/dist-packages (from scikit-learn>=0.20.0->category_encoders) (3.1.0)\n",
            "Requirement already satisfied: joblib>=0.11 in /usr/local/lib/python3.7/dist-packages (from scikit-learn>=0.20.0->category_encoders) (1.1.0)\n",
            "Installing collected packages: category-encoders\n",
            "Successfully installed category-encoders-2.4.0\n"
          ]
        }
      ]
    },
    {
      "cell_type": "code",
      "execution_count": 3,
      "metadata": {
        "id": "dUC-por0hFcS",
        "colab": {
          "base_uri": "https://localhost:8080/"
        },
        "outputId": "f87bac6b-c018-4a34-b32f-50418c0c98a3"
      },
      "outputs": [
        {
          "output_type": "stream",
          "name": "stderr",
          "text": [
            "/usr/local/lib/python3.7/dist-packages/statsmodels/tools/_testing.py:19: FutureWarning: pandas.util.testing is deprecated. Use the functions in the public API at pandas.testing instead.\n",
            "  import pandas.util.testing as tm\n"
          ]
        }
      ],
      "source": [
        "import numpy as np # linear algebra\n",
        "import pandas as pd # data processing, CSV file I/O (e.g. pd.read_csv)\n",
        "import matplotlib.pyplot as plt # data visualization\n",
        "import seaborn as sns # statistical data visualization\n",
        "%matplotlib inline\n",
        "import category_encoders as ce\n"
      ]
    },
    {
      "cell_type": "markdown",
      "source": [
        "MATRIZ 20x3"
      ],
      "metadata": {
        "id": "FCWGE7p5ABaH"
      }
    },
    {
      "cell_type": "code",
      "source": [
        "# CREO UN VECTOR DE DISTRIBUCION NORMAL 20\n",
        "da = np.random.normal(loc=0, scale=1, size=100).reshape(100,1)\n",
        "da2 = np.random.normal(loc=10, scale=15, size=100).reshape(100,1)\n",
        "da = np.append(da, da2 , axis=0)\n",
        "da\n",
        "# CREO UN VECTOR DE DISTRIBUCION UNIFORME\n",
        "rd = np.random.uniform(low=0, high=1.5, size=100).reshape(100,1)\n",
        "rd2 = np.random.uniform(low=1.6, high=3, size=100).reshape(100,1)\n",
        "rd = np.append(rd, rd2 , axis=0)\n",
        "# CREO UN VECTOR DE DISTRIBUCION SESGADA\n",
        "rs =np.random.lognormal(2,3,100).reshape(100,1)\n",
        "rs2 =np.random.lognormal(0,3,100).reshape(100,1)\n",
        "rs = np.append(rs, rs2 , axis=0)"
      ],
      "metadata": {
        "id": "jILFjMipjAOK"
      },
      "execution_count": 4,
      "outputs": []
    },
    {
      "cell_type": "code",
      "source": [
        "# INCORPORO LOS DATOS A UNA MATRIZ\n",
        "# https://www.delftstack.com/es/howto/numpy/numpy-add-column/#:~:text=append()-,La%20funci%C3%B3n%20numpy.,valores%20a%20el%20array%20preexistente.\n",
        "XU = np.append(da, rd , axis=1)\n",
        "# VEO LA MATRIZ\n",
        "#print(\"VECTOR NORMAL\", da)\n",
        "#print(\"VECTOR UNIFORME\",rd)\n",
        "#print(\"MATRIZ_1\", XU)\n",
        "# INCORPORP LA TERCERA COLUMNA A LA MATRIZ\n",
        "XU_s = np.append(XU, rs , axis=1)\n",
        "#print(\"MATRIZ_2\", XU)\n",
        "XU.shape\n",
        "\n",
        "print(\"DISTRIBUCION NORMAL \\nMEDIA: \", da.mean(), \" // VARIANZA :\", da.var()  )"
      ],
      "metadata": {
        "colab": {
          "base_uri": "https://localhost:8080/"
        },
        "id": "dB2NyfqEpT0U",
        "outputId": "2f24bccb-946b-454c-9022-69ebf7eae942"
      },
      "execution_count": 5,
      "outputs": [
        {
          "output_type": "stream",
          "name": "stdout",
          "text": [
            "DISTRIBUCION NORMAL \n",
            "MEDIA:  5.925106450376176  // VARIANZA : 167.16893046385746\n"
          ]
        }
      ]
    },
    {
      "cell_type": "markdown",
      "source": [
        "## DEFINO EL VECTOR Y"
      ],
      "metadata": {
        "id": "ADxkW5n6LeN6"
      }
    },
    {
      "cell_type": "code",
      "source": [
        "# XU_s_t = XU_s.transpose()\n",
        "# XU_s_t.shape\n",
        "# y_test_t = pd.DataFrame(XU_s_t)\n",
        "# y_test_DNORMAL = pd.DataFrame(XU_s ,columns=[0])\n",
        "# print(XU_x)\n",
        "print(XU_s)"
      ],
      "metadata": {
        "colab": {
          "base_uri": "https://localhost:8080/"
        },
        "id": "1lmG9m0SMnzV",
        "outputId": "eede302e-e43a-44e3-ad2c-fcba7bab0fda"
      },
      "execution_count": 6,
      "outputs": [
        {
          "output_type": "stream",
          "name": "stdout",
          "text": [
            "[[-7.54426953e-03  5.20565910e-01  7.31138993e+03]\n",
            " [-7.23100759e-01  6.94705113e-01  1.34261872e+00]\n",
            " [ 1.08894003e+00  1.08014220e+00  1.53204165e-01]\n",
            " [-8.82401958e-01  4.15448252e-02  2.46803575e-02]\n",
            " [-6.30850066e-01  1.37551038e-01  1.71546783e+01]\n",
            " [-7.49501071e-01  7.00440323e-01  6.68927315e+00]\n",
            " [-2.93448536e-01  1.19716957e+00  3.74505272e+01]\n",
            " [-9.07646287e-01  1.43581735e+00  1.02041599e+00]\n",
            " [-1.13949108e+00  1.02582889e+00  1.84846946e+02]\n",
            " [-1.56508011e+00  1.49356280e+00  7.04329348e+01]\n",
            " [ 4.10661003e-01  6.23016072e-01  1.29867746e+02]\n",
            " [ 5.65763461e-01  1.39962863e+00  1.32663671e+03]\n",
            " [ 1.12874310e+00  6.12355028e-01  3.60673624e+00]\n",
            " [-8.76313366e-01  1.10724217e+00  3.63018823e+00]\n",
            " [-4.61892846e-01  3.06906176e-01  7.63083897e+00]\n",
            " [-6.93458507e-01  1.15181040e+00  1.55524164e-01]\n",
            " [-6.57481245e-01  1.61083845e-01  1.99049613e+02]\n",
            " [ 2.12418588e-01  4.12038675e-01  1.30302479e+03]\n",
            " [-1.49050941e+00  7.97559926e-01  2.58224023e-02]\n",
            " [ 1.83298633e-01  1.18113451e+00  3.15562459e+00]\n",
            " [ 8.80150015e-01  8.65910891e-01  5.98440783e-01]\n",
            " [-2.74407687e-01  4.35832100e-01  2.06536551e+01]\n",
            " [ 7.31455485e-01  1.12570273e+00  2.85137782e+02]\n",
            " [-5.70978591e-01  6.90170426e-01  3.88054564e+00]\n",
            " [ 5.90025410e-02  1.24045120e+00  9.31688950e+00]\n",
            " [-1.11775954e-01  6.77034064e-01  3.18463406e+01]\n",
            " [ 2.43887011e-01  6.67047606e-01  1.70506842e+01]\n",
            " [ 3.40708736e-02  9.83661040e-02  4.66922871e+00]\n",
            " [-4.01030730e-01  1.18296031e-01  2.83376051e-02]\n",
            " [ 1.19120306e-01  7.18738211e-01  1.97663397e+02]\n",
            " [ 3.96790310e-01  9.08840417e-01  1.35344358e+02]\n",
            " [ 7.39668966e-01  9.77385898e-01  1.36723459e+03]\n",
            " [-1.27313112e-02  5.15951047e-01  1.22500127e+00]\n",
            " [ 1.52855191e-01  1.55200776e-01  1.01224629e-01]\n",
            " [ 1.45859829e-01  9.97831607e-01  3.55504851e+01]\n",
            " [ 1.72575726e+00  8.81179711e-01  1.97875308e+02]\n",
            " [ 1.22210279e+00  1.02446578e+00  4.09643155e-01]\n",
            " [ 1.22914277e+00  6.87342272e-01  3.70060650e+02]\n",
            " [ 1.14532803e+00  1.31615571e+00  1.53775101e+03]\n",
            " [ 1.51546086e+00  1.18779771e+00  2.11788214e+00]\n",
            " [-5.85566259e-01  5.30457874e-01  4.93622245e+01]\n",
            " [-4.99984288e-01  1.35922845e+00  1.87344762e+01]\n",
            " [-4.12382457e-01  1.23349863e+00  2.86142201e+00]\n",
            " [ 1.12867518e+00  4.11064622e-01  1.26068242e+00]\n",
            " [ 9.69531501e-01  7.34539605e-01  1.04542021e+03]\n",
            " [ 6.32348357e-01  4.66120505e-01  2.38316655e+03]\n",
            " [-1.28562829e+00  3.65735123e-01  1.31433713e-02]\n",
            " [-9.30988383e-02  3.34438904e-01  9.27599534e+02]\n",
            " [ 1.11674296e+00  3.40764463e-01  7.33325580e-01]\n",
            " [ 8.51462240e-02  6.28914734e-01  3.97412585e-02]\n",
            " [-9.19189625e-01  9.66657113e-01  5.55571503e+01]\n",
            " [-4.18113513e-01  7.90012374e-01  8.76911560e-01]\n",
            " [ 9.11336785e-01  1.07431463e+00  6.65767996e+01]\n",
            " [-1.38081618e+00  6.72704847e-01  5.66366550e+00]\n",
            " [ 3.94880351e-01  3.04289414e-01  8.43035024e-02]\n",
            " [-6.00937277e-01  1.09532570e+00  4.44827550e+02]\n",
            " [ 9.06382544e-01  3.31549930e-01  4.97002127e+01]\n",
            " [ 1.31783961e+00  1.14393584e+00  1.34854276e+01]\n",
            " [-1.08268634e+00  1.78257319e-01  1.78469322e+01]\n",
            " [ 3.38110393e-02  1.44639280e+00  1.73450856e-01]\n",
            " [-1.60756729e+00  2.57866735e-01  2.37224177e+00]\n",
            " [ 4.79388049e-01  1.60510684e-01  6.00017319e+01]\n",
            " [ 2.27267563e+00  8.95531624e-01  3.78192525e+01]\n",
            " [-1.36634795e+00  1.41527621e+00  2.71819208e+02]\n",
            " [ 6.35153753e-01  7.45066487e-01  2.57022793e+03]\n",
            " [-3.79274626e-01  1.31775643e+00  1.33556521e+01]\n",
            " [ 7.57667241e-01  5.83003796e-01  1.59573618e+02]\n",
            " [-1.32467549e+00  1.63685635e-01  2.72808341e+01]\n",
            " [ 2.83650706e-01  1.14295928e+00  2.27478371e+00]\n",
            " [ 1.56349907e-01  9.73662967e-01  2.62473780e+02]\n",
            " [-6.14032709e-01  1.27162482e+00  1.05282660e+04]\n",
            " [ 1.13448004e+00  4.04715876e-01  1.18432631e+01]\n",
            " [-4.16485437e-01  1.42211013e+00  2.60626864e+00]\n",
            " [ 6.68754580e-01  1.14003120e+00  3.08926964e+00]\n",
            " [-9.30775564e-01  1.45359070e+00  1.42123186e+01]\n",
            " [-1.33741582e+00  7.76106450e-01  5.14169035e+00]\n",
            " [ 2.57013046e-01  1.11106736e+00  8.75432557e-02]\n",
            " [ 1.03023864e+00  1.40388938e+00  2.23575312e+00]\n",
            " [ 2.49985766e+00  6.41812991e-01  3.15748208e+02]\n",
            " [ 7.29151960e-01  5.62079377e-02  9.46526908e+02]\n",
            " [ 5.92761992e-02  1.49392952e-01  8.90841467e+00]\n",
            " [-1.41326536e+00  8.02499633e-01  1.14724730e-01]\n",
            " [ 2.63941856e+00  1.01424665e+00  6.39053187e+01]\n",
            " [ 1.73771355e-01  3.48832728e-01  3.43078875e+00]\n",
            " [-4.05445282e-01  1.36277729e+00  1.19999522e+03]\n",
            " [-7.57441135e-01  8.64590651e-01  6.53096241e+02]\n",
            " [-6.68330379e-02  6.79299711e-01  1.60142165e+01]\n",
            " [ 9.74275908e-01  2.18425993e-01  2.24164715e+00]\n",
            " [-7.42643702e-01  3.28139999e-01  3.60941022e+00]\n",
            " [ 1.19956958e+00  6.68093232e-01  4.89228393e+02]\n",
            " [-1.48531642e-01  9.23817198e-01  2.84148496e+03]\n",
            " [ 1.13699415e+00  1.18163373e+00  1.40272924e-01]\n",
            " [-7.74367992e-01  1.41417940e+00  4.94828702e+00]\n",
            " [-3.31541702e-01  3.52117660e-02  7.21318490e+00]\n",
            " [ 1.31807749e+00  7.57936910e-01  2.36373137e+01]\n",
            " [-6.24888913e-01  2.33919302e-01  1.74120634e+02]\n",
            " [ 1.37731795e+00  4.58353546e-01  1.23288300e-01]\n",
            " [ 1.06216955e+00  1.01913249e-01  7.17264942e-01]\n",
            " [-2.71422372e-01  1.62887912e-01  3.05325905e+00]\n",
            " [ 2.67071606e-02  5.88087406e-01  3.53118679e-01]\n",
            " [ 2.84718722e+01  1.78412760e+00  4.85126839e-02]\n",
            " [-2.05736705e+01  2.78160335e+00  2.08524234e+00]\n",
            " [ 3.18883424e+00  2.43427927e+00  8.09205580e-02]\n",
            " [ 2.25661076e+01  1.90369275e+00  3.63472646e-02]\n",
            " [ 2.22241917e+01  1.70222993e+00  2.92784503e-02]\n",
            " [ 1.21548761e+01  2.56607205e+00  1.90397001e-01]\n",
            " [-2.09134183e+01  1.61407120e+00  1.18248532e+02]\n",
            " [-5.26341607e-01  2.10431433e+00  2.31969931e+01]\n",
            " [ 1.32645315e+01  2.77776328e+00  1.58777554e-01]\n",
            " [-1.67988966e+01  1.86005925e+00  1.89974599e-01]\n",
            " [ 1.66142792e+01  2.80360583e+00  3.55285171e+02]\n",
            " [-5.30053464e+00  2.99858911e+00  1.11854899e-01]\n",
            " [ 8.64295311e+00  2.38477993e+00  1.79263504e-01]\n",
            " [-3.33858091e+00  2.44370357e+00  4.87755905e+01]\n",
            " [ 3.52641979e+00  2.90058817e+00  4.46065588e+00]\n",
            " [ 9.31412489e+00  2.07237786e+00  3.71158917e-02]\n",
            " [-9.37362748e+00  1.80970821e+00  5.63992518e-01]\n",
            " [ 1.10525272e+01  2.98358637e+00  1.65802983e-01]\n",
            " [ 1.73662137e+00  2.97223698e+00  2.69908441e-01]\n",
            " [ 3.39663321e+01  2.88780171e+00  2.06962740e-02]\n",
            " [ 1.27743121e+01  1.60562530e+00  1.40703922e+01]\n",
            " [ 4.16409263e+01  2.96784919e+00  2.08726463e-01]\n",
            " [ 1.19246129e+01  2.56033558e+00  1.97021361e+00]\n",
            " [ 3.25845943e+01  1.77626056e+00  3.07032382e-01]\n",
            " [ 2.63407621e+01  2.36496815e+00  1.65499192e+02]\n",
            " [ 6.26783898e+00  2.32134114e+00  5.44230027e-01]\n",
            " [ 3.11094072e+01  1.65303836e+00  1.70800667e-01]\n",
            " [ 2.97902911e+01  2.17248065e+00  2.78660906e+01]\n",
            " [ 1.33086868e+01  2.15161179e+00  1.65151168e+01]\n",
            " [ 4.48445065e+01  2.77217571e+00  1.87270739e+00]\n",
            " [ 4.28873413e+00  2.35717699e+00  2.69196431e-01]\n",
            " [ 3.41662585e+01  1.76022875e+00  1.26935164e+00]\n",
            " [ 1.95927196e+01  1.99571671e+00  2.43726530e-02]\n",
            " [-1.63473355e+01  2.58152822e+00  2.49675869e+03]\n",
            " [ 2.05590717e+00  2.35018161e+00  1.21410756e+00]\n",
            " [ 2.72621565e+00  1.83928825e+00  5.42375832e-02]\n",
            " [ 1.96441339e+00  1.79059565e+00  2.88523983e-01]\n",
            " [-9.52979476e+00  2.76257469e+00  1.09510596e+03]\n",
            " [ 2.28369143e+01  2.18353121e+00  1.59892918e-01]\n",
            " [ 1.18488830e+01  2.64647093e+00  9.23271975e+00]\n",
            " [ 3.51589665e+01  2.25424570e+00  5.11234193e-01]\n",
            " [ 1.16535434e+01  2.03388157e+00  2.76462816e-01]\n",
            " [ 6.95324998e+00  2.65063530e+00  7.96932332e-01]\n",
            " [ 2.48841200e+01  2.81077446e+00  9.78229224e+00]\n",
            " [ 6.45268374e+00  2.45675251e+00  1.13314446e+01]\n",
            " [ 2.23420284e+01  1.99202471e+00  1.22520072e+01]\n",
            " [-4.53244946e+00  1.62513176e+00  3.39434694e+01]\n",
            " [ 8.69096772e+00  2.32669880e+00  7.99608480e-01]\n",
            " [ 2.02402807e+01  2.05771403e+00  1.92406352e+00]\n",
            " [-7.76627896e+00  2.06306619e+00  8.99269839e-01]\n",
            " [-1.61927734e+01  1.93269528e+00  5.98320208e+00]\n",
            " [-4.27428328e+00  2.20435136e+00  3.54994875e-01]\n",
            " [-8.72906809e-01  1.68893979e+00  7.93235823e-02]\n",
            " [ 1.90373918e+01  1.95641695e+00  1.73652076e-03]\n",
            " [-5.29632311e+00  2.64886117e+00  1.29137191e-01]\n",
            " [ 1.32424248e+01  2.62746386e+00  3.03000304e+00]\n",
            " [ 2.02313099e+01  1.87535919e+00  7.51246804e+00]\n",
            " [ 9.94207617e+00  1.62169429e+00  1.07903080e-01]\n",
            " [ 4.70191819e+00  2.84757744e+00  9.74437622e+01]\n",
            " [ 4.70319449e+01  2.03738953e+00  2.06200727e+01]\n",
            " [-8.64132058e+00  2.50739936e+00  3.97590624e-01]\n",
            " [ 3.13966439e+01  1.64002998e+00  1.44550413e-01]\n",
            " [ 1.29265787e+01  2.53003661e+00  1.52111309e+00]\n",
            " [ 2.55597375e+01  2.82586271e+00  2.10644364e+00]\n",
            " [ 2.88519004e+01  2.38567247e+00  6.14145428e+00]\n",
            " [-8.45665730e+00  2.12069061e+00  4.86325516e-01]\n",
            " [ 9.15765989e+00  1.93974317e+00  2.01540970e+00]\n",
            " [ 1.22866708e+01  2.72179639e+00  5.18428944e-01]\n",
            " [ 8.80277565e+00  2.73057157e+00  2.87239142e-02]\n",
            " [ 5.27083264e-01  2.86731188e+00  7.59686597e-01]\n",
            " [ 8.12778125e+00  2.22986566e+00  3.05527839e+00]\n",
            " [ 3.34258353e+01  1.90621088e+00  1.86969929e-01]\n",
            " [ 1.02749883e+01  2.39006024e+00  4.19432516e-01]\n",
            " [ 5.64702066e+01  1.92593813e+00  2.03508476e-01]\n",
            " [ 1.14367058e+01  2.36703904e+00  2.16012103e+01]\n",
            " [ 2.97955350e+01  1.78465249e+00  2.34002802e-02]\n",
            " [ 9.58047877e+00  2.58478174e+00  5.61965516e+00]\n",
            " [-1.02697060e+01  2.94244158e+00  1.40799209e+00]\n",
            " [ 1.49287057e+01  2.46370377e+00  1.39452910e-01]\n",
            " [ 8.48220727e+00  1.66628446e+00  6.98213624e-02]\n",
            " [ 3.21403985e+01  1.92683877e+00  3.71699496e+00]\n",
            " [ 2.52990674e+01  2.95880546e+00  6.91801652e-02]\n",
            " [ 1.17582575e+01  2.13970356e+00  7.19596483e+00]\n",
            " [ 2.54321734e+01  2.60171638e+00  6.81870677e-01]\n",
            " [ 2.96170579e+01  1.62758515e+00  3.52926426e+00]\n",
            " [ 3.09648967e+00  1.67966909e+00  1.49238322e+00]\n",
            " [ 3.84557753e+01  1.85689838e+00  1.28620285e-01]\n",
            " [ 2.60193829e+01  2.63513679e+00  3.38311157e-01]\n",
            " [ 4.50219162e+00  2.10256370e+00  1.52353588e+02]\n",
            " [ 1.55373684e+01  1.60012571e+00  1.72078422e+00]\n",
            " [-1.17226737e+01  2.18200586e+00  2.56118655e-01]\n",
            " [-5.12863653e+00  2.71945173e+00  2.69709935e-01]\n",
            " [ 3.17999811e+01  1.64060971e+00  7.62075974e-01]\n",
            " [ 1.44366529e+01  2.12997609e+00  6.96310995e-04]\n",
            " [ 9.56029276e+00  2.30573952e+00  3.90987939e-01]\n",
            " [ 3.05541844e+01  2.77142672e+00  2.74303813e+01]\n",
            " [-1.78559378e+01  2.45291375e+00  6.67760798e-01]\n",
            " [-1.33468211e+01  2.68146461e+00  9.39351055e-02]\n",
            " [-1.32355127e+01  2.81613083e+00  5.26597258e+01]\n",
            " [ 8.66431394e+00  2.13405655e+00  1.63833550e+01]]\n"
          ]
        }
      ]
    },
    {
      "cell_type": "code",
      "source": [
        "y_20 =np.array([0,0,0,0,0,0,0,0,0,0,\n",
        "                0,0,0,0,0,0,0,0,0,0,\n",
        "                0,0,0,0,0,0,0,0,0,0,\n",
        "                0,0,0,0,0,0,0,0,0,0,\n",
        "                0,0,0,0,0,0,0,0,0,0,\n",
        "                0,0,0,0,0,0,0,0,0,0,\n",
        "                0,0,0,0,0,0,0,0,0,0,\n",
        "                0,0,0,0,0,0,0,0,0,0,\n",
        "                0,0,0,0,0,0,0,0,0,0,\n",
        "                0,0,0,0,0,0,0,0,0,0,\n",
        "                1,1,1,1,1,1,1,1,1,1,\n",
        "                1,1,1,1,1,1,1,1,1,1,\n",
        "                1,1,1,1,1,1,1,1,1,1,\n",
        "                1,1,1,1,1,1,1,1,1,1,\n",
        "                1,1,1,1,1,1,1,1,1,1,\n",
        "                1,1,1,1,1,1,1,1,1,1,\n",
        "                1,1,1,1,1,1,1,1,1,1,\n",
        "                1,1,1,1,1,1,1,1,1,1,\n",
        "                1,1,1,1,1,1,1,1,1,1,\n",
        "                1,1,1,1,1,1,1,1,1,1\n",
        "                ])"
      ],
      "metadata": {
        "id": "_YPbKz-Wt5SK"
      },
      "execution_count": 7,
      "outputs": []
    },
    {
      "cell_type": "code",
      "source": [
        "print(da.shape)\n",
        "print(y_20.shape)"
      ],
      "metadata": {
        "colab": {
          "base_uri": "https://localhost:8080/"
        },
        "id": "lbkteFKquNjq",
        "outputId": "6cb2d70f-8c52-4357-e538-a12a1de88c99"
      },
      "execution_count": 9,
      "outputs": [
        {
          "output_type": "stream",
          "name": "stdout",
          "text": [
            "(200, 1)\n",
            "(200,)\n"
          ]
        }
      ]
    },
    {
      "cell_type": "code",
      "source": [
        "# Asi veremos información estadística básica de nuestro set de datos. La Media, el desvío estándar, \n",
        "# valores mínimo y máximo de cada característica:\n",
        "# VAMOS A CONVERTIR LA MATRIZ DE NP a UN DF \n",
        "df = pd.DataFrame(XU_s)\n",
        "df.describe()"
      ],
      "metadata": {
        "colab": {
          "base_uri": "https://localhost:8080/",
          "height": 300
        },
        "id": "pasQQJkv-4Rq",
        "outputId": "675d64e7-8b2b-475d-9d15-26e59431b33b"
      },
      "execution_count": 8,
      "outputs": [
        {
          "output_type": "execute_result",
          "data": {
            "text/plain": [
              "                0           1             2\n",
              "count  200.000000  200.000000    200.000000\n",
              "mean     5.925106    1.515057    227.776921\n",
              "std     12.961828    0.871839    991.195730\n",
              "min    -20.913418    0.035212      0.000696\n",
              "25%     -0.574626    0.730589      0.274824\n",
              "50%      0.893266    1.546844      3.041631\n",
              "75%     11.148572    2.267119     28.861153\n",
              "max     56.470207    2.998589  10528.265959"
            ],
            "text/html": [
              "\n",
              "  <div id=\"df-65b2bc4f-59de-466b-9a20-9da646e1941f\">\n",
              "    <div class=\"colab-df-container\">\n",
              "      <div>\n",
              "<style scoped>\n",
              "    .dataframe tbody tr th:only-of-type {\n",
              "        vertical-align: middle;\n",
              "    }\n",
              "\n",
              "    .dataframe tbody tr th {\n",
              "        vertical-align: top;\n",
              "    }\n",
              "\n",
              "    .dataframe thead th {\n",
              "        text-align: right;\n",
              "    }\n",
              "</style>\n",
              "<table border=\"1\" class=\"dataframe\">\n",
              "  <thead>\n",
              "    <tr style=\"text-align: right;\">\n",
              "      <th></th>\n",
              "      <th>0</th>\n",
              "      <th>1</th>\n",
              "      <th>2</th>\n",
              "    </tr>\n",
              "  </thead>\n",
              "  <tbody>\n",
              "    <tr>\n",
              "      <th>count</th>\n",
              "      <td>200.000000</td>\n",
              "      <td>200.000000</td>\n",
              "      <td>200.000000</td>\n",
              "    </tr>\n",
              "    <tr>\n",
              "      <th>mean</th>\n",
              "      <td>5.925106</td>\n",
              "      <td>1.515057</td>\n",
              "      <td>227.776921</td>\n",
              "    </tr>\n",
              "    <tr>\n",
              "      <th>std</th>\n",
              "      <td>12.961828</td>\n",
              "      <td>0.871839</td>\n",
              "      <td>991.195730</td>\n",
              "    </tr>\n",
              "    <tr>\n",
              "      <th>min</th>\n",
              "      <td>-20.913418</td>\n",
              "      <td>0.035212</td>\n",
              "      <td>0.000696</td>\n",
              "    </tr>\n",
              "    <tr>\n",
              "      <th>25%</th>\n",
              "      <td>-0.574626</td>\n",
              "      <td>0.730589</td>\n",
              "      <td>0.274824</td>\n",
              "    </tr>\n",
              "    <tr>\n",
              "      <th>50%</th>\n",
              "      <td>0.893266</td>\n",
              "      <td>1.546844</td>\n",
              "      <td>3.041631</td>\n",
              "    </tr>\n",
              "    <tr>\n",
              "      <th>75%</th>\n",
              "      <td>11.148572</td>\n",
              "      <td>2.267119</td>\n",
              "      <td>28.861153</td>\n",
              "    </tr>\n",
              "    <tr>\n",
              "      <th>max</th>\n",
              "      <td>56.470207</td>\n",
              "      <td>2.998589</td>\n",
              "      <td>10528.265959</td>\n",
              "    </tr>\n",
              "  </tbody>\n",
              "</table>\n",
              "</div>\n",
              "      <button class=\"colab-df-convert\" onclick=\"convertToInteractive('df-65b2bc4f-59de-466b-9a20-9da646e1941f')\"\n",
              "              title=\"Convert this dataframe to an interactive table.\"\n",
              "              style=\"display:none;\">\n",
              "        \n",
              "  <svg xmlns=\"http://www.w3.org/2000/svg\" height=\"24px\"viewBox=\"0 0 24 24\"\n",
              "       width=\"24px\">\n",
              "    <path d=\"M0 0h24v24H0V0z\" fill=\"none\"/>\n",
              "    <path d=\"M18.56 5.44l.94 2.06.94-2.06 2.06-.94-2.06-.94-.94-2.06-.94 2.06-2.06.94zm-11 1L8.5 8.5l.94-2.06 2.06-.94-2.06-.94L8.5 2.5l-.94 2.06-2.06.94zm10 10l.94 2.06.94-2.06 2.06-.94-2.06-.94-.94-2.06-.94 2.06-2.06.94z\"/><path d=\"M17.41 7.96l-1.37-1.37c-.4-.4-.92-.59-1.43-.59-.52 0-1.04.2-1.43.59L10.3 9.45l-7.72 7.72c-.78.78-.78 2.05 0 2.83L4 21.41c.39.39.9.59 1.41.59.51 0 1.02-.2 1.41-.59l7.78-7.78 2.81-2.81c.8-.78.8-2.07 0-2.86zM5.41 20L4 18.59l7.72-7.72 1.47 1.35L5.41 20z\"/>\n",
              "  </svg>\n",
              "      </button>\n",
              "      \n",
              "  <style>\n",
              "    .colab-df-container {\n",
              "      display:flex;\n",
              "      flex-wrap:wrap;\n",
              "      gap: 12px;\n",
              "    }\n",
              "\n",
              "    .colab-df-convert {\n",
              "      background-color: #E8F0FE;\n",
              "      border: none;\n",
              "      border-radius: 50%;\n",
              "      cursor: pointer;\n",
              "      display: none;\n",
              "      fill: #1967D2;\n",
              "      height: 32px;\n",
              "      padding: 0 0 0 0;\n",
              "      width: 32px;\n",
              "    }\n",
              "\n",
              "    .colab-df-convert:hover {\n",
              "      background-color: #E2EBFA;\n",
              "      box-shadow: 0px 1px 2px rgba(60, 64, 67, 0.3), 0px 1px 3px 1px rgba(60, 64, 67, 0.15);\n",
              "      fill: #174EA6;\n",
              "    }\n",
              "\n",
              "    [theme=dark] .colab-df-convert {\n",
              "      background-color: #3B4455;\n",
              "      fill: #D2E3FC;\n",
              "    }\n",
              "\n",
              "    [theme=dark] .colab-df-convert:hover {\n",
              "      background-color: #434B5C;\n",
              "      box-shadow: 0px 1px 3px 1px rgba(0, 0, 0, 0.15);\n",
              "      filter: drop-shadow(0px 1px 2px rgba(0, 0, 0, 0.3));\n",
              "      fill: #FFFFFF;\n",
              "    }\n",
              "  </style>\n",
              "\n",
              "      <script>\n",
              "        const buttonEl =\n",
              "          document.querySelector('#df-65b2bc4f-59de-466b-9a20-9da646e1941f button.colab-df-convert');\n",
              "        buttonEl.style.display =\n",
              "          google.colab.kernel.accessAllowed ? 'block' : 'none';\n",
              "\n",
              "        async function convertToInteractive(key) {\n",
              "          const element = document.querySelector('#df-65b2bc4f-59de-466b-9a20-9da646e1941f');\n",
              "          const dataTable =\n",
              "            await google.colab.kernel.invokeFunction('convertToInteractive',\n",
              "                                                     [key], {});\n",
              "          if (!dataTable) return;\n",
              "\n",
              "          const docLinkHtml = 'Like what you see? Visit the ' +\n",
              "            '<a target=\"_blank\" href=https://colab.research.google.com/notebooks/data_table.ipynb>data table notebook</a>'\n",
              "            + ' to learn more about interactive tables.';\n",
              "          element.innerHTML = '';\n",
              "          dataTable['output_type'] = 'display_data';\n",
              "          await google.colab.output.renderOutput(dataTable, element);\n",
              "          const docLink = document.createElement('div');\n",
              "          docLink.innerHTML = docLinkHtml;\n",
              "          element.appendChild(docLink);\n",
              "        }\n",
              "      </script>\n",
              "    </div>\n",
              "  </div>\n",
              "  "
            ]
          },
          "metadata": {},
          "execution_count": 8
        }
      ]
    },
    {
      "cell_type": "code",
      "source": [
        "# Dibujamos los histogramas para checkear la distribución de las variables usando el dataframe df20:\n",
        "plt.figure(figsize = (10,15))\n",
        "\n",
        "plt.subplot(2,2,1)\n",
        "fig =df[0].hist(bins=30)\n",
        "fig.set_xlabel('Dist. Normal')\n",
        "fig.set_ylabel('Dist. Normal')\n",
        "\n",
        "plt.subplot(2,2,2)\n",
        "fig =df[1].hist(bins=30)\n",
        "fig.set_xlabel('Dist. Uniforme')\n",
        "fig.set_ylabel('Dist. Uniforme')\n",
        "\n",
        "plt.subplot(2,2,3)\n",
        "fig =df[2].hist(bins=30)\n",
        "fig.set_xlabel('Dist. Sesgada')\n",
        "fig.set_ylabel('Dist. Sesgada')\n"
      ],
      "metadata": {
        "colab": {
          "base_uri": "https://localhost:8080/",
          "height": 895
        },
        "id": "UJmqybYX_jI_",
        "outputId": "594fa386-0772-4e10-c149-f13496a8108e"
      },
      "execution_count": 10,
      "outputs": [
        {
          "output_type": "execute_result",
          "data": {
            "text/plain": [
              "Text(0, 0.5, 'Dist. Sesgada')"
            ]
          },
          "metadata": {},
          "execution_count": 10
        },
        {
          "output_type": "display_data",
          "data": {
            "text/plain": [
              "<Figure size 720x1080 with 3 Axes>"
            ],
            "image/png": "[encoded data removed]"
          },
          "metadata": {
            "needs_background": "light"
          }
        }
      ]
    },
    {
      "cell_type": "code",
      "source": [
        "# train a logistic regression model on the training set\n",
        "\n",
        "from sklearn.linear_model import LogisticRegression\n",
        "from sklearn.model_selection import train_test_split \n",
        "X_train, X_test, y_train, y_test = train_test_split(XU_s,y_20,test_size=0.2)\n"
      ],
      "metadata": {
        "id": "EDAFpYNTB4YM"
      },
      "execution_count": 11,
      "outputs": []
    },
    {
      "cell_type": "code",
      "source": [
        "# instantiate the model\n",
        "logreg = LogisticRegression(solver='liblinear', random_state=0) # OBTENGO Model accuracy score: 0.9500 Confusion matrix\n",
        "                                                                                                          # [[10  0]\n",
        "                                                                                                          # [ 1  9]]\n",
        "#logreg = LogisticRegression(solver='newton-cg', random_state=0) # Model accuracy score: 1.0000 Confusion matrix\n",
        "                                                                                                # [[10  0]\n",
        "                                                                                                # [ 0 10]]\n",
        "#logreg = LogisticRegression(solver='sag', random_state=0) # Model accuracy score: 0.9500 Confusion matrix\n",
        "                                                                                          # [[ 9  1]\n",
        "                                                                                          # [ 0 10]]\n",
        "#logreg = LogisticRegression(solver='saga', random_state=0) # Model accuracy score: 0.9000 Confusion matrix\n",
        "                                                                                          # [[9 1]\n",
        "                                                                                          # [1 9]]\n",
        "#logreg = LogisticRegression(solver='lbfgs',random_state=0) # Model accuracy score: 1.0000 Confusion matrix\n",
        "                                                                                          # [[10  0]\n",
        "                                                                                          # [ 0 10]]\n",
        "\n",
        "# fit the model\n",
        "logreg.fit(X_train, y_train)\n"
      ],
      "metadata": {
        "colab": {
          "base_uri": "https://localhost:8080/"
        },
        "id": "MIqWcZk5IeWl",
        "outputId": "dd0ac793-bf4b-4b5b-8767-e706a34c1d51"
      },
      "execution_count": 12,
      "outputs": [
        {
          "output_type": "execute_result",
          "data": {
            "text/plain": [
              "LogisticRegression(random_state=0, solver='liblinear')"
            ]
          },
          "metadata": {},
          "execution_count": 12
        }
      ]
    },
    {
      "cell_type": "code",
      "source": [
        "# ESTA ES LA PREDICCION\n",
        "y_pred_test = logreg.predict(X_test)\n",
        "\n",
        "y_pred_test"
      ],
      "metadata": {
        "colab": {
          "base_uri": "https://localhost:8080/"
        },
        "id": "TgNeLMoIvAia",
        "outputId": "dbaf5e3b-9b1b-467b-ab5d-c2ea8c03b382"
      },
      "execution_count": 13,
      "outputs": [
        {
          "output_type": "execute_result",
          "data": {
            "text/plain": [
              "array([1, 0, 1, 1, 1, 1, 1, 1, 1, 0, 1, 0, 0, 0, 0, 0, 1, 1, 0, 0, 0, 1,\n",
              "       0, 0, 0, 0, 1, 1, 1, 1, 0, 1, 1, 0, 0, 1, 0, 0, 0, 1])"
            ]
          },
          "metadata": {},
          "execution_count": 13
        }
      ]
    },
    {
      "cell_type": "code",
      "source": [
        "# CALCULO LA PRESICION DEL ALGORITMO DE PREDICCION COMPARANDO EL Y DE SALIDA REAL VS LA PREDICCION\n",
        "from sklearn.metrics import accuracy_score\n",
        "\n",
        "print('Model accuracy score: {0:0.4f}'. format(accuracy_score(y_test, y_pred_test)))"
      ],
      "metadata": {
        "colab": {
          "base_uri": "https://localhost:8080/"
        },
        "id": "TwYwo6K9Mpj1",
        "outputId": "251bf73f-48f4-45e0-ee23-4c4a3abd2bb3"
      },
      "execution_count": 14,
      "outputs": [
        {
          "output_type": "stream",
          "name": "stdout",
          "text": [
            "Model accuracy score: 1.0000\n"
          ]
        }
      ]
    },
    {
      "cell_type": "code",
      "source": [
        "# Creamos nuestra Matriz de Confusión:\n",
        "# COMPARANDO EL Y DE SALIDA REAL VS LA PREDICCION\n",
        "\n",
        "from sklearn.metrics import confusion_matrix\n",
        "\n",
        "cm = confusion_matrix(y_test, y_pred_test)\n",
        "print('Confusion matrix\\n\\n', cm)\n",
        "print('\\nTrue Positives(TP) = ', cm[0,0])\n",
        "print('\\nTrue Negatives(TN) = ', cm[1,1])\n",
        "print('\\nFalse Positives(FP) = ', cm[0,1])\n",
        "print('\\nFalse Negatives(FN) = ', cm[1,0])"
      ],
      "metadata": {
        "id": "I3ugYxj-PhGR"
      },
      "execution_count": null,
      "outputs": []
    },
    {
      "cell_type": "code",
      "source": [
        "# Visualizamos la Matriz de Confusión:\n",
        "cm_matrix = pd.DataFrame(data=cm, columns=['Actual Positive:1', 'Actual Negative:0'], \n",
        "                                 index=['Predict Positive:1', 'Predict Negative:0'])\n",
        "sns.heatmap(cm_matrix, annot=True, fmt='d', cmap='YlGnBu')"
      ],
      "metadata": {
        "colab": {
          "base_uri": "https://localhost:8080/",
          "height": 287
        },
        "id": "m4uvJQg_9iPG",
        "outputId": "b187dfd0-abb6-4eba-c034-9ba0ef651fd5"
      },
      "execution_count": 16,
      "outputs": [
        {
          "output_type": "execute_result",
          "data": {
            "text/plain": [
              "<matplotlib.axes._subplots.AxesSubplot at 0x7f69be860210>"
            ]
          },
          "metadata": {},
          "execution_count": 16
        },
        {
          "output_type": "display_data",
          "data": {
            "text/plain": [
              "<Figure size 432x288 with 2 Axes>"
            ],
            "image/png": "[encoded data removed]"
          },
          "metadata": {
            "needs_background": "light"
          }
        }
      ]
    },
    {
      "cell_type": "code",
      "source": [
        "# El Informe de Clasificación es otra forma de evaluar el rendimiento del modelo de clasificación.\n",
        "# Muestra las puntuaciones de precisión, recuperación, f1 y soporte para el modelo:\n",
        "from sklearn.metrics import classification_report\n",
        "\n",
        "print(classification_report(y_test, y_pred_test))"
      ],
      "metadata": {
        "colab": {
          "base_uri": "https://localhost:8080/"
        },
        "id": "PuhENg-F-cIv",
        "outputId": "4fd4de21-876a-46d5-b775-829e512efb40"
      },
      "execution_count": 17,
      "outputs": [
        {
          "output_type": "stream",
          "name": "stdout",
          "text": [
            "              precision    recall  f1-score   support\n",
            "\n",
            "           0       1.00      1.00      1.00        20\n",
            "           1       1.00      1.00      1.00        20\n",
            "\n",
            "    accuracy                           1.00        40\n",
            "   macro avg       1.00      1.00      1.00        40\n",
            "weighted avg       1.00      1.00      1.00        40\n",
            "\n"
          ]
        }
      ]
    },
    {
      "cell_type": "code",
      "source": [
        "# aqui se observa que variable tiene mayor influencia\n",
        "logreg.coef_"
      ],
      "metadata": {
        "colab": {
          "base_uri": "https://localhost:8080/"
        },
        "id": "uS-6VGlsQsZw",
        "outputId": "53843413-8320-4915-8f71-2403331f4e5e"
      },
      "execution_count": 18,
      "outputs": [
        {
          "output_type": "execute_result",
          "data": {
            "text/plain": [
              "array([[ 5.39961607e-02,  2.81074134e+00, -7.88160007e-04]])"
            ]
          },
          "metadata": {},
          "execution_count": 18
        }
      ]
    },
    {
      "cell_type": "markdown",
      "source": [
        "## SUPUESTOS DE LA REGRESION LOGISTICA"
      ],
      "metadata": {
        "id": "P_Ju1ooaqPk5"
      }
    },
    {
      "cell_type": "markdown",
      "source": [
        "# SUPUESTO 1 - Tipo de resultado apropiado\n",
        "REGRESION LOGISTICA: la variable de respuesta es binaria [0,1]\n",
        "\n"
      ],
      "metadata": {
        "id": "ehrq0mLXqWxo"
      }
    },
    {
      "cell_type": "code",
      "source": [
        "# EVALUO LA SALIDA (OUTPUT) DEBE TENER  2 VALORES\n",
        "# la funcion unique de la libreria numpy nos permite leer un array de numpy y su salida son valores unicos\n",
        "# https://numpy.org/doc/stable/reference/generated/numpy.unique.html\n",
        "print(np.unique(y_20))"
      ],
      "metadata": {
        "colab": {
          "base_uri": "https://localhost:8080/"
        },
        "id": "uKdBcDJCqOj3",
        "outputId": "094747ef-2385-4021-cccf-973ba5b69357"
      },
      "execution_count": 19,
      "outputs": [
        {
          "output_type": "stream",
          "name": "stdout",
          "text": [
            "[0 1]\n"
          ]
        }
      ]
    },
    {
      "cell_type": "code",
      "source": [
        "# EVALUO LA CANTIDAD DE VALORES QUE HAY PARA CADA UNO\n",
        "df_y = pd.DataFrame(y_20)\n",
        "df_y.groupby([0]).size()"
      ],
      "metadata": {
        "colab": {
          "base_uri": "https://localhost:8080/"
        },
        "id": "4QP1kZOrstJD",
        "outputId": "0146fd8d-053c-48d3-ee0f-fe78aaf2c171"
      },
      "execution_count": 20,
      "outputs": [
        {
          "output_type": "execute_result",
          "data": {
            "text/plain": [
              "0\n",
              "0    100\n",
              "1    100\n",
              "dtype: int64"
            ]
          },
          "metadata": {},
          "execution_count": 20
        }
      ]
    },
    {
      "cell_type": "markdown",
      "source": [
        "## SUPUESTO 2 - Linealidad de variables independientes y probabilidades logarítmicas\n",
        "\n",
        "REGRESION LOGISTICA: Existe una relación lineal entre las variables explicativas y el logit de la variable de respuesta\n",
        "\n",
        "# Prueba de caja-Tidwell\n",
        "\n",
        "Uno de los supuestos importantes de la regresión logística es la linealidad del logit sobre las covariables continuas. Esta suposición significa que las relaciones entre los predictores continuos y el logit (logaritmo de probabilidades) son lineales.\n",
        "* La transformación de Box-Tidwell (prueba) se puede utilizar para probar la \n",
        "linealidad en el supuesto logit cuando se realiza una regresión logística.\n",
        "* **Comprueba si la transformada logit es una función lineal del predictor, agregando efectivamente la transformada no lineal del predictor original como un término de interacción para probar si esta adición no mejoró la predicción.** \n",
        "* Un valor **p estadísticamente significativo** del término de interacción en la transformación de Box-Tidwell **significa que se viola la suposición de linealidad**\n",
        "* **Si se encuentra que una variable no es lineal**, podemos resolverla incorporando términos polinómicos de orden superior para esa variable en el análisis de regresión para capturar la no linealidad (por ejemplo, x^2). **Otra solución a este problema es la categorización de las variables independientes. Eso es transformar variables métricas a nivel ordinal y luego incluirlas en el modelo.**"
      ],
      "metadata": {
        "id": "DxPBs5IJwRe-"
      }
    },
    {
      "cell_type": "code",
      "source": [
        ""
      ],
      "metadata": {
        "id": "hhmL3b0cutwu"
      },
      "execution_count": null,
      "outputs": []
    },
    {
      "cell_type": "markdown",
      "source": [
        "## SUPUESTO 3 - No hay valores atípicos fuertemente influyentes\n",
        "* Los valores influyentes son puntos de datos individuales extremos que pueden alterar la calidad del modelo de regresión logística.\n",
        "* La distancia de Cook es una estimación de la influencia de un punto de datos. Tiene en cuenta tanto el apalancamiento como el residual de cada observación. * La distancia de Cook es un resumen de cuánto cambia un modelo de regresión cuando se elimina la i -ésima observación.\n",
        "* Una regla general es que cualquier observación con una distancia de Cook superior a 4/n (donde n = observaciones totales) se considera influyente ( https://www.statology.org/cooks-distance-python/ y https: //www.scikit-yb.org/en/latest/api/regressor/influence.html?highlight=cook#module-yellowbrick.regressor.influence ), aunque hay valores de corte aún más genéricos de >0.5-1.0.\n",
        "* Para valores atípicos, podemos usar los residuos estandarizados absolutos para identificarlos (std resid > 3)\n",
        "Referencia: https://www.statsmodels.org/dev/examples/notebooks/generated/influence_glm_logit.html"
      ],
      "metadata": {
        "id": "uctfI1PtGGhl"
      }
    },
    {
      "cell_type": "code",
      "source": [
        "import statsmodels.api as sm\n",
        "from statsmodels.genmod.generalized_linear_model import GLM\n",
        "from statsmodels.genmod import families\n",
        "from statsmodels.stats.outliers_influence import variance_inflation_factor"
      ],
      "metadata": {
        "id": "s8KMHHFrGg6_"
      },
      "execution_count": 21,
      "outputs": []
    },
    {
      "cell_type": "code",
      "source": [
        "# Use GLM method for logreg here so that we can retrieve the influence measures\n",
        "# USO LAS MATRICES DE POBLACION\n",
        "logit_model = GLM(y_20, XU_s, family=families.Binomial())\n",
        "logit_results = logit_model.fit()\n",
        "print(logit_results.summary())"
      ],
      "metadata": {
        "colab": {
          "base_uri": "https://localhost:8080/"
        },
        "id": "4mzHsKF0GseO",
        "outputId": "bf5ef960-875c-422a-8798-67d10fa0e1d5"
      },
      "execution_count": 22,
      "outputs": [
        {
          "output_type": "stream",
          "name": "stdout",
          "text": [
            "                 Generalized Linear Model Regression Results                  \n",
            "==============================================================================\n",
            "Dep. Variable:                      y   No. Observations:                  200\n",
            "Model:                            GLM   Df Residuals:                      197\n",
            "Model Family:                Binomial   Df Model:                            2\n",
            "Link Function:                  logit   Scale:                          1.0000\n",
            "Method:                          IRLS   Log-Likelihood:                -100.27\n",
            "Date:                Wed, 13 Apr 2022   Deviance:                       200.54\n",
            "Time:                        17:35:46   Pearson chi2:                     264.\n",
            "No. Iterations:                     7                                         \n",
            "Covariance Type:            nonrobust                                         \n",
            "==============================================================================\n",
            "                 coef    std err          z      P>|z|      [0.025      0.975]\n",
            "------------------------------------------------------------------------------\n",
            "x1             0.0568      0.020      2.828      0.005       0.017       0.096\n",
            "x2             0.5520      0.119      4.629      0.000       0.318       0.786\n",
            "x3            -0.0021      0.001     -2.840      0.005      -0.004      -0.001\n",
            "==============================================================================\n"
          ]
        }
      ]
    },
    {
      "cell_type": "code",
      "source": [
        "# Use GLM method for logreg here so that we can retrieve the influence measures\n",
        "# USO LAS MATRICES DE POBLACION\n",
        "# logit_model = GLM(y_train, X_train, family=families.Binomial())\n",
        "# logit_results = logit_model.fit()\n",
        "# print(logit_results.summary())"
      ],
      "metadata": {
        "id": "lD4EypgSJ-9j"
      },
      "execution_count": 23,
      "outputs": []
    },
    {
      "cell_type": "code",
      "source": [
        "# Use GLM method for logreg here so that we can retrieve the influence measures\n",
        "# USO LAS MATRICES DE POBLACION\n",
        "# logit_model = GLM(y_train, X_train, family=families.Binomial())\n",
        "# logit_results = logit_model.fit()\n",
        "# print(logit_results.summary())"
      ],
      "metadata": {
        "id": "78IC2d97LcTp"
      },
      "execution_count": null,
      "outputs": []
    },
    {
      "cell_type": "code",
      "source": [
        "from scipy import stats\n",
        "# Get influence measures\n",
        "influence = logit_results.get_influence()\n",
        "\n",
        "# Obtain summary df of influence measures\n",
        "summ_df = influence.summary_frame()\n",
        "\n",
        "# Filter summary df to Cook distance\n",
        "diagnosis_df = summ_df.loc[:,['cooks_d']]\n",
        "\n",
        "# Append absolute standardized residual values\n",
        "diagnosis_df['std_resid'] = stats.zscore(logit_results.resid_pearson)\n",
        "diagnosis_df['std_resid'] = diagnosis_df.loc[:,'std_resid'].apply(lambda x: np.abs(x))\n",
        "\n",
        "# Sort by Cook's Distance\n",
        "diagnosis_df.sort_values(\"cooks_d\", ascending=False)\n",
        "diagnosis_df"
      ],
      "metadata": {
        "colab": {
          "base_uri": "https://localhost:8080/",
          "height": 424
        },
        "id": "UzphJHMwN3aE",
        "outputId": "8e6794b8-96a2-484b-d4ba-1ed0318a9838"
      },
      "execution_count": 24,
      "outputs": [
        {
          "output_type": "execute_result",
          "data": {
            "text/plain": [
              "          cooks_d  std_resid\n",
              "0    7.823770e-13   0.224869\n",
              "1    8.657494e-04   0.832654\n",
              "2    2.298890e-03   1.015075\n",
              "3    3.068296e-05   0.655351\n",
              "4    4.721934e-05   0.669238\n",
              "..            ...        ...\n",
              "195  2.034917e-04   0.404977\n",
              "196  1.723450e-02   0.978889\n",
              "197  8.359217e-03   0.847453\n",
              "198  8.925918e-03   0.856785\n",
              "199  6.667562e-04   0.619426\n",
              "\n",
              "[200 rows x 2 columns]"
            ],
            "text/html": [
              "\n",
              "  <div id=\"df-e5e86c67-93d7-4127-8214-c444ec9bf445\">\n",
              "    <div class=\"colab-df-container\">\n",
              "      <div>\n",
              "<style scoped>\n",
              "    .dataframe tbody tr th:only-of-type {\n",
              "        vertical-align: middle;\n",
              "    }\n",
              "\n",
              "    .dataframe tbody tr th {\n",
              "        vertical-align: top;\n",
              "    }\n",
              "\n",
              "    .dataframe thead th {\n",
              "        text-align: right;\n",
              "    }\n",
              "</style>\n",
              "<table border=\"1\" class=\"dataframe\">\n",
              "  <thead>\n",
              "    <tr style=\"text-align: right;\">\n",
              "      <th></th>\n",
              "      <th>cooks_d</th>\n",
              "      <th>std_resid</th>\n",
              "    </tr>\n",
              "  </thead>\n",
              "  <tbody>\n",
              "    <tr>\n",
              "      <th>0</th>\n",
              "      <td>7.823770e-13</td>\n",
              "      <td>0.224869</td>\n",
              "    </tr>\n",
              "    <tr>\n",
              "      <th>1</th>\n",
              "      <td>8.657494e-04</td>\n",
              "      <td>0.832654</td>\n",
              "    </tr>\n",
              "    <tr>\n",
              "      <th>2</th>\n",
              "      <td>2.298890e-03</td>\n",
              "      <td>1.015075</td>\n",
              "    </tr>\n",
              "    <tr>\n",
              "      <th>3</th>\n",
              "      <td>3.068296e-05</td>\n",
              "      <td>0.655351</td>\n",
              "    </tr>\n",
              "    <tr>\n",
              "      <th>4</th>\n",
              "      <td>4.721934e-05</td>\n",
              "      <td>0.669238</td>\n",
              "    </tr>\n",
              "    <tr>\n",
              "      <th>...</th>\n",
              "      <td>...</td>\n",
              "      <td>...</td>\n",
              "    </tr>\n",
              "    <tr>\n",
              "      <th>195</th>\n",
              "      <td>2.034917e-04</td>\n",
              "      <td>0.404977</td>\n",
              "    </tr>\n",
              "    <tr>\n",
              "      <th>196</th>\n",
              "      <td>1.723450e-02</td>\n",
              "      <td>0.978889</td>\n",
              "    </tr>\n",
              "    <tr>\n",
              "      <th>197</th>\n",
              "      <td>8.359217e-03</td>\n",
              "      <td>0.847453</td>\n",
              "    </tr>\n",
              "    <tr>\n",
              "      <th>198</th>\n",
              "      <td>8.925918e-03</td>\n",
              "      <td>0.856785</td>\n",
              "    </tr>\n",
              "    <tr>\n",
              "      <th>199</th>\n",
              "      <td>6.667562e-04</td>\n",
              "      <td>0.619426</td>\n",
              "    </tr>\n",
              "  </tbody>\n",
              "</table>\n",
              "<p>200 rows × 2 columns</p>\n",
              "</div>\n",
              "      <button class=\"colab-df-convert\" onclick=\"convertToInteractive('df-e5e86c67-93d7-4127-8214-c444ec9bf445')\"\n",
              "              title=\"Convert this dataframe to an interactive table.\"\n",
              "              style=\"display:none;\">\n",
              "        \n",
              "  <svg xmlns=\"http://www.w3.org/2000/svg\" height=\"24px\"viewBox=\"0 0 24 24\"\n",
              "       width=\"24px\">\n",
              "    <path d=\"M0 0h24v24H0V0z\" fill=\"none\"/>\n",
              "    <path d=\"M18.56 5.44l.94 2.06.94-2.06 2.06-.94-2.06-.94-.94-2.06-.94 2.06-2.06.94zm-11 1L8.5 8.5l.94-2.06 2.06-.94-2.06-.94L8.5 2.5l-.94 2.06-2.06.94zm10 10l.94 2.06.94-2.06 2.06-.94-2.06-.94-.94-2.06-.94 2.06-2.06.94z\"/><path d=\"M17.41 7.96l-1.37-1.37c-.4-.4-.92-.59-1.43-.59-.52 0-1.04.2-1.43.59L10.3 9.45l-7.72 7.72c-.78.78-.78 2.05 0 2.83L4 21.41c.39.39.9.59 1.41.59.51 0 1.02-.2 1.41-.59l7.78-7.78 2.81-2.81c.8-.78.8-2.07 0-2.86zM5.41 20L4 18.59l7.72-7.72 1.47 1.35L5.41 20z\"/>\n",
              "  </svg>\n",
              "      </button>\n",
              "      \n",
              "  <style>\n",
              "    .colab-df-container {\n",
              "      display:flex;\n",
              "      flex-wrap:wrap;\n",
              "      gap: 12px;\n",
              "    }\n",
              "\n",
              "    .colab-df-convert {\n",
              "      background-color: #E8F0FE;\n",
              "      border: none;\n",
              "      border-radius: 50%;\n",
              "      cursor: pointer;\n",
              "      display: none;\n",
              "      fill: #1967D2;\n",
              "      height: 32px;\n",
              "      padding: 0 0 0 0;\n",
              "      width: 32px;\n",
              "    }\n",
              "\n",
              "    .colab-df-convert:hover {\n",
              "      background-color: #E2EBFA;\n",
              "      box-shadow: 0px 1px 2px rgba(60, 64, 67, 0.3), 0px 1px 3px 1px rgba(60, 64, 67, 0.15);\n",
              "      fill: #174EA6;\n",
              "    }\n",
              "\n",
              "    [theme=dark] .colab-df-convert {\n",
              "      background-color: #3B4455;\n",
              "      fill: #D2E3FC;\n",
              "    }\n",
              "\n",
              "    [theme=dark] .colab-df-convert:hover {\n",
              "      background-color: #434B5C;\n",
              "      box-shadow: 0px 1px 3px 1px rgba(0, 0, 0, 0.15);\n",
              "      filter: drop-shadow(0px 1px 2px rgba(0, 0, 0, 0.3));\n",
              "      fill: #FFFFFF;\n",
              "    }\n",
              "  </style>\n",
              "\n",
              "      <script>\n",
              "        const buttonEl =\n",
              "          document.querySelector('#df-e5e86c67-93d7-4127-8214-c444ec9bf445 button.colab-df-convert');\n",
              "        buttonEl.style.display =\n",
              "          google.colab.kernel.accessAllowed ? 'block' : 'none';\n",
              "\n",
              "        async function convertToInteractive(key) {\n",
              "          const element = document.querySelector('#df-e5e86c67-93d7-4127-8214-c444ec9bf445');\n",
              "          const dataTable =\n",
              "            await google.colab.kernel.invokeFunction('convertToInteractive',\n",
              "                                                     [key], {});\n",
              "          if (!dataTable) return;\n",
              "\n",
              "          const docLinkHtml = 'Like what you see? Visit the ' +\n",
              "            '<a target=\"_blank\" href=https://colab.research.google.com/notebooks/data_table.ipynb>data table notebook</a>'\n",
              "            + ' to learn more about interactive tables.';\n",
              "          element.innerHTML = '';\n",
              "          dataTable['output_type'] = 'display_data';\n",
              "          await google.colab.output.renderOutput(dataTable, element);\n",
              "          const docLink = document.createElement('div');\n",
              "          docLink.innerHTML = docLinkHtml;\n",
              "          element.appendChild(docLink);\n",
              "        }\n",
              "      </script>\n",
              "    </div>\n",
              "  </div>\n",
              "  "
            ]
          },
          "metadata": {},
          "execution_count": 24
        }
      ]
    },
    {
      "cell_type": "code",
      "source": [
        "# Set Cook's distance threshold\n",
        "cook_threshold = 4 / len(XU_s)\n",
        "print(f\"Threshold for Cook Distance = {cook_threshold}\")"
      ],
      "metadata": {
        "colab": {
          "base_uri": "https://localhost:8080/"
        },
        "id": "CoOiLWKxOY-V",
        "outputId": "889753ec-4dba-4308-aab9-78c752d8fded"
      },
      "execution_count": 25,
      "outputs": [
        {
          "output_type": "stream",
          "name": "stdout",
          "text": [
            "Threshold for Cook Distance = 0.02\n"
          ]
        }
      ]
    },
    {
      "cell_type": "code",
      "source": [
        "# Plot influence measures (Cook's distance)\n",
        "fig = influence.plot_index(y_var=\"cooks\", threshold=cook_threshold)\n",
        "plt.axhline(y=cook_threshold, ls=\"--\", color='red')\n",
        "fig.tight_layout(pad=2)"
      ],
      "metadata": {
        "colab": {
          "base_uri": "https://localhost:8080/",
          "height": 279
        },
        "id": "sWJ8sMO9PD7z",
        "outputId": "091a035d-95ac-4c59-b810-aa4c4391b1a0"
      },
      "execution_count": 26,
      "outputs": [
        {
          "output_type": "display_data",
          "data": {
            "text/plain": [
              "<Figure size 432x288 with 1 Axes>"
            ],
            "image/png": "[encoded data removed]"
          },
          "metadata": {
            "needs_background": "light"
          }
        }
      ]
    },
    {
      "cell_type": "code",
      "execution_count": 27,
      "metadata": {
        "id": "eApWouT_48Kw",
        "outputId": "6ed4987e-67c1-45f7-b5ef-8e0ce7169efe",
        "colab": {
          "base_uri": "https://localhost:8080/"
        }
      },
      "outputs": [
        {
          "output_type": "stream",
          "name": "stdout",
          "text": [
            "Proportion of data points that are highly influential = 2.0%\n"
          ]
        }
      ],
      "source": [
        "# Find number of observations that exceed Cook's distance threshold\n",
        "outliers = diagnosis_df[diagnosis_df['cooks_d'] > cook_threshold]\n",
        "prop_outliers = round(100*(len(outliers) / len(XU_s)),1)\n",
        "print(f'Proportion of data points that are highly influential = {prop_outliers}%')"
      ]
    },
    {
      "cell_type": "code",
      "execution_count": 28,
      "metadata": {
        "outputId": "8289d859-6cd7-4184-eab6-1cbe4f19ca09",
        "colab": {
          "base_uri": "https://localhost:8080/"
        },
        "id": "SfTkfNv4Tqkr"
      },
      "outputs": [
        {
          "output_type": "stream",
          "name": "stdout",
          "text": [
            "Proportion of highly influential outliers = 0.5%\n"
          ]
        }
      ],
      "source": [
        "# Find number of observations which are BOTH outlier (std dev > 3) and highly influential\n",
        "extreme = diagnosis_df[(diagnosis_df['cooks_d'] > cook_threshold) & \n",
        "                       (diagnosis_df['std_resid'] > 3)]\n",
        "prop_extreme = round(100*(len(extreme) / len(XU_s)),1)\n",
        "print(f'Proportion of highly influential outliers = {prop_extreme}%')"
      ]
    },
    {
      "cell_type": "code",
      "source": [
        "# Display top 5 most influential outliers\n",
        "extreme.sort_values(\"cooks_d\", ascending=False).head()\n",
        "extreme"
      ],
      "metadata": {
        "colab": {
          "base_uri": "https://localhost:8080/",
          "height": 81
        },
        "id": "PH7HixdBT39B",
        "outputId": "f3d37d3a-62ea-4ccd-b61e-f8465eb22f51"
      },
      "execution_count": 29,
      "outputs": [
        {
          "output_type": "execute_result",
          "data": {
            "text/plain": [
              "      cooks_d  std_resid\n",
              "133  1.147087   9.816247"
            ],
            "text/html": [
              "\n",
              "  <div id=\"df-9692e305-d2f8-46f2-8e2a-fe080a85c630\">\n",
              "    <div class=\"colab-df-container\">\n",
              "      <div>\n",
              "<style scoped>\n",
              "    .dataframe tbody tr th:only-of-type {\n",
              "        vertical-align: middle;\n",
              "    }\n",
              "\n",
              "    .dataframe tbody tr th {\n",
              "        vertical-align: top;\n",
              "    }\n",
              "\n",
              "    .dataframe thead th {\n",
              "        text-align: right;\n",
              "    }\n",
              "</style>\n",
              "<table border=\"1\" class=\"dataframe\">\n",
              "  <thead>\n",
              "    <tr style=\"text-align: right;\">\n",
              "      <th></th>\n",
              "      <th>cooks_d</th>\n",
              "      <th>std_resid</th>\n",
              "    </tr>\n",
              "  </thead>\n",
              "  <tbody>\n",
              "    <tr>\n",
              "      <th>133</th>\n",
              "      <td>1.147087</td>\n",
              "      <td>9.816247</td>\n",
              "    </tr>\n",
              "  </tbody>\n",
              "</table>\n",
              "</div>\n",
              "      <button class=\"colab-df-convert\" onclick=\"convertToInteractive('df-9692e305-d2f8-46f2-8e2a-fe080a85c630')\"\n",
              "              title=\"Convert this dataframe to an interactive table.\"\n",
              "              style=\"display:none;\">\n",
              "        \n",
              "  <svg xmlns=\"http://www.w3.org/2000/svg\" height=\"24px\"viewBox=\"0 0 24 24\"\n",
              "       width=\"24px\">\n",
              "    <path d=\"M0 0h24v24H0V0z\" fill=\"none\"/>\n",
              "    <path d=\"M18.56 5.44l.94 2.06.94-2.06 2.06-.94-2.06-.94-.94-2.06-.94 2.06-2.06.94zm-11 1L8.5 8.5l.94-2.06 2.06-.94-2.06-.94L8.5 2.5l-.94 2.06-2.06.94zm10 10l.94 2.06.94-2.06 2.06-.94-2.06-.94-.94-2.06-.94 2.06-2.06.94z\"/><path d=\"M17.41 7.96l-1.37-1.37c-.4-.4-.92-.59-1.43-.59-.52 0-1.04.2-1.43.59L10.3 9.45l-7.72 7.72c-.78.78-.78 2.05 0 2.83L4 21.41c.39.39.9.59 1.41.59.51 0 1.02-.2 1.41-.59l7.78-7.78 2.81-2.81c.8-.78.8-2.07 0-2.86zM5.41 20L4 18.59l7.72-7.72 1.47 1.35L5.41 20z\"/>\n",
              "  </svg>\n",
              "      </button>\n",
              "      \n",
              "  <style>\n",
              "    .colab-df-container {\n",
              "      display:flex;\n",
              "      flex-wrap:wrap;\n",
              "      gap: 12px;\n",
              "    }\n",
              "\n",
              "    .colab-df-convert {\n",
              "      background-color: #E8F0FE;\n",
              "      border: none;\n",
              "      border-radius: 50%;\n",
              "      cursor: pointer;\n",
              "      display: none;\n",
              "      fill: #1967D2;\n",
              "      height: 32px;\n",
              "      padding: 0 0 0 0;\n",
              "      width: 32px;\n",
              "    }\n",
              "\n",
              "    .colab-df-convert:hover {\n",
              "      background-color: #E2EBFA;\n",
              "      box-shadow: 0px 1px 2px rgba(60, 64, 67, 0.3), 0px 1px 3px 1px rgba(60, 64, 67, 0.15);\n",
              "      fill: #174EA6;\n",
              "    }\n",
              "\n",
              "    [theme=dark] .colab-df-convert {\n",
              "      background-color: #3B4455;\n",
              "      fill: #D2E3FC;\n",
              "    }\n",
              "\n",
              "    [theme=dark] .colab-df-convert:hover {\n",
              "      background-color: #434B5C;\n",
              "      box-shadow: 0px 1px 3px 1px rgba(0, 0, 0, 0.15);\n",
              "      filter: drop-shadow(0px 1px 2px rgba(0, 0, 0, 0.3));\n",
              "      fill: #FFFFFF;\n",
              "    }\n",
              "  </style>\n",
              "\n",
              "      <script>\n",
              "        const buttonEl =\n",
              "          document.querySelector('#df-9692e305-d2f8-46f2-8e2a-fe080a85c630 button.colab-df-convert');\n",
              "        buttonEl.style.display =\n",
              "          google.colab.kernel.accessAllowed ? 'block' : 'none';\n",
              "\n",
              "        async function convertToInteractive(key) {\n",
              "          const element = document.querySelector('#df-9692e305-d2f8-46f2-8e2a-fe080a85c630');\n",
              "          const dataTable =\n",
              "            await google.colab.kernel.invokeFunction('convertToInteractive',\n",
              "                                                     [key], {});\n",
              "          if (!dataTable) return;\n",
              "\n",
              "          const docLinkHtml = 'Like what you see? Visit the ' +\n",
              "            '<a target=\"_blank\" href=https://colab.research.google.com/notebooks/data_table.ipynb>data table notebook</a>'\n",
              "            + ' to learn more about interactive tables.';\n",
              "          element.innerHTML = '';\n",
              "          dataTable['output_type'] = 'display_data';\n",
              "          await google.colab.output.renderOutput(dataTable, element);\n",
              "          const docLink = document.createElement('div');\n",
              "          docLink.innerHTML = docLinkHtml;\n",
              "          element.appendChild(docLink);\n",
              "        }\n",
              "      </script>\n",
              "    </div>\n",
              "  </div>\n",
              "  "
            ]
          },
          "metadata": {},
          "execution_count": 29
        }
      ]
    },
    {
      "cell_type": "code",
      "source": [
        "# Deep dive into index 297 (extreme outlier)\n",
        "# lo paso de numpy a pandas\n",
        "df_x = pd.DataFrame(XU_s)\n",
        "# corro el balance\n",
        "df_x.iloc[109]  # 0 = Did not survive\n"
      ],
      "metadata": {
        "colab": {
          "base_uri": "https://localhost:8080/"
        },
        "id": "hOQDV0VST6DK",
        "outputId": "09f089d5-a36a-4eab-bd21-4baccdb605ca"
      },
      "execution_count": 32,
      "outputs": [
        {
          "output_type": "execute_result",
          "data": {
            "text/plain": [
              "0   -16.798897\n",
              "1     1.860059\n",
              "2     0.189975\n",
              "Name: 109, dtype: float64"
            ]
          },
          "metadata": {},
          "execution_count": 32
        }
      ]
    },
    {
      "cell_type": "code",
      "source": [
        "df_y = pd.DataFrame(y_20)\n",
        "df_y.iloc[109]  # 0 = Did not survive"
      ],
      "metadata": {
        "colab": {
          "base_uri": "https://localhost:8080/"
        },
        "id": "DXc1IkuRawNc",
        "outputId": "04d64230-da64-4151-9783-47e6b68edb64"
      },
      "execution_count": null,
      "outputs": [
        {
          "output_type": "execute_result",
          "data": {
            "text/plain": [
              "0    1\n",
              "Name: 109, dtype: int64"
            ]
          },
          "metadata": {},
          "execution_count": 85
        }
      ]
    },
    {
      "cell_type": "markdown",
      "source": [
        "* Es importante tener en cuenta que para los puntos de datos con distancias de Cook relativamente altas, no significa automáticamente que deba eliminarse inmediatamente del conjunto de datos. Es esencialmente un indicador para resaltar qué puntos de datos vale la pena analizar más a fondo, para comprender si son anomalías reales o no.\n",
        "* En la práctica, una evaluación de valores \"grandes\" es un juicio basado en la experiencia y el conjunto particular de datos que se analiza.\n",
        "* Además, según nuestro umbral predefinido (4/N), solo el 5 % (51/891) de los puntos se encuentran en la zona de valores atípicos, que también es pequeña. El problema surge cuando hay una cantidad significativa de puntos de datos clasificados como valores atípicos.\n",
        "* La gestión de valores atípicos está fuera del alcance de esta demostración."
      ],
      "metadata": {
        "id": "0ydwaR70UHvU"
      }
    },
    {
      "cell_type": "markdown",
      "source": [
        "## Supuesto 4 - Ausencia de multicolinealidad\n"
      ],
      "metadata": {
        "id": "GVL8JD1D99wo"
      }
    },
    {
      "cell_type": "code",
      "source": [
        "# CREO LA MATRIZ DE CORRELACION\n",
        "# uso la matriz XU_s convertida en DF de pandas\n",
        "# df_x = pd.DataFrame(XU_s)\n",
        "\n",
        "corrMatrix = df_x.corr()\n",
        "plt.subplots(figsize=(10, 6))\n",
        "sns.heatmap(corrMatrix, annot=True, cmap=\"RdYlGn\")\n",
        "plt.show()"
      ],
      "metadata": {
        "colab": {
          "base_uri": "https://localhost:8080/",
          "height": 378
        },
        "id": "FXg3y0GH_HC-",
        "outputId": "6c5baa2a-177e-4926-b75a-037dde85940f"
      },
      "execution_count": 33,
      "outputs": [
        {
          "output_type": "display_data",
          "data": {
            "text/plain": [
              "<Figure size 720x432 with 2 Axes>"
            ],
            "image/png": "[encoded data removed]"
          },
          "metadata": {
            "needs_background": "light"
          }
        }
      ]
    },
    {
      "cell_type": "markdown",
      "source": [
        "* La matriz de correlación puede ser difícil de interpretar cuando hay muchas variables independientes\n",
        "* Además, no todos los problemas de colinealidad pueden detectarse mediante la inspección de la matriz de correlación: es posible que exista colinealidad entre tres o más variables incluso si ningún par de variables tiene una correlación particularmente alta.\n",
        "* Como tal, usamos el factor de inflación de varianza (VIF) en su lugar"
      ],
      "metadata": {
        "id": "Iwf0DaD6AsAc"
      }
    },
    {
      "cell_type": "markdown",
      "source": [
        "#### Factor de inflación de varianza (VIF)\n",
        "* Incluir constante en el cálculo de VIF. Referencia: https://stackoverflow.com/questions/42658379/variance-inflation-factor-in-python"
      ],
      "metadata": {
        "id": "OtUXjvMyA2MN"
      }
    },
    {
      "cell_type": "code",
      "source": [
        "# Use variance inflation factor to identify any significant multi-collinearity\n",
        "\n",
        "def calc_vif(df):\n",
        "    vif = pd.DataFrame()\n",
        "    vif[\"variables\"] = df.columns\n",
        "    vif[\"VIF\"] = [variance_inflation_factor(df.values, i) for i in range(df.shape[1])]\n",
        "    return(vif)\n",
        "\n",
        "# CREA CONSTANTE\n",
        "X_constant = sm.add_constant(XU_s, prepend=False)\n",
        "# CONVIERTO A UN DF\n",
        "X_constant = pd.DataFrame(X_constant)\n",
        "calc_vif(X_constant) # Include constant in VIF calculation in Python"
      ],
      "metadata": {
        "colab": {
          "base_uri": "https://localhost:8080/",
          "height": 175
        },
        "id": "2YEXp1I1AlfU",
        "outputId": "e9279129-edfd-4163-84fa-ca94d9c8a08c"
      },
      "execution_count": 38,
      "outputs": [
        {
          "output_type": "execute_result",
          "data": {
            "text/plain": [
              "   variables       VIF\n",
              "0          0  1.145421\n",
              "1          1  1.145541\n",
              "2          2  1.021761\n",
              "3          3  4.245463"
            ],
            "text/html": [
              "\n",
              "  <div id=\"df-4a94f8c5-cf9d-4a7e-abf8-4faa943d1ed7\">\n",
              "    <div class=\"colab-df-container\">\n",
              "      <div>\n",
              "<style scoped>\n",
              "    .dataframe tbody tr th:only-of-type {\n",
              "        vertical-align: middle;\n",
              "    }\n",
              "\n",
              "    .dataframe tbody tr th {\n",
              "        vertical-align: top;\n",
              "    }\n",
              "\n",
              "    .dataframe thead th {\n",
              "        text-align: right;\n",
              "    }\n",
              "</style>\n",
              "<table border=\"1\" class=\"dataframe\">\n",
              "  <thead>\n",
              "    <tr style=\"text-align: right;\">\n",
              "      <th></th>\n",
              "      <th>variables</th>\n",
              "      <th>VIF</th>\n",
              "    </tr>\n",
              "  </thead>\n",
              "  <tbody>\n",
              "    <tr>\n",
              "      <th>0</th>\n",
              "      <td>0</td>\n",
              "      <td>1.145421</td>\n",
              "    </tr>\n",
              "    <tr>\n",
              "      <th>1</th>\n",
              "      <td>1</td>\n",
              "      <td>1.145541</td>\n",
              "    </tr>\n",
              "    <tr>\n",
              "      <th>2</th>\n",
              "      <td>2</td>\n",
              "      <td>1.021761</td>\n",
              "    </tr>\n",
              "    <tr>\n",
              "      <th>3</th>\n",
              "      <td>3</td>\n",
              "      <td>4.245463</td>\n",
              "    </tr>\n",
              "  </tbody>\n",
              "</table>\n",
              "</div>\n",
              "      <button class=\"colab-df-convert\" onclick=\"convertToInteractive('df-4a94f8c5-cf9d-4a7e-abf8-4faa943d1ed7')\"\n",
              "              title=\"Convert this dataframe to an interactive table.\"\n",
              "              style=\"display:none;\">\n",
              "        \n",
              "  <svg xmlns=\"http://www.w3.org/2000/svg\" height=\"24px\"viewBox=\"0 0 24 24\"\n",
              "       width=\"24px\">\n",
              "    <path d=\"M0 0h24v24H0V0z\" fill=\"none\"/>\n",
              "    <path d=\"M18.56 5.44l.94 2.06.94-2.06 2.06-.94-2.06-.94-.94-2.06-.94 2.06-2.06.94zm-11 1L8.5 8.5l.94-2.06 2.06-.94-2.06-.94L8.5 2.5l-.94 2.06-2.06.94zm10 10l.94 2.06.94-2.06 2.06-.94-2.06-.94-.94-2.06-.94 2.06-2.06.94z\"/><path d=\"M17.41 7.96l-1.37-1.37c-.4-.4-.92-.59-1.43-.59-.52 0-1.04.2-1.43.59L10.3 9.45l-7.72 7.72c-.78.78-.78 2.05 0 2.83L4 21.41c.39.39.9.59 1.41.59.51 0 1.02-.2 1.41-.59l7.78-7.78 2.81-2.81c.8-.78.8-2.07 0-2.86zM5.41 20L4 18.59l7.72-7.72 1.47 1.35L5.41 20z\"/>\n",
              "  </svg>\n",
              "      </button>\n",
              "      \n",
              "  <style>\n",
              "    .colab-df-container {\n",
              "      display:flex;\n",
              "      flex-wrap:wrap;\n",
              "      gap: 12px;\n",
              "    }\n",
              "\n",
              "    .colab-df-convert {\n",
              "      background-color: #E8F0FE;\n",
              "      border: none;\n",
              "      border-radius: 50%;\n",
              "      cursor: pointer;\n",
              "      display: none;\n",
              "      fill: #1967D2;\n",
              "      height: 32px;\n",
              "      padding: 0 0 0 0;\n",
              "      width: 32px;\n",
              "    }\n",
              "\n",
              "    .colab-df-convert:hover {\n",
              "      background-color: #E2EBFA;\n",
              "      box-shadow: 0px 1px 2px rgba(60, 64, 67, 0.3), 0px 1px 3px 1px rgba(60, 64, 67, 0.15);\n",
              "      fill: #174EA6;\n",
              "    }\n",
              "\n",
              "    [theme=dark] .colab-df-convert {\n",
              "      background-color: #3B4455;\n",
              "      fill: #D2E3FC;\n",
              "    }\n",
              "\n",
              "    [theme=dark] .colab-df-convert:hover {\n",
              "      background-color: #434B5C;\n",
              "      box-shadow: 0px 1px 3px 1px rgba(0, 0, 0, 0.15);\n",
              "      filter: drop-shadow(0px 1px 2px rgba(0, 0, 0, 0.3));\n",
              "      fill: #FFFFFF;\n",
              "    }\n",
              "  </style>\n",
              "\n",
              "      <script>\n",
              "        const buttonEl =\n",
              "          document.querySelector('#df-4a94f8c5-cf9d-4a7e-abf8-4faa943d1ed7 button.colab-df-convert');\n",
              "        buttonEl.style.display =\n",
              "          google.colab.kernel.accessAllowed ? 'block' : 'none';\n",
              "\n",
              "        async function convertToInteractive(key) {\n",
              "          const element = document.querySelector('#df-4a94f8c5-cf9d-4a7e-abf8-4faa943d1ed7');\n",
              "          const dataTable =\n",
              "            await google.colab.kernel.invokeFunction('convertToInteractive',\n",
              "                                                     [key], {});\n",
              "          if (!dataTable) return;\n",
              "\n",
              "          const docLinkHtml = 'Like what you see? Visit the ' +\n",
              "            '<a target=\"_blank\" href=https://colab.research.google.com/notebooks/data_table.ipynb>data table notebook</a>'\n",
              "            + ' to learn more about interactive tables.';\n",
              "          element.innerHTML = '';\n",
              "          dataTable['output_type'] = 'display_data';\n",
              "          await google.colab.output.renderOutput(dataTable, element);\n",
              "          const docLink = document.createElement('div');\n",
              "          docLink.innerHTML = docLinkHtml;\n",
              "          element.appendChild(docLink);\n",
              "        }\n",
              "      </script>\n",
              "    </div>\n",
              "  </div>\n",
              "  "
            ]
          },
          "metadata": {},
          "execution_count": 38
        }
      ]
    },
    {
      "cell_type": "markdown",
      "source": [
        "* El umbral para VIF suele ser 5 (es decir, los valores superiores a 5 significan que hay presencia de multicolinealidad)\n",
        "* Como todas las variables tienen VIF <5, significa que no hay multicolinealidad, y se cumple este supuesto\n",
        "* Echemos un vistazo a la situación en la que no soltamos la primera variable al obtener maniquíes:"
      ],
      "metadata": {
        "id": "RWLHtm2bCrg1"
      }
    }
  ]
}