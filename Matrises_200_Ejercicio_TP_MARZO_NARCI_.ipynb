{
  "nbformat": 4,
  "nbformat_minor": 0,
  "metadata": {
    "colab": {
      "name": "Matrises_200_Ejercicio_TP_MARZO_NARCI_.ipynb",
      "provenance": [],
      "collapsed_sections": []
    },
    "kernelspec": {
      "name": "python3",
      "display_name": "Python 3"
    },
    "language_info": {
      "name": "python"
    }
  },
  "cells": [
    {
      "cell_type": "code",
      "source": [
        "!pip install category_encoders"
      ],
      "metadata": {
        "colab": {
          "base_uri": "https://localhost:8080/"
        },
        "id": "pz2fcSp7i2Uz",
        "outputId": "b8422293-545f-4c88-db24-bf39a8c78160"
      },
      "execution_count": 3,
      "outputs": [
        {
          "output_type": "stream",
          "name": "stdout",
          "text": [
            "Collecting category_encoders\n",
            "  Downloading category_encoders-2.4.0-py2.py3-none-any.whl (86 kB)\n",
            "\u001b[K     |████████████████████████████████| 86 kB 2.2 MB/s \n",
            "\u001b[?25hRequirement already satisfied: pandas>=0.21.1 in /usr/local/lib/python3.7/dist-packages (from category_encoders) (1.3.5)\n",
            "Requirement already satisfied: statsmodels>=0.9.0 in /usr/local/lib/python3.7/dist-packages (from category_encoders) (0.10.2)\n",
            "Requirement already satisfied: scipy>=1.0.0 in /usr/local/lib/python3.7/dist-packages (from category_encoders) (1.4.1)\n",
            "Requirement already satisfied: scikit-learn>=0.20.0 in /usr/local/lib/python3.7/dist-packages (from category_encoders) (1.0.2)\n",
            "Requirement already satisfied: patsy>=0.5.1 in /usr/local/lib/python3.7/dist-packages (from category_encoders) (0.5.2)\n",
            "Requirement already satisfied: numpy>=1.14.0 in /usr/local/lib/python3.7/dist-packages (from category_encoders) (1.21.5)\n",
            "Requirement already satisfied: pytz>=2017.3 in /usr/local/lib/python3.7/dist-packages (from pandas>=0.21.1->category_encoders) (2018.9)\n",
            "Requirement already satisfied: python-dateutil>=2.7.3 in /usr/local/lib/python3.7/dist-packages (from pandas>=0.21.1->category_encoders) (2.8.2)\n",
            "Requirement already satisfied: six in /usr/local/lib/python3.7/dist-packages (from patsy>=0.5.1->category_encoders) (1.15.0)\n",
            "Requirement already satisfied: joblib>=0.11 in /usr/local/lib/python3.7/dist-packages (from scikit-learn>=0.20.0->category_encoders) (1.1.0)\n",
            "Requirement already satisfied: threadpoolctl>=2.0.0 in /usr/local/lib/python3.7/dist-packages (from scikit-learn>=0.20.0->category_encoders) (3.1.0)\n",
            "Installing collected packages: category-encoders\n",
            "Successfully installed category-encoders-2.4.0\n"
          ]
        }
      ]
    },
    {
      "cell_type": "code",
      "execution_count": 4,
      "metadata": {
        "id": "dUC-por0hFcS",
        "colab": {
          "base_uri": "https://localhost:8080/"
        },
        "outputId": "72d0b928-fd83-444e-a599-59ea00d1a63f"
      },
      "outputs": [
        {
          "output_type": "stream",
          "name": "stderr",
          "text": [
            "/usr/local/lib/python3.7/dist-packages/statsmodels/tools/_testing.py:19: FutureWarning: pandas.util.testing is deprecated. Use the functions in the public API at pandas.testing instead.\n",
            "  import pandas.util.testing as tm\n"
          ]
        }
      ],
      "source": [
        "import numpy as np # linear algebra\n",
        "import pandas as pd # data processing, CSV file I/O (e.g. pd.read_csv)\n",
        "import matplotlib.pyplot as plt # data visualization\n",
        "import seaborn as sns # statistical data visualization\n",
        "%matplotlib inline\n",
        "import category_encoders as ce\n"
      ]
    },
    {
      "cell_type": "markdown",
      "source": [
        "MATRIZ 20x3"
      ],
      "metadata": {
        "id": "FCWGE7p5ABaH"
      }
    },
    {
      "cell_type": "code",
      "source": [
        "# CREO UN VECTOR DE DISTRIBUCION NORMAL 20\n",
        "da = np.random.normal(loc=0, scale=1, size=100).reshape(100,1)\n",
        "da2 = np.random.normal(loc=1, scale=2, size=100).reshape(100,1)\n",
        "da = np.append(da, da2 , axis=0)\n",
        "da\n",
        "# CREO UN VECTOR DE DISTRIBUCION UNIFORME\n",
        "rd = np.random.uniform(low=1, high=2, size=100).reshape(100,1)\n",
        "rd2 = np.random.uniform(low=2, high=3, size=100).reshape(100,1)\n",
        "rd = np.append(rd, rd2 , axis=0)\n",
        "# CREO UN VECTOR DE DISTRIBUCION SESGADA\n",
        "rs =np.random.lognormal(6,7,100).reshape(100,1)\n",
        "rs2 =np.random.lognormal(8,8,100).reshape(100,1)\n",
        "rs = np.append(rs, rs2 , axis=0)"
      ],
      "metadata": {
        "id": "jILFjMipjAOK"
      },
      "execution_count": 83,
      "outputs": []
    },
    {
      "cell_type": "code",
      "source": [
        "# INCORPORO LOS DATOS A UNA MATRIZ\n",
        "# https://www.delftstack.com/es/howto/numpy/numpy-add-column/#:~:text=append()-,La%20funci%C3%B3n%20numpy.,valores%20a%20el%20array%20preexistente.\n",
        "XU = np.append(da, rd , axis=1)\n",
        "print(\"XU: \",XU.shape)\n",
        "# VEO LA MATRIZ\n",
        "#print(\"VECTOR NORMAL\", da)\n",
        "#print(\"VECTOR UNIFORME\",rd)\n",
        "#print(\"MATRIZ_1\", XU)\n",
        "# INCORPORP LA TERCERA COLUMNA A LA MATRIZ\n",
        "XU_s = np.append(XU, rs , axis=1)\n",
        "#print(\"MATRIZ_2\", XU)\n",
        "print(\"XU_s: \",XU_s.shape)\n",
        "\n",
        "print(\"DISTRIBUCION NORMAL \\nMEDIA: \", XU_s.mean(), \" // VARIANZA :\", XU_s.var()  )"
      ],
      "metadata": {
        "colab": {
          "base_uri": "https://localhost:8080/"
        },
        "id": "dB2NyfqEpT0U",
        "outputId": "c2387faf-88cc-406d-f5ae-54a24325c0df"
      },
      "execution_count": 87,
      "outputs": [
        {
          "output_type": "stream",
          "name": "stdout",
          "text": [
            "XU:  (200, 2)\n",
            "XU_s:  (200, 3)\n",
            "DISTRIBUCION NORMAL \n",
            "MEDIA:  25244359976.520836  // VARIANZA : 3.781983671497885e+23\n"
          ]
        }
      ]
    },
    {
      "cell_type": "markdown",
      "source": [
        "## DEFINO EL VECTOR Y"
      ],
      "metadata": {
        "id": "ADxkW5n6LeN6"
      }
    },
    {
      "cell_type": "code",
      "source": [
        "# XU_s_t = XU_s.transpose()\n",
        "# XU_s_t.shape\n",
        "# y_test_t = pd.DataFrame(XU_s_t)\n",
        "# y_test_DNORMAL = pd.DataFrame(XU_s ,columns=[0])\n",
        "# print(XU_x)\n",
        "print(XU_s)"
      ],
      "metadata": {
        "colab": {
          "base_uri": "https://localhost:8080/"
        },
        "id": "1lmG9m0SMnzV",
        "outputId": "7c7dc2e1-707b-4379-a63b-a156a786cb00"
      },
      "execution_count": 88,
      "outputs": [
        {
          "output_type": "stream",
          "name": "stdout",
          "text": [
            "[[ 4.12473852e-01  1.54884310e+00  6.56686000e+04]\n",
            " [-1.30539569e+00  1.68943309e+00  1.54729700e+04]\n",
            " [-7.64484096e-02  1.33482443e+00  5.27120372e+05]\n",
            " [-8.26487612e-01  1.23785222e+00  1.25511439e-03]\n",
            " [ 1.85900171e+00  1.58333581e+00  8.48435771e+02]\n",
            " [-4.42993893e-01  1.27725663e+00  6.47602328e+01]\n",
            " [-1.42430933e-01  1.45328945e+00  7.69904736e+03]\n",
            " [ 2.98148057e-01  1.74674217e+00  3.28138826e-02]\n",
            " [ 6.82485273e-01  1.94381572e+00  7.15411252e+00]\n",
            " [-3.67822044e-01  1.18830819e+00  1.51363749e+04]\n",
            " [ 1.33802830e+00  1.63844952e+00  2.44820854e-01]\n",
            " [-9.01381963e-02  1.19568974e+00  2.48684637e+00]\n",
            " [-6.31141415e-01  1.79382664e+00  1.92986741e+04]\n",
            " [ 2.41290364e-01  1.01890069e+00  4.03968274e+08]\n",
            " [-7.22728232e-01  1.06053655e+00  2.79579256e+03]\n",
            " [-5.73474146e-01  1.99474847e+00  2.28233264e+00]\n",
            " [-1.10108050e+00  1.76157353e+00  4.22073123e+05]\n",
            " [ 6.29384466e-01  1.63223103e+00  3.54095971e+04]\n",
            " [-6.81819658e-01  1.06961657e+00  3.58974774e+05]\n",
            " [-6.46001015e-01  1.17360598e+00  2.11974481e+02]\n",
            " [ 2.14643366e+00  1.62277516e+00  9.72756962e-02]\n",
            " [-3.45233377e-01  1.26402732e+00  9.40561667e-04]\n",
            " [ 1.11359184e+00  1.10105189e+00  5.00934222e+02]\n",
            " [-2.16910573e-01  1.15937261e+00  1.09006405e-02]\n",
            " [-9.53831199e-01  1.70109368e+00  1.44392485e+00]\n",
            " [-4.96022707e-02  1.71440681e+00  7.78348112e+03]\n",
            " [-4.70772535e-01  1.87432630e+00  1.54617475e+04]\n",
            " [-1.25918308e+00  1.07610679e+00  2.90367687e+00]\n",
            " [-6.31907820e-01  1.89631149e+00  1.99283808e+00]\n",
            " [-4.82061181e-01  1.94421740e+00  6.32681806e+03]\n",
            " [ 1.66343040e-01  1.13995429e+00  1.07662525e+07]\n",
            " [ 5.29237915e-01  1.37407432e+00  1.79118936e+05]\n",
            " [-1.21622085e+00  1.19625634e+00  2.29483870e+03]\n",
            " [-4.35616768e-01  1.83736335e+00  5.19531412e+03]\n",
            " [-5.07273545e-01  1.03536682e+00  2.75637824e+03]\n",
            " [ 2.79386433e-01  1.03858733e+00  1.34723025e+05]\n",
            " [-1.90542063e-01  1.10437646e+00  3.00705919e+05]\n",
            " [ 6.23174855e-01  1.02536199e+00  1.25239810e+04]\n",
            " [-1.29937277e-01  1.54676879e+00  1.53332195e+01]\n",
            " [-2.98353405e-01  1.79496141e+00  8.81791905e+02]\n",
            " [ 4.09172246e-01  1.22210212e+00  3.73604211e+04]\n",
            " [-1.22726620e+00  1.54002821e+00  2.57115040e-04]\n",
            " [-1.37507527e-01  1.15883790e+00  3.01016569e+02]\n",
            " [-1.75300053e+00  1.22105603e+00  9.30156645e+03]\n",
            " [ 4.23609342e-01  1.97147227e+00  5.13025362e+03]\n",
            " [-3.94755034e-01  1.07616195e+00  7.49423620e+00]\n",
            " [ 9.97020062e-02  1.25788222e+00  5.22474977e+06]\n",
            " [-1.42311725e+00  1.71683041e+00  6.97983367e-01]\n",
            " [ 1.58912039e+00  1.61793693e+00  1.14252137e+00]\n",
            " [-1.25178030e+00  1.61173089e+00  5.28298112e+06]\n",
            " [ 6.64086505e-01  1.93385816e+00  6.78289273e-02]\n",
            " [ 5.00698083e-01  1.66725732e+00  7.82317160e+01]\n",
            " [-2.83707973e-01  1.23000348e+00  3.09366807e+05]\n",
            " [-1.03625390e+00  1.36455775e+00  8.27246662e-01]\n",
            " [ 1.18803962e+00  1.21489285e+00  7.03733532e-02]\n",
            " [ 7.53723948e-01  1.35273848e+00  1.66081131e+06]\n",
            " [-1.37193201e+00  1.32733526e+00  7.55110918e+04]\n",
            " [ 1.63435738e+00  1.93219301e+00  1.56136975e+04]\n",
            " [ 3.92617199e-01  1.32005470e+00  1.38049430e+04]\n",
            " [ 7.61319092e-01  1.72188764e+00  1.50824804e+01]\n",
            " [-2.00255168e-01  1.90892097e+00  1.58108906e+02]\n",
            " [ 6.33185876e-01  1.15156223e+00  2.91346400e+04]\n",
            " [ 1.22215716e-01  1.75919645e+00  2.57886743e+01]\n",
            " [-7.75810012e-01  1.00368638e+00  6.30507889e+02]\n",
            " [ 1.91240708e-01  1.44783706e+00  6.52293661e+03]\n",
            " [ 2.19814501e+00  1.42962387e+00  1.87767075e+08]\n",
            " [ 2.27601711e-01  1.81781472e+00  9.24779200e+01]\n",
            " [-9.07581574e-01  1.83322293e+00  2.08551262e+02]\n",
            " [-5.26755141e-01  1.45094067e+00  1.09892617e+01]\n",
            " [ 6.10863618e-02  1.75656835e+00  7.38446761e-02]\n",
            " [ 7.19339599e-01  1.99557460e+00  3.85862128e+00]\n",
            " [-1.38722520e+00  1.89943681e+00  3.85974837e+01]\n",
            " [ 1.46038557e+00  1.42121758e+00  1.24061025e+04]\n",
            " [ 2.69065391e-01  1.27695174e+00  2.58682806e+00]\n",
            " [-6.55837541e-01  1.24187406e+00  5.87784542e+04]\n",
            " [ 5.61599411e-01  1.35009076e+00  5.71369811e+10]\n",
            " [-6.17169001e-01  1.58511404e+00  2.81071435e+06]\n",
            " [ 6.49301536e-01  1.82509343e+00  1.98171399e+04]\n",
            " [-5.89947425e-01  1.77893986e+00  1.81330063e+00]\n",
            " [-7.46199719e-01  1.52015311e+00  3.39938486e+02]\n",
            " [-5.52771173e-01  1.16991221e+00  6.26807429e+05]\n",
            " [ 8.16155793e-01  1.16660105e+00  3.04455381e+04]\n",
            " [-1.58704905e-02  1.56856080e+00  4.35084118e-03]\n",
            " [-1.05876251e-02  1.71982689e+00  1.53726925e+05]\n",
            " [-5.92507166e-01  1.43594496e+00  1.75955521e+04]\n",
            " [ 2.04026916e+00  1.53178461e+00  6.12257024e+03]\n",
            " [ 1.04437762e+00  1.68448045e+00  1.78715302e+04]\n",
            " [ 9.19752719e-01  1.10022435e+00  2.90835256e+03]\n",
            " [ 7.79449653e-01  1.25921700e+00  4.29403588e+05]\n",
            " [ 9.60270196e-01  1.05949485e+00  2.23270254e+05]\n",
            " [-9.91912705e-02  1.67732517e+00  6.24990862e+00]\n",
            " [-1.67234238e+00  1.47837766e+00  2.43934661e+07]\n",
            " [-8.29491056e-01  1.83710334e+00  9.87861761e+03]\n",
            " [-2.39251697e-01  1.93846526e+00  1.36867655e+06]\n",
            " [-2.84432962e-01  1.06186769e+00  6.48046583e+04]\n",
            " [ 6.90332268e-01  1.26370065e+00  3.01913222e+00]\n",
            " [-1.28622673e+00  1.88695376e+00  2.00804040e+05]\n",
            " [-5.51777164e-01  1.77712949e+00  5.20741187e+05]\n",
            " [ 1.06133801e+00  1.08487088e+00  8.11414753e+02]\n",
            " [-1.12114974e+00  1.48902687e+00  1.42190581e+02]\n",
            " [ 7.59550188e-01  2.58863068e+00  7.70818802e+01]\n",
            " [ 1.06913435e+00  2.46736072e+00  1.27044989e+03]\n",
            " [ 5.87000801e+00  2.82173513e+00  1.47120645e+06]\n",
            " [ 1.25351852e+00  2.30609238e+00  3.88636810e-03]\n",
            " [ 1.49535825e+00  2.47937646e+00  2.39368159e+00]\n",
            " [ 2.54878927e+00  2.14435650e+00  2.09392865e+06]\n",
            " [-2.17630097e+00  2.19767925e+00  4.98887048e+06]\n",
            " [-1.28979896e+00  2.90048415e+00  3.56195083e+07]\n",
            " [ 8.84731475e-01  2.77462994e+00  1.21712347e+01]\n",
            " [-1.79393677e+00  2.16526782e+00  4.46171889e-03]\n",
            " [ 3.16828746e+00  2.29961093e+00  5.91058652e+00]\n",
            " [-1.58852503e+00  2.06115483e+00  1.20658328e+04]\n",
            " [ 5.26411974e+00  2.28024758e+00  7.09034642e+01]\n",
            " [ 1.65839480e+00  2.79854424e+00  4.67422833e+02]\n",
            " [ 4.42822681e-01  2.07524442e+00  8.89975575e+08]\n",
            " [ 1.81614067e+00  2.35783283e+00  2.08239671e+02]\n",
            " [ 3.25726368e+00  2.72084357e+00  1.55275059e+05]\n",
            " [ 2.51895859e+00  2.98109848e+00  1.03139179e-02]\n",
            " [-1.33581217e+00  2.59646466e+00  3.55684592e-05]\n",
            " [-1.44178809e+00  2.70450875e+00  2.79428324e+00]\n",
            " [ 2.38544137e-01  2.54104811e+00  3.72274789e+06]\n",
            " [ 1.60905879e+00  2.56242476e+00  9.51228416e+04]\n",
            " [-9.34782919e-01  2.44982200e+00  5.63605002e+01]\n",
            " [ 1.53062329e+00  2.71765005e+00  2.22787548e+07]\n",
            " [ 2.32610990e+00  2.26509141e+00  2.62559898e+03]\n",
            " [ 3.19469069e+00  2.61499403e+00  2.90804207e+06]\n",
            " [ 1.49961822e+00  2.53409278e+00  9.85898653e+00]\n",
            " [ 1.17353016e+00  2.04313418e+00  1.50764072e+13]\n",
            " [ 3.44943422e+00  2.74015202e+00  9.60612192e+01]\n",
            " [ 2.76287460e+00  2.96206153e+00  3.64647811e+04]\n",
            " [ 1.47729569e+00  2.43529533e+00  7.00307448e+02]\n",
            " [-1.80828558e+00  2.98232789e+00  1.69624186e-01]\n",
            " [ 3.93613708e+00  2.54458511e+00  2.19630821e+02]\n",
            " [ 1.32853364e+00  2.75296053e+00  7.38963788e-03]\n",
            " [-1.71041613e+00  2.24797384e+00  2.26520919e+02]\n",
            " [-5.91764203e-01  2.75119813e+00  2.44893310e+07]\n",
            " [-5.00069852e+00  2.47853469e+00  1.95387271e+00]\n",
            " [-8.66706019e-01  2.32937764e+00  8.53553879e-03]\n",
            " [-7.34107279e-02  2.38318273e+00  4.09726880e+05]\n",
            " [ 3.39502236e+00  2.14196318e+00  2.30849130e+00]\n",
            " [ 3.30649395e-01  2.63690343e+00  5.67266119e-04]\n",
            " [ 1.27152913e+00  2.92369998e+00  9.60972150e-01]\n",
            " [-1.16086018e+00  2.32741171e+00  3.20889921e-02]\n",
            " [ 6.68826251e-01  2.43691025e+00  1.17137462e-02]\n",
            " [ 2.09091730e+00  2.90562191e+00  3.60054094e+05]\n",
            " [-1.96063780e-02  2.03273041e+00  1.14882128e+03]\n",
            " [ 2.83802596e-01  2.36044756e+00  3.46806403e-02]\n",
            " [ 1.78330968e+00  2.18508873e+00  6.36272177e+03]\n",
            " [ 3.48892683e+00  2.20972248e+00  2.65826591e+01]\n",
            " [ 1.05264785e+00  2.37438291e+00  4.06697820e+05]\n",
            " [-1.51327070e+00  2.25797307e+00  1.09544831e+06]\n",
            " [-1.70100343e+00  2.59462931e+00  5.47270590e+01]\n",
            " [ 3.96775495e+00  2.39265973e+00  6.14850413e+03]\n",
            " [ 2.90783081e+00  2.93831386e+00  2.82006931e+03]\n",
            " [ 1.43891691e+00  2.57845950e+00  1.19110916e+09]\n",
            " [ 3.87081231e+00  2.47209050e+00  1.15838262e+08]\n",
            " [ 2.38719747e+00  2.75066823e+00  1.42890061e+02]\n",
            " [-1.05797292e+00  2.22983038e+00  3.07185597e+05]\n",
            " [ 1.90202659e+00  2.66492894e+00  1.12626379e+06]\n",
            " [-1.13184189e-01  2.04269163e+00  2.36872806e+02]\n",
            " [-3.52473293e-01  2.09026285e+00  3.81930222e+02]\n",
            " [ 3.74586970e+00  2.69227757e+00  2.60360763e+05]\n",
            " [ 5.48617473e-01  2.90085268e+00  2.06532651e+00]\n",
            " [ 1.17011702e+00  2.86573208e+00  8.61781943e-02]\n",
            " [-9.06091023e-01  2.99001622e+00  7.46400804e+03]\n",
            " [ 1.54168824e+00  2.04389826e+00  4.37478076e+08]\n",
            " [-1.64275160e+00  2.70399991e+00  1.62334755e-04]\n",
            " [ 2.35036077e+00  2.23939462e+00  5.24755010e+05]\n",
            " [ 3.05858171e+00  2.61043595e+00  4.04750351e+03]\n",
            " [-6.26490195e-01  2.49570400e+00  8.09486913e+09]\n",
            " [ 1.40774668e+00  2.15566261e+00  2.02986643e-01]\n",
            " [ 2.76411504e+00  2.22899944e+00  3.05120636e+06]\n",
            " [ 9.29556994e-01  2.82461755e+00  5.54386555e-04]\n",
            " [-1.30437707e+00  2.81703196e+00  2.67630316e+03]\n",
            " [ 2.06762202e+00  2.09314211e+00  7.42744209e+08]\n",
            " [-3.39732949e+00  2.04008828e+00  1.04811623e+03]\n",
            " [-1.09446541e-01  2.64444989e+00  4.74824494e+03]\n",
            " [-8.99621787e-01  2.66591893e+00  6.76137463e+04]\n",
            " [ 7.63900806e-01  2.71592366e+00  2.81009329e+01]\n",
            " [ 7.79648696e-01  2.33158699e+00  2.50871156e+08]\n",
            " [ 2.51859412e+00  2.70575394e+00  1.07437576e-01]\n",
            " [ 1.92638517e+00  2.51992601e+00  3.22378749e+06]\n",
            " [ 2.66563131e-01  2.36528434e+00  7.31352001e+00]\n",
            " [ 2.33845665e+00  2.87033502e+00  4.10474120e+06]\n",
            " [-2.99562574e-01  2.76018837e+00  8.74803768e-04]\n",
            " [-1.29256018e+00  2.73246772e+00  1.02324610e+05]\n",
            " [ 2.50844285e+00  2.97544910e+00  8.47380718e+05]\n",
            " [ 3.56108316e-01  2.14147604e+00  2.27341752e+04]\n",
            " [ 5.25405685e+00  2.28049771e+00  2.42963125e+07]\n",
            " [ 9.34740010e-01  2.86475205e+00  4.70110946e-06]\n",
            " [-1.63468923e+00  2.37198771e+00  3.38158936e+06]\n",
            " [-9.58757253e-01  2.63866666e+00  6.36839578e+05]\n",
            " [ 3.68045072e+00  2.77949504e+00  2.87233751e+02]\n",
            " [-2.32030344e+00  2.35351786e+00  5.57340738e+08]\n",
            " [-6.04515048e-01  2.52741983e+00  5.79935392e-03]\n",
            " [-1.21775659e+00  2.93877653e+00  2.18054422e+01]\n",
            " [ 2.45064875e+00  2.18607237e+00  9.09484843e+03]\n",
            " [-4.39444760e-01  2.26580311e+00  5.84472445e+05]\n",
            " [ 3.19753512e+00  2.09141336e+00  5.90465567e+05]\n",
            " [ 1.98559152e+00  2.87443221e+00  1.29711379e+01]]\n"
          ]
        }
      ]
    },
    {
      "cell_type": "code",
      "source": [
        "y_200 =np.array([0,0,0,0,0,0,0,0,0,0,\n",
        "                 0,0,0,0,0,0,0,0,0,0,\n",
        "                 0,0,0,0,0,0,0,0,0,0,\n",
        "                 0,0,0,0,0,0,0,0,0,0,\n",
        "                 0,0,0,0,0,0,0,0,0,0,\n",
        "                 0,0,0,0,0,0,0,0,0,0,\n",
        "                 0,0,0,0,0,0,0,0,0,0,\n",
        "                 0,0,0,0,0,0,0,0,0,0,\n",
        "                 0,0,0,0,0,0,0,0,0,0,\n",
        "                 0,0,0,0,0,0,0,0,0,0,\n",
        "                 1,1,1,1,1,1,1,1,1,1,\n",
        "                 1,1,1,1,1,1,1,1,1,1,\n",
        "                 1,1,1,1,1,1,1,1,1,1,\n",
        "                 1,1,1,1,1,1,1,1,1,1,\n",
        "                 1,1,1,1,1,1,1,1,1,1,\n",
        "                 1,1,1,1,1,1,1,1,1,1,\n",
        "                 1,1,1,1,1,1,1,1,1,1,\n",
        "                 1,1,1,1,1,1,1,1,1,1,\n",
        "                 1,1,1,1,1,1,1,1,1,1,\n",
        "                 1,1,1,1,1,1,1,1,1,1])\n"
      ],
      "metadata": {
        "id": "_YPbKz-Wt5SK"
      },
      "execution_count": 89,
      "outputs": []
    },
    {
      "cell_type": "code",
      "source": [
        "print(da.shape)\n",
        "print(y_200.shape)"
      ],
      "metadata": {
        "colab": {
          "base_uri": "https://localhost:8080/"
        },
        "id": "lbkteFKquNjq",
        "outputId": "98a5d24d-73a3-4f6a-a80a-8e6fa9b790fa"
      },
      "execution_count": 90,
      "outputs": [
        {
          "output_type": "stream",
          "name": "stdout",
          "text": [
            "(200, 1)\n",
            "(200,)\n"
          ]
        }
      ]
    },
    {
      "cell_type": "code",
      "source": [
        "# Asi veremos información estadística básica de nuestro set de datos. La Media, el desvío estándar, \n",
        "# valores mínimo y máximo de cada característica:\n",
        "# VAMOS A CONVERTIR LA MATRIZ DE NP a UN DF \n",
        "df = pd.DataFrame(XU_s)\n",
        "df.describe()"
      ],
      "metadata": {
        "colab": {
          "base_uri": "https://localhost:8080/",
          "height": 300
        },
        "id": "pasQQJkv-4Rq",
        "outputId": "963b2464-eb0b-4782-9cfb-49b43b90bddd"
      },
      "execution_count": 91,
      "outputs": [
        {
          "output_type": "execute_result",
          "data": {
            "text/plain": [
              "                0           1             2\n",
              "count  200.000000  200.000000  2.000000e+02\n",
              "mean     0.442691    1.994005  7.573308e+10\n",
              "std      1.608566    0.592815  1.066046e+12\n",
              "min     -5.000699    1.003686  4.701109e-06\n",
              "25%     -0.631333    1.472106  6.928062e+00\n",
              "50%      0.253927    2.014153  2.807931e+03\n",
              "75%      1.415539    2.521799  3.023258e+05\n",
              "max      5.870008    2.990016  1.507641e+13"
            ],
            "text/html": [
              "\n",
              "  <div id=\"df-00c905ef-8e14-4dca-ae6e-0685e41e3f37\">\n",
              "    <div class=\"colab-df-container\">\n",
              "      <div>\n",
              "<style scoped>\n",
              "    .dataframe tbody tr th:only-of-type {\n",
              "        vertical-align: middle;\n",
              "    }\n",
              "\n",
              "    .dataframe tbody tr th {\n",
              "        vertical-align: top;\n",
              "    }\n",
              "\n",
              "    .dataframe thead th {\n",
              "        text-align: right;\n",
              "    }\n",
              "</style>\n",
              "<table border=\"1\" class=\"dataframe\">\n",
              "  <thead>\n",
              "    <tr style=\"text-align: right;\">\n",
              "      <th></th>\n",
              "      <th>0</th>\n",
              "      <th>1</th>\n",
              "      <th>2</th>\n",
              "    </tr>\n",
              "  </thead>\n",
              "  <tbody>\n",
              "    <tr>\n",
              "      <th>count</th>\n",
              "      <td>200.000000</td>\n",
              "      <td>200.000000</td>\n",
              "      <td>2.000000e+02</td>\n",
              "    </tr>\n",
              "    <tr>\n",
              "      <th>mean</th>\n",
              "      <td>0.442691</td>\n",
              "      <td>1.994005</td>\n",
              "      <td>7.573308e+10</td>\n",
              "    </tr>\n",
              "    <tr>\n",
              "      <th>std</th>\n",
              "      <td>1.608566</td>\n",
              "      <td>0.592815</td>\n",
              "      <td>1.066046e+12</td>\n",
              "    </tr>\n",
              "    <tr>\n",
              "      <th>min</th>\n",
              "      <td>-5.000699</td>\n",
              "      <td>1.003686</td>\n",
              "      <td>4.701109e-06</td>\n",
              "    </tr>\n",
              "    <tr>\n",
              "      <th>25%</th>\n",
              "      <td>-0.631333</td>\n",
              "      <td>1.472106</td>\n",
              "      <td>6.928062e+00</td>\n",
              "    </tr>\n",
              "    <tr>\n",
              "      <th>50%</th>\n",
              "      <td>0.253927</td>\n",
              "      <td>2.014153</td>\n",
              "      <td>2.807931e+03</td>\n",
              "    </tr>\n",
              "    <tr>\n",
              "      <th>75%</th>\n",
              "      <td>1.415539</td>\n",
              "      <td>2.521799</td>\n",
              "      <td>3.023258e+05</td>\n",
              "    </tr>\n",
              "    <tr>\n",
              "      <th>max</th>\n",
              "      <td>5.870008</td>\n",
              "      <td>2.990016</td>\n",
              "      <td>1.507641e+13</td>\n",
              "    </tr>\n",
              "  </tbody>\n",
              "</table>\n",
              "</div>\n",
              "      <button class=\"colab-df-convert\" onclick=\"convertToInteractive('df-00c905ef-8e14-4dca-ae6e-0685e41e3f37')\"\n",
              "              title=\"Convert this dataframe to an interactive table.\"\n",
              "              style=\"display:none;\">\n",
              "        \n",
              "  <svg xmlns=\"http://www.w3.org/2000/svg\" height=\"24px\"viewBox=\"0 0 24 24\"\n",
              "       width=\"24px\">\n",
              "    <path d=\"M0 0h24v24H0V0z\" fill=\"none\"/>\n",
              "    <path d=\"M18.56 5.44l.94 2.06.94-2.06 2.06-.94-2.06-.94-.94-2.06-.94 2.06-2.06.94zm-11 1L8.5 8.5l.94-2.06 2.06-.94-2.06-.94L8.5 2.5l-.94 2.06-2.06.94zm10 10l.94 2.06.94-2.06 2.06-.94-2.06-.94-.94-2.06-.94 2.06-2.06.94z\"/><path d=\"M17.41 7.96l-1.37-1.37c-.4-.4-.92-.59-1.43-.59-.52 0-1.04.2-1.43.59L10.3 9.45l-7.72 7.72c-.78.78-.78 2.05 0 2.83L4 21.41c.39.39.9.59 1.41.59.51 0 1.02-.2 1.41-.59l7.78-7.78 2.81-2.81c.8-.78.8-2.07 0-2.86zM5.41 20L4 18.59l7.72-7.72 1.47 1.35L5.41 20z\"/>\n",
              "  </svg>\n",
              "      </button>\n",
              "      \n",
              "  <style>\n",
              "    .colab-df-container {\n",
              "      display:flex;\n",
              "      flex-wrap:wrap;\n",
              "      gap: 12px;\n",
              "    }\n",
              "\n",
              "    .colab-df-convert {\n",
              "      background-color: #E8F0FE;\n",
              "      border: none;\n",
              "      border-radius: 50%;\n",
              "      cursor: pointer;\n",
              "      display: none;\n",
              "      fill: #1967D2;\n",
              "      height: 32px;\n",
              "      padding: 0 0 0 0;\n",
              "      width: 32px;\n",
              "    }\n",
              "\n",
              "    .colab-df-convert:hover {\n",
              "      background-color: #E2EBFA;\n",
              "      box-shadow: 0px 1px 2px rgba(60, 64, 67, 0.3), 0px 1px 3px 1px rgba(60, 64, 67, 0.15);\n",
              "      fill: #174EA6;\n",
              "    }\n",
              "\n",
              "    [theme=dark] .colab-df-convert {\n",
              "      background-color: #3B4455;\n",
              "      fill: #D2E3FC;\n",
              "    }\n",
              "\n",
              "    [theme=dark] .colab-df-convert:hover {\n",
              "      background-color: #434B5C;\n",
              "      box-shadow: 0px 1px 3px 1px rgba(0, 0, 0, 0.15);\n",
              "      filter: drop-shadow(0px 1px 2px rgba(0, 0, 0, 0.3));\n",
              "      fill: #FFFFFF;\n",
              "    }\n",
              "  </style>\n",
              "\n",
              "      <script>\n",
              "        const buttonEl =\n",
              "          document.querySelector('#df-00c905ef-8e14-4dca-ae6e-0685e41e3f37 button.colab-df-convert');\n",
              "        buttonEl.style.display =\n",
              "          google.colab.kernel.accessAllowed ? 'block' : 'none';\n",
              "\n",
              "        async function convertToInteractive(key) {\n",
              "          const element = document.querySelector('#df-00c905ef-8e14-4dca-ae6e-0685e41e3f37');\n",
              "          const dataTable =\n",
              "            await google.colab.kernel.invokeFunction('convertToInteractive',\n",
              "                                                     [key], {});\n",
              "          if (!dataTable) return;\n",
              "\n",
              "          const docLinkHtml = 'Like what you see? Visit the ' +\n",
              "            '<a target=\"_blank\" href=https://colab.research.google.com/notebooks/data_table.ipynb>data table notebook</a>'\n",
              "            + ' to learn more about interactive tables.';\n",
              "          element.innerHTML = '';\n",
              "          dataTable['output_type'] = 'display_data';\n",
              "          await google.colab.output.renderOutput(dataTable, element);\n",
              "          const docLink = document.createElement('div');\n",
              "          docLink.innerHTML = docLinkHtml;\n",
              "          element.appendChild(docLink);\n",
              "        }\n",
              "      </script>\n",
              "    </div>\n",
              "  </div>\n",
              "  "
            ]
          },
          "metadata": {},
          "execution_count": 91
        }
      ]
    },
    {
      "cell_type": "code",
      "source": [
        "# Dibujamos los histogramas para checkear la distribución de las variables usando el dataframe df20:\n",
        "plt.figure(figsize = (10,15))\n",
        "\n",
        "plt.subplot(2,2,1)\n",
        "fig =df[0].hist(bins=30)\n",
        "fig.set_xlabel('Dist. Normal')\n",
        "fig.set_ylabel('Dist. Normal')\n",
        "\n",
        "plt.subplot(2,2,2)\n",
        "fig =df[1].hist(bins=30)\n",
        "fig.set_xlabel('Dist. Uniforme')\n",
        "fig.set_ylabel('Dist. Uniforme')\n",
        "\n",
        "plt.subplot(2,2,3)\n",
        "fig =df[2].hist(bins=30)\n",
        "fig.set_xlabel('Dist. Sesgada')\n",
        "fig.set_ylabel('Dist. Sesgada')\n"
      ],
      "metadata": {
        "colab": {
          "base_uri": "https://localhost:8080/",
          "height": 894
        },
        "id": "UJmqybYX_jI_",
        "outputId": "a187a222-d0b6-464e-fdf5-4c8e653c0396"
      },
      "execution_count": 92,
      "outputs": [
        {
          "output_type": "execute_result",
          "data": {
            "text/plain": [
              "Text(0, 0.5, 'Dist. Sesgada')"
            ]
          },
          "metadata": {},
          "execution_count": 92
        },
        {
          "output_type": "display_data",
          "data": {
            "text/plain": [
              "<Figure size 720x1080 with 3 Axes>"
            ],
            "image/png": "[encoded data removed]"
          },
          "metadata": {
            "needs_background": "light"
          }
        }
      ]
    },
    {
      "cell_type": "markdown",
      "source": [
        "# REGRESION LOGISTICA ENTRENAMIENTO SOBRE TODA LA POBLACION"
      ],
      "metadata": {
        "id": "os4GicjVKyx6"
      }
    },
    {
      "cell_type": "code",
      "source": [
        "# train a logistic regression model on the training set\n",
        "\n",
        "from sklearn.linear_model import LogisticRegression\n",
        "\n",
        "# instantiate the model\n",
        "logreg = LogisticRegression(solver='liblinear', random_state=0) #Model accuracy score: 0.5000 Confusion matrix, al entrenar la poblacion\n",
        "                                                                                              #[[  0 100]\n",
        "                                                                                              #[  0 100]]\n",
        "#logreg = LogisticRegression(solver='newton-cg', random_state=0) #Model accuracy score: 0.9150 Confusion matrix\n",
        "                                                                                                # [[84  16]\n",
        "                                                                                                # [ 1 99]]\n",
        "# logreg = LogisticRegression(solver='sag', random_state=0) #Model accuracy score: 0.5000 Confusion matrix, al entrenar la \n",
        "                                                                                              #[[  0 100]\n",
        "                                                                                              #[  0 100]]\n",
        "# logreg = LogisticRegression(solver='saga', random_state=0) # Model accuracy score: 0.5000 Confusion matrix\n",
        "                                                                                          # [[0 100]\n",
        "                                                                                          # [0 100]]\n",
        "#logreg = LogisticRegression(solver='lbfgs',random_state=0) # Model accuracy score: 0.5000 Confusion matrix\n",
        "                                                                                          # [[0 100]\n",
        "                                                                                          # [0 100]]\n",
        "\n",
        "# fit the model CON TODA LA POBLACION\n",
        "logreg.fit(XU_s, y_200)\n"
      ],
      "metadata": {
        "id": "EDAFpYNTB4YM",
        "colab": {
          "base_uri": "https://localhost:8080/"
        },
        "outputId": "f8698329-602d-4960-dfdf-570f3af28fd6"
      },
      "execution_count": 93,
      "outputs": [
        {
          "output_type": "execute_result",
          "data": {
            "text/plain": [
              "LogisticRegression(random_state=0, solver='liblinear')"
            ]
          },
          "metadata": {},
          "execution_count": 93
        }
      ]
    },
    {
      "cell_type": "markdown",
      "source": [
        "# SPLIT DE DF PARA REGRESION LOGISTICA"
      ],
      "metadata": {
        "id": "FPKqz9vSK8NV"
      }
    },
    {
      "cell_type": "code",
      "source": [
        "# Separo en grupos de entrenamiento y testeo. Asigno un tamaño de 80% para entrenamiento y 20% para \n",
        "# testeo:\n",
        "from sklearn.model_selection import train_test_split \n",
        "\n",
        "X_train, X_test, y_train, y_test = train_test_split(XU_s,y_200,test_size=0.2)"
      ],
      "metadata": {
        "id": "4IGDBBHnK7YO"
      },
      "execution_count": 109,
      "outputs": []
    },
    {
      "cell_type": "code",
      "source": [
        "# train a logistic regression model on the training set\n",
        "\n",
        "from sklearn.linear_model import LogisticRegression\n",
        "\n",
        "# instantiate the model\n",
        "#logreg = LogisticRegression(solver='liblinear', random_state=0) #Model accuracy score: 0.4250 Confusion matrix, al entrenar la poblacion\n",
        "                                                                                              # [[ 0 23]\n",
        "                                                                                              # [ 0 17]]\n",
        "#logreg = LogisticRegression(solver='newton-cg', random_state=0) #Model accuracy score: 0.4250 Confusion matrix\n",
        "                                                                                                #  [[ 2 21]\n",
        "                                                                                                #  [ 2 15]]\n",
        "# logreg = LogisticRegression(solver='sag', random_state=0) #Model accuracy score: 0.4250 Confusion matrix, al entrenar la \n",
        "                                                                                              #[[ 0 23]\n",
        "                                                                                              # [ 0 17]]\n",
        "#logreg = LogisticRegression(solver='saga', random_state=0) # Model accuracy score: 0.4250 Confusion matrix\n",
        "                                                                                          #  [[ 0 23]\n",
        "                                                                                          #  [ 0 17]]\n",
        "logreg = LogisticRegression(solver='lbfgs',random_state=0) # Model accuracy score: 0.4250 Confusion matrix\n",
        "                                                                                          # [[ 0 23]\n",
        "                                                                                          # [ 0 17]]\n",
        "\n",
        "# ENTRENO CON LAS MATRICES DE ENTRENAMIENTO ESPLITEADAS\n",
        "logreg.fit(X_train, y_train)\n"
      ],
      "metadata": {
        "colab": {
          "base_uri": "https://localhost:8080/"
        },
        "id": "orfOPH6hMHd0",
        "outputId": "161ab42e-eb27-482b-a9c8-c97ad3e7dbfb"
      },
      "execution_count": 111,
      "outputs": [
        {
          "output_type": "stream",
          "name": "stderr",
          "text": [
            "/usr/local/lib/python3.7/dist-packages/sklearn/linear_model/_logistic.py:818: ConvergenceWarning: lbfgs failed to converge (status=2):\n",
            "ABNORMAL_TERMINATION_IN_LNSRCH.\n",
            "\n",
            "Increase the number of iterations (max_iter) or scale the data as shown in:\n",
            "    https://scikit-learn.org/stable/modules/preprocessing.html\n",
            "Please also refer to the documentation for alternative solver options:\n",
            "    https://scikit-learn.org/stable/modules/linear_model.html#logistic-regression\n",
            "  extra_warning_msg=_LOGISTIC_SOLVER_CONVERGENCE_MSG,\n"
          ]
        },
        {
          "output_type": "execute_result",
          "data": {
            "text/plain": [
              "LogisticRegression(random_state=0)"
            ]
          },
          "metadata": {},
          "execution_count": 111
        }
      ]
    },
    {
      "cell_type": "code",
      "source": [
        "# GENERO LA PREDICCION CON LAS MATRICES DE TEST QUE SE ESPLITEARON\n",
        "y_pred_test = logreg.predict(X_test)\n",
        "\n",
        "y_pred_test"
      ],
      "metadata": {
        "colab": {
          "base_uri": "https://localhost:8080/"
        },
        "id": "TgNeLMoIvAia",
        "outputId": "13f0b751-9e79-414f-ac2b-87697af3fb75"
      },
      "execution_count": 106,
      "outputs": [
        {
          "output_type": "execute_result",
          "data": {
            "text/plain": [
              "array([1, 1, 1, 1, 1, 1, 1, 1, 1, 1, 1, 1, 1, 1, 1, 1, 1, 1, 1, 1, 1, 1,\n",
              "       1, 1, 1, 1, 1, 1, 1, 1, 1, 1, 1, 1, 1, 1, 1, 1, 1, 1])"
            ]
          },
          "metadata": {},
          "execution_count": 106
        }
      ]
    },
    {
      "cell_type": "code",
      "source": [
        "# CALCULO LA PRESICION DEL ALGORITMO DE PREDICCION COMPARANDO EL Y DE SALIDA REAL VS LA PREDICCION\n",
        "from sklearn.metrics import accuracy_score\n",
        "# EN ESTE CASO VOY A USAR LA MATRIZ DE Y_TEST VS LA MATRIZ DE RESULTADO DE LA PREDICCION = y_pred_test\n",
        "print('Model accuracy score: {0:0.4f}'. format(accuracy_score(y_test, y_pred_test)))"
      ],
      "metadata": {
        "colab": {
          "base_uri": "https://localhost:8080/"
        },
        "id": "TwYwo6K9Mpj1",
        "outputId": "80f885b1-9429-4240-c817-0fbba8d73d39"
      },
      "execution_count": 107,
      "outputs": [
        {
          "output_type": "stream",
          "name": "stdout",
          "text": [
            "Model accuracy score: 0.4500\n"
          ]
        }
      ]
    },
    {
      "cell_type": "code",
      "source": [
        "# Creamos nuestra Matriz de Confusión:\n",
        "# COMPARANDO EL Y DE SALIDA REAL VS LA PREDICCION\n",
        "\n",
        "from sklearn.metrics import confusion_matrix\n",
        "\n",
        "cm = confusion_matrix(y_test, y_pred_test)\n",
        "print('Confusion matrix\\n\\n', cm)\n",
        "print('\\nTrue Positives(TP) = ', cm[0,0])\n",
        "print('\\nTrue Negatives(TN) = ', cm[1,1])\n",
        "print('\\nFalse Positives(FP) = ', cm[0,1])\n",
        "print('\\nFalse Negatives(FN) = ', cm[1,0])"
      ],
      "metadata": {
        "id": "I3ugYxj-PhGR",
        "colab": {
          "base_uri": "https://localhost:8080/"
        },
        "outputId": "be91bb9b-de41-485b-84ca-3a58004aac3e"
      },
      "execution_count": 76,
      "outputs": [
        {
          "output_type": "stream",
          "name": "stdout",
          "text": [
            "Confusion matrix\n",
            "\n",
            " [[ 0 23]\n",
            " [ 0 17]]\n",
            "\n",
            "True Positives(TP) =  0\n",
            "\n",
            "True Negatives(TN) =  17\n",
            "\n",
            "False Positives(FP) =  23\n",
            "\n",
            "False Negatives(FN) =  0\n"
          ]
        }
      ]
    },
    {
      "cell_type": "code",
      "source": [
        "# Visualizamos la Matriz de Confusión:\n",
        "cm_matrix = pd.DataFrame(data=cm, columns=['Actual Positive:1', 'Actual Negative:0'], \n",
        "                                 index=['Predict Positive:1', 'Predict Negative:0'])\n",
        "sns.heatmap(cm_matrix, annot=True, fmt='d', cmap='YlGnBu')"
      ],
      "metadata": {
        "colab": {
          "base_uri": "https://localhost:8080/",
          "height": 282
        },
        "id": "m4uvJQg_9iPG",
        "outputId": "562eaaf2-a4b3-405c-c387-15c1811945b2"
      },
      "execution_count": 78,
      "outputs": [
        {
          "output_type": "execute_result",
          "data": {
            "text/plain": [
              "<matplotlib.axes._subplots.AxesSubplot at 0x7f81f5c23c50>"
            ]
          },
          "metadata": {},
          "execution_count": 78
        },
        {
          "output_type": "display_data",
          "data": {
            "text/plain": [
              "<Figure size 432x288 with 2 Axes>"
            ],
            "image/png": "[encoded data removed]"
          },
          "metadata": {
            "needs_background": "light"
          }
        }
      ]
    },
    {
      "cell_type": "code",
      "source": [
        "# El Informe de Clasificación es otra forma de evaluar el rendimiento del modelo de clasificación.\n",
        "# Muestra las puntuaciones de precisión, recuperación, f1 y soporte para el modelo:\n",
        "from sklearn.metrics import classification_report\n",
        "\n",
        "print(classification_report(y_test, y_pred_test))"
      ],
      "metadata": {
        "colab": {
          "base_uri": "https://localhost:8080/"
        },
        "id": "PuhENg-F-cIv",
        "outputId": "6a670581-b1ce-4753-dd8c-6f1c1474b530"
      },
      "execution_count": 82,
      "outputs": [
        {
          "output_type": "stream",
          "name": "stdout",
          "text": [
            "              precision    recall  f1-score   support\n",
            "\n",
            "           0       0.00      0.00      0.00        23\n",
            "           1       0.42      1.00      0.60        17\n",
            "\n",
            "    accuracy                           0.42        40\n",
            "   macro avg       0.21      0.50      0.30        40\n",
            "weighted avg       0.18      0.42      0.25        40\n",
            "\n"
          ]
        },
        {
          "output_type": "stream",
          "name": "stderr",
          "text": [
            "/usr/local/lib/python3.7/dist-packages/sklearn/metrics/_classification.py:1318: UndefinedMetricWarning: Precision and F-score are ill-defined and being set to 0.0 in labels with no predicted samples. Use `zero_division` parameter to control this behavior.\n",
            "  _warn_prf(average, modifier, msg_start, len(result))\n",
            "/usr/local/lib/python3.7/dist-packages/sklearn/metrics/_classification.py:1318: UndefinedMetricWarning: Precision and F-score are ill-defined and being set to 0.0 in labels with no predicted samples. Use `zero_division` parameter to control this behavior.\n",
            "  _warn_prf(average, modifier, msg_start, len(result))\n",
            "/usr/local/lib/python3.7/dist-packages/sklearn/metrics/_classification.py:1318: UndefinedMetricWarning: Precision and F-score are ill-defined and being set to 0.0 in labels with no predicted samples. Use `zero_division` parameter to control this behavior.\n",
            "  _warn_prf(average, modifier, msg_start, len(result))\n"
          ]
        }
      ]
    },
    {
      "cell_type": "markdown",
      "source": [
        "CONCLUCIONES:\n",
        "El modelo no logra entrenar bien ya que la distribucion de los datos es baja, por ende el algoritmo de regresion, no puede predecir con excactitud, no por el tipo de ajuste que se le defina sino la distribucion de los datos."
      ],
      "metadata": {
        "id": "eKQMgW75fVX0"
      }
    }
  ]
}