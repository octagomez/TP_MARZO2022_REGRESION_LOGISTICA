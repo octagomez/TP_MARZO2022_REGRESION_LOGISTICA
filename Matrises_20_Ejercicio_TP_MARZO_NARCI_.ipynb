{
  "nbformat": 4,
  "nbformat_minor": 0,
  "metadata": {
    "colab": {
      "name": "Matrises_20_Ejercicio_TP_MARZO_NARCI_.ipynb",
      "provenance": [],
      "collapsed_sections": [
        "KTEeLb9c_9_W"
      ]
    },
    "kernelspec": {
      "name": "python3",
      "display_name": "Python 3"
    },
    "language_info": {
      "name": "python"
    }
  },
  "cells": [
    {
      "cell_type": "code",
      "source": [
        "!pip install category_encoders"
      ],
      "metadata": {
        "colab": {
          "base_uri": "https://localhost:8080/"
        },
        "id": "pz2fcSp7i2Uz",
        "outputId": "f51d2521-d4a1-4b93-80db-c56c1e1be852"
      },
      "execution_count": 2,
      "outputs": [
        {
          "output_type": "stream",
          "name": "stdout",
          "text": [
            "Collecting category_encoders\n",
            "  Downloading category_encoders-2.4.0-py2.py3-none-any.whl (86 kB)\n",
            "\u001b[?25l\r\u001b[K     |███▉                            | 10 kB 16.4 MB/s eta 0:00:01\r\u001b[K     |███████▋                        | 20 kB 8.2 MB/s eta 0:00:01\r\u001b[K     |███████████▍                    | 30 kB 6.5 MB/s eta 0:00:01\r\u001b[K     |███████████████▏                | 40 kB 7.3 MB/s eta 0:00:01\r\u001b[K     |███████████████████             | 51 kB 6.2 MB/s eta 0:00:01\r\u001b[K     |██████████████████████▊         | 61 kB 7.3 MB/s eta 0:00:01\r\u001b[K     |██████████████████████████▌     | 71 kB 7.5 MB/s eta 0:00:01\r\u001b[K     |██████████████████████████████▎ | 81 kB 8.3 MB/s eta 0:00:01\r\u001b[K     |████████████████████████████████| 86 kB 3.5 MB/s \n",
            "\u001b[?25hRequirement already satisfied: scikit-learn>=0.20.0 in /usr/local/lib/python3.7/dist-packages (from category_encoders) (1.0.2)\n",
            "Requirement already satisfied: patsy>=0.5.1 in /usr/local/lib/python3.7/dist-packages (from category_encoders) (0.5.2)\n",
            "Requirement already satisfied: statsmodels>=0.9.0 in /usr/local/lib/python3.7/dist-packages (from category_encoders) (0.10.2)\n",
            "Requirement already satisfied: pandas>=0.21.1 in /usr/local/lib/python3.7/dist-packages (from category_encoders) (1.3.5)\n",
            "Requirement already satisfied: scipy>=1.0.0 in /usr/local/lib/python3.7/dist-packages (from category_encoders) (1.4.1)\n",
            "Requirement already satisfied: numpy>=1.14.0 in /usr/local/lib/python3.7/dist-packages (from category_encoders) (1.21.5)\n",
            "Requirement already satisfied: python-dateutil>=2.7.3 in /usr/local/lib/python3.7/dist-packages (from pandas>=0.21.1->category_encoders) (2.8.2)\n",
            "Requirement already satisfied: pytz>=2017.3 in /usr/local/lib/python3.7/dist-packages (from pandas>=0.21.1->category_encoders) (2018.9)\n",
            "Requirement already satisfied: six in /usr/local/lib/python3.7/dist-packages (from patsy>=0.5.1->category_encoders) (1.15.0)\n",
            "Requirement already satisfied: threadpoolctl>=2.0.0 in /usr/local/lib/python3.7/dist-packages (from scikit-learn>=0.20.0->category_encoders) (3.1.0)\n",
            "Requirement already satisfied: joblib>=0.11 in /usr/local/lib/python3.7/dist-packages (from scikit-learn>=0.20.0->category_encoders) (1.1.0)\n",
            "Installing collected packages: category-encoders\n",
            "Successfully installed category-encoders-2.4.0\n"
          ]
        }
      ]
    },
    {
      "cell_type": "code",
      "execution_count": 69,
      "metadata": {
        "id": "dUC-por0hFcS"
      },
      "outputs": [],
      "source": [
        "import numpy as np # linear algebra\n",
        "import pandas as pd # data processing, CSV file I/O (e.g. pd.read_csv)\n",
        "import matplotlib.pyplot as plt # data visualization\n",
        "import seaborn as sns # statistical data visualization\n",
        "%matplotlib inline\n",
        "import category_encoders as ce\n"
      ]
    },
    {
      "cell_type": "markdown",
      "source": [
        "MATRIZ 20x3"
      ],
      "metadata": {
        "id": "FCWGE7p5ABaH"
      }
    },
    {
      "cell_type": "code",
      "source": [
        "# CREO UN VECTOR DE DISTRIBUCION NORMAL 20\n",
        "da = np.random.normal(loc=0, scale=1, size=10).reshape(10,1)\n",
        "da2 = np.random.normal(loc=10, scale=15, size=10).reshape(10,1)\n",
        "da = np.append(da, da2 , axis=0)\n",
        "da\n",
        "# CREO UN VECTOR DE DISTRIBUCION UNIFORME\n",
        "rd = np.random.uniform(low=0, high=1.5, size=10).reshape(10,1)\n",
        "rd2 = np.random.uniform(low=1.6, high=3, size=10).reshape(10,1)\n",
        "rd = np.append(rd, rd2 , axis=0)\n",
        "# CREO UN VECTOR DE DISTRIBUCION SESGADA\n",
        "rs =np.random.lognormal(2,3,10).reshape(10,1)\n",
        "rs2 =np.random.lognormal(0,3,10).reshape(10,1)\n",
        "rs = np.append(rs, rs2 , axis=0)"
      ],
      "metadata": {
        "id": "jILFjMipjAOK"
      },
      "execution_count": 83,
      "outputs": []
    },
    {
      "cell_type": "code",
      "source": [
        "# INCORPORO LOS DATOS A UNA MATRIZ\n",
        "# https://www.delftstack.com/es/howto/numpy/numpy-add-column/#:~:text=append()-,La%20funci%C3%B3n%20numpy.,valores%20a%20el%20array%20preexistente.\n",
        "XU = np.append(da, rd , axis=1)\n",
        "# VEO LA MATRIZ\n",
        "#print(\"VECTOR NORMAL\", da)\n",
        "#print(\"VECTOR UNIFORME\",rd)\n",
        "#print(\"MATRIZ_1\", XU)\n",
        "# INCORPORP LA TERCERA COLUMNA A LA MATRIZ\n",
        "XU_s = np.append(XU, rs , axis=1)\n",
        "#print(\"MATRIZ_2\", XU)\n",
        "XU.shape\n",
        "\n",
        "print(\"DISTRIBUCION NORMAL \\nMEDIA: \", da.mean(), \" // VARIANZA :\", da.var()  )"
      ],
      "metadata": {
        "colab": {
          "base_uri": "https://localhost:8080/"
        },
        "id": "dB2NyfqEpT0U",
        "outputId": "7714a530-95d4-4adc-faf1-e1cd4c90ab8a"
      },
      "execution_count": 84,
      "outputs": [
        {
          "output_type": "stream",
          "name": "stdout",
          "text": [
            "DISTRIBUCION NORMAL \n",
            "MEDIA:  9.386976471605204  // VARIANZA : 171.09964172933704\n"
          ]
        }
      ]
    },
    {
      "cell_type": "markdown",
      "source": [
        "##MATRIZ 200x3"
      ],
      "metadata": {
        "id": "KTEeLb9c_9_W"
      }
    },
    {
      "cell_type": "code",
      "source": [
        "# CREO UN VECTOR DE DISTRIBUCION NORMAL 200\n",
        "da = np.random.normal(loc=0, scale=1, size=200).reshape(200,1)\n",
        "# CREO UN VECTOR DE DISTRIBUCION UNIFORME\n",
        "rd = np.random.uniform(low=0, high=1, size=200).reshape(200,1)\n",
        "# CREO UN VECTOR DE DISTRIBUCION SESGADA\n",
        "rs =np.random.lognormal(2,5,200).reshape(200,1)"
      ],
      "metadata": {
        "id": "445lDY4sr8eW"
      },
      "execution_count": null,
      "outputs": []
    },
    {
      "cell_type": "code",
      "source": [
        "# INCORPORO LOS DATOS A UNA MATRIZ\n",
        "# https://www.delftstack.com/es/howto/numpy/numpy-add-column/#:~:text=append()-,La%20funci%C3%B3n%20numpy.,valores%20a%20el%20array%20preexistente.\n",
        "XU = np.append(da, rd , axis=1)\n",
        "# VEO LA MATRIZ\n",
        "# print(\"VECTOR NORMAL\", da)\n",
        "# print(\"VECTOR UNIFORME\",rd)\n",
        "print(\"MATRIZ_1\", XU.shape)\n",
        "# INCORPORP LA TERCERA COLUMNA A LA MATRIZ\n",
        "XU_x = np.append(XU, rs , axis=1)\n",
        "print(\"MATRIZ_2\", XU.shape)\n",
        "XU.shape\n",
        "print(\"DISTRIBUCION NORMAL \\nMEDIA: \", da.mean(), \" // VARIANZA :\", da.var()  )"
      ],
      "metadata": {
        "colab": {
          "base_uri": "https://localhost:8080/"
        },
        "id": "S6uvrTTsyhsQ",
        "outputId": "031c0de2-c27a-4c6d-b802-381426f73de3"
      },
      "execution_count": null,
      "outputs": [
        {
          "output_type": "stream",
          "name": "stdout",
          "text": [
            "MATRIZ_1 (200, 2)\n",
            "MATRIZ_2 (200, 2)\n",
            "DISTRIBUCION NORMAL \n",
            "MEDIA:  -0.05708923547131918  // VARIANZA : 1.063385487436804\n"
          ]
        }
      ]
    },
    {
      "cell_type": "markdown",
      "source": [
        "## DEFINO EL VECTOR Y"
      ],
      "metadata": {
        "id": "ADxkW5n6LeN6"
      }
    },
    {
      "cell_type": "code",
      "source": [
        "# XU_s_t = XU_s.transpose()\n",
        "# XU_s_t.shape\n",
        "# y_test_t = pd.DataFrame(XU_s_t)\n",
        "# y_test_DNORMAL = pd.DataFrame(XU_s ,columns=[0])\n",
        "# print(XU_x)\n",
        "print(XU_s)"
      ],
      "metadata": {
        "colab": {
          "base_uri": "https://localhost:8080/"
        },
        "id": "1lmG9m0SMnzV",
        "outputId": "5ea78234-75d8-4cfa-f8dc-16d5a711c71a"
      },
      "execution_count": 72,
      "outputs": [
        {
          "output_type": "stream",
          "name": "stdout",
          "text": [
            "[[ 1.83097270e+00  5.27085981e-01  1.73741810e+03]\n",
            " [ 1.97880201e+00  9.27303462e-01  2.17579933e+01]\n",
            " [ 2.11036027e-01  2.56547626e-02  1.07112444e-01]\n",
            " [ 3.69268953e-02  1.06886053e-02  6.94439354e+03]\n",
            " [ 5.40292732e-01  1.08428651e-01  1.27753573e+00]\n",
            " [ 1.75659468e-01  1.20656693e+00  5.36347736e+01]\n",
            " [-5.12975016e-01  1.45384348e+00  4.84433537e+02]\n",
            " [-1.40787070e-01  6.76284959e-02  1.57663698e+01]\n",
            " [-1.16133463e+00  1.11003380e-01  2.58535322e+03]\n",
            " [-6.75799266e-01  4.34463287e-01  9.06499530e+00]\n",
            " [ 9.06044614e+00  1.81072782e+00  2.25664106e-03]\n",
            " [ 2.89380078e+01  2.31745745e+00  1.93473717e-02]\n",
            " [ 4.35104023e+00  2.80901120e+00  2.69164209e+01]\n",
            " [ 3.60140686e+01  2.92963021e+00  1.52289824e+00]\n",
            " [ 3.09539517e+01  1.84534786e+00  1.12053324e-01]\n",
            " [ 1.43519021e+01  1.63868031e+00  1.52366792e+00]\n",
            " [ 2.11505563e+01  1.79658064e+00  4.43342139e-03]\n",
            " [ 1.17988797e+01  2.95847806e+00  3.72224771e-01]\n",
            " [ 2.77990734e+00  2.51422986e+00  1.46388747e+01]\n",
            " [ 1.41889617e+01  1.74730453e+00  2.07394649e+01]]\n"
          ]
        }
      ]
    },
    {
      "cell_type": "code",
      "source": [
        "# paso los array de numpy a DF de pandas\n",
        "# X_train200 = pd.DataFrame(XU_x) #matriz de 200\n",
        "# X_train20 = pd.DataFrame(XU_s) # matriz de 20\n",
        "\n",
        "# # al test, le dejo 1 columna normal\n",
        "# #y_test_DNORMAL = pd.DataFrame(y_test ,columns=[0])\n",
        "\n",
        "# # a X le saco la columna que tiene el resultadod e la prediccion en el caso de una dist normal le voy a eliminart la columna 0 (DIST NORMAL)\n",
        "# X_20 = X_train20.drop([0], axis=1) \n",
        "# y_20 = X_train20[0]\n",
        "# print(X_train200)\n",
        "# print(X_train20)\n"
      ],
      "metadata": {
        "id": "BTDTP4BLHfUS"
      },
      "execution_count": 32,
      "outputs": []
    },
    {
      "cell_type": "code",
      "source": [
        "# print(X_train200)\n",
        "# print(X_train20)"
      ],
      "metadata": {
        "id": "wmpl9mM8-2Zk"
      },
      "execution_count": null,
      "outputs": []
    },
    {
      "cell_type": "code",
      "source": [
        "# print(y_test_DNORMAL)\n",
        "# print(y_test)"
      ],
      "metadata": {
        "id": "9GVAseA6IuOX"
      },
      "execution_count": null,
      "outputs": []
    },
    {
      "cell_type": "code",
      "source": [
        "y_20 =np.array([0,0,0,0,0,0,0,0,0,0,1,1,1,1,1,1,1,1,1,1])\n"
      ],
      "metadata": {
        "id": "_YPbKz-Wt5SK"
      },
      "execution_count": 85,
      "outputs": []
    },
    {
      "cell_type": "code",
      "source": [
        "print(da.shape)\n",
        "print(y_20.shape)"
      ],
      "metadata": {
        "colab": {
          "base_uri": "https://localhost:8080/"
        },
        "id": "lbkteFKquNjq",
        "outputId": "9a52d122-32fe-422b-de59-10c95089e303"
      },
      "execution_count": 86,
      "outputs": [
        {
          "output_type": "stream",
          "name": "stdout",
          "text": [
            "(20, 1)\n",
            "(20,)\n"
          ]
        }
      ]
    },
    {
      "cell_type": "code",
      "source": [
        "# Asi veremos información estadística básica de nuestro set de datos. La Media, el desvío estándar, \n",
        "# valores mínimo y máximo de cada característica:\n",
        "# VAMOS A CONVERTIR LA MATRIZ DE NP a UN DF \n",
        "df = pd.DataFrame(XU_s)\n",
        "df.describe()"
      ],
      "metadata": {
        "colab": {
          "base_uri": "https://localhost:8080/",
          "height": 300
        },
        "id": "pasQQJkv-4Rq",
        "outputId": "0836a9ea-ceb0-4b11-c9ee-d8265d5571c7"
      },
      "execution_count": 87,
      "outputs": [
        {
          "output_type": "execute_result",
          "data": {
            "text/plain": [
              "               0          1          2\n",
              "count  20.000000  20.000000  20.000000\n",
              "mean    9.386976   1.604794  14.645789\n",
              "std    13.420316   0.870901  26.625722\n",
              "min    -1.088853   0.235572   0.002399\n",
              "25%    -0.265316   0.805271   1.381720\n",
              "50%     0.676723   1.470192   2.980355\n",
              "75%    16.820660   2.299390  11.862557\n",
              "max    38.185436   2.999994  93.860047"
            ],
            "text/html": [
              "\n",
              "  <div id=\"df-8249c50e-2982-435f-9c7a-b7ed70251118\">\n",
              "    <div class=\"colab-df-container\">\n",
              "      <div>\n",
              "<style scoped>\n",
              "    .dataframe tbody tr th:only-of-type {\n",
              "        vertical-align: middle;\n",
              "    }\n",
              "\n",
              "    .dataframe tbody tr th {\n",
              "        vertical-align: top;\n",
              "    }\n",
              "\n",
              "    .dataframe thead th {\n",
              "        text-align: right;\n",
              "    }\n",
              "</style>\n",
              "<table border=\"1\" class=\"dataframe\">\n",
              "  <thead>\n",
              "    <tr style=\"text-align: right;\">\n",
              "      <th></th>\n",
              "      <th>0</th>\n",
              "      <th>1</th>\n",
              "      <th>2</th>\n",
              "    </tr>\n",
              "  </thead>\n",
              "  <tbody>\n",
              "    <tr>\n",
              "      <th>count</th>\n",
              "      <td>20.000000</td>\n",
              "      <td>20.000000</td>\n",
              "      <td>20.000000</td>\n",
              "    </tr>\n",
              "    <tr>\n",
              "      <th>mean</th>\n",
              "      <td>9.386976</td>\n",
              "      <td>1.604794</td>\n",
              "      <td>14.645789</td>\n",
              "    </tr>\n",
              "    <tr>\n",
              "      <th>std</th>\n",
              "      <td>13.420316</td>\n",
              "      <td>0.870901</td>\n",
              "      <td>26.625722</td>\n",
              "    </tr>\n",
              "    <tr>\n",
              "      <th>min</th>\n",
              "      <td>-1.088853</td>\n",
              "      <td>0.235572</td>\n",
              "      <td>0.002399</td>\n",
              "    </tr>\n",
              "    <tr>\n",
              "      <th>25%</th>\n",
              "      <td>-0.265316</td>\n",
              "      <td>0.805271</td>\n",
              "      <td>1.381720</td>\n",
              "    </tr>\n",
              "    <tr>\n",
              "      <th>50%</th>\n",
              "      <td>0.676723</td>\n",
              "      <td>1.470192</td>\n",
              "      <td>2.980355</td>\n",
              "    </tr>\n",
              "    <tr>\n",
              "      <th>75%</th>\n",
              "      <td>16.820660</td>\n",
              "      <td>2.299390</td>\n",
              "      <td>11.862557</td>\n",
              "    </tr>\n",
              "    <tr>\n",
              "      <th>max</th>\n",
              "      <td>38.185436</td>\n",
              "      <td>2.999994</td>\n",
              "      <td>93.860047</td>\n",
              "    </tr>\n",
              "  </tbody>\n",
              "</table>\n",
              "</div>\n",
              "      <button class=\"colab-df-convert\" onclick=\"convertToInteractive('df-8249c50e-2982-435f-9c7a-b7ed70251118')\"\n",
              "              title=\"Convert this dataframe to an interactive table.\"\n",
              "              style=\"display:none;\">\n",
              "        \n",
              "  <svg xmlns=\"http://www.w3.org/2000/svg\" height=\"24px\"viewBox=\"0 0 24 24\"\n",
              "       width=\"24px\">\n",
              "    <path d=\"M0 0h24v24H0V0z\" fill=\"none\"/>\n",
              "    <path d=\"M18.56 5.44l.94 2.06.94-2.06 2.06-.94-2.06-.94-.94-2.06-.94 2.06-2.06.94zm-11 1L8.5 8.5l.94-2.06 2.06-.94-2.06-.94L8.5 2.5l-.94 2.06-2.06.94zm10 10l.94 2.06.94-2.06 2.06-.94-2.06-.94-.94-2.06-.94 2.06-2.06.94z\"/><path d=\"M17.41 7.96l-1.37-1.37c-.4-.4-.92-.59-1.43-.59-.52 0-1.04.2-1.43.59L10.3 9.45l-7.72 7.72c-.78.78-.78 2.05 0 2.83L4 21.41c.39.39.9.59 1.41.59.51 0 1.02-.2 1.41-.59l7.78-7.78 2.81-2.81c.8-.78.8-2.07 0-2.86zM5.41 20L4 18.59l7.72-7.72 1.47 1.35L5.41 20z\"/>\n",
              "  </svg>\n",
              "      </button>\n",
              "      \n",
              "  <style>\n",
              "    .colab-df-container {\n",
              "      display:flex;\n",
              "      flex-wrap:wrap;\n",
              "      gap: 12px;\n",
              "    }\n",
              "\n",
              "    .colab-df-convert {\n",
              "      background-color: #E8F0FE;\n",
              "      border: none;\n",
              "      border-radius: 50%;\n",
              "      cursor: pointer;\n",
              "      display: none;\n",
              "      fill: #1967D2;\n",
              "      height: 32px;\n",
              "      padding: 0 0 0 0;\n",
              "      width: 32px;\n",
              "    }\n",
              "\n",
              "    .colab-df-convert:hover {\n",
              "      background-color: #E2EBFA;\n",
              "      box-shadow: 0px 1px 2px rgba(60, 64, 67, 0.3), 0px 1px 3px 1px rgba(60, 64, 67, 0.15);\n",
              "      fill: #174EA6;\n",
              "    }\n",
              "\n",
              "    [theme=dark] .colab-df-convert {\n",
              "      background-color: #3B4455;\n",
              "      fill: #D2E3FC;\n",
              "    }\n",
              "\n",
              "    [theme=dark] .colab-df-convert:hover {\n",
              "      background-color: #434B5C;\n",
              "      box-shadow: 0px 1px 3px 1px rgba(0, 0, 0, 0.15);\n",
              "      filter: drop-shadow(0px 1px 2px rgba(0, 0, 0, 0.3));\n",
              "      fill: #FFFFFF;\n",
              "    }\n",
              "  </style>\n",
              "\n",
              "      <script>\n",
              "        const buttonEl =\n",
              "          document.querySelector('#df-8249c50e-2982-435f-9c7a-b7ed70251118 button.colab-df-convert');\n",
              "        buttonEl.style.display =\n",
              "          google.colab.kernel.accessAllowed ? 'block' : 'none';\n",
              "\n",
              "        async function convertToInteractive(key) {\n",
              "          const element = document.querySelector('#df-8249c50e-2982-435f-9c7a-b7ed70251118');\n",
              "          const dataTable =\n",
              "            await google.colab.kernel.invokeFunction('convertToInteractive',\n",
              "                                                     [key], {});\n",
              "          if (!dataTable) return;\n",
              "\n",
              "          const docLinkHtml = 'Like what you see? Visit the ' +\n",
              "            '<a target=\"_blank\" href=https://colab.research.google.com/notebooks/data_table.ipynb>data table notebook</a>'\n",
              "            + ' to learn more about interactive tables.';\n",
              "          element.innerHTML = '';\n",
              "          dataTable['output_type'] = 'display_data';\n",
              "          await google.colab.output.renderOutput(dataTable, element);\n",
              "          const docLink = document.createElement('div');\n",
              "          docLink.innerHTML = docLinkHtml;\n",
              "          element.appendChild(docLink);\n",
              "        }\n",
              "      </script>\n",
              "    </div>\n",
              "  </div>\n",
              "  "
            ]
          },
          "metadata": {},
          "execution_count": 87
        }
      ]
    },
    {
      "cell_type": "code",
      "source": [
        "# Dibujamos los histogramas para checkear la distribución de las variables usando el dataframe df20:\n",
        "plt.figure(figsize = (10,15))\n",
        "\n",
        "plt.subplot(2,2,1)\n",
        "fig =df[0].hist(bins=30)\n",
        "fig.set_xlabel('Dist. Normal')\n",
        "fig.set_ylabel('Dist. Normal')\n",
        "\n",
        "plt.subplot(2,2,2)\n",
        "fig =df[1].hist(bins=30)\n",
        "fig.set_xlabel('Dist. Uniforme')\n",
        "fig.set_ylabel('Dist. Uniforme')\n",
        "\n",
        "plt.subplot(2,2,3)\n",
        "fig =df[2].hist(bins=30)\n",
        "fig.set_xlabel('Dist. Sesgada')\n",
        "fig.set_ylabel('Dist. Sesgada')\n"
      ],
      "metadata": {
        "colab": {
          "base_uri": "https://localhost:8080/",
          "height": 894
        },
        "id": "UJmqybYX_jI_",
        "outputId": "b2db2543-f555-4912-fa09-f43894a1066a"
      },
      "execution_count": 88,
      "outputs": [
        {
          "output_type": "execute_result",
          "data": {
            "text/plain": [
              "Text(0, 0.5, 'Dist. Sesgada')"
            ]
          },
          "metadata": {},
          "execution_count": 88
        },
        {
          "output_type": "display_data",
          "data": {
            "text/plain": [
              "<Figure size 720x1080 with 3 Axes>"
            ],
            "image/png": "[encoded data removed]"
          },
          "metadata": {
            "needs_background": "light"
          }
        }
      ]
    },
    {
      "cell_type": "code",
      "source": [
        "# train a logistic regression model on the training set\n",
        "\n",
        "from sklearn.linear_model import LogisticRegression\n",
        "\n",
        "# instantiate the model\n",
        "# logreg = LogisticRegression(solver='liblinear', random_state=0) # OBTENGO Model accuracy score: 0.9500 Confusion matrix\n",
        "                                                                                                          # [[10  0]\n",
        "                                                                                                          # [ 1  9]]\n",
        "#logreg = LogisticRegression(solver='newton-cg', random_state=0) # Model accuracy score: 1.0000 Confusion matrix\n",
        "                                                                                                # [[10  0]\n",
        "                                                                                                # [ 0 10]]\n",
        "#logreg = LogisticRegression(solver='sag', random_state=0) # Model accuracy score: 0.9500 Confusion matrix\n",
        "                                                                                          # [[ 9  1]\n",
        "                                                                                          # [ 0 10]]\n",
        "#logreg = LogisticRegression(solver='saga', random_state=0) # Model accuracy score: 0.9000 Confusion matrix\n",
        "                                                                                          # [[9 1]\n",
        "                                                                                          # [1 9]]\n",
        "logreg = LogisticRegression(solver='lbfgs',random_state=0) # Model accuracy score: 1.0000 Confusion matrix\n",
        "                                                                                          # [[10  0]\n",
        "                                                                                          # [ 0 10]]\n",
        "\n",
        "# fit the model\n",
        "logreg.fit(XU_s, y_20)\n"
      ],
      "metadata": {
        "id": "EDAFpYNTB4YM",
        "colab": {
          "base_uri": "https://localhost:8080/"
        },
        "outputId": "b22a44f8-ff1f-4c89-b892-47a9bd0ad61a"
      },
      "execution_count": 89,
      "outputs": [
        {
          "output_type": "execute_result",
          "data": {
            "text/plain": [
              "LogisticRegression(random_state=0)"
            ]
          },
          "metadata": {},
          "execution_count": 89
        }
      ]
    },
    {
      "cell_type": "code",
      "source": [
        "# ESTA ES LA PREDICCION\n",
        "y_pred_test = logreg.predict(XU_s)\n",
        "\n",
        "y_pred_test"
      ],
      "metadata": {
        "colab": {
          "base_uri": "https://localhost:8080/"
        },
        "id": "TgNeLMoIvAia",
        "outputId": "51ad0381-444c-423d-9950-39295a197114"
      },
      "execution_count": 90,
      "outputs": [
        {
          "output_type": "execute_result",
          "data": {
            "text/plain": [
              "array([0, 0, 0, 0, 0, 0, 0, 0, 0, 0, 0, 1, 1, 1, 1, 1, 1, 1, 1, 1])"
            ]
          },
          "metadata": {},
          "execution_count": 90
        }
      ]
    },
    {
      "cell_type": "code",
      "source": [
        "# CALCULO LA PRESICION DEL ALGORITMO DE PREDICCION COMPARANDO EL Y DE SALIDA REAL VS LA PREDICCION\n",
        "from sklearn.metrics import accuracy_score\n",
        "\n",
        "print('Model accuracy score: {0:0.4f}'. format(accuracy_score(y_20, y_pred_test)))"
      ],
      "metadata": {
        "colab": {
          "base_uri": "https://localhost:8080/"
        },
        "id": "TwYwo6K9Mpj1",
        "outputId": "1df22788-87d0-4cf4-fd39-e15b662575af"
      },
      "execution_count": 91,
      "outputs": [
        {
          "output_type": "stream",
          "name": "stdout",
          "text": [
            "Model accuracy score: 0.9500\n"
          ]
        }
      ]
    },
    {
      "cell_type": "code",
      "source": [
        "# Creamos nuestra Matriz de Confusión:\n",
        "# COMPARANDO EL Y DE SALIDA REAL VS LA PREDICCION\n",
        "\n",
        "from sklearn.metrics import confusion_matrix\n",
        "\n",
        "cm = confusion_matrix(y_20, y_pred_test)\n",
        "print('Confusion matrix\\n\\n', cm)\n",
        "print('\\nTrue Positives(TP) = ', cm[0,0])\n",
        "print('\\nTrue Negatives(TN) = ', cm[1,1])\n",
        "print('\\nFalse Positives(FP) = ', cm[0,1])\n",
        "print('\\nFalse Negatives(FN) = ', cm[1,0])"
      ],
      "metadata": {
        "id": "I3ugYxj-PhGR",
        "colab": {
          "base_uri": "https://localhost:8080/"
        },
        "outputId": "bf744d34-0b8a-4d2e-9e3f-4389323323fc"
      },
      "execution_count": 92,
      "outputs": [
        {
          "output_type": "stream",
          "name": "stdout",
          "text": [
            "Confusion matrix\n",
            "\n",
            " [[10  0]\n",
            " [ 1  9]]\n",
            "\n",
            "True Positives(TP) =  10\n",
            "\n",
            "True Negatives(TN) =  9\n",
            "\n",
            "False Positives(FP) =  0\n",
            "\n",
            "False Negatives(FN) =  1\n"
          ]
        }
      ]
    },
    {
      "cell_type": "code",
      "source": [
        "# Visualizamos la Matriz de Confusión:\n",
        "cm_matrix = pd.DataFrame(data=cm, columns=['Actual Positive:1', 'Actual Negative:0'], \n",
        "                                 index=['Predict Positive:1', 'Predict Negative:0'])\n",
        "sns.heatmap(cm_matrix, annot=True, fmt='d', cmap='YlGnBu')"
      ],
      "metadata": {
        "colab": {
          "base_uri": "https://localhost:8080/",
          "height": 286
        },
        "id": "m4uvJQg_9iPG",
        "outputId": "58454f44-1a07-4542-f4eb-6ae96f88fa79"
      },
      "execution_count": 81,
      "outputs": [
        {
          "output_type": "execute_result",
          "data": {
            "text/plain": [
              "<matplotlib.axes._subplots.AxesSubplot at 0x7f2f447257d0>"
            ]
          },
          "metadata": {},
          "execution_count": 81
        },
        {
          "output_type": "display_data",
          "data": {
            "text/plain": [
              "<Figure size 432x288 with 2 Axes>"
            ],
            "image/png": "[encoded data removed]"
          },
          "metadata": {
            "needs_background": "light"
          }
        }
      ]
    },
    {
      "cell_type": "code",
      "source": [
        "# El Informe de Clasificación es otra forma de evaluar el rendimiento del modelo de clasificación.\n",
        "# Muestra las puntuaciones de precisión, recuperación, f1 y soporte para el modelo:\n",
        "from sklearn.metrics import classification_report\n",
        "\n",
        "print(classification_report(y_20, y_pred_test))"
      ],
      "metadata": {
        "colab": {
          "base_uri": "https://localhost:8080/"
        },
        "id": "PuhENg-F-cIv",
        "outputId": "a449779d-1638-4593-f804-aca83e30cbda"
      },
      "execution_count": 82,
      "outputs": [
        {
          "output_type": "stream",
          "name": "stdout",
          "text": [
            "              precision    recall  f1-score   support\n",
            "\n",
            "           0       1.00      1.00      1.00        10\n",
            "           1       1.00      1.00      1.00        10\n",
            "\n",
            "    accuracy                           1.00        20\n",
            "   macro avg       1.00      1.00      1.00        20\n",
            "weighted avg       1.00      1.00      1.00        20\n",
            "\n"
          ]
        }
      ]
    }
  ]
}