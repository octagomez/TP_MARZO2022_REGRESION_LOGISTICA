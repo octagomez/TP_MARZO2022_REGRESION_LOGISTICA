{
  "nbformat": 4,
  "nbformat_minor": 0,
  "metadata": {
    "colab": {
      "name": "Matrices_20_Ejercicio_TP_MARZO_NARCI_.ipynb",
      "provenance": [],
      "collapsed_sections": [],
      "authorship_tag": "ABX9TyOBBthg9Gmf6aj2pf2piiSq",
      "include_colab_link": true
    },
    "kernelspec": {
      "name": "python3",
      "display_name": "Python 3"
    },
    "language_info": {
      "name": "python"
    }
  },
  "cells": [
    {
      "cell_type": "markdown",
      "metadata": {
        "id": "view-in-github",
        "colab_type": "text"
      },
      "source": [
        "<a href=\"https://colab.research.google.com/github/octagomez/TP_MARZO2022_REGRESION_LOGISTICA/blob/main/Matrices_20_Ejercicio_TP_MARZO_NARCI_.ipynb\" target=\"_parent\"><img src=\"https://colab.research.google.com/assets/colab-badge.svg\" alt=\"Open In Colab\"/></a>"
      ]
    },
    {
      "cell_type": "code",
      "source": [
        "!pip install category_encoders"
      ],
      "metadata": {
        "id": "pz2fcSp7i2Uz",
        "colab": {
          "base_uri": "https://localhost:8080/"
        },
        "outputId": "d5cf6b56-4a88-40bb-fcf1-da34ae0093fe"
      },
      "execution_count": 5,
      "outputs": [
        {
          "output_type": "stream",
          "name": "stdout",
          "text": [
            "Collecting category_encoders\n",
            "  Downloading category_encoders-2.4.0-py2.py3-none-any.whl (86 kB)\n",
            "\u001b[?25l\r\u001b[K     |███▉                            | 10 kB 15.3 MB/s eta 0:00:01\r\u001b[K     |███████▋                        | 20 kB 12.3 MB/s eta 0:00:01\r\u001b[K     |███████████▍                    | 30 kB 9.6 MB/s eta 0:00:01\r\u001b[K     |███████████████▏                | 40 kB 8.8 MB/s eta 0:00:01\r\u001b[K     |███████████████████             | 51 kB 4.4 MB/s eta 0:00:01\r\u001b[K     |██████████████████████▊         | 61 kB 5.2 MB/s eta 0:00:01\r\u001b[K     |██████████████████████████▌     | 71 kB 5.5 MB/s eta 0:00:01\r\u001b[K     |██████████████████████████████▎ | 81 kB 5.7 MB/s eta 0:00:01\r\u001b[K     |████████████████████████████████| 86 kB 2.9 MB/s \n",
            "\u001b[?25hRequirement already satisfied: numpy>=1.14.0 in /usr/local/lib/python3.7/dist-packages (from category_encoders) (1.21.5)\n",
            "Requirement already satisfied: statsmodels>=0.9.0 in /usr/local/lib/python3.7/dist-packages (from category_encoders) (0.10.2)\n",
            "Requirement already satisfied: scikit-learn>=0.20.0 in /usr/local/lib/python3.7/dist-packages (from category_encoders) (1.0.2)\n",
            "Requirement already satisfied: pandas>=0.21.1 in /usr/local/lib/python3.7/dist-packages (from category_encoders) (1.3.5)\n",
            "Requirement already satisfied: patsy>=0.5.1 in /usr/local/lib/python3.7/dist-packages (from category_encoders) (0.5.2)\n",
            "Requirement already satisfied: scipy>=1.0.0 in /usr/local/lib/python3.7/dist-packages (from category_encoders) (1.4.1)\n",
            "Requirement already satisfied: pytz>=2017.3 in /usr/local/lib/python3.7/dist-packages (from pandas>=0.21.1->category_encoders) (2018.9)\n",
            "Requirement already satisfied: python-dateutil>=2.7.3 in /usr/local/lib/python3.7/dist-packages (from pandas>=0.21.1->category_encoders) (2.8.2)\n",
            "Requirement already satisfied: six in /usr/local/lib/python3.7/dist-packages (from patsy>=0.5.1->category_encoders) (1.15.0)\n",
            "Requirement already satisfied: threadpoolctl>=2.0.0 in /usr/local/lib/python3.7/dist-packages (from scikit-learn>=0.20.0->category_encoders) (3.1.0)\n",
            "Requirement already satisfied: joblib>=0.11 in /usr/local/lib/python3.7/dist-packages (from scikit-learn>=0.20.0->category_encoders) (1.1.0)\n",
            "Installing collected packages: category-encoders\n",
            "Successfully installed category-encoders-2.4.0\n"
          ]
        }
      ]
    },
    {
      "cell_type": "code",
      "execution_count": 6,
      "metadata": {
        "id": "dUC-por0hFcS"
      },
      "outputs": [],
      "source": [
        "import numpy as np # linear algebra\n",
        "import pandas as pd # data processing, CSV file I/O (e.g. pd.read_csv)\n",
        "import matplotlib.pyplot as plt # data visualization\n",
        "import seaborn as sns # statistical data visualization\n",
        "%matplotlib inline\n",
        "import category_encoders as ce\n"
      ]
    },
    {
      "cell_type": "markdown",
      "source": [
        "MATRIZ 20x3"
      ],
      "metadata": {
        "id": "FCWGE7p5ABaH"
      }
    },
    {
      "cell_type": "code",
      "source": [
        "# CREO UN VECTOR DE DISTRIBUCION NORMAL 20\n",
        "da = np.random.normal(loc=0, scale=1, size=100).reshape(100,1)\n",
        "da2 = np.random.normal(loc=10, scale=15, size=100).reshape(100,1)\n",
        "da = np.append(da, da2 , axis=0)\n",
        "da\n",
        "# CREO UN VECTOR DE DISTRIBUCION UNIFORME\n",
        "rd = np.random.uniform(low=0, high=1.5, size=100).reshape(100,1)\n",
        "rd2 = np.random.uniform(low=1.6, high=3, size=100).reshape(100,1)\n",
        "rd = np.append(rd, rd2 , axis=0)\n",
        "# CREO UN VECTOR DE DISTRIBUCION SESGADA\n",
        "rs =np.random.lognormal(2,3,100).reshape(100,1)\n",
        "rs2 =np.random.lognormal(0,3,100).reshape(100,1)\n",
        "rs = np.append(rs, rs2 , axis=0)"
      ],
      "metadata": {
        "id": "jILFjMipjAOK"
      },
      "execution_count": 7,
      "outputs": []
    },
    {
      "cell_type": "code",
      "source": [
        "# INCORPORO LOS DATOS A UNA MATRIZ\n",
        "# https://www.delftstack.com/es/howto/numpy/numpy-add-column/#:~:text=append()-,La%20funci%C3%B3n%20numpy.,valores%20a%20el%20array%20preexistente.\n",
        "XU = np.append(da, rd , axis=1)\n",
        "# VEO LA MATRIZ\n",
        "#print(\"VECTOR NORMAL\", da)\n",
        "#print(\"VECTOR UNIFORME\",rd)\n",
        "#print(\"MATRIZ_1\", XU)\n",
        "# INCORPORP LA TERCERA COLUMNA A LA MATRIZ\n",
        "XU_s = np.append(XU, rs , axis=1)\n",
        "#print(\"MATRIZ_2\", XU)\n",
        "XU.shape\n",
        "\n",
        "print(\"DISTRIBUCION NORMAL \\nMEDIA: \", da.mean(), \" // VARIANZA :\", da.var()  )"
      ],
      "metadata": {
        "colab": {
          "base_uri": "https://localhost:8080/"
        },
        "id": "dB2NyfqEpT0U",
        "outputId": "0bd11c0d-fba5-4cb0-ecf9-7205f837990e"
      },
      "execution_count": 8,
      "outputs": [
        {
          "output_type": "stream",
          "name": "stdout",
          "text": [
            "DISTRIBUCION NORMAL \n",
            "MEDIA:  6.052883587379064  // VARIANZA : 134.54336571051385\n"
          ]
        }
      ]
    },
    {
      "cell_type": "markdown",
      "source": [
        "## DEFINO EL VECTOR Y"
      ],
      "metadata": {
        "id": "ADxkW5n6LeN6"
      }
    },
    {
      "cell_type": "code",
      "source": [
        "# XU_s_t = XU_s.transpose()\n",
        "# XU_s_t.shape\n",
        "# y_test_t = pd.DataFrame(XU_s_t)\n",
        "# y_test_DNORMAL = pd.DataFrame(XU_s ,columns=[0])\n",
        "# print(XU_x)\n",
        "print(XU_s)"
      ],
      "metadata": {
        "colab": {
          "base_uri": "https://localhost:8080/"
        },
        "id": "1lmG9m0SMnzV",
        "outputId": "77ddc089-0eb3-4683-d5fc-1c59e6a22322"
      },
      "execution_count": 9,
      "outputs": [
        {
          "output_type": "stream",
          "name": "stdout",
          "text": [
            "[[-9.87198387e-01  1.08848396e+00  9.92115761e-03]\n",
            " [-6.46159870e-01  2.96904876e-02  2.93637911e+02]\n",
            " [ 1.04697652e+00  8.53761915e-02  1.93844835e+03]\n",
            " [-2.28556691e-01  1.00143863e+00  3.00612832e+00]\n",
            " [-5.35672554e-01  6.48430068e-01  3.12389743e+01]\n",
            " [-1.14216926e+00  5.75791406e-01  5.54704141e+00]\n",
            " [-1.21211687e+00  6.41261487e-01  2.31968651e+02]\n",
            " [ 2.78101000e-01  4.91000234e-01  2.61047387e+02]\n",
            " [-1.06444293e+00  1.77359243e-01  2.12332829e+00]\n",
            " [ 4.48331031e-01  1.35409740e+00  3.56072701e-02]\n",
            " [-5.07435571e-01  1.94899200e-01  8.67000895e+01]\n",
            " [ 2.61085631e-01  5.71550248e-01  3.62119137e+00]\n",
            " [ 2.22951662e-01  3.89975092e-04  2.33781069e-01]\n",
            " [ 8.16781282e-01  2.90176216e-01  8.21437808e+01]\n",
            " [-1.39080456e-01  8.49918017e-01  8.42056482e+00]\n",
            " [-4.54016009e-01  6.81984440e-01  5.89900062e-01]\n",
            " [-9.62561860e-01  3.87794095e-01  1.05987895e-01]\n",
            " [-1.69554294e+00  1.38040560e+00  9.18809390e-03]\n",
            " [ 7.82767978e-01  1.02576838e+00  1.44450224e+01]\n",
            " [-3.72547562e-01  1.14868402e+00  4.21876143e-01]\n",
            " [-3.77970532e-02  1.23872492e+00  4.25919642e+02]\n",
            " [-1.71734312e+00  7.70430292e-01  1.05372923e+00]\n",
            " [ 1.48666241e+00  1.34374367e+00  2.58319421e+01]\n",
            " [-2.41170968e+00  1.11100524e+00  1.96293486e-01]\n",
            " [-1.64997100e+00  5.90904486e-01  4.18838451e+01]\n",
            " [ 8.12888859e-01  9.29266256e-01  1.05620202e+00]\n",
            " [ 3.75564325e-01  4.86121017e-02  1.19028300e+02]\n",
            " [ 1.13426829e+00  6.22235731e-01  1.29787785e+02]\n",
            " [-1.93215835e-01  7.22762231e-01  5.41522413e+00]\n",
            " [-6.11901579e-01  5.10489280e-01  2.15375557e-01]\n",
            " [ 8.92621674e-01  3.33612645e-01  4.43320038e+01]\n",
            " [-1.00176799e+00  6.02886539e-01  1.66384170e+00]\n",
            " [ 9.38736383e-02  5.34199667e-01  2.04272694e+03]\n",
            " [ 9.91195646e-01  8.91019360e-01  6.22039602e-02]\n",
            " [-1.49394304e+00  1.31717266e+00  3.10562463e+02]\n",
            " [-3.60540045e-01  1.28643268e+00  5.93098610e+00]\n",
            " [-5.79505742e-01  3.97889277e-01  1.97848317e+01]\n",
            " [ 7.93870811e-01  1.31090919e+00  2.01858061e+02]\n",
            " [-1.69234919e+00  3.13626579e-02  2.69832519e+00]\n",
            " [-5.56806354e-01  7.02387560e-01  6.13810006e-01]\n",
            " [-6.55099881e-01  4.62573955e-01  4.28610731e-01]\n",
            " [ 3.65372373e-01  5.90998284e-01  3.84689400e+01]\n",
            " [-5.32626437e-01  2.66253441e-01  2.57873377e+00]\n",
            " [ 1.66468425e+00  1.85670741e-01  6.35032636e+01]\n",
            " [ 1.09819646e+00  1.36686143e+00  5.93388559e-01]\n",
            " [-7.27626299e-01  1.34299506e-01  3.34592430e+02]\n",
            " [ 4.94328661e-01  9.31536339e-01  1.70036612e-02]\n",
            " [-1.13925628e+00  8.28190400e-01  3.11649832e+01]\n",
            " [-4.01525456e-02  4.78374785e-01  2.47063027e-01]\n",
            " [ 8.64341073e-01  5.84721474e-01  1.24656405e+01]\n",
            " [-5.25960200e-01  1.36375179e+00  5.79774192e+01]\n",
            " [-6.33843967e-01  1.02396713e+00  1.99744604e-01]\n",
            " [-1.38024715e+00  8.09923129e-01  8.98587642e+00]\n",
            " [ 7.06756814e-01  7.61914974e-01  9.43868858e+00]\n",
            " [ 9.82225220e-01  1.46516380e+00  1.45098556e+00]\n",
            " [ 1.33881764e-01  1.05554484e+00  3.13886712e-01]\n",
            " [-6.85796725e-01  1.26604878e+00  2.52159966e+00]\n",
            " [ 1.47374340e+00  6.15649986e-01  2.57715395e+01]\n",
            " [ 1.54766854e+00  4.97243213e-01  3.14538134e+02]\n",
            " [-7.59528587e-02  4.83207616e-02  2.30558818e+02]\n",
            " [-8.47894611e-02  1.07095286e+00  2.30389605e+00]\n",
            " [-8.09221633e-01  7.27025210e-01  2.97092672e+00]\n",
            " [ 5.63151695e-02  2.88353932e-01  2.27657495e+00]\n",
            " [-2.59796008e-01  3.84707482e-02  7.91473333e+01]\n",
            " [-2.69126355e-01  1.20541981e+00  3.41051320e+02]\n",
            " [-1.18626332e+00  1.40163115e+00  2.03894394e+00]\n",
            " [-8.54558496e-01  9.53681438e-01  1.02170454e+00]\n",
            " [ 3.45595229e-01  7.27498943e-01  1.84707813e+00]\n",
            " [ 9.31931849e-02  1.13634738e-01  1.48746789e+00]\n",
            " [ 4.82326371e-01  1.02067680e+00  1.13615722e+02]\n",
            " [-3.30143393e-01  6.94717516e-01  3.67451739e-01]\n",
            " [ 4.98728714e-01  1.01564758e+00  4.00813367e-01]\n",
            " [ 5.60733728e-01  1.28302344e+00  5.21031623e-01]\n",
            " [-2.05378125e-01  1.30750070e+00  6.02928935e+02]\n",
            " [ 5.13024836e-01  8.80619057e-01  7.68353866e+03]\n",
            " [-1.10829449e+00  4.97529703e-01  4.96034211e+01]\n",
            " [ 5.36358539e-01  7.31030434e-01  6.04341675e-01]\n",
            " [-1.01184042e+00  8.80554239e-01  2.18462002e+00]\n",
            " [-8.01294194e-01  4.54454882e-01  1.43723670e+02]\n",
            " [ 1.74607809e-01  1.16669418e+00  1.06880049e+00]\n",
            " [-9.55189614e-01  1.43892244e+00  2.36001083e+00]\n",
            " [-6.63273173e-02  8.13109412e-01  2.58495613e-01]\n",
            " [ 1.26461233e+00  1.07151671e+00  1.14643462e+00]\n",
            " [-3.05405234e-01  3.44920825e-01  5.34751423e+01]\n",
            " [-9.95877923e-01  1.29848314e+00  7.74694912e-02]\n",
            " [-4.69818876e-01  3.57310470e-01  5.74883859e-01]\n",
            " [-5.35765293e-01  9.03547532e-01  7.69001137e+00]\n",
            " [-2.89721568e-01  6.50069492e-02  3.64341271e+00]\n",
            " [ 2.84940057e-01  1.35006307e+00  2.80281214e+01]\n",
            " [ 1.91976966e-01  1.26710072e-01  9.07369082e+00]\n",
            " [ 3.55061490e-01  4.85229344e-01  8.37747303e-01]\n",
            " [-2.16160756e+00  6.28086494e-01  5.39114216e+00]\n",
            " [-1.65023563e+00  1.28869394e+00  4.25604270e-01]\n",
            " [ 1.44774550e-02  2.53032319e-01  6.79697377e+01]\n",
            " [-1.24062386e-01  6.40761966e-01  1.92984616e+01]\n",
            " [ 1.12366905e+00  8.05055122e-01  7.36485463e-01]\n",
            " [-1.14040221e-01  6.86447052e-01  3.54033841e+01]\n",
            " [ 4.55487790e-01  7.76021361e-01  3.37648909e+03]\n",
            " [-5.52129233e-01  5.37867142e-01  2.21819506e+01]\n",
            " [ 1.68517148e+00  3.93440216e-01  2.59683417e-01]\n",
            " [ 1.66734802e+01  2.41625920e+00  6.98272364e-01]\n",
            " [ 2.84689282e+01  2.44542457e+00  1.56739642e+00]\n",
            " [ 3.54463201e+00  2.73505192e+00  4.75194213e+00]\n",
            " [ 1.67180789e+01  1.84220121e+00  1.80966379e+00]\n",
            " [ 4.05441531e+01  2.40396033e+00  1.34073082e-01]\n",
            " [-5.17717759e+00  2.39790512e+00  1.39024588e+02]\n",
            " [-4.73752347e+00  1.87296218e+00  6.54782283e-02]\n",
            " [ 1.26209252e+01  1.78301872e+00  2.72715216e+00]\n",
            " [ 1.12896585e+01  2.49278408e+00  9.17679381e-01]\n",
            " [-1.79715944e+01  1.79496075e+00  8.21760665e-02]\n",
            " [ 1.37900921e+01  2.62698400e+00  1.29111159e-01]\n",
            " [ 2.19569122e+01  2.23785037e+00  4.97888521e+00]\n",
            " [ 1.25218122e-01  2.69913832e+00  9.16661935e-03]\n",
            " [ 2.16536790e+01  2.80150880e+00  2.74643399e-01]\n",
            " [ 8.48843349e+00  2.84356126e+00  1.95358295e+00]\n",
            " [ 9.78505149e+00  2.68335101e+00  2.99891764e+00]\n",
            " [ 9.98426514e+00  2.01560690e+00  1.41249802e+00]\n",
            " [ 4.05901973e+00  1.62724397e+00  2.06113414e+00]\n",
            " [ 4.48549578e+01  1.98166192e+00  2.30681248e+00]\n",
            " [ 2.89523736e+00  2.34155520e+00  5.54340555e+01]\n",
            " [ 1.50868231e+01  2.72851974e+00  1.54421820e+00]\n",
            " [-2.93604407e-01  2.23979704e+00  3.77451719e-01]\n",
            " [-2.61030175e+00  2.17258147e+00  9.43061385e-02]\n",
            " [-1.03570596e+01  2.26536902e+00  1.23906251e+00]\n",
            " [ 3.74173296e+01  2.97024081e+00  6.11304931e+00]\n",
            " [-4.40107512e+00  1.85204358e+00  4.03733009e-02]\n",
            " [ 1.62727752e+01  2.42773733e+00  1.02162317e+02]\n",
            " [ 1.29799341e+01  2.83914849e+00  1.10900563e+03]\n",
            " [ 6.93400744e+00  2.17640158e+00  4.31475444e-02]\n",
            " [-1.62838283e+01  2.74908968e+00  7.90087838e+00]\n",
            " [ 2.56873944e+01  2.43049338e+00  3.19549819e+00]\n",
            " [ 1.49673182e+01  2.98176646e+00  2.06982679e-01]\n",
            " [ 1.59425608e+01  2.13209982e+00  2.10016363e+01]\n",
            " [ 1.24919464e+00  2.23182069e+00  4.68954167e-01]\n",
            " [ 3.29043219e+00  2.17105515e+00  5.73664915e-01]\n",
            " [ 1.36101094e+01  2.80719739e+00  3.80035474e+00]\n",
            " [-1.31264458e+01  2.82725574e+00  9.00598650e+00]\n",
            " [ 5.22356965e-01  1.72914426e+00  1.36278709e+00]\n",
            " [ 2.21620023e+01  1.68555636e+00  2.73097688e+00]\n",
            " [ 8.57312951e+00  2.56054216e+00  1.03687580e+01]\n",
            " [ 2.22741198e+01  2.20657661e+00  7.19531810e+00]\n",
            " [-9.79931696e+00  1.89390850e+00  1.05984721e-01]\n",
            " [ 1.72334462e+01  1.70422005e+00  2.48959188e-03]\n",
            " [ 9.32040612e+00  1.99610105e+00  1.73053571e-01]\n",
            " [ 1.23531336e+01  2.14142576e+00  6.36278805e-03]\n",
            " [ 1.81699537e+01  2.22619613e+00  1.77119732e+00]\n",
            " [ 4.52473559e+00  2.36946062e+00  5.92737163e+00]\n",
            " [ 2.88086276e+01  2.50047136e+00  7.71984309e-01]\n",
            " [ 4.97704098e+00  1.98793225e+00  6.88883361e-01]\n",
            " [ 6.28087928e+00  2.07628955e+00  3.58945861e-01]\n",
            " [ 5.03679570e+00  2.64457896e+00  4.38239476e+01]\n",
            " [ 2.42426162e+01  1.75730185e+00  1.56695325e-02]\n",
            " [-2.99372178e+00  1.81630196e+00  1.25649913e-01]\n",
            " [ 7.69181975e-01  2.40758142e+00  7.05463173e-01]\n",
            " [ 9.97645694e+00  2.04119359e+00  1.34736262e+01]\n",
            " [ 2.28507093e+01  2.07421151e+00  3.73501747e+03]\n",
            " [ 9.93131990e+00  2.35829743e+00  1.14438301e-01]\n",
            " [ 2.51886566e+01  2.58590590e+00  1.82130091e+00]\n",
            " [ 2.52821966e+01  1.65505926e+00  1.20679582e+01]\n",
            " [ 6.68926820e+00  2.94574478e+00  5.13304929e+00]\n",
            " [ 5.22967631e+00  2.29606010e+00  2.97633627e+01]\n",
            " [-2.04042629e+00  1.78364894e+00  5.23138929e+01]\n",
            " [ 3.17540325e-01  1.65996641e+00  9.25777285e+00]\n",
            " [ 1.87387041e+01  1.97038881e+00  4.11999261e-02]\n",
            " [ 1.35077645e+01  2.54032059e+00  3.59440071e-01]\n",
            " [ 4.22812490e+00  1.96553712e+00  1.12242753e-01]\n",
            " [ 2.72396979e+01  2.74314863e+00  4.71958562e+02]\n",
            " [ 6.51720165e+00  2.91492506e+00  9.01693600e-02]\n",
            " [ 1.11940714e+01  2.35489934e+00  3.71444079e-03]\n",
            " [ 1.73487682e+01  2.38778575e+00  2.29344556e-01]\n",
            " [-1.91023098e+00  1.78647582e+00  5.29192856e+00]\n",
            " [ 1.72861949e+01  2.91440714e+00  4.98138936e-01]\n",
            " [ 2.54581905e+01  1.85095636e+00  5.15536250e-01]\n",
            " [ 1.28542075e+01  2.52561811e+00  2.50315665e+01]\n",
            " [ 1.91074901e+01  1.81966871e+00  1.29776512e+02]\n",
            " [ 1.87567192e+01  2.76171669e+00  8.31032000e+00]\n",
            " [-4.17884797e+00  2.99152606e+00  1.95992664e-03]\n",
            " [ 1.95247019e+01  1.69204914e+00  1.34504093e+00]\n",
            " [ 1.09582792e+01  1.93345465e+00  5.50998086e+00]\n",
            " [ 1.78802372e+01  2.34764290e+00  4.86330995e+00]\n",
            " [ 3.56058718e+01  2.02104559e+00  1.02877022e+00]\n",
            " [ 1.01248758e+01  2.25365325e+00  2.45875002e-01]\n",
            " [-5.74435358e+00  2.83373552e+00  1.08141481e+00]\n",
            " [ 4.37571163e+01  2.44471899e+00  1.77293536e+01]\n",
            " [-8.34550379e-01  2.22379651e+00  5.68754721e+01]\n",
            " [ 3.87917711e+00  2.11751588e+00  7.45026238e-03]\n",
            " [ 2.12147532e+01  2.46688731e+00  4.68872188e-01]\n",
            " [ 2.31489907e+00  2.79024066e+00  2.12750108e-03]\n",
            " [ 1.63773137e+01  2.30719697e+00  2.89514098e+00]\n",
            " [ 4.05958722e+01  2.18078646e+00  4.43289642e-01]\n",
            " [ 2.31530855e+01  1.87030088e+00  3.03320968e+00]\n",
            " [-9.25490558e+00  1.60700075e+00  1.07358624e+01]\n",
            " [ 1.29350214e+01  2.95375981e+00  1.50399555e-01]\n",
            " [ 2.41284239e+01  2.31419013e+00  1.45628148e+00]\n",
            " [ 3.18290853e+01  2.15253933e+00  3.79984370e+00]\n",
            " [ 1.31690366e+01  2.36984791e+00  2.21666329e+01]\n",
            " [ 4.37576623e+01  2.27299265e+00  9.09823200e-02]\n",
            " [ 4.38541662e+01  2.79567078e+00  1.84004394e+01]\n",
            " [-1.57156586e+01  2.06704021e+00  6.07509023e-02]\n",
            " [ 2.44921559e+01  2.98064563e+00  5.65850052e-01]]\n"
          ]
        }
      ]
    },
    {
      "cell_type": "code",
      "source": [
        "y_20 =np.array([0,0,0,0,0,0,0,0,0,0,\n",
        "                0,0,0,0,0,0,0,0,0,0,\n",
        "                0,0,0,0,0,0,0,0,0,0,\n",
        "                0,0,0,0,0,0,0,0,0,0,\n",
        "                0,0,0,0,0,0,0,0,0,0,\n",
        "                0,0,0,0,0,0,0,0,0,0,\n",
        "                0,0,0,0,0,0,0,0,0,0,\n",
        "                0,0,0,0,0,0,0,0,0,0,\n",
        "                0,0,0,0,0,0,0,0,0,0,\n",
        "                0,0,0,0,0,0,0,0,0,0,\n",
        "                1,1,1,1,1,1,1,1,1,1,\n",
        "                1,1,1,1,1,1,1,1,1,1,\n",
        "                1,1,1,1,1,1,1,1,1,1,\n",
        "                1,1,1,1,1,1,1,1,1,1,\n",
        "                1,1,1,1,1,1,1,1,1,1,\n",
        "                1,1,1,1,1,1,1,1,1,1,\n",
        "                1,1,1,1,1,1,1,1,1,1,\n",
        "                1,1,1,1,1,1,1,1,1,1,\n",
        "                1,1,1,1,1,1,1,1,1,1,\n",
        "                1,1,1,1,1,1,1,1,1,1\n",
        "                ])"
      ],
      "metadata": {
        "id": "_YPbKz-Wt5SK"
      },
      "execution_count": 10,
      "outputs": []
    },
    {
      "cell_type": "code",
      "source": [
        "print(da.shape)\n",
        "print(y_20.shape)"
      ],
      "metadata": {
        "colab": {
          "base_uri": "https://localhost:8080/"
        },
        "id": "lbkteFKquNjq",
        "outputId": "6dc24c68-daee-45ae-82c3-7f8203bd7cb2"
      },
      "execution_count": 11,
      "outputs": [
        {
          "output_type": "stream",
          "name": "stdout",
          "text": [
            "(200, 1)\n",
            "(200,)\n"
          ]
        }
      ]
    },
    {
      "cell_type": "code",
      "source": [
        "# Asi veremos información estadística básica de nuestro set de datos. La Media, el desvío estándar, \n",
        "# valores mínimo y máximo de cada característica:\n",
        "# VAMOS A CONVERTIR LA MATRIZ DE NP a UN DF \n",
        "df = pd.DataFrame(XU_s)\n",
        "df.describe()"
      ],
      "metadata": {
        "colab": {
          "base_uri": "https://localhost:8080/",
          "height": 300
        },
        "id": "pasQQJkv-4Rq",
        "outputId": "509f88d5-6edd-462b-f908-26b1d233938e"
      },
      "execution_count": 12,
      "outputs": [
        {
          "output_type": "execute_result",
          "data": {
            "text/plain": [
              "                0           1            2\n",
              "count  200.000000  200.000000   200.000000\n",
              "mean     6.052884    1.515271   131.843012\n",
              "std     11.628390    0.879270   678.981003\n",
              "min    -17.971594    0.000390     0.001960\n",
              "25%     -0.539856    0.717669     0.424672\n",
              "50%      0.529358    1.536082     2.305354\n",
              "75%     12.420082    2.278760    21.292885\n",
              "max     44.854958    2.991526  7683.538664"
            ],
            "text/html": [
              "\n",
              "  <div id=\"df-1dd893bb-4dac-4353-9735-8f5d2170d7a1\">\n",
              "    <div class=\"colab-df-container\">\n",
              "      <div>\n",
              "<style scoped>\n",
              "    .dataframe tbody tr th:only-of-type {\n",
              "        vertical-align: middle;\n",
              "    }\n",
              "\n",
              "    .dataframe tbody tr th {\n",
              "        vertical-align: top;\n",
              "    }\n",
              "\n",
              "    .dataframe thead th {\n",
              "        text-align: right;\n",
              "    }\n",
              "</style>\n",
              "<table border=\"1\" class=\"dataframe\">\n",
              "  <thead>\n",
              "    <tr style=\"text-align: right;\">\n",
              "      <th></th>\n",
              "      <th>0</th>\n",
              "      <th>1</th>\n",
              "      <th>2</th>\n",
              "    </tr>\n",
              "  </thead>\n",
              "  <tbody>\n",
              "    <tr>\n",
              "      <th>count</th>\n",
              "      <td>200.000000</td>\n",
              "      <td>200.000000</td>\n",
              "      <td>200.000000</td>\n",
              "    </tr>\n",
              "    <tr>\n",
              "      <th>mean</th>\n",
              "      <td>6.052884</td>\n",
              "      <td>1.515271</td>\n",
              "      <td>131.843012</td>\n",
              "    </tr>\n",
              "    <tr>\n",
              "      <th>std</th>\n",
              "      <td>11.628390</td>\n",
              "      <td>0.879270</td>\n",
              "      <td>678.981003</td>\n",
              "    </tr>\n",
              "    <tr>\n",
              "      <th>min</th>\n",
              "      <td>-17.971594</td>\n",
              "      <td>0.000390</td>\n",
              "      <td>0.001960</td>\n",
              "    </tr>\n",
              "    <tr>\n",
              "      <th>25%</th>\n",
              "      <td>-0.539856</td>\n",
              "      <td>0.717669</td>\n",
              "      <td>0.424672</td>\n",
              "    </tr>\n",
              "    <tr>\n",
              "      <th>50%</th>\n",
              "      <td>0.529358</td>\n",
              "      <td>1.536082</td>\n",
              "      <td>2.305354</td>\n",
              "    </tr>\n",
              "    <tr>\n",
              "      <th>75%</th>\n",
              "      <td>12.420082</td>\n",
              "      <td>2.278760</td>\n",
              "      <td>21.292885</td>\n",
              "    </tr>\n",
              "    <tr>\n",
              "      <th>max</th>\n",
              "      <td>44.854958</td>\n",
              "      <td>2.991526</td>\n",
              "      <td>7683.538664</td>\n",
              "    </tr>\n",
              "  </tbody>\n",
              "</table>\n",
              "</div>\n",
              "      <button class=\"colab-df-convert\" onclick=\"convertToInteractive('df-1dd893bb-4dac-4353-9735-8f5d2170d7a1')\"\n",
              "              title=\"Convert this dataframe to an interactive table.\"\n",
              "              style=\"display:none;\">\n",
              "        \n",
              "  <svg xmlns=\"http://www.w3.org/2000/svg\" height=\"24px\"viewBox=\"0 0 24 24\"\n",
              "       width=\"24px\">\n",
              "    <path d=\"M0 0h24v24H0V0z\" fill=\"none\"/>\n",
              "    <path d=\"M18.56 5.44l.94 2.06.94-2.06 2.06-.94-2.06-.94-.94-2.06-.94 2.06-2.06.94zm-11 1L8.5 8.5l.94-2.06 2.06-.94-2.06-.94L8.5 2.5l-.94 2.06-2.06.94zm10 10l.94 2.06.94-2.06 2.06-.94-2.06-.94-.94-2.06-.94 2.06-2.06.94z\"/><path d=\"M17.41 7.96l-1.37-1.37c-.4-.4-.92-.59-1.43-.59-.52 0-1.04.2-1.43.59L10.3 9.45l-7.72 7.72c-.78.78-.78 2.05 0 2.83L4 21.41c.39.39.9.59 1.41.59.51 0 1.02-.2 1.41-.59l7.78-7.78 2.81-2.81c.8-.78.8-2.07 0-2.86zM5.41 20L4 18.59l7.72-7.72 1.47 1.35L5.41 20z\"/>\n",
              "  </svg>\n",
              "      </button>\n",
              "      \n",
              "  <style>\n",
              "    .colab-df-container {\n",
              "      display:flex;\n",
              "      flex-wrap:wrap;\n",
              "      gap: 12px;\n",
              "    }\n",
              "\n",
              "    .colab-df-convert {\n",
              "      background-color: #E8F0FE;\n",
              "      border: none;\n",
              "      border-radius: 50%;\n",
              "      cursor: pointer;\n",
              "      display: none;\n",
              "      fill: #1967D2;\n",
              "      height: 32px;\n",
              "      padding: 0 0 0 0;\n",
              "      width: 32px;\n",
              "    }\n",
              "\n",
              "    .colab-df-convert:hover {\n",
              "      background-color: #E2EBFA;\n",
              "      box-shadow: 0px 1px 2px rgba(60, 64, 67, 0.3), 0px 1px 3px 1px rgba(60, 64, 67, 0.15);\n",
              "      fill: #174EA6;\n",
              "    }\n",
              "\n",
              "    [theme=dark] .colab-df-convert {\n",
              "      background-color: #3B4455;\n",
              "      fill: #D2E3FC;\n",
              "    }\n",
              "\n",
              "    [theme=dark] .colab-df-convert:hover {\n",
              "      background-color: #434B5C;\n",
              "      box-shadow: 0px 1px 3px 1px rgba(0, 0, 0, 0.15);\n",
              "      filter: drop-shadow(0px 1px 2px rgba(0, 0, 0, 0.3));\n",
              "      fill: #FFFFFF;\n",
              "    }\n",
              "  </style>\n",
              "\n",
              "      <script>\n",
              "        const buttonEl =\n",
              "          document.querySelector('#df-1dd893bb-4dac-4353-9735-8f5d2170d7a1 button.colab-df-convert');\n",
              "        buttonEl.style.display =\n",
              "          google.colab.kernel.accessAllowed ? 'block' : 'none';\n",
              "\n",
              "        async function convertToInteractive(key) {\n",
              "          const element = document.querySelector('#df-1dd893bb-4dac-4353-9735-8f5d2170d7a1');\n",
              "          const dataTable =\n",
              "            await google.colab.kernel.invokeFunction('convertToInteractive',\n",
              "                                                     [key], {});\n",
              "          if (!dataTable) return;\n",
              "\n",
              "          const docLinkHtml = 'Like what you see? Visit the ' +\n",
              "            '<a target=\"_blank\" href=https://colab.research.google.com/notebooks/data_table.ipynb>data table notebook</a>'\n",
              "            + ' to learn more about interactive tables.';\n",
              "          element.innerHTML = '';\n",
              "          dataTable['output_type'] = 'display_data';\n",
              "          await google.colab.output.renderOutput(dataTable, element);\n",
              "          const docLink = document.createElement('div');\n",
              "          docLink.innerHTML = docLinkHtml;\n",
              "          element.appendChild(docLink);\n",
              "        }\n",
              "      </script>\n",
              "    </div>\n",
              "  </div>\n",
              "  "
            ]
          },
          "metadata": {},
          "execution_count": 12
        }
      ]
    },
    {
      "cell_type": "code",
      "source": [
        "# Dibujamos los histogramas para checkear la distribución de las variables usando el dataframe df20:\n",
        "plt.figure(figsize = (10,15))\n",
        "\n",
        "plt.subplot(2,2,1)\n",
        "fig =df[0].hist(bins=30)\n",
        "fig.set_xlabel('Dist. Normal')\n",
        "fig.set_ylabel('Dist. Normal')\n",
        "\n",
        "plt.subplot(2,2,2)\n",
        "fig =df[1].hist(bins=30)\n",
        "fig.set_xlabel('Dist. Uniforme')\n",
        "fig.set_ylabel('Dist. Uniforme')\n",
        "\n",
        "plt.subplot(2,2,3)\n",
        "fig =df[2].hist(bins=30)\n",
        "fig.set_xlabel('Dist. Sesgada')\n",
        "fig.set_ylabel('Dist. Sesgada')\n"
      ],
      "metadata": {
        "colab": {
          "base_uri": "https://localhost:8080/",
          "height": 895
        },
        "id": "UJmqybYX_jI_",
        "outputId": "97df67be-47f7-41e2-e515-29ac21c4fb0d"
      },
      "execution_count": 13,
      "outputs": [
        {
          "output_type": "execute_result",
          "data": {
            "text/plain": [
              "Text(0, 0.5, 'Dist. Sesgada')"
            ]
          },
          "metadata": {},
          "execution_count": 13
        },
        {
          "output_type": "display_data",
          "data": {
            "text/plain": [
              "<Figure size 720x1080 with 3 Axes>"
            ],
            "image/png": "[encoded data removed]"
          },
          "metadata": {
            "needs_background": "light"
          }
        }
      ]
    },
    {
      "cell_type": "code",
      "source": [
        "# train a logistic regression model on the training set\n",
        "\n",
        "from sklearn.linear_model import LogisticRegression\n",
        "from sklearn.model_selection import train_test_split \n",
        "X_train, X_test, y_train, y_test = train_test_split(XU_s,y_20,test_size=0.2)\n"
      ],
      "metadata": {
        "id": "EDAFpYNTB4YM"
      },
      "execution_count": 17,
      "outputs": []
    },
    {
      "cell_type": "code",
      "source": [
        "# instantiate the model\n",
        "logreg = LogisticRegression(solver='liblinear', random_state=0) # OBTENGO Model accuracy score: 0.9500 Confusion matrix\n",
        "                                                                                                          # [[10  0]\n",
        "                                                                                                          # [ 1  9]]\n",
        "#logreg = LogisticRegression(solver='newton-cg', random_state=0) # Model accuracy score: 1.0000 Confusion matrix\n",
        "                                                                                                # [[10  0]\n",
        "                                                                                                # [ 0 10]]\n",
        "#logreg = LogisticRegression(solver='sag', random_state=0) # Model accuracy score: 0.9500 Confusion matrix\n",
        "                                                                                          # [[ 9  1]\n",
        "                                                                                          # [ 0 10]]\n",
        "#logreg = LogisticRegression(solver='saga', random_state=0) # Model accuracy score: 0.9000 Confusion matrix\n",
        "                                                                                          # [[9 1]\n",
        "                                                                                          # [1 9]]\n",
        "#logreg = LogisticRegression(solver='lbfgs',random_state=0) # Model accuracy score: 1.0000 Confusion matrix\n",
        "                                                                                          # [[10  0]\n",
        "                                                                                          # [ 0 10]]\n",
        "\n",
        "# fit the model\n",
        "logreg.fit(X_train, y_train)\n"
      ],
      "metadata": {
        "colab": {
          "base_uri": "https://localhost:8080/"
        },
        "id": "MIqWcZk5IeWl",
        "outputId": "da557998-9fc8-489b-d441-156ff6218f1d"
      },
      "execution_count": 18,
      "outputs": [
        {
          "output_type": "execute_result",
          "data": {
            "text/plain": [
              "LogisticRegression(random_state=0, solver='liblinear')"
            ]
          },
          "metadata": {},
          "execution_count": 18
        }
      ]
    },
    {
      "cell_type": "code",
      "source": [
        "# ESTA ES LA PREDICCION\n",
        "y_pred_test = logreg.predict(X_test)\n",
        "\n",
        "y_pred_test"
      ],
      "metadata": {
        "colab": {
          "base_uri": "https://localhost:8080/"
        },
        "id": "TgNeLMoIvAia",
        "outputId": "7b5cd47b-97a6-4d0b-f0f4-46ec3f73fe51"
      },
      "execution_count": 19,
      "outputs": [
        {
          "output_type": "execute_result",
          "data": {
            "text/plain": [
              "array([0, 1, 1, 0, 0, 1, 1, 0, 0, 1, 0, 0, 0, 1, 1, 0, 1, 1, 0, 0, 0, 1,\n",
              "       1, 1, 1, 0, 1, 0, 1, 0, 1, 0, 0, 1, 0, 1, 1, 1, 0, 0])"
            ]
          },
          "metadata": {},
          "execution_count": 19
        }
      ]
    },
    {
      "cell_type": "code",
      "source": [
        "# CALCULO LA PRESICION DEL ALGORITMO DE PREDICCION COMPARANDO EL Y DE SALIDA REAL VS LA PREDICCION\n",
        "from sklearn.metrics import accuracy_score\n",
        "\n",
        "print('Model accuracy score: {0:0.4f}'. format(accuracy_score(y_test, y_pred_test)))"
      ],
      "metadata": {
        "colab": {
          "base_uri": "https://localhost:8080/"
        },
        "id": "TwYwo6K9Mpj1",
        "outputId": "baa6a8d4-1736-40b0-9533-273342e4eadd"
      },
      "execution_count": 20,
      "outputs": [
        {
          "output_type": "stream",
          "name": "stdout",
          "text": [
            "Model accuracy score: 0.9000\n"
          ]
        }
      ]
    },
    {
      "cell_type": "code",
      "source": [
        "# Creamos nuestra Matriz de Confusión:\n",
        "# COMPARANDO EL Y DE SALIDA REAL VS LA PREDICCION\n",
        "\n",
        "from sklearn.metrics import confusion_matrix\n",
        "\n",
        "cm = confusion_matrix(y_test, y_pred_test)\n",
        "print('Confusion matrix\\n\\n', cm)\n",
        "print('\\nTrue Positives(TP) = ', cm[0,0])\n",
        "print('\\nTrue Negatives(TN) = ', cm[1,1])\n",
        "print('\\nFalse Positives(FP) = ', cm[0,1])\n",
        "print('\\nFalse Negatives(FN) = ', cm[1,0])"
      ],
      "metadata": {
        "id": "I3ugYxj-PhGR",
        "colab": {
          "base_uri": "https://localhost:8080/"
        },
        "outputId": "4105bd2d-6b7c-4f9e-b23a-74bc1b513ce1"
      },
      "execution_count": 22,
      "outputs": [
        {
          "output_type": "stream",
          "name": "stdout",
          "text": [
            "Confusion matrix\n",
            "\n",
            " [[18  2]\n",
            " [ 2 18]]\n",
            "\n",
            "True Positives(TP) =  18\n",
            "\n",
            "True Negatives(TN) =  18\n",
            "\n",
            "False Positives(FP) =  2\n",
            "\n",
            "False Negatives(FN) =  2\n"
          ]
        }
      ]
    },
    {
      "cell_type": "code",
      "source": [
        "# Visualizamos la Matriz de Confusión:\n",
        "cm_matrix = pd.DataFrame(data=cm, columns=['Actual Positive:1', 'Actual Negative:0'], \n",
        "                                 index=['Predict Positive:1', 'Predict Negative:0'])\n",
        "sns.heatmap(cm_matrix, annot=True, fmt='d', cmap='YlGnBu')"
      ],
      "metadata": {
        "colab": {
          "base_uri": "https://localhost:8080/",
          "height": 287
        },
        "id": "m4uvJQg_9iPG",
        "outputId": "432431a6-e0f6-40a4-ad12-cbaafd4dc065"
      },
      "execution_count": 23,
      "outputs": [
        {
          "output_type": "execute_result",
          "data": {
            "text/plain": [
              "<matplotlib.axes._subplots.AxesSubplot at 0x7f13b634cf50>"
            ]
          },
          "metadata": {},
          "execution_count": 23
        },
        {
          "output_type": "display_data",
          "data": {
            "text/plain": [
              "<Figure size 432x288 with 2 Axes>"
            ],
            "image/png": "[encoded data removed]"
          },
          "metadata": {
            "needs_background": "light"
          }
        }
      ]
    },
    {
      "cell_type": "code",
      "source": [
        "# El Informe de Clasificación es otra forma de evaluar el rendimiento del modelo de clasificación.\n",
        "# Muestra las puntuaciones de precisión, recuperación, f1 y soporte para el modelo:\n",
        "from sklearn.metrics import classification_report\n",
        "\n",
        "print(classification_report(y_test, y_pred_test))"
      ],
      "metadata": {
        "colab": {
          "base_uri": "https://localhost:8080/"
        },
        "id": "PuhENg-F-cIv",
        "outputId": "cbf6c6fe-535a-4101-a852-be3eb83128f5"
      },
      "execution_count": 25,
      "outputs": [
        {
          "output_type": "stream",
          "name": "stdout",
          "text": [
            "              precision    recall  f1-score   support\n",
            "\n",
            "           0       0.90      0.90      0.90        20\n",
            "           1       0.90      0.90      0.90        20\n",
            "\n",
            "    accuracy                           0.90        40\n",
            "   macro avg       0.90      0.90      0.90        40\n",
            "weighted avg       0.90      0.90      0.90        40\n",
            "\n"
          ]
        }
      ]
    },
    {
      "cell_type": "code",
      "source": [
        "# aqui se observa que variable tiene mayor influencia\n",
        "logreg.coef_"
      ],
      "metadata": {
        "colab": {
          "base_uri": "https://localhost:8080/"
        },
        "id": "uS-6VGlsQsZw",
        "outputId": "ecb850d1-9683-4ef0-a60c-121e305a3e16"
      },
      "execution_count": null,
      "outputs": [
        {
          "output_type": "execute_result",
          "data": {
            "text/plain": [
              "array([[ 0.07234032,  1.95344237, -0.0118739 ]])"
            ]
          },
          "metadata": {},
          "execution_count": 58
        }
      ]
    },
    {
      "cell_type": "markdown",
      "source": [
        "## SUPUESTOS DE LA REGRESION LOGISTICA"
      ],
      "metadata": {
        "id": "P_Ju1ooaqPk5"
      }
    },
    {
      "cell_type": "markdown",
      "source": [
        "# SUPUESTO 1 - Tipo de resultado apropiado\n",
        "REGRESION LOGISTICA: la variable de respuesta es binaria [0,1]\n",
        "\n"
      ],
      "metadata": {
        "id": "ehrq0mLXqWxo"
      }
    },
    {
      "cell_type": "code",
      "source": [
        "# EVALUO LA SALIDA (OUTPUT) DEBE TENER  2 VALORES\n",
        "# la funcion unique de la libreria numpy nos permite leer un array de numpy y su salida son valores unicos\n",
        "# https://numpy.org/doc/stable/reference/generated/numpy.unique.html\n",
        "print(np.unique(y_20))"
      ],
      "metadata": {
        "colab": {
          "base_uri": "https://localhost:8080/"
        },
        "id": "uKdBcDJCqOj3",
        "outputId": "ba4a30da-5ede-4bb6-8f23-ea726f0ec958"
      },
      "execution_count": 26,
      "outputs": [
        {
          "output_type": "stream",
          "name": "stdout",
          "text": [
            "[0 1]\n"
          ]
        }
      ]
    },
    {
      "cell_type": "code",
      "source": [
        "# EVALUO LA CANTIDAD DE VALORES QUE HAY PARA CADA UNO\n",
        "df_y = pd.DataFrame(y_20)\n",
        "df_y.groupby([0]).size()"
      ],
      "metadata": {
        "colab": {
          "base_uri": "https://localhost:8080/"
        },
        "id": "4QP1kZOrstJD",
        "outputId": "26ded0dc-d73d-4817-d2a1-3dbae2af8a66"
      },
      "execution_count": 27,
      "outputs": [
        {
          "output_type": "execute_result",
          "data": {
            "text/plain": [
              "0\n",
              "0    100\n",
              "1    100\n",
              "dtype: int64"
            ]
          },
          "metadata": {},
          "execution_count": 27
        }
      ]
    },
    {
      "cell_type": "markdown",
      "source": [
        "## SUPUESTO 2 - Linealidad de variables independientes y probabilidades logarítmicas\n",
        "\n",
        "REGRESION LOGISTICA: Existe una relación lineal entre las variables explicativas y el logit de la variable de respuesta\n",
        "\n",
        "# Prueba de caja-Tidwell\n",
        "\n",
        "Uno de los supuestos importantes de la regresión logística es la linealidad del logit sobre las covariables continuas. Esta suposición significa que las relaciones entre los predictores continuos y el logit (logaritmo de probabilidades) son lineales.\n",
        "* La transformación de Box-Tidwell (prueba) se puede utilizar para probar la \n",
        "linealidad en el supuesto logit cuando se realiza una regresión logística.\n",
        "* **Comprueba si la transformada logit es una función lineal del predictor, agregando efectivamente la transformada no lineal del predictor original como un término de interacción para probar si esta adición no mejoró la predicción.** \n",
        "* Un valor **p estadísticamente significativo** del término de interacción en la transformación de Box-Tidwell **significa que se viola la suposición de linealidad**\n",
        "* **Si se encuentra que una variable no es lineal**, podemos resolverla incorporando términos polinómicos de orden superior para esa variable en el análisis de regresión para capturar la no linealidad (por ejemplo, x^2). **Otra solución a este problema es la categorización de las variables independientes. Eso es transformar variables métricas a nivel ordinal y luego incluirlas en el modelo.**"
      ],
      "metadata": {
        "id": "DxPBs5IJwRe-"
      }
    },
    {
      "cell_type": "code",
      "source": [
        ""
      ],
      "metadata": {
        "id": "hhmL3b0cutwu"
      },
      "execution_count": null,
      "outputs": []
    },
    {
      "cell_type": "markdown",
      "source": [
        "## SUPUESTO 3 - No hay valores atípicos fuertemente influyentes\n",
        "* Los valores influyentes son puntos de datos individuales extremos que pueden alterar la calidad del modelo de regresión logística.\n",
        "* La distancia de Cook es una estimación de la influencia de un punto de datos. Tiene en cuenta tanto el apalancamiento como el residual de cada observación. * La distancia de Cook es un resumen de cuánto cambia un modelo de regresión cuando se elimina la i -ésima observación.\n",
        "* Una regla general es que cualquier observación con una distancia de Cook superior a 4/n (donde n = observaciones totales) se considera influyente ( https://www.statology.org/cooks-distance-python/ y https: //www.scikit-yb.org/en/latest/api/regressor/influence.html?highlight=cook#module-yellowbrick.regressor.influence ), aunque hay valores de corte aún más genéricos de >0.5-1.0.\n",
        "* Para valores atípicos, podemos usar los residuos estandarizados absolutos para identificarlos (std resid > 3)\n",
        "Referencia: https://www.statsmodels.org/dev/examples/notebooks/generated/influence_glm_logit.html"
      ],
      "metadata": {
        "id": "uctfI1PtGGhl"
      }
    },
    {
      "cell_type": "code",
      "source": [
        "import statsmodels.api as sm\n",
        "from statsmodels.genmod.generalized_linear_model import GLM\n",
        "from statsmodels.genmod import families\n",
        "from statsmodels.stats.outliers_influence import variance_inflation_factor"
      ],
      "metadata": {
        "id": "s8KMHHFrGg6_"
      },
      "execution_count": 30,
      "outputs": []
    },
    {
      "cell_type": "code",
      "source": [
        "# Use GLM method for logreg here so that we can retrieve the influence measures\n",
        "# USO LAS MATRICES DE POBLACION\n",
        "logit_model = GLM(y_20, XU_s, family=families.Binomial())\n",
        "logit_results = logit_model.fit()\n",
        "print(logit_results.summary())"
      ],
      "metadata": {
        "colab": {
          "base_uri": "https://localhost:8080/"
        },
        "id": "4mzHsKF0GseO",
        "outputId": "08b385fb-ada1-4f6e-bc2a-9989a7a04a9b"
      },
      "execution_count": 31,
      "outputs": [
        {
          "output_type": "stream",
          "name": "stdout",
          "text": [
            "                 Generalized Linear Model Regression Results                  \n",
            "==============================================================================\n",
            "Dep. Variable:                      y   No. Observations:                  200\n",
            "Model:                            GLM   Df Residuals:                      197\n",
            "Model Family:                Binomial   Df Model:                            2\n",
            "Link Function:                  logit   Scale:                          1.0000\n",
            "Method:                          IRLS   Log-Likelihood:                -100.66\n",
            "Date:                Tue, 12 Apr 2022   Deviance:                       201.31\n",
            "Time:                        23:41:38   Pearson chi2:                     156.\n",
            "No. Iterations:                     6                                         \n",
            "Covariance Type:            nonrobust                                         \n",
            "==============================================================================\n",
            "                 coef    std err          z      P>|z|      [0.025      0.975]\n",
            "------------------------------------------------------------------------------\n",
            "x1             0.1272      0.032      4.033      0.000       0.065       0.189\n",
            "x2             0.3451      0.123      2.812      0.005       0.105       0.586\n",
            "x3            -0.0012      0.000     -2.385      0.017      -0.002      -0.000\n",
            "==============================================================================\n"
          ]
        }
      ]
    },
    {
      "cell_type": "code",
      "source": [
        ""
      ],
      "metadata": {
        "id": "lD4EypgSJ-9j"
      },
      "execution_count": null,
      "outputs": []
    }
  ]
}